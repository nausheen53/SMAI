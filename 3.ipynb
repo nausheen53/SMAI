{
 "cells": [
  {
   "cell_type": "code",
   "execution_count": 730,
   "metadata": {},
   "outputs": [],
   "source": [
    "import os\n",
    "import ssl\n",
    "import sklearn\n",
    "import numpy as np\n",
    "from sklearn.metrics import r2_score\n",
    "import spacy\n",
    "import re\n",
    "import gensim\n",
    "from gensim.models.keyedvectors import KeyedVectors\n",
    "import pandas as pd\n",
    "import matplotlib.pyplot as plt\n",
    "from matplotlib import style\n",
    "style.use(\"ggplot\")\n",
    "from sklearn import svm\n",
    "import textblob\n",
    "from textblob import TextBlob, Word\n",
    "from sklearn.metrics import accuracy_score, f1_score, precision_score, recall_score, classification_report, confusion_matrix\n"
   ]
  },
  {
   "cell_type": "code",
   "execution_count": 731,
   "metadata": {
    "scrolled": true
   },
   "outputs": [
    {
     "name": "stdout",
     "output_type": "stream",
     "text": [
      "(962, 5)\n"
     ]
    }
   ],
   "source": [
    "data = pd.read_csv('/home/nausheen/SMAI2/Datasets/Question-3/airfoil.csv',header=None)\n",
    "train_set=data.sample(frac=0.8,random_state=200) #random state is a seed value\n",
    "test_set=data.drop(train_set.index)\n",
    "target_train = train_set[5]\n",
    "target_test = test_set[5]\n",
    "train_set.drop([5],axis=1,inplace = True)\n",
    "test_set.drop([5],axis=1,inplace = True)\n",
    "print(train_set.shape)"
   ]
  },
  {
   "cell_type": "code",
   "execution_count": 732,
   "metadata": {},
   "outputs": [],
   "source": [
    "# from sklearn.preprocessing import StandardScaler\n",
    "# scaler = StandardScaler()\n",
    "# train = scaler.fit_transform(train_set)\n",
    "# test = scaler.fit_transform(test_set)\n",
    "\n",
    "# train = pd.DataFrame(train)\n",
    "# print(train.shape)\n",
    "\n",
    "# test = pd.DataFrame(test)\n",
    "# print(test.shape)"
   ]
  },
  {
   "cell_type": "code",
   "execution_count": 733,
   "metadata": {},
   "outputs": [],
   "source": [
    "import pandas as pd\n",
    "from sklearn import preprocessing\n",
    "\n",
    "x = train_set.values #returns a numpy array\n",
    "min_max_scaler = preprocessing.MinMaxScaler()\n",
    "x_scaled = min_max_scaler.fit_transform(x)\n",
    "train = pd.DataFrame(x_scaled)\n",
    "\n",
    "y=test_set.values\n",
    "min_max_scaler = preprocessing.MinMaxScaler()\n",
    "y_scaled = min_max_scaler.fit_transform(y)\n",
    "test = pd.DataFrame(y_scaled)"
   ]
  },
  {
   "cell_type": "code",
   "execution_count": 734,
   "metadata": {},
   "outputs": [],
   "source": [
    "train.insert(5,\"additional\",1)\n",
    "test.insert(5,\"additional\",1)"
   ]
  },
  {
   "cell_type": "code",
   "execution_count": 735,
   "metadata": {},
   "outputs": [
    {
     "name": "stdout",
     "output_type": "stream",
     "text": [
      "962\n",
      "[[0.03030303 0.         0.09090909 0.         0.00709322 1.        ]\n",
      " [0.19191919 0.09009009 0.72727273 0.6010101  0.04713909 1.        ]\n",
      " [0.09090909 0.06756757 1.         0.19949495 0.06068524 1.        ]\n",
      " ...\n",
      " [0.07070707 0.88738739 0.09090909 0.19949495 0.6220123  1.        ]\n",
      " [0.07070707 0.57207207 0.         1.         0.20306831 1.        ]\n",
      " [0.         0.32882883 0.72727273 0.6010101  0.18565425 1.        ]]\n"
     ]
    }
   ],
   "source": [
    "print(len(train))\n",
    "X = train.values\n",
    "print(X)"
   ]
  },
  {
   "cell_type": "code",
   "execution_count": 736,
   "metadata": {},
   "outputs": [],
   "source": [
    "# from random import seed\n",
    "# from random import random\n",
    "# seed(4)\n",
    "# old_theta=[]\n",
    "# for i in range(0,6):\n",
    "#     old_theta.append(random())\n",
    "# print(old_theta)\n",
    "old_theta = [1,0,1,0,1,0]"
   ]
  },
  {
   "cell_type": "code",
   "execution_count": null,
   "metadata": {},
   "outputs": [],
   "source": []
  },
  {
   "cell_type": "code",
   "execution_count": 737,
   "metadata": {},
   "outputs": [],
   "source": [
    "\n",
    "def find_li(alp): \n",
    "    global old_theta\n",
    "    alpha = alp\n",
    "    theta=[]\n",
    "    m=len(target_train)\n",
    "    list_of_cost=[]\n",
    "    print(m)\n",
    "    iterations = 100000\n",
    "    while(iterations > 0):\n",
    "        iterations = iterations -1\n",
    "        E = (np.dot(X,old_theta)-target_train)\n",
    "    #     print(X.shape)\n",
    "        dz = (1/m)*(np.dot(X,old_theta)-target_train)\n",
    "        dj = np.dot(dz,X)\n",
    "        cost = (1/(2*m))*np.sum(np.square(np.dot(X,old_theta)-target_train))\n",
    "        if(iterations==100 or iterations==1000 or iterations==10000 or iterations==20000):\n",
    "            list_of_cost.append(cost)\n",
    "        theta = old_theta - alpha*(dj)\n",
    "        old_theta = theta\n",
    "    Y = test.values\n",
    "    m1 = len(target_test)\n",
    "    print(\"cost \",list_of_cost)\n",
    "    predict_label = np.dot(theta,Y.T)\n",
    "    R2_score = r2_score(target_test, predict_label)\n",
    "    print(\"R2 score\",R2_score)\n",
    "    return list_of_cost"
   ]
  },
  {
   "cell_type": "code",
   "execution_count": 727,
   "metadata": {},
   "outputs": [],
   "source": [
    "def find_lis(old_theta): \n",
    "    alpha = 0.001\n",
    "    theta=[]\n",
    "    m=len(target_train)\n",
    "    list_of_cost=[]\n",
    "    print(m)\n",
    "    iterations = 100000\n",
    "    while(iterations > 0):\n",
    "        iterations = iterations -1\n",
    "        E = (np.dot(X,old_theta)-target_train)\n",
    "    #     print(X.shape)\n",
    "        dz = (1/m)*(np.dot(X,old_theta)-target_train)\n",
    "        dj = np.dot(dz,X)\n",
    "        cost = (1/(2*m))*np.sum(np.square(np.dot(X,old_theta)-target_train))\n",
    "        if(iterations==100 or iterations==1000 or iterations==10000 or iterations==100000):\n",
    "            list_of_cost.append(cost)\n",
    "        theta = old_theta - alpha*(dj)\n",
    "        old_theta = theta\n",
    "    Y = test.values\n",
    "    m1 = len(target_test)\n",
    "    print(\"cost \",list_of_cost)\n",
    "    predict_label = np.dot(theta,Y.T)\n",
    "    R2_score = r2_score(target_test, predict_label)\n",
    "    print(\"R2 score\",R2_score)\n",
    "    return list_of_cost"
   ]
  },
  {
   "cell_type": "code",
   "execution_count": 739,
   "metadata": {},
   "outputs": [
    {
     "name": "stdout",
     "output_type": "stream",
     "text": [
      "962\n",
      "cost  [11.495276191382718, 11.495276191382718, 11.495276191382718, 11.495276191382718]\n",
      "R2 score 0.520829119343903\n",
      "962\n",
      "cost  [11.495276191382718, 11.495276191382718, 11.495276191382718, 11.495276191382718]\n",
      "R2 score 0.520829119343903\n",
      "962\n",
      "cost  [11.495276191382718, 11.495276191382718, 11.495276191382718, 11.495276191382718]\n",
      "R2 score 0.520829119343903\n"
     ]
    },
    {
     "data": {
      "image/png": "[encoded data removed]",
      "text/plain": [
       "<Figure size 432x288 with 1 Axes>"
      ]
     },
     "metadata": {},
     "output_type": "display_data"
    }
   ],
   "source": [
    "import matplotlib.pyplot as plt \n",
    "itr = [100,1000,10000,20000] \n",
    "cost1 = find_li(0.001)\n",
    "plt.plot(itr, cost1,color='green') \n",
    "itr = [100,1000,10000,20000] \n",
    "cost2 = find_li(0.01)\n",
    "plt.plot(itr, cost2,color='red') \n",
    "itr = [100,1000,10000,20000] \n",
    "cost2 = find_li(0.1)\n",
    "plt.plot(itr, cost2,color='yellow') \n",
    "plt.xlabel('number of iterations') \n",
    "plt.ylabel('mean squared error')  \n",
    "plt.title('B. keeping theta constant')  \n",
    "plt.show() "
   ]
  },
  {
   "cell_type": "markdown",
   "metadata": {},
   "source": [
    "# A. keeping alpha constant , number of iterations(x-axis) vs mean squared error(y-axis)"
   ]
  },
  {
   "cell_type": "code",
   "execution_count": 729,
   "metadata": {},
   "outputs": [
    {
     "name": "stdout",
     "output_type": "stream",
     "text": [
      "962\n",
      "cost  [13.135414070754495, 12.755192275163585, 12.723017367246518]\n",
      "R2 score 0.49076116104298706\n",
      "962\n",
      "cost  [13.177005263004661, 12.785730427048712, 12.752641772760613]\n",
      "R2 score 0.4896329657494207\n",
      "962\n",
      "cost  [13.157821761749235, 12.768987318579494, 12.73613697838705]\n",
      "R2 score 0.4899557273664862\n"
     ]
    },
    {
     "data": {
      "image/png": "[encoded data removed]",
      "text/plain": [
       "<Figure size 432x288 with 1 Axes>"
      ]
     },
     "metadata": {},
     "output_type": "display_data"
    }
   ],
   "source": [
    "itr = [1000,10000,100000] \n",
    "cost1 = find_lis([0,0,0,0,0,0])\n",
    "plt.plot(itr, cost1,color='green') \n",
    "itr = [1000,10000,100000] \n",
    "cost2 = find_lis([1,1,1,1,1,1])\n",
    "plt.plot(itr, cost2,color='red') \n",
    "itr = [1000,10000,100000] \n",
    "cost2 = find_lis([1,0,1,0,1,0])\n",
    "plt.plot(itr, cost2,color='yellow') \n",
    "plt.xlabel('x - axis') \n",
    "plt.ylabel('y - axis')  \n",
    "plt.title('My first graph!')  \n",
    "plt.show() "
   ]
  },
  {
   "cell_type": "markdown",
   "metadata": {},
   "source": [
    "# # alpha = 0.001,cost  11.495276191382722\n",
    "R2 score 0.5247646720677728,cost  11.495276191382722,R2 score 0.5247646720677657,cost  11.495276191382722\n",
    "R2 score 0.5247646720677728,cost  11.495276191382722\n",
    "R2 score 0.5247646720677728"
   ]
  },
  {
   "cell_type": "markdown",
   "metadata": {},
   "source": [
    "# alpha = 0.01,cost  11.49527619138272\n",
    "R2 score 0.5247646720677728,cost  11.495276191382722\n",
    "R2 score 0.5247646720677672,cost  11.495276191382722\n",
    "R2 score 0.5247646720677661,cost  11.495276191382722\n",
    "R2 score 0.5247646720677661"
   ]
  },
  {
   "cell_type": "markdown",
   "metadata": {},
   "source": [
    "# alpha = 0.1,cost  11.495276191382718\n",
    "R2 score 0.5247646720677658,cost  11.495276191382718\n",
    "R2 score 0.5247646720677658,cost  11.495276191382718\n",
    "R2 score 0.5247646720677658,cost  11.495276191382718\n",
    "R2 score 0.5247646720677658"
   ]
  },
  {
   "cell_type": "markdown",
   "metadata": {},
   "source": []
  },
  {
   "cell_type": "markdown",
   "metadata": {},
   "source": [
    "# "
   ]
  }
 ],
 "metadata": {
  "kernelspec": {
   "display_name": "Python 3",
   "language": "python",
   "name": "python3"
  },
  "language_info": {
   "codemirror_mode": {
    "name": "ipython",
    "version": 3
   },
   "file_extension": ".py",
   "mimetype": "text/x-python",
   "name": "python",
   "nbconvert_exporter": "python",
   "pygments_lexer": "ipython3",
   "version": "3.6.9"
  }
 },
 "nbformat": 4,
 "nbformat_minor": 4
}
