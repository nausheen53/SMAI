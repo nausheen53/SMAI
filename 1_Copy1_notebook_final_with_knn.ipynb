{
  "nbformat": 4,
  "nbformat_minor": 0,
  "metadata": {
    "accelerator": "GPU",
    "colab": {
      "name": "1_Copy1_notebook_final.ipynb",
      "provenance": [],
      "collapsed_sections": [],
      "include_colab_link": true
    },
    "kernelspec": {
      "display_name": "Python 3",
      "language": "python",
      "name": "python3"
    },
    "language_info": {
      "codemirror_mode": {
        "name": "ipython",
        "version": 3
      },
      "file_extension": ".py",
      "mimetype": "text/x-python",
      "name": "python",
      "nbconvert_exporter": "python",
      "pygments_lexer": "ipython3",
      "version": "3.6.9"
    }
  },
  "cells": [
    {
      "cell_type": "markdown",
      "metadata": {
        "id": "view-in-github",
        "colab_type": "text"
      },
      "source": [
        "<a href=\"https://colab.research.google.com/github/nausheen53/SMAI/blob/master/1_Copy1_notebook_final_with_knn.ipynb\" target=\"_parent\"><img src=\"https://colab.research.google.com/assets/colab-badge.svg\" alt=\"Open In Colab\"/></a>"
      ]
    },
    {
      "cell_type": "code",
      "metadata": {
        "colab_type": "code",
        "id": "qg50xzUpBQG2",
        "outputId": "209b8633-79d1-4bbd-8adc-19ce2a49c0a6",
        "colab": {
          "base_uri": "https://localhost:8080/",
          "height": 122
        }
      },
      "source": [
        "from google.colab import drive\n",
        "drive.mount('/content/drive')"
      ],
      "execution_count": 2,
      "outputs": [
        {
          "output_type": "stream",
          "text": [
            "Go to this URL in a browser: https://accounts.google.com/o/oauth2/auth?client_id=947318989803-6bn6qk8qdgf4n4g3pfee6491hc0brc4i.apps.googleusercontent.com&redirect_uri=urn%3aietf%3awg%3aoauth%3a2.0%3aoob&response_type=code&scope=email%20https%3a%2f%2fwww.googleapis.com%2fauth%2fdocs.test%20https%3a%2f%2fwww.googleapis.com%2fauth%2fdrive%20https%3a%2f%2fwww.googleapis.com%2fauth%2fdrive.photos.readonly%20https%3a%2f%2fwww.googleapis.com%2fauth%2fpeopleapi.readonly\n",
            "\n",
            "Enter your authorization code:\n",
            "··········\n",
            "Mounted at /content/drive\n"
          ],
          "name": "stdout"
        }
      ]
    },
    {
      "cell_type": "code",
      "metadata": {
        "colab_type": "code",
        "id": "NZGFbDivBO2D",
        "colab": {}
      },
      "source": [
        "import os\n",
        "import ssl\n",
        "import sklearn\n",
        "import numpy as np\n",
        "import spacy\n",
        "import re\n",
        "from sklearn.preprocessing import StandardScaler\n",
        "import pandas as pd\n",
        "import matplotlib.pyplot as plt\n",
        "from matplotlib import style\n",
        "style.use(\"ggplot\")\n",
        "from sklearn import svm\n",
        "from sklearn.multiclass import OneVsRestClassifier\n",
        "from sklearn.svm import SVC\n",
        "import textblob\n",
        "from textblob import TextBlob, Word\n",
        "from sklearn.decomposition import PCA\n",
        "from sklearn.metrics import accuracy_score, f1_score, precision_score, recall_score, classification_report, confusion_matrix"
      ],
      "execution_count": 0,
      "outputs": []
    },
    {
      "cell_type": "markdown",
      "metadata": {
        "colab_type": "text",
        "id": "N7xZ7TdcBO2L"
      },
      "source": [
        "# unpickle data"
      ]
    },
    {
      "cell_type": "code",
      "metadata": {
        "colab_type": "code",
        "id": "fwm9MK5ZBO2O",
        "colab": {}
      },
      "source": [
        "# from os import walk\n",
        "\n",
        "# f = []\n",
        "# for (dirpath, dirnames, filenames) in walk(\"/home/nausheen/SMAI2/Datasets/Question-1/cifar-10-batches-py\"):\n",
        "#     f.extend(filenames)\n",
        "\n",
        "# f.remove('readme.html')\n",
        "# f"
      ],
      "execution_count": 0,
      "outputs": []
    },
    {
      "cell_type": "code",
      "metadata": {
        "colab_type": "code",
        "id": "swlz4PyuBO2V",
        "outputId": "6cffc51d-b33a-4115-c7e0-337f24c2d1cc",
        "colab": {
          "base_uri": "https://localhost:8080/",
          "height": 51
        }
      },
      "source": [
        "import pickle\n",
        "file='/content/drive/My Drive/Q1/data_batch_5'\n",
        "with open(file, 'rb') as fo:\n",
        "    dict_5 = pickle.load(fo, encoding='bytes')\n",
        "    \n",
        "file='/content/drive/My Drive/Q1/data_batch_4'\n",
        "with open(file, 'rb') as fo:\n",
        "    dict_4 = pickle.load(fo, encoding='bytes')\n",
        "\n",
        "file='/content/drive/My Drive/Q1/data_batch_3'\n",
        "with open(file, 'rb') as fo:\n",
        "    dict_3 = pickle.load(fo, encoding='bytes')\n",
        "\n",
        "file='/content/drive/My Drive/Q1/data_batch_2'\n",
        "with open(file, 'rb') as fo:\n",
        "    dict_2 = pickle.load(fo, encoding='bytes')\n",
        "    \n",
        "file='/content/drive/My Drive/Q1/data_batch_1'\n",
        "with open(file, 'rb') as fo:\n",
        "    dict_1 = pickle.load(fo, encoding='bytes')\n",
        "\n",
        "\n",
        "print(dict_1.keys())\n",
        "\n",
        "# print(dict_1[b'labels'])\n",
        "\n",
        "\n",
        "\n",
        "print(dict_1[b'data'][1])\n"
      ],
      "execution_count": 4,
      "outputs": [
        {
          "output_type": "stream",
          "text": [
            "dict_keys([b'batch_label', b'labels', b'data', b'filenames'])\n",
            "[154 126 105 ... 139 142 144]\n"
          ],
          "name": "stdout"
        }
      ]
    },
    {
      "cell_type": "markdown",
      "metadata": {
        "colab_type": "text",
        "id": "ABDNbr79BO2c"
      },
      "source": [
        "# concatinate all labels"
      ]
    },
    {
      "cell_type": "code",
      "metadata": {
        "colab_type": "code",
        "id": "_lUAL22BBO2d",
        "colab": {}
      },
      "source": [
        "train_labels = dict_1[b'labels'] + dict_2[b'labels'] +dict_3[b'labels']+dict_4[b'labels']+dict_5[b'labels']"
      ],
      "execution_count": 0,
      "outputs": []
    },
    {
      "cell_type": "code",
      "metadata": {
        "colab_type": "code",
        "id": "QhkRlpjnBO2j",
        "colab": {}
      },
      "source": [
        "train_array = np.concatenate([dict_1[b'data'],dict_2[b'data'],dict_3[b'data'],dict_4[b'data'],dict_5[b'data']], axis=0)"
      ],
      "execution_count": 0,
      "outputs": []
    },
    {
      "cell_type": "code",
      "metadata": {
        "colab_type": "code",
        "id": "k6OtY9MHBO2p",
        "outputId": "895a4b0d-0ebd-466b-b784-0432f93c6b58",
        "colab": {
          "base_uri": "https://localhost:8080/",
          "height": 51
        }
      },
      "source": [
        "print(len(train_labels))\n",
        "print(train_array.shape)"
      ],
      "execution_count": 7,
      "outputs": [
        {
          "output_type": "stream",
          "text": [
            "50000\n",
            "(50000, 3072)\n"
          ],
          "name": "stdout"
        }
      ]
    },
    {
      "cell_type": "code",
      "metadata": {
        "colab_type": "code",
        "id": "32V9K_2oBO2x",
        "colab": {}
      },
      "source": [
        "train_array = pd.DataFrame(train_array)\n",
        "modified_arr = train_array.assign(label = train_labels)"
      ],
      "execution_count": 0,
      "outputs": []
    },
    {
      "cell_type": "code",
      "metadata": {
        "colab_type": "code",
        "id": "U85aaT9rBO23",
        "outputId": "73511af4-dab8-4be7-b369-59125166dbbf",
        "colab": {
          "base_uri": "https://localhost:8080/",
          "height": 255
        }
      },
      "source": [
        "print(modified_arr)"
      ],
      "execution_count": 9,
      "outputs": [
        {
          "output_type": "stream",
          "text": [
            "         0    1    2    3    4    5  ...  3067  3068  3069  3070  3071  label\n",
            "0       59   43   50   68   98  119  ...    57   104   140    84    72      6\n",
            "1      154  126  105  102  125  155  ...   133   136   139   142   144      9\n",
            "2      255  253  253  253  253  253  ...    72    79    83    83    84      9\n",
            "3       28   37   38   42   44   40  ...    48    38    28    37    46      4\n",
            "4      170  168  177  183  181  177  ...    79    78    82    78    80      1\n",
            "...    ...  ...  ...  ...  ...  ...  ...   ...   ...   ...   ...   ...    ...\n",
            "49995  145  151  156  155  153  153  ...    59    57    56    53    54      2\n",
            "49996  255  254  255  254  254  254  ...    76    82    79    81    76      6\n",
            "49997   35   40   42   39   43   45  ...    93    87    77    66    50      9\n",
            "49998  189  186  185  184  182  181  ...   169   165   169   171   171      1\n",
            "49999  229  236  234  231  236  242  ...   171   174   173   162   161      1\n",
            "\n",
            "[50000 rows x 3073 columns]\n"
          ],
          "name": "stdout"
        }
      ]
    },
    {
      "cell_type": "code",
      "metadata": {
        "colab_type": "code",
        "id": "QEHJ1-SSBO28",
        "outputId": "3db67223-c653-45f9-fbbc-c61858bf746c",
        "colab": {
          "base_uri": "https://localhost:8080/",
          "height": 51
        }
      },
      "source": [
        "train=modified_arr.sample(frac=0.8,random_state=200) #random state is a seed value\n",
        "test=modified_arr.drop(train.index)\n",
        "\n",
        "Actual_label_train=train['label']\n",
        "Actual_label_test = test['label']\n",
        "\n",
        "train = train.drop(['label'],axis=1)\n",
        "test = test.drop(['label'],axis=1)\n",
        "print(type(train))\n",
        "print(type(test))"
      ],
      "execution_count": 10,
      "outputs": [
        {
          "output_type": "stream",
          "text": [
            "<class 'pandas.core.frame.DataFrame'>\n",
            "<class 'pandas.core.frame.DataFrame'>\n"
          ],
          "name": "stdout"
        }
      ]
    },
    {
      "cell_type": "code",
      "metadata": {
        "colab_type": "code",
        "id": "EmZnmKGrBO3F",
        "colab": {}
      },
      "source": [
        "train = np.array(train)\n",
        "test = np.array(test)"
      ],
      "execution_count": 0,
      "outputs": []
    },
    {
      "cell_type": "code",
      "metadata": {
        "colab_type": "code",
        "id": "Qy-UoL70BO3L",
        "colab": {}
      },
      "source": [
        "sclr = StandardScaler()\n",
        "sclr.fit(train)\n",
        "train_data = sclr.transform(train)\n",
        "test_data = sclr.transform(test)\n",
        "pca = PCA(0.85)\n",
        "pca.fit(train_data)\n",
        "train = pca.transform(train_data)\n",
        "test = pca.transform(test_data)"
      ],
      "execution_count": 0,
      "outputs": []
    },
    {
      "cell_type": "code",
      "metadata": {
        "colab_type": "code",
        "id": "EbYRpHRbf7LM",
        "outputId": "78cf7b8a-c65c-4579-9650-b909ad15b754",
        "colab": {
          "base_uri": "https://localhost:8080/",
          "height": 34
        }
      },
      "source": [
        "print('train ',train.shape)"
      ],
      "execution_count": 13,
      "outputs": [
        {
          "output_type": "stream",
          "text": [
            "train  (40000, 57)\n"
          ],
          "name": "stdout"
        }
      ]
    },
    {
      "cell_type": "code",
      "metadata": {
        "colab_type": "code",
        "id": "1kLGtI28JmoR",
        "outputId": "b4f5b77d-7a92-4edb-f8d5-af266a26cb04",
        "colab": {
          "base_uri": "https://localhost:8080/",
          "height": 88
        }
      },
      "source": [
        "from sklearn.svm import LinearSVC\n",
        "clf = LinearSVC(C=0.1)\n",
        "clf.fit(train,Actual_label_train)\n",
        "# print(clf.predict(test))\n",
        "predicted_label=clf.predict(test)\n",
        "print(\"predicted label \",predicted_label)\n",
        "# support_vectors = clf.support_vectors_\n",
        "# print(\"support_vectors \",support_vectors)\n",
        "# Accu_score = accuracy_score(Actual_label_test,predicted_label)\n",
        "# print(\"Accuracy score\",Accu_score)\n"
      ],
      "execution_count": 15,
      "outputs": [
        {
          "output_type": "stream",
          "text": [
            "predicted label  [9 6 8 ... 7 8 8]\n"
          ],
          "name": "stdout"
        },
        {
          "output_type": "stream",
          "text": [
            "/usr/local/lib/python3.6/dist-packages/sklearn/svm/_base.py:947: ConvergenceWarning: Liblinear failed to converge, increase the number of iterations.\n",
            "  \"the number of iterations.\", ConvergenceWarning)\n"
          ],
          "name": "stderr"
        }
      ]
    },
    {
      "cell_type": "code",
      "metadata": {
        "colab_type": "code",
        "id": "n4pBh3w8LurK",
        "outputId": "efb3f0c5-014d-4060-ce5e-8df20b691e48",
        "colab": {
          "base_uri": "https://localhost:8080/",
          "height": 663
        }
      },
      "source": [
        "Accu_score = accuracy_score(Actual_label_test,predicted_label)\n",
        "print(\"Accuracy score\",Accu_score)\n",
        "f11 = f1_score(Actual_label_test, predicted_label,average=None)\n",
        "re = recall_score(Actual_label_test, predicted_label,average='weighted')\n",
        "cm = confusion_matrix(Actual_label_test, predicted_label)\n",
        "pr_sc = precision_score(Actual_label_test, predicted_label,average='weighted')\n",
        "clrp = classification_report(Actual_label_test, predicted_label)\n",
        "print(\"accuracy score \",Accu_score)\n",
        "print(\"********************\")\n",
        "print(\"f1 score \",f11)\n",
        "print(\"********************\")\n",
        "print(\"recall score \",re)\n",
        "print(\"********************\")\n",
        "print(\"confusion matrix \",cm)\n",
        "print(\"********************\")\n",
        "print(\"precision score \",pr_sc)\n",
        "print(\"********************\")\n",
        "print(\"classification report \",clrp)\n",
        "# support_vec = clf.support_vectors_\n",
        "# print(support_vec)"
      ],
      "execution_count": 0,
      "outputs": [
        {
          "output_type": "stream",
          "text": [
            "Accuracy score 0.3347\n",
            "accuracy score  0.3347\n",
            "********************\n",
            "f1 score  [0.38828968 0.39532872 0.1942029  0.21052632 0.26420079 0.31476998\n",
            " 0.34909091 0.36336032 0.37517241 0.43447669]\n",
            "********************\n",
            "recall score  0.3347\n",
            "********************\n",
            "confusion matrix  [[378  62  14 145  11  31  14  69 159  98]\n",
            " [ 42 457  13  74   9  28  36  47 125 176]\n",
            " [106  96 134 162 106  88 123  84  52  29]\n",
            " [ 37 126  39 256  24 191  95  68  91  86]\n",
            " [ 60  55  65 132 200 100 149 136  49  42]\n",
            " [ 24  69  46 249  24 325  74  62  95  36]\n",
            " [  9  91  38 154  72 144 336  45  57  36]\n",
            " [ 34  68  36 143  72  89  73 359  58  88]\n",
            " [211  83   9  55   3  28   8  31 408 162]\n",
            " [ 65 198   6  49   5  37  35  55  83 494]]\n",
            "********************\n",
            "precision score  0.3416499088762346\n",
            "********************\n",
            "classification report                precision    recall  f1-score   support\n",
            "\n",
            "           0       0.39      0.39      0.39       981\n",
            "           1       0.35      0.45      0.40      1007\n",
            "           2       0.34      0.14      0.19       980\n",
            "           3       0.18      0.25      0.21      1013\n",
            "           4       0.38      0.20      0.26       988\n",
            "           5       0.31      0.32      0.31      1004\n",
            "           6       0.36      0.34      0.35       982\n",
            "           7       0.38      0.35      0.36      1020\n",
            "           8       0.35      0.41      0.38       998\n",
            "           9       0.40      0.48      0.43      1027\n",
            "\n",
            "    accuracy                           0.33     10000\n",
            "   macro avg       0.34      0.33      0.33     10000\n",
            "weighted avg       0.34      0.33      0.33     10000\n",
            "\n"
          ],
          "name": "stdout"
        }
      ]
    },
    {
      "cell_type": "code",
      "metadata": {
        "colab_type": "code",
        "id": "zCcw2PTeLbGS",
        "outputId": "16505ecc-de82-4ca4-d71f-f6d963932730",
        "colab": {
          "base_uri": "https://localhost:8080/",
          "height": 734
        }
      },
      "source": [
        "from sklearn.svm import LinearSVC\n",
        "clf = LinearSVC(random_state=0, tol=1e-5,max_iter=2000,C=0.4)\n",
        "clf.fit(train,Actual_label_train)\n",
        "# print(clf.predict(test))\n",
        "predicted_label=clf.predict(test)\n",
        "print(\"predicted label \",predicted_label)\n",
        "# support_vectors = clf.support_vectors_\n",
        "# print(\"support_vectors \",support_vectors)\n",
        "Accu_score = accuracy_score(Actual_label_test,predicted_label)\n",
        "print(\"Accuracy score\",Accu_score)\n",
        "f11 = f1_score(Actual_label_test, predicted_label,average=None)\n",
        "re = recall_score(Actual_label_test, predicted_label,average='weighted')\n",
        "cm = confusion_matrix(Actual_label_test, predicted_label)\n",
        "pr_sc = precision_score(Actual_label_test, predicted_label,average='weighted')\n",
        "clrp = classification_report(Actual_label_test, predicted_label)\n",
        "print(\"accuracy score \",Accu_score)\n",
        "print(\"********************\")\n",
        "print(\"f1 score \",f11)\n",
        "print(\"********************\")\n",
        "print(\"recall score \",re)\n",
        "print(\"********************\")\n",
        "print(\"confusion matrix \",cm)\n",
        "print(\"********************\")\n",
        "print(\"precision score \",pr_sc)\n",
        "print(\"********************\")\n",
        "print(\"classification report \",clrp)\n",
        "# support_vec = clf.support_vectors_\n",
        "# print(support_vec)"
      ],
      "execution_count": 0,
      "outputs": [
        {
          "output_type": "stream",
          "text": [
            "predicted label  [8 6 8 ... 7 8 1]\n",
            "Accuracy score 0.3025\n",
            "accuracy score  0.3025\n",
            "********************\n",
            "f1 score  [0.34406439 0.36497545 0.16861219 0.1667761  0.28306265 0.25487399\n",
            " 0.36346778 0.29080404 0.3912436  0.31437768]\n",
            "********************\n",
            "recall score  0.3025\n",
            "********************\n",
            "confusion matrix  [[342 132  51  37  48  38  28  91 167  47]\n",
            " [ 34 446  23  22  40  57  59  63 119 144]\n",
            " [115  56 130  42 189 115 148 102  44  39]\n",
            " [ 64 119  78 127 107 181  99  90  68  80]\n",
            " [ 54  46  60  38 305 127 172 105  36  45]\n",
            " [ 85  87  52 118  99 268 112  79  58  46]\n",
            " [ 14  75  39  45 119 140 392  71  33  54]\n",
            " [ 58  47  63  42 222  97  86 302  52  51]\n",
            " [193 177  34  18  15  39  17  47 420  38]\n",
            " [ 48 252  32  21  23  37  62 107 152 293]]\n",
            "********************\n",
            "precision score  0.2971065622244629\n",
            "********************\n",
            "classification report                precision    recall  f1-score   support\n",
            "\n",
            "           0       0.34      0.35      0.34       981\n",
            "           1       0.31      0.44      0.36      1007\n",
            "           2       0.23      0.13      0.17       980\n",
            "           3       0.25      0.13      0.17      1013\n",
            "           4       0.26      0.31      0.28       988\n",
            "           5       0.24      0.27      0.25      1004\n",
            "           6       0.33      0.40      0.36       982\n",
            "           7       0.29      0.30      0.29      1020\n",
            "           8       0.37      0.42      0.39       998\n",
            "           9       0.35      0.29      0.31      1027\n",
            "\n",
            "    accuracy                           0.30     10000\n",
            "   macro avg       0.30      0.30      0.29     10000\n",
            "weighted avg       0.30      0.30      0.29     10000\n",
            "\n"
          ],
          "name": "stdout"
        },
        {
          "output_type": "stream",
          "text": [
            "/usr/local/lib/python3.6/dist-packages/sklearn/svm/_base.py:947: ConvergenceWarning: Liblinear failed to converge, increase the number of iterations.\n",
            "  \"the number of iterations.\", ConvergenceWarning)\n"
          ],
          "name": "stderr"
        }
      ]
    },
    {
      "cell_type": "code",
      "metadata": {
        "colab_type": "code",
        "id": "4ra7oKOjPpLy",
        "outputId": "d54d6d1f-fa68-4340-9096-93a215698328",
        "colab": {
          "base_uri": "https://localhost:8080/",
          "height": 734
        }
      },
      "source": [
        "from sklearn.svm import LinearSVC\n",
        "clf = LinearSVC(random_state=0, tol=1e-5,max_iter=2000,C=0.01)\n",
        "clf.fit(train,Actual_label_train)\n",
        "# print(clf.predict(test))\n",
        "predicted_label=clf.predict(test)\n",
        "print(\"predicted label \",predicted_label)\n",
        "# support_vectors = clf.support_vectors_\n",
        "# print(\"support_vectors \",support_vectors)\n",
        "Accu_score = accuracy_score(Actual_label_test,predicted_label)\n",
        "print(\"Accuracy score\",Accu_score)\n",
        "f11 = f1_score(Actual_label_test, predicted_label,average=None)\n",
        "re = recall_score(Actual_label_test, predicted_label,average='weighted')\n",
        "cm = confusion_matrix(Actual_label_test, predicted_label)\n",
        "pr_sc = precision_score(Actual_label_test, predicted_label,average='weighted')\n",
        "clrp = classification_report(Actual_label_test, predicted_label)\n",
        "print(\"accuracy score \",Accu_score)\n",
        "print(\"********************\")\n",
        "print(\"f1 score \",f11)\n",
        "print(\"********************\")\n",
        "print(\"recall score \",re)\n",
        "print(\"********************\")\n",
        "print(\"confusion matrix \",cm)\n",
        "print(\"********************\")\n",
        "print(\"precision score \",pr_sc)\n",
        "print(\"********************\")\n",
        "print(\"classification report \",clrp)\n",
        "# support_vec = clf.support_vectors_\n",
        "# print(support_vec)"
      ],
      "execution_count": 0,
      "outputs": [
        {
          "output_type": "stream",
          "text": [
            "predicted label  [9 6 8 ... 7 8 8]\n",
            "Accuracy score 0.3752\n",
            "accuracy score  0.3752\n",
            "********************\n",
            "f1 score  [0.40861244 0.41489822 0.23092505 0.22045315 0.30274136 0.33850776\n",
            " 0.39400428 0.39126117 0.48053097 0.45937358]\n",
            "********************\n",
            "recall score  0.3752\n",
            "********************\n",
            "confusion matrix  [[427  66  21  21  15  25  27  68 229  82]\n",
            " [ 63 479  10  22  14  40  56  48 100 175]\n",
            " [135  74 171  61 120  87 182  77  45  28]\n",
            " [ 64 122  51 180  37 196 152  67  62  82]\n",
            " [ 80  48  82  48 254  78 188 134  33  43]\n",
            " [ 41  84  66 142  50 338 122  75  55  31]\n",
            " [ 27  80  37  72  94  83 460  58  27  44]\n",
            " [ 49  67  47  50  93  82 103 394  52  83]\n",
            " [154  90  11  11   6  37  16  28 543 102]\n",
            " [ 69 192   5  13   7  27  47  45 116 506]]\n",
            "********************\n",
            "precision score  0.3691686976508904\n",
            "********************\n",
            "classification report                precision    recall  f1-score   support\n",
            "\n",
            "           0       0.39      0.44      0.41       981\n",
            "           1       0.37      0.48      0.41      1007\n",
            "           2       0.34      0.17      0.23       980\n",
            "           3       0.29      0.18      0.22      1013\n",
            "           4       0.37      0.26      0.30       988\n",
            "           5       0.34      0.34      0.34      1004\n",
            "           6       0.34      0.47      0.39       982\n",
            "           7       0.40      0.39      0.39      1020\n",
            "           8       0.43      0.54      0.48       998\n",
            "           9       0.43      0.49      0.46      1027\n",
            "\n",
            "    accuracy                           0.38     10000\n",
            "   macro avg       0.37      0.37      0.36     10000\n",
            "weighted avg       0.37      0.38      0.36     10000\n",
            "\n"
          ],
          "name": "stdout"
        },
        {
          "output_type": "stream",
          "text": [
            "/usr/local/lib/python3.6/dist-packages/sklearn/svm/_base.py:947: ConvergenceWarning: Liblinear failed to converge, increase the number of iterations.\n",
            "  \"the number of iterations.\", ConvergenceWarning)\n"
          ],
          "name": "stderr"
        }
      ]
    },
    {
      "cell_type": "code",
      "metadata": {
        "colab_type": "code",
        "id": "M0cexJb9Ufi4",
        "outputId": "61f4fd26-9ded-49d7-afb7-321364e2fa86",
        "colab": {
          "base_uri": "https://localhost:8080/",
          "height": 680
        }
      },
      "source": [
        "from sklearn.svm import LinearSVC\n",
        "clf = LinearSVC(random_state=0, tol=1e-5,max_iter=5000,C=0.001)\n",
        "clf.fit(train,Actual_label_train)\n",
        "# print(clf.predict(test))\n",
        "predicted_label=clf.predict(test)\n",
        "print(\"predicted label \",predicted_label)\n",
        "# support_vectors = clf.support_vectors_\n",
        "# print(\"support_vectors \",support_vectors)\n",
        "Accu_score = accuracy_score(Actual_label_test,predicted_label)\n",
        "print(\"Accuracy score\",Accu_score)\n",
        "f11 = f1_score(Actual_label_test, predicted_label,average=None)\n",
        "re = recall_score(Actual_label_test, predicted_label,average='weighted')\n",
        "cm = confusion_matrix(Actual_label_test, predicted_label)\n",
        "pr_sc = precision_score(Actual_label_test, predicted_label,average='weighted')\n",
        "clrp = classification_report(Actual_label_test, predicted_label)\n",
        "print(\"accuracy score \",Accu_score)\n",
        "print(\"********************\")\n",
        "print(\"f1 score \",f11)\n",
        "print(\"********************\")\n",
        "print(\"recall score \",re)\n",
        "print(\"********************\")\n",
        "print(\"confusion matrix \",cm)\n",
        "print(\"********************\")\n",
        "print(\"precision score \",pr_sc)\n",
        "print(\"********************\")\n",
        "print(\"classification report \",clrp)\n",
        "# support_vec = clf.support_vectors_\n",
        "# print(support_vec)"
      ],
      "execution_count": 0,
      "outputs": [
        {
          "output_type": "stream",
          "text": [
            "predicted label  [9 6 8 ... 7 8 8]\n",
            "Accuracy score 0.374\n",
            "accuracy score  0.374\n",
            "********************\n",
            "f1 score  [0.40534096 0.4112069  0.2300885  0.21921182 0.29952267 0.33967936\n",
            " 0.3943299  0.3888335  0.48126928 0.45688488]\n",
            "********************\n",
            "recall score  0.374\n",
            "********************\n",
            "confusion matrix  [[425  67  21  21  15  25  27  68 229  83]\n",
            " [ 64 477  10  22  14  39  56  48 100 177]\n",
            " [136  79 169  61 121  85 177  77  46  29]\n",
            " [ 65 121  51 178  36 197 153  66  64  82]\n",
            " [ 79  52  79  47 251  78 191 134  34  43]\n",
            " [ 43  85  67 139  49 339 119  75  55  33]\n",
            " [ 30  82  31  69  96  84 459  57  28  46]\n",
            " [ 51  66  47  50  93  81 103 390  53  86]\n",
            " [153  90  10  12   6  37  14  27 546 103]\n",
            " [ 70 194   4  12   7  27  47  44 116 506]]\n",
            "********************\n",
            "precision score  0.36812447883644994\n",
            "********************\n",
            "classification report                precision    recall  f1-score   support\n",
            "\n",
            "           0       0.38      0.43      0.41       981\n",
            "           1       0.36      0.47      0.41      1007\n",
            "           2       0.35      0.17      0.23       980\n",
            "           3       0.29      0.18      0.22      1013\n",
            "           4       0.36      0.25      0.30       988\n",
            "           5       0.34      0.34      0.34      1004\n",
            "           6       0.34      0.47      0.39       982\n",
            "           7       0.40      0.38      0.39      1020\n",
            "           8       0.43      0.55      0.48       998\n",
            "           9       0.43      0.49      0.46      1027\n",
            "\n",
            "    accuracy                           0.37     10000\n",
            "   macro avg       0.37      0.37      0.36     10000\n",
            "weighted avg       0.37      0.37      0.36     10000\n",
            "\n"
          ],
          "name": "stdout"
        }
      ]
    },
    {
      "cell_type": "code",
      "metadata": {
        "colab_type": "code",
        "id": "DOoT-GnpU7kO",
        "outputId": "4dd2f679-7a34-460b-9e41-71fdd662fa82",
        "colab": {
          "base_uri": "https://localhost:8080/",
          "height": 680
        }
      },
      "source": [
        "from sklearn.svm import LinearSVC\n",
        "clf = LinearSVC(random_state=0, tol=1e-5,max_iter=5000,C=0.009)\n",
        "clf.fit(train,Actual_label_train)\n",
        "# print(clf.predict(test))\n",
        "predicted_label=clf.predict(test)\n",
        "print(\"predicted label \",predicted_label)\n",
        "# support_vectors = clf.support_vectors_\n",
        "# print(\"support_vectors \",support_vectors)\n",
        "Accu_score = accuracy_score(Actual_label_test,predicted_label)\n",
        "print(\"Accuracy score\",Accu_score)\n",
        "f11 = f1_score(Actual_label_test, predicted_label,average=None)\n",
        "re = recall_score(Actual_label_test, predicted_label,average='weighted')\n",
        "cm = confusion_matrix(Actual_label_test, predicted_label)\n",
        "pr_sc = precision_score(Actual_label_test, predicted_label,average='weighted')\n",
        "clrp = classification_report(Actual_label_test, predicted_label)\n",
        "print(\"accuracy score \",Accu_score)\n",
        "print(\"********************\")\n",
        "print(\"f1 score \",f11)\n",
        "print(\"********************\")\n",
        "print(\"recall score \",re)\n",
        "print(\"********************\")\n",
        "print(\"confusion matrix \",cm)\n",
        "print(\"********************\")\n",
        "print(\"precision score \",pr_sc)\n",
        "print(\"********************\")\n",
        "print(\"classification report \",clrp)\n",
        "# support_vec = clf.support_vectors_\n",
        "# print(support_vec)"
      ],
      "execution_count": 0,
      "outputs": [
        {
          "output_type": "stream",
          "text": [
            "predicted label  [9 6 8 ... 7 8 8]\n",
            "Accuracy score 0.3753\n",
            "accuracy score  0.3753\n",
            "********************\n",
            "f1 score  [0.40861244 0.41489822 0.23211876 0.22058824 0.30274136 0.33833834\n",
            " 0.39417309 0.39126117 0.48053097 0.45937358]\n",
            "********************\n",
            "recall score  0.3753\n",
            "********************\n",
            "confusion matrix  [[427  66  21  21  15  25  27  68 229  82]\n",
            " [ 63 479  10  22  14  40  56  48 100 175]\n",
            " [135  74 172  61 120  87 181  77  45  28]\n",
            " [ 64 122  51 180  37 196 152  67  62  82]\n",
            " [ 80  48  82  48 254  78 188 134  33  43]\n",
            " [ 41  84  66 142  50 338 122  75  55  31]\n",
            " [ 27  80  37  71  94  84 460  58  27  44]\n",
            " [ 49  67  47  50  93  82 103 394  52  83]\n",
            " [154  90  11  11   6  37  16  28 543 102]\n",
            " [ 69 192   5  13   7  27  47  45 116 506]]\n",
            "********************\n",
            "precision score  0.3693351101801298\n",
            "********************\n",
            "classification report                precision    recall  f1-score   support\n",
            "\n",
            "           0       0.39      0.44      0.41       981\n",
            "           1       0.37      0.48      0.41      1007\n",
            "           2       0.34      0.18      0.23       980\n",
            "           3       0.29      0.18      0.22      1013\n",
            "           4       0.37      0.26      0.30       988\n",
            "           5       0.34      0.34      0.34      1004\n",
            "           6       0.34      0.47      0.39       982\n",
            "           7       0.40      0.39      0.39      1020\n",
            "           8       0.43      0.54      0.48       998\n",
            "           9       0.43      0.49      0.46      1027\n",
            "\n",
            "    accuracy                           0.38     10000\n",
            "   macro avg       0.37      0.37      0.36     10000\n",
            "weighted avg       0.37      0.38      0.36     10000\n",
            "\n"
          ],
          "name": "stdout"
        }
      ]
    },
    {
      "cell_type": "code",
      "metadata": {
        "colab_type": "code",
        "id": "xrzH6GB4WnrT",
        "outputId": "ca862027-5f10-4aad-d8e9-cd2170e37b5e",
        "colab": {
          "base_uri": "https://localhost:8080/",
          "height": 34
        }
      },
      "source": [
        "from sklearn.svm import LinearSVC\n",
        "clf = LinearSVC(random_state=0, tol=1e-9,max_iter=5000,C=0.001)\n",
        "clf.fit(train,Actual_label_train)\n",
        "# print(clf.predict(test))\n",
        "predicted_label=clf.predict(test)\n",
        "print(\"predicted label \",predicted_label)\n",
        "# support_vectors = clf.support_vectors_\n",
        "# print(\"support_vectors \",support_vectors)\n",
        "Accu_score = accuracy_score(Actual_label_test,predicted_label)\n",
        "# print(\"Accuracy score\",Accu_score)\n",
        "# support_vec = clf.support_vectors_\n",
        "# print(support_vec)\n",
        "f11 = f1_score(Actual_label_test, predicted_label,average=None)\n",
        "re = recall_score(Actual_label_test, predicted_label,average='weighted')\n",
        "cm = confusion_matrix(Actual_label_test, predicted_label)\n",
        "pr_sc = precision_score(Actual_label_test, predicted_label,average='weighted')\n",
        "clrp = classification_report(Actual_label_test, predicted_label)\n"
      ],
      "execution_count": 0,
      "outputs": [
        {
          "output_type": "stream",
          "text": [
            "predicted label  [9 6 8 ... 7 8 8]\n"
          ],
          "name": "stdout"
        }
      ]
    },
    {
      "cell_type": "code",
      "metadata": {
        "colab_type": "code",
        "id": "_RG6mqXpY_D8",
        "outputId": "27b19e71-e1c4-4000-fa72-3f19535bda6d",
        "colab": {
          "base_uri": "https://localhost:8080/",
          "height": 646
        }
      },
      "source": [
        "print(\"accuracy score \",Accu_score)\n",
        "print(\"********************\")\n",
        "print(\"f1 score \",f11)\n",
        "print(\"********************\")\n",
        "print(\"recall score \",re)\n",
        "print(\"********************\")\n",
        "print(\"confusion matrix \",cm)\n",
        "print(\"********************\")\n",
        "print(\"precision score \",pr_sc)\n",
        "print(\"********************\")\n",
        "print(\"classification report \",clrp)"
      ],
      "execution_count": 0,
      "outputs": [
        {
          "output_type": "stream",
          "text": [
            "accuracy score  0.374\n",
            "********************\n",
            "f1 score  [0.40534096 0.4112069  0.2300885  0.21921182 0.29952267 0.33967936\n",
            " 0.3943299  0.3888335  0.48126928 0.45688488]\n",
            "********************\n",
            "recall score  0.374\n",
            "********************\n",
            "confusion matrix  [[425  67  21  21  15  25  27  68 229  83]\n",
            " [ 64 477  10  22  14  39  56  48 100 177]\n",
            " [136  79 169  61 121  85 177  77  46  29]\n",
            " [ 65 121  51 178  36 197 153  66  64  82]\n",
            " [ 79  52  79  47 251  78 191 134  34  43]\n",
            " [ 43  85  67 139  49 339 119  75  55  33]\n",
            " [ 30  82  31  69  96  84 459  57  28  46]\n",
            " [ 51  66  47  50  93  81 103 390  53  86]\n",
            " [153  90  10  12   6  37  14  27 546 103]\n",
            " [ 70 194   4  12   7  27  47  44 116 506]]\n",
            "********************\n",
            "precision score  0.36812447883644994\n",
            "********************\n",
            "classification report                precision    recall  f1-score   support\n",
            "\n",
            "           0       0.38      0.43      0.41       981\n",
            "           1       0.36      0.47      0.41      1007\n",
            "           2       0.35      0.17      0.23       980\n",
            "           3       0.29      0.18      0.22      1013\n",
            "           4       0.36      0.25      0.30       988\n",
            "           5       0.34      0.34      0.34      1004\n",
            "           6       0.34      0.47      0.39       982\n",
            "           7       0.40      0.38      0.39      1020\n",
            "           8       0.43      0.55      0.48       998\n",
            "           9       0.43      0.49      0.46      1027\n",
            "\n",
            "    accuracy                           0.37     10000\n",
            "   macro avg       0.37      0.37      0.36     10000\n",
            "weighted avg       0.37      0.37      0.36     10000\n",
            "\n"
          ],
          "name": "stdout"
        }
      ]
    },
    {
      "cell_type": "markdown",
      "metadata": {
        "colab_type": "text",
        "id": "qfFMQbQZBO3S"
      },
      "source": [
        "   # Train"
      ]
    },
    {
      "cell_type": "code",
      "metadata": {
        "colab_type": "code",
        "id": "AfXhxAh6BO3U",
        "outputId": "25b487f3-9ac0-4f49-c781-ab400eb28e00",
        "colab": {
          "base_uri": "https://localhost:8080/",
          "height": 547
        }
      },
      "source": [
        "from sklearn.svm import SVC\n",
        "clf = SVC(gamma='auto',kernel='linear',max_iter=3000,C=0.001)\n",
        "clf.fit(train,Actual_label_train)\n",
        "# print(clf.predict(test))\n",
        "predicted_label=clf.predict(test)\n",
        "print(\"predicted label \",predicted_label)\n",
        "support_vectors = clf.support_vectors_\n",
        "print(\"support_vectors \",support_vectors)\n",
        "Accu_score = accuracy_score(Actual_label_test,predicted_label)\n",
        "print(\"Accuracy score\",Accu_score)\n",
        "support_vec = clf.support_vectors_\n",
        "print(support_vec)"
      ],
      "execution_count": 0,
      "outputs": [
        {
          "output_type": "stream",
          "text": [
            "/usr/local/lib/python3.6/dist-packages/sklearn/svm/_base.py:231: ConvergenceWarning: Solver terminated early (max_iter=3000).  Consider pre-processing your data with StandardScaler or MinMaxScaler.\n",
            "  % self.max_iter, ConvergenceWarning)\n"
          ],
          "name": "stderr"
        },
        {
          "output_type": "stream",
          "text": [
            "predicted label  [9 6 9 ... 7 8 0]\n",
            "support_vectors  [[ -4.99397755  -0.20067403   0.29192886 ...  -0.39754556  -0.11983276\n",
            "    0.21741904]\n",
            " [ 58.60529185   5.28028874 -12.87628793 ...   1.13668114  -0.89024523\n",
            "   -0.25246467]\n",
            " [ 49.61817396  14.19130479 -34.6146457  ...   0.98898549   0.8804073\n",
            "    7.13557781]\n",
            " ...\n",
            " [ 21.54094994   0.27823047 -22.05176133 ...  -1.9112813   -3.44838956\n",
            "    0.24411458]\n",
            " [ -7.62452897 -19.34964773  12.37476308 ...   1.53091361  -1.71960393\n",
            "    0.1618911 ]\n",
            " [ -7.25544478 -29.17190846 -11.74229717 ...   0.09827706   2.44153955\n",
            "   -2.14181615]]\n",
            "Accuracy score 0.3644\n",
            "[[ -4.99397755  -0.20067403   0.29192886 ...  -0.39754556  -0.11983276\n",
            "    0.21741904]\n",
            " [ 58.60529185   5.28028874 -12.87628793 ...   1.13668114  -0.89024523\n",
            "   -0.25246467]\n",
            " [ 49.61817396  14.19130479 -34.6146457  ...   0.98898549   0.8804073\n",
            "    7.13557781]\n",
            " ...\n",
            " [ 21.54094994   0.27823047 -22.05176133 ...  -1.9112813   -3.44838956\n",
            "    0.24411458]\n",
            " [ -7.62452897 -19.34964773  12.37476308 ...   1.53091361  -1.71960393\n",
            "    0.1618911 ]\n",
            " [ -7.25544478 -29.17190846 -11.74229717 ...   0.09827706   2.44153955\n",
            "   -2.14181615]]\n"
          ],
          "name": "stdout"
        }
      ]
    },
    {
      "cell_type": "code",
      "metadata": {
        "colab_type": "code",
        "id": "eAJUSLetfqKw",
        "outputId": "dadc19d7-28ca-465f-aa18-f5b5703cef37",
        "colab": {
          "base_uri": "https://localhost:8080/",
          "height": 629
        }
      },
      "source": [
        "f11 = f1_score(Actual_label_test, predicted_label,average=None)\n",
        "re = recall_score(Actual_label_test, predicted_label,average='weighted')\n",
        "cm = confusion_matrix(Actual_label_test, predicted_label)\n",
        "pr_sc = precision_score(Actual_label_test, predicted_label,average='weighted')\n",
        "clrp = classification_report(Actual_label_test, predicted_label)\n",
        "print(\"********************\")\n",
        "print(\"f1 score \",f11)\n",
        "print(\"********************\")\n",
        "print(\"recall score \",re)\n",
        "print(\"********************\")\n",
        "print(\"confusion matrix \",cm)\n",
        "print(\"********************\")\n",
        "print(\"precision score \",pr_sc)\n",
        "print(\"********************\")\n",
        "print(\"classification report \",clrp)"
      ],
      "execution_count": 0,
      "outputs": [
        {
          "output_type": "stream",
          "text": [
            "********************\n",
            "f1 score  [0.36593407 0.44223732 0.20758483 0.2733209  0.31460674 0.2289823\n",
            " 0.37430168 0.39185991 0.49190939 0.48013669]\n",
            "********************\n",
            "recall score  0.3644\n",
            "********************\n",
            "confusion matrix  [[333  42  28  47  25  31  25  84 264 102]\n",
            " [ 44 423  23  42  24  39  60  53  75 224]\n",
            " [101  35 156  94 199  85 133  98  48  31]\n",
            " [ 36  66  56 293  63 159 143  74  47  76]\n",
            " [ 54  24  69  86 322  67 137 162  26  41]\n",
            " [ 22  47  65 303  94 207 116  80  43  27]\n",
            " [ 14  37  31 105 191 101 402  57  14  30]\n",
            " [ 46  37  54  92 114  56  93 414  35  79]\n",
            " [132  53  24  39  15  29  16  16 532 142]\n",
            " [ 57 142  17  30  12  30  41  55  81 562]]\n",
            "********************\n",
            "precision score  0.3593064775136617\n",
            "********************\n",
            "classification report                precision    recall  f1-score   support\n",
            "\n",
            "           0       0.40      0.34      0.37       981\n",
            "           1       0.47      0.42      0.44      1007\n",
            "           2       0.30      0.16      0.21       980\n",
            "           3       0.26      0.29      0.27      1013\n",
            "           4       0.30      0.33      0.31       988\n",
            "           5       0.26      0.21      0.23      1004\n",
            "           6       0.34      0.41      0.37       982\n",
            "           7       0.38      0.41      0.39      1020\n",
            "           8       0.46      0.53      0.49       998\n",
            "           9       0.43      0.55      0.48      1027\n",
            "\n",
            "    accuracy                           0.36     10000\n",
            "   macro avg       0.36      0.36      0.36     10000\n",
            "weighted avg       0.36      0.36      0.36     10000\n",
            "\n"
          ],
          "name": "stdout"
        }
      ]
    },
    {
      "cell_type": "code",
      "metadata": {
        "colab_type": "code",
        "id": "-67OpKkHfk3C",
        "colab": {
          "base_uri": "https://localhost:8080/",
          "height": 238
        },
        "outputId": "d431888b-28d6-4a2d-9a3f-9ab06454105d"
      },
      "source": [
        "\n",
        "print(Actual_label_test)\n",
        "print(type(Actual_label_test))\n",
        "Actual_label_test=Actual_label_test.to_list()\n",
        "final_euclid=[]\n",
        "for row in train:\n",
        "  euclid=[]\n",
        "  for i in range(0,len(test)):\n",
        "    li=[]\n",
        "    dis = np.linalg.norm(row - test[i])\n",
        "    label = Actual_label_test[i]\n",
        "    li.append(dis)\n",
        "    li.append(label)\n",
        "    euclid.append(li)\n",
        "  euclid.sort()\n",
        "  final_euclid.append(euclid)\n",
        "print(final_euclid)\n",
        "\n",
        "accu_k=[]\n",
        "predicted_label=[]\n",
        "K=3\n",
        "while(K<8):\n",
        "  predicted_label=[]\n",
        "  for row in final_euclid:\n",
        "    euc=[]\n",
        "    euc=row\n",
        "    euc=row[0:K]\n",
        "    print(\"hiiii\")\n",
        "    li=[]\n",
        "    for j in range(0,len(euc)):\n",
        "      print(\"hello\")\n",
        "      li.append(euc[j][1])\n",
        "    try:\n",
        "        modi=mode(li)\n",
        "    except:\n",
        "        modi=li[0]\n",
        "    predicted_label.append(modi)\n",
        "  accu_k_pair=[]\n",
        "  accu_score= sklearn.metrics.accuracy_score(Actual_label_test,predicted_label, normalize=True, sample_weight=None)\n",
        "  print(K)\n",
        "  print(accu_score,\" accuracy score\")\n",
        "  print(f1_score(Actual_label_test, predicted_label, average=None),\" f1 score\")\n",
        "  # print(K)\n",
        "  print(confusion_matrix(Actual_label_test,predicted_label),\" confusion matrix\")\n",
        "  # print(\"f1 score for K for euc \",K)\n",
        "  # print(\"f1 score \",f1_score)\n",
        "  accu_k_pair.append(accu_score)\n",
        "  accu_k_pair.append(K)\n",
        "  accu_k.append(accu_k_pair)\n",
        "  K=K+2\n",
        "\n",
        "accu_k=accu_k.sort()\n",
        "accu_k.reverse()\n",
        "K_euclid=accu_k[0][1]\n",
        "Accuracy_ = accu_k[0][0]\n",
        "print(\"final K value \",K_euclid)\n",
        "print(\"final accuracy \",Accuracy)\n",
        "\n",
        "\n",
        "\n",
        "\n"
      ],
      "execution_count": 0,
      "outputs": [
        {
          "output_type": "stream",
          "text": [
            "2        9\n",
            "3        4\n",
            "4        1\n",
            "5        1\n",
            "17       3\n",
            "        ..\n",
            "49986    7\n",
            "49989    1\n",
            "49992    0\n",
            "49993    1\n",
            "49994    0\n",
            "Name: label, Length: 10000, dtype: int64\n",
            "<class 'pandas.core.series.Series'>\n"
          ],
          "name": "stdout"
        }
      ]
    },
    {
      "cell_type": "code",
      "metadata": {
        "colab_type": "code",
        "id": "4HH2vUjXBO3Z",
        "outputId": "d63abb99-394b-4c94-fe28-267ef987f91b",
        "colab": {
          "base_uri": "https://localhost:8080/",
          "height": 129
        }
      },
      "source": [
        "Significance of C:\n",
        "In support vector machines,our focus is mainly on getting large margin and lower missclassification\n",
        "these two things depends on value of C\n",
        "Keeping a margin low,leads to less missclassifcation in train dataset, however that may not be case in test set.\n",
        "for Large Value of parameter C,there is small margin and for small value of parameter c,there will be large margin\n",
        "choosing a value of C depends on dataset\n",
        "for example when i incresed value of C ,accuracy decreased and when value of c is decreased accuracy increased"
      ],
      "execution_count": 0,
      "outputs": [
        {
          "output_type": "error",
          "ename": "SyntaxError",
          "evalue": "ignored",
          "traceback": [
            "\u001b[0;36m  File \u001b[0;32m\"<ipython-input-74-2398a1294e92>\"\u001b[0;36m, line \u001b[0;32m1\u001b[0m\n\u001b[0;31m    Significance of C:\u001b[0m\n\u001b[0m                  ^\u001b[0m\n\u001b[0;31mSyntaxError\u001b[0m\u001b[0;31m:\u001b[0m invalid syntax\n"
          ]
        }
      ]
    }
  ]
}