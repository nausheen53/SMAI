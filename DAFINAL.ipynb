{
  "nbformat": 4,
  "nbformat_minor": 0,
  "metadata": {
    "colab": {
      "name": "DAFINAL.ipynb",
      "provenance": [],
      "collapsed_sections": [],
      "authorship_tag": "ABX9TyPAMIuc4UOMNrD4h6QHXXuk",
      "include_colab_link": true
    },
    "kernelspec": {
      "name": "python3",
      "display_name": "Python 3"
    }
  },
  "cells": [
    {
      "cell_type": "markdown",
      "metadata": {
        "id": "view-in-github",
        "colab_type": "text"
      },
      "source": [
        "<a href=\"https://colab.research.google.com/github/nausheen53/SMAI/blob/master/DAFINAL.ipynb\" target=\"_parent\"><img src=\"https://colab.research.google.com/assets/colab-badge.svg\" alt=\"Open In Colab\"/></a>"
      ]
    },
    {
      "cell_type": "code",
      "metadata": {
        "id": "dDkkqDZSY3Zf",
        "colab_type": "code",
        "colab": {}
      },
      "source": [
        "import pandas as pd"
      ],
      "execution_count": 218,
      "outputs": []
    },
    {
      "cell_type": "code",
      "metadata": {
        "id": "4zI2OV0xaogH",
        "colab_type": "code",
        "colab": {
          "base_uri": "https://localhost:8080/",
          "height": 34
        },
        "outputId": "bdbd9d47-6614-411d-a694-5b7d7d76490f"
      },
      "source": [
        "from google.colab import drive\n",
        "drive.mount('/content/drive')"
      ],
      "execution_count": 219,
      "outputs": [
        {
          "output_type": "stream",
          "text": [
            "Drive already mounted at /content/drive; to attempt to forcibly remount, call drive.mount(\"/content/drive\", force_remount=True).\n"
          ],
          "name": "stdout"
        }
      ]
    },
    {
      "cell_type": "code",
      "metadata": {
        "id": "NQgwc_6Yaq56",
        "colab_type": "code",
        "colab": {}
      },
      "source": [
        "data=pd.read_excel(\"/content/drive/My Drive/DA-1/earth.xls\")"
      ],
      "execution_count": 220,
      "outputs": []
    },
    {
      "cell_type": "code",
      "metadata": {
        "id": "h5eBEHzGcRJK",
        "colab_type": "code",
        "colab": {
          "base_uri": "https://localhost:8080/",
          "height": 521
        },
        "outputId": "55446588-dad8-4176-f59d-c15f8fe61afb"
      },
      "source": [
        "data"
      ],
      "execution_count": 221,
      "outputs": [
        {
          "output_type": "execute_result",
          "data": {
            "text/html": [
              "<div>\n",
              "<style scoped>\n",
              "    .dataframe tbody tr th:only-of-type {\n",
              "        vertical-align: middle;\n",
              "    }\n",
              "\n",
              "    .dataframe tbody tr th {\n",
              "        vertical-align: top;\n",
              "    }\n",
              "\n",
              "    .dataframe thead th {\n",
              "        text-align: right;\n",
              "    }\n",
              "</style>\n",
              "<table border=\"1\" class=\"dataframe\">\n",
              "  <thead>\n",
              "    <tr style=\"text-align: right;\">\n",
              "      <th></th>\n",
              "      <th>Sl. No.</th>\n",
              "      <th>YEAR</th>\n",
              "      <th>MONTH</th>\n",
              "      <th>DATE</th>\n",
              "      <th>ORIGIN TIME</th>\n",
              "      <th>Unnamed: 5</th>\n",
              "      <th>MAGNITUDE</th>\n",
              "      <th>Unnamed: 7</th>\n",
              "      <th>Unnamed: 8</th>\n",
              "      <th>Unnamed: 9</th>\n",
              "      <th>Unnamed: 10</th>\n",
              "      <th>Unnamed: 11</th>\n",
              "      <th>LAT (N)</th>\n",
              "      <th>LONG (E)</th>\n",
              "      <th>DEPTH (km)</th>\n",
              "      <th>INTENSITY</th>\n",
              "      <th>Unnamed: 16</th>\n",
              "      <th>Unnamed: 17</th>\n",
              "      <th>LOCATION</th>\n",
              "      <th>REFERENCE</th>\n",
              "    </tr>\n",
              "  </thead>\n",
              "  <tbody>\n",
              "    <tr>\n",
              "      <th>0</th>\n",
              "      <td>NaN</td>\n",
              "      <td>NaN</td>\n",
              "      <td>NaN</td>\n",
              "      <td>NaN</td>\n",
              "      <td>(UTC)</td>\n",
              "      <td>(IST)</td>\n",
              "      <td>Mw</td>\n",
              "      <td>Mw</td>\n",
              "      <td>Mb</td>\n",
              "      <td>Mb</td>\n",
              "      <td>Ms</td>\n",
              "      <td>ML</td>\n",
              "      <td>NaN</td>\n",
              "      <td>NaN</td>\n",
              "      <td>NaN</td>\n",
              "      <td>MM</td>\n",
              "      <td>MMI</td>\n",
              "      <td>MME</td>\n",
              "      <td>NaN</td>\n",
              "      <td>NaN</td>\n",
              "    </tr>\n",
              "    <tr>\n",
              "      <th>1</th>\n",
              "      <td>1.0</td>\n",
              "      <td>-2474.0</td>\n",
              "      <td>0</td>\n",
              "      <td>0.0</td>\n",
              "      <td>NaN</td>\n",
              "      <td>NaN</td>\n",
              "      <td>7.5</td>\n",
              "      <td>7.5</td>\n",
              "      <td>NaN</td>\n",
              "      <td>6.9692</td>\n",
              "      <td>8.78459</td>\n",
              "      <td>7.42707</td>\n",
              "      <td>71</td>\n",
              "      <td>24</td>\n",
              "      <td>0.0</td>\n",
              "      <td>NaN</td>\n",
              "      <td>NaN</td>\n",
              "      <td>NaN</td>\n",
              "      <td>NaN</td>\n",
              "      <td>Dr STGR</td>\n",
              "    </tr>\n",
              "    <tr>\n",
              "      <th>2</th>\n",
              "      <td>2.0</td>\n",
              "      <td>-325.0</td>\n",
              "      <td>0</td>\n",
              "      <td>0.0</td>\n",
              "      <td>NaN</td>\n",
              "      <td>NaN</td>\n",
              "      <td>7.5</td>\n",
              "      <td>7.5</td>\n",
              "      <td>NaN</td>\n",
              "      <td>6.9692</td>\n",
              "      <td>8.78459</td>\n",
              "      <td>7.42707</td>\n",
              "      <td>71</td>\n",
              "      <td>24</td>\n",
              "      <td>0.0</td>\n",
              "      <td>NaN</td>\n",
              "      <td>NaN</td>\n",
              "      <td>NaN</td>\n",
              "      <td>NaN</td>\n",
              "      <td>Dr STGR</td>\n",
              "    </tr>\n",
              "    <tr>\n",
              "      <th>3</th>\n",
              "      <td>3.0</td>\n",
              "      <td>25.0</td>\n",
              "      <td>0</td>\n",
              "      <td>0.0</td>\n",
              "      <td>NaN</td>\n",
              "      <td>NaN</td>\n",
              "      <td>7.5</td>\n",
              "      <td>7.5</td>\n",
              "      <td>NaN</td>\n",
              "      <td>6.9692</td>\n",
              "      <td>8.78459</td>\n",
              "      <td>7.42707</td>\n",
              "      <td>72.9</td>\n",
              "      <td>33.72</td>\n",
              "      <td>0.0</td>\n",
              "      <td>NaN</td>\n",
              "      <td>NaN</td>\n",
              "      <td>NaN</td>\n",
              "      <td>NaN</td>\n",
              "      <td>Dr STGR</td>\n",
              "    </tr>\n",
              "    <tr>\n",
              "      <th>4</th>\n",
              "      <td>4.0</td>\n",
              "      <td>26.0</td>\n",
              "      <td>5</td>\n",
              "      <td>10.0</td>\n",
              "      <td>08.19.10.0</td>\n",
              "      <td>NaN</td>\n",
              "      <td>6.1397</td>\n",
              "      <td>6.1397</td>\n",
              "      <td>5.73705</td>\n",
              "      <td>5.73705</td>\n",
              "      <td>6.40228</td>\n",
              "      <td>5.99969</td>\n",
              "      <td>17.3</td>\n",
              "      <td>80.1</td>\n",
              "      <td>NaN</td>\n",
              "      <td>NaN</td>\n",
              "      <td>NaN</td>\n",
              "      <td>NaN</td>\n",
              "      <td>NaN</td>\n",
              "      <td>NEIC</td>\n",
              "    </tr>\n",
              "    <tr>\n",
              "      <th>...</th>\n",
              "      <td>...</td>\n",
              "      <td>...</td>\n",
              "      <td>...</td>\n",
              "      <td>...</td>\n",
              "      <td>...</td>\n",
              "      <td>...</td>\n",
              "      <td>...</td>\n",
              "      <td>...</td>\n",
              "      <td>...</td>\n",
              "      <td>...</td>\n",
              "      <td>...</td>\n",
              "      <td>...</td>\n",
              "      <td>...</td>\n",
              "      <td>...</td>\n",
              "      <td>...</td>\n",
              "      <td>...</td>\n",
              "      <td>...</td>\n",
              "      <td>...</td>\n",
              "      <td>...</td>\n",
              "      <td>...</td>\n",
              "    </tr>\n",
              "    <tr>\n",
              "      <th>52985</th>\n",
              "      <td>52970.0</td>\n",
              "      <td>2019.0</td>\n",
              "      <td>7</td>\n",
              "      <td>28.0</td>\n",
              "      <td>19:24:08</td>\n",
              "      <td>00:54:08/2019-07-29/</td>\n",
              "      <td>3.2</td>\n",
              "      <td>3.2</td>\n",
              "      <td>NaN</td>\n",
              "      <td>3.07428</td>\n",
              "      <td>1.25394</td>\n",
              "      <td>2.91501</td>\n",
              "      <td>32.8°N</td>\n",
              "      <td>78.4°E</td>\n",
              "      <td>10.0</td>\n",
              "      <td>NaN</td>\n",
              "      <td>NaN</td>\n",
              "      <td>NaN</td>\n",
              "      <td>Jammu &amp; Kashmir</td>\n",
              "      <td>NaN</td>\n",
              "    </tr>\n",
              "    <tr>\n",
              "      <th>52986</th>\n",
              "      <td>52971.0</td>\n",
              "      <td>2019.0</td>\n",
              "      <td>7</td>\n",
              "      <td>28.0</td>\n",
              "      <td>10:44:10</td>\n",
              "      <td>16:14:10</td>\n",
              "      <td>3.6</td>\n",
              "      <td>3.6</td>\n",
              "      <td>NaN</td>\n",
              "      <td>3.43659</td>\n",
              "      <td>1.95447</td>\n",
              "      <td>3.33473</td>\n",
              "      <td>25.5°N</td>\n",
              "      <td>90.4°E</td>\n",
              "      <td>70.0</td>\n",
              "      <td>NaN</td>\n",
              "      <td>NaN</td>\n",
              "      <td>NaN</td>\n",
              "      <td>Distt. East Garo Hills ,Meghalaya</td>\n",
              "      <td>NaN</td>\n",
              "    </tr>\n",
              "    <tr>\n",
              "      <th>52987</th>\n",
              "      <td>52972.0</td>\n",
              "      <td>2019.0</td>\n",
              "      <td>7</td>\n",
              "      <td>28.0</td>\n",
              "      <td>21:25:06</td>\n",
              "      <td>2019-07-29 02:55:06</td>\n",
              "      <td>4</td>\n",
              "      <td>4</td>\n",
              "      <td>NaN</td>\n",
              "      <td>3.79891</td>\n",
              "      <td>2.65499</td>\n",
              "      <td>3.75446</td>\n",
              "      <td>23.2°N</td>\n",
              "      <td>86.5°E</td>\n",
              "      <td>22.0</td>\n",
              "      <td>NaN</td>\n",
              "      <td>NaN</td>\n",
              "      <td>NaN</td>\n",
              "      <td>Distt. Puruliya, West Bengal</td>\n",
              "      <td>NaN</td>\n",
              "    </tr>\n",
              "    <tr>\n",
              "      <th>52988</th>\n",
              "      <td>52973.0</td>\n",
              "      <td>2019.0</td>\n",
              "      <td>7</td>\n",
              "      <td>29.0</td>\n",
              "      <td>03:33:53</td>\n",
              "      <td>09:03:53</td>\n",
              "      <td>4.3</td>\n",
              "      <td>4.3</td>\n",
              "      <td>NaN</td>\n",
              "      <td>4.07065</td>\n",
              "      <td>3.18039</td>\n",
              "      <td>4.06925</td>\n",
              "      <td>32.8°N</td>\n",
              "      <td>76.4°E</td>\n",
              "      <td>20.0</td>\n",
              "      <td>NaN</td>\n",
              "      <td>NaN</td>\n",
              "      <td>NaN</td>\n",
              "      <td>Distt. Lahaul-Spiti,Himachal Pradesh</td>\n",
              "      <td>NaN</td>\n",
              "    </tr>\n",
              "    <tr>\n",
              "      <th>52989</th>\n",
              "      <td>52974.0</td>\n",
              "      <td>2019.0</td>\n",
              "      <td>7</td>\n",
              "      <td>31.0</td>\n",
              "      <td>14:50:02</td>\n",
              "      <td>20:20:02</td>\n",
              "      <td>3</td>\n",
              "      <td>3</td>\n",
              "      <td>NaN</td>\n",
              "      <td>2.89312</td>\n",
              "      <td>0.903678</td>\n",
              "      <td>2.70514</td>\n",
              "      <td>20.0°N</td>\n",
              "      <td>72.8°E</td>\n",
              "      <td>10.0</td>\n",
              "      <td>NaN</td>\n",
              "      <td>NaN</td>\n",
              "      <td>NaN</td>\n",
              "      <td>Distt. Palghar, Maharashtra</td>\n",
              "      <td>NaN</td>\n",
              "    </tr>\n",
              "  </tbody>\n",
              "</table>\n",
              "<p>52990 rows × 20 columns</p>\n",
              "</div>"
            ],
            "text/plain": [
              "       Sl. No.   YEAR   ...                              LOCATION  REFERENCE\n",
              "0          NaN     NaN  ...                                   NaN        NaN\n",
              "1          1.0 -2474.0  ...                                   NaN    Dr STGR\n",
              "2          2.0  -325.0  ...                                   NaN    Dr STGR\n",
              "3          3.0    25.0  ...                                   NaN    Dr STGR\n",
              "4          4.0    26.0  ...                                   NaN       NEIC\n",
              "...        ...     ...  ...                                   ...        ...\n",
              "52985  52970.0  2019.0  ...                       Jammu & Kashmir        NaN\n",
              "52986  52971.0  2019.0  ...     Distt. East Garo Hills ,Meghalaya        NaN\n",
              "52987  52972.0  2019.0  ...          Distt. Puruliya, West Bengal        NaN\n",
              "52988  52973.0  2019.0  ...  Distt. Lahaul-Spiti,Himachal Pradesh        NaN\n",
              "52989  52974.0  2019.0  ...           Distt. Palghar, Maharashtra        NaN\n",
              "\n",
              "[52990 rows x 20 columns]"
            ]
          },
          "metadata": {
            "tags": []
          },
          "execution_count": 221
        }
      ]
    },
    {
      "cell_type": "code",
      "metadata": {
        "id": "M1zXjyFscT8s",
        "colab_type": "code",
        "colab": {}
      },
      "source": [
        "features = ['YEAR ', 'MONTH ', 'DATE','Unnamed: 7','LAT (N)', 'LONG (E)', 'DEPTH (km)']"
      ],
      "execution_count": 222,
      "outputs": []
    },
    {
      "cell_type": "code",
      "metadata": {
        "id": "a-iVTbqbe5xM",
        "colab_type": "code",
        "colab": {}
      },
      "source": [
        "data=data.drop([0])"
      ],
      "execution_count": 223,
      "outputs": []
    },
    {
      "cell_type": "code",
      "metadata": {
        "id": "HvSNnsxUe9zX",
        "colab_type": "code",
        "colab": {}
      },
      "source": [
        "data1 = data.reset_index(drop=True)"
      ],
      "execution_count": 224,
      "outputs": []
    },
    {
      "cell_type": "code",
      "metadata": {
        "id": "fBlnx8GOh_Zy",
        "colab_type": "code",
        "colab": {
          "base_uri": "https://localhost:8080/",
          "height": 419
        },
        "outputId": "0adb2f39-5f48-4f0c-b734-a24e31c3f329"
      },
      "source": [
        "final_data=data1[features]\n",
        "final_data"
      ],
      "execution_count": 225,
      "outputs": [
        {
          "output_type": "execute_result",
          "data": {
            "text/html": [
              "<div>\n",
              "<style scoped>\n",
              "    .dataframe tbody tr th:only-of-type {\n",
              "        vertical-align: middle;\n",
              "    }\n",
              "\n",
              "    .dataframe tbody tr th {\n",
              "        vertical-align: top;\n",
              "    }\n",
              "\n",
              "    .dataframe thead th {\n",
              "        text-align: right;\n",
              "    }\n",
              "</style>\n",
              "<table border=\"1\" class=\"dataframe\">\n",
              "  <thead>\n",
              "    <tr style=\"text-align: right;\">\n",
              "      <th></th>\n",
              "      <th>YEAR</th>\n",
              "      <th>MONTH</th>\n",
              "      <th>DATE</th>\n",
              "      <th>Unnamed: 7</th>\n",
              "      <th>LAT (N)</th>\n",
              "      <th>LONG (E)</th>\n",
              "      <th>DEPTH (km)</th>\n",
              "    </tr>\n",
              "  </thead>\n",
              "  <tbody>\n",
              "    <tr>\n",
              "      <th>0</th>\n",
              "      <td>-2474.0</td>\n",
              "      <td>0</td>\n",
              "      <td>0.0</td>\n",
              "      <td>7.5</td>\n",
              "      <td>71</td>\n",
              "      <td>24</td>\n",
              "      <td>0.0</td>\n",
              "    </tr>\n",
              "    <tr>\n",
              "      <th>1</th>\n",
              "      <td>-325.0</td>\n",
              "      <td>0</td>\n",
              "      <td>0.0</td>\n",
              "      <td>7.5</td>\n",
              "      <td>71</td>\n",
              "      <td>24</td>\n",
              "      <td>0.0</td>\n",
              "    </tr>\n",
              "    <tr>\n",
              "      <th>2</th>\n",
              "      <td>25.0</td>\n",
              "      <td>0</td>\n",
              "      <td>0.0</td>\n",
              "      <td>7.5</td>\n",
              "      <td>72.9</td>\n",
              "      <td>33.72</td>\n",
              "      <td>0.0</td>\n",
              "    </tr>\n",
              "    <tr>\n",
              "      <th>3</th>\n",
              "      <td>26.0</td>\n",
              "      <td>5</td>\n",
              "      <td>10.0</td>\n",
              "      <td>6.1397</td>\n",
              "      <td>17.3</td>\n",
              "      <td>80.1</td>\n",
              "      <td>NaN</td>\n",
              "    </tr>\n",
              "    <tr>\n",
              "      <th>4</th>\n",
              "      <td>26.0</td>\n",
              "      <td>5</td>\n",
              "      <td>10.0</td>\n",
              "      <td>6.1397</td>\n",
              "      <td>26</td>\n",
              "      <td>97</td>\n",
              "      <td>80.0</td>\n",
              "    </tr>\n",
              "    <tr>\n",
              "      <th>...</th>\n",
              "      <td>...</td>\n",
              "      <td>...</td>\n",
              "      <td>...</td>\n",
              "      <td>...</td>\n",
              "      <td>...</td>\n",
              "      <td>...</td>\n",
              "      <td>...</td>\n",
              "    </tr>\n",
              "    <tr>\n",
              "      <th>52984</th>\n",
              "      <td>2019.0</td>\n",
              "      <td>7</td>\n",
              "      <td>28.0</td>\n",
              "      <td>3.2</td>\n",
              "      <td>32.8°N</td>\n",
              "      <td>78.4°E</td>\n",
              "      <td>10.0</td>\n",
              "    </tr>\n",
              "    <tr>\n",
              "      <th>52985</th>\n",
              "      <td>2019.0</td>\n",
              "      <td>7</td>\n",
              "      <td>28.0</td>\n",
              "      <td>3.6</td>\n",
              "      <td>25.5°N</td>\n",
              "      <td>90.4°E</td>\n",
              "      <td>70.0</td>\n",
              "    </tr>\n",
              "    <tr>\n",
              "      <th>52986</th>\n",
              "      <td>2019.0</td>\n",
              "      <td>7</td>\n",
              "      <td>28.0</td>\n",
              "      <td>4</td>\n",
              "      <td>23.2°N</td>\n",
              "      <td>86.5°E</td>\n",
              "      <td>22.0</td>\n",
              "    </tr>\n",
              "    <tr>\n",
              "      <th>52987</th>\n",
              "      <td>2019.0</td>\n",
              "      <td>7</td>\n",
              "      <td>29.0</td>\n",
              "      <td>4.3</td>\n",
              "      <td>32.8°N</td>\n",
              "      <td>76.4°E</td>\n",
              "      <td>20.0</td>\n",
              "    </tr>\n",
              "    <tr>\n",
              "      <th>52988</th>\n",
              "      <td>2019.0</td>\n",
              "      <td>7</td>\n",
              "      <td>31.0</td>\n",
              "      <td>3</td>\n",
              "      <td>20.0°N</td>\n",
              "      <td>72.8°E</td>\n",
              "      <td>10.0</td>\n",
              "    </tr>\n",
              "  </tbody>\n",
              "</table>\n",
              "<p>52989 rows × 7 columns</p>\n",
              "</div>"
            ],
            "text/plain": [
              "        YEAR  MONTH   DATE Unnamed: 7 LAT (N) LONG (E)  DEPTH (km)\n",
              "0     -2474.0      0   0.0        7.5      71       24         0.0\n",
              "1      -325.0      0   0.0        7.5      71       24         0.0\n",
              "2        25.0      0   0.0        7.5    72.9    33.72         0.0\n",
              "3        26.0      5  10.0     6.1397    17.3     80.1         NaN\n",
              "4        26.0      5  10.0     6.1397      26       97        80.0\n",
              "...       ...    ...   ...        ...     ...      ...         ...\n",
              "52984  2019.0      7  28.0        3.2  32.8°N   78.4°E        10.0\n",
              "52985  2019.0      7  28.0        3.6  25.5°N   90.4°E        70.0\n",
              "52986  2019.0      7  28.0          4  23.2°N   86.5°E        22.0\n",
              "52987  2019.0      7  29.0        4.3  32.8°N   76.4°E        20.0\n",
              "52988  2019.0      7  31.0          3  20.0°N   72.8°E        10.0\n",
              "\n",
              "[52989 rows x 7 columns]"
            ]
          },
          "metadata": {
            "tags": []
          },
          "execution_count": 225
        }
      ]
    },
    {
      "cell_type": "code",
      "metadata": {
        "id": "Mx2tkcOQiB-1",
        "colab_type": "code",
        "colab": {}
      },
      "source": [
        "final_data_1 = final_data.rename(columns = {'Unnamed: 7': 'MAGNITUDE'}, inplace = False)"
      ],
      "execution_count": 226,
      "outputs": []
    },
    {
      "cell_type": "code",
      "metadata": {
        "id": "plr7jtdBsuWK",
        "colab_type": "code",
        "colab": {
          "base_uri": "https://localhost:8080/",
          "height": 419
        },
        "outputId": "e3ace970-63c2-4a94-bb2b-702691fd14b9"
      },
      "source": [
        "final_data_1"
      ],
      "execution_count": 227,
      "outputs": [
        {
          "output_type": "execute_result",
          "data": {
            "text/html": [
              "<div>\n",
              "<style scoped>\n",
              "    .dataframe tbody tr th:only-of-type {\n",
              "        vertical-align: middle;\n",
              "    }\n",
              "\n",
              "    .dataframe tbody tr th {\n",
              "        vertical-align: top;\n",
              "    }\n",
              "\n",
              "    .dataframe thead th {\n",
              "        text-align: right;\n",
              "    }\n",
              "</style>\n",
              "<table border=\"1\" class=\"dataframe\">\n",
              "  <thead>\n",
              "    <tr style=\"text-align: right;\">\n",
              "      <th></th>\n",
              "      <th>YEAR</th>\n",
              "      <th>MONTH</th>\n",
              "      <th>DATE</th>\n",
              "      <th>MAGNITUDE</th>\n",
              "      <th>LAT (N)</th>\n",
              "      <th>LONG (E)</th>\n",
              "      <th>DEPTH (km)</th>\n",
              "    </tr>\n",
              "  </thead>\n",
              "  <tbody>\n",
              "    <tr>\n",
              "      <th>0</th>\n",
              "      <td>-2474.0</td>\n",
              "      <td>0</td>\n",
              "      <td>0.0</td>\n",
              "      <td>7.5</td>\n",
              "      <td>71</td>\n",
              "      <td>24</td>\n",
              "      <td>0.0</td>\n",
              "    </tr>\n",
              "    <tr>\n",
              "      <th>1</th>\n",
              "      <td>-325.0</td>\n",
              "      <td>0</td>\n",
              "      <td>0.0</td>\n",
              "      <td>7.5</td>\n",
              "      <td>71</td>\n",
              "      <td>24</td>\n",
              "      <td>0.0</td>\n",
              "    </tr>\n",
              "    <tr>\n",
              "      <th>2</th>\n",
              "      <td>25.0</td>\n",
              "      <td>0</td>\n",
              "      <td>0.0</td>\n",
              "      <td>7.5</td>\n",
              "      <td>72.9</td>\n",
              "      <td>33.72</td>\n",
              "      <td>0.0</td>\n",
              "    </tr>\n",
              "    <tr>\n",
              "      <th>3</th>\n",
              "      <td>26.0</td>\n",
              "      <td>5</td>\n",
              "      <td>10.0</td>\n",
              "      <td>6.1397</td>\n",
              "      <td>17.3</td>\n",
              "      <td>80.1</td>\n",
              "      <td>NaN</td>\n",
              "    </tr>\n",
              "    <tr>\n",
              "      <th>4</th>\n",
              "      <td>26.0</td>\n",
              "      <td>5</td>\n",
              "      <td>10.0</td>\n",
              "      <td>6.1397</td>\n",
              "      <td>26</td>\n",
              "      <td>97</td>\n",
              "      <td>80.0</td>\n",
              "    </tr>\n",
              "    <tr>\n",
              "      <th>...</th>\n",
              "      <td>...</td>\n",
              "      <td>...</td>\n",
              "      <td>...</td>\n",
              "      <td>...</td>\n",
              "      <td>...</td>\n",
              "      <td>...</td>\n",
              "      <td>...</td>\n",
              "    </tr>\n",
              "    <tr>\n",
              "      <th>52984</th>\n",
              "      <td>2019.0</td>\n",
              "      <td>7</td>\n",
              "      <td>28.0</td>\n",
              "      <td>3.2</td>\n",
              "      <td>32.8°N</td>\n",
              "      <td>78.4°E</td>\n",
              "      <td>10.0</td>\n",
              "    </tr>\n",
              "    <tr>\n",
              "      <th>52985</th>\n",
              "      <td>2019.0</td>\n",
              "      <td>7</td>\n",
              "      <td>28.0</td>\n",
              "      <td>3.6</td>\n",
              "      <td>25.5°N</td>\n",
              "      <td>90.4°E</td>\n",
              "      <td>70.0</td>\n",
              "    </tr>\n",
              "    <tr>\n",
              "      <th>52986</th>\n",
              "      <td>2019.0</td>\n",
              "      <td>7</td>\n",
              "      <td>28.0</td>\n",
              "      <td>4</td>\n",
              "      <td>23.2°N</td>\n",
              "      <td>86.5°E</td>\n",
              "      <td>22.0</td>\n",
              "    </tr>\n",
              "    <tr>\n",
              "      <th>52987</th>\n",
              "      <td>2019.0</td>\n",
              "      <td>7</td>\n",
              "      <td>29.0</td>\n",
              "      <td>4.3</td>\n",
              "      <td>32.8°N</td>\n",
              "      <td>76.4°E</td>\n",
              "      <td>20.0</td>\n",
              "    </tr>\n",
              "    <tr>\n",
              "      <th>52988</th>\n",
              "      <td>2019.0</td>\n",
              "      <td>7</td>\n",
              "      <td>31.0</td>\n",
              "      <td>3</td>\n",
              "      <td>20.0°N</td>\n",
              "      <td>72.8°E</td>\n",
              "      <td>10.0</td>\n",
              "    </tr>\n",
              "  </tbody>\n",
              "</table>\n",
              "<p>52989 rows × 7 columns</p>\n",
              "</div>"
            ],
            "text/plain": [
              "        YEAR  MONTH   DATE MAGNITUDE LAT (N) LONG (E)  DEPTH (km)\n",
              "0     -2474.0      0   0.0       7.5      71       24         0.0\n",
              "1      -325.0      0   0.0       7.5      71       24         0.0\n",
              "2        25.0      0   0.0       7.5    72.9    33.72         0.0\n",
              "3        26.0      5  10.0    6.1397    17.3     80.1         NaN\n",
              "4        26.0      5  10.0    6.1397      26       97        80.0\n",
              "...       ...    ...   ...       ...     ...      ...         ...\n",
              "52984  2019.0      7  28.0       3.2  32.8°N   78.4°E        10.0\n",
              "52985  2019.0      7  28.0       3.6  25.5°N   90.4°E        70.0\n",
              "52986  2019.0      7  28.0         4  23.2°N   86.5°E        22.0\n",
              "52987  2019.0      7  29.0       4.3  32.8°N   76.4°E        20.0\n",
              "52988  2019.0      7  31.0         3  20.0°N   72.8°E        10.0\n",
              "\n",
              "[52989 rows x 7 columns]"
            ]
          },
          "metadata": {
            "tags": []
          },
          "execution_count": 227
        }
      ]
    },
    {
      "cell_type": "code",
      "metadata": {
        "id": "TIoFKytmiH3C",
        "colab_type": "code",
        "colab": {
          "base_uri": "https://localhost:8080/",
          "height": 153
        },
        "outputId": "26ad9802-a756-4ae6-e8e7-7e3a0b0faf92"
      },
      "source": [
        "final_data_1.isnull().sum(axis = 0)"
      ],
      "execution_count": 228,
      "outputs": [
        {
          "output_type": "execute_result",
          "data": {
            "text/plain": [
              "YEAR             0\n",
              "MONTH           18\n",
              "DATE            57\n",
              "MAGNITUDE     2507\n",
              "LAT (N)          0\n",
              "LONG (E)         0\n",
              "DEPTH (km)    2178\n",
              "dtype: int64"
            ]
          },
          "metadata": {
            "tags": []
          },
          "execution_count": 228
        }
      ]
    },
    {
      "cell_type": "code",
      "metadata": {
        "id": "HPoODCXCiKYH",
        "colab_type": "code",
        "colab": {}
      },
      "source": [
        "final_data_1['MAGNITUDE'].fillna((final_data_1['MAGNITUDE'].mean()), inplace=True)"
      ],
      "execution_count": 229,
      "outputs": []
    },
    {
      "cell_type": "code",
      "metadata": {
        "id": "AxIN01uMisA6",
        "colab_type": "code",
        "colab": {}
      },
      "source": [
        "final_data_1['DEPTH (km)'].fillna((final_data_1['DEPTH (km)'].mean()), inplace=True)"
      ],
      "execution_count": 230,
      "outputs": []
    },
    {
      "cell_type": "code",
      "metadata": {
        "id": "wmlqCgYn3KY6",
        "colab_type": "code",
        "colab": {}
      },
      "source": [
        "final_data_1['MONTH ']=final_data_1['MONTH '].fillna(final_data_1['MONTH '].mode()[0])\n",
        "final_data_1['DATE']=final_data_1['DATE'].fillna(final_data_1['DATE'].mode()[0])"
      ],
      "execution_count": 231,
      "outputs": []
    },
    {
      "cell_type": "code",
      "metadata": {
        "id": "tIyvgbiwiu7b",
        "colab_type": "code",
        "colab": {
          "base_uri": "https://localhost:8080/",
          "height": 34
        },
        "outputId": "32671862-de84-4371-b933-f0eef6c6c9bc"
      },
      "source": [
        "latitude = final_data_1['LAT (N)'].tolist()\n",
        "latitude_1=[]\n",
        "for lat in latitude:\n",
        "  if(type(lat)==int):\n",
        "    latitude_1.append(float(lat))\n",
        "  elif(type(lat)==float):\n",
        "    latitude_1.append(lat)\n",
        "  elif(type(lat)==str):\n",
        "    s=''\n",
        "    if(lat[-1]=='S'):\n",
        "      # print(\"S wala\")\n",
        "      for char in lat:\n",
        "        if(char >= '0' and char <= '9'):\n",
        "          s = s+char\n",
        "        elif(char == '.'):\n",
        "          s = s+ char\n",
        "        else:\n",
        "          continue\n",
        "      if(lat[0]>='0' and lat[0]<='9'):\n",
        "        latitude_1.append(-1*float(s))\n",
        "      else:\n",
        "        # print(\"haa bhai\")\n",
        "        latitude_1.append(float(s))\n",
        "    else:\n",
        "      for char in lat:\n",
        "        if(char >= '0' and char <= '9'):\n",
        "          s = s+char\n",
        "        elif(char == '.'):\n",
        "          s = s+ char\n",
        "        else:\n",
        "          continue\n",
        "      # print(s)\n",
        "      if(lat[0]>='0' and lat[0]<='9'):\n",
        "        latitude_1.append(float(s))\n",
        "      else:\n",
        "        # print(\"minus \",-1*s)\n",
        "        latitude_1.append(-1*float(s))\n",
        "  \n",
        "\n",
        "\n",
        "\n",
        "print(len(latitude_1)) "
      ],
      "execution_count": 232,
      "outputs": [
        {
          "output_type": "stream",
          "text": [
            "52989\n"
          ],
          "name": "stdout"
        }
      ]
    },
    {
      "cell_type": "code",
      "metadata": {
        "id": "SwNFcvlKi33j",
        "colab_type": "code",
        "colab": {
          "base_uri": "https://localhost:8080/",
          "height": 34
        },
        "outputId": "b05733c2-fff9-4a11-e733-927a7e95bd39"
      },
      "source": [
        "longitude = final_data_1['LONG (E)'].tolist()\n",
        "longitude_1=[]\n",
        "for long in longitude:\n",
        "  if(type(long)==int):\n",
        "    longitude_1.append(float(long))\n",
        "  elif(type(long)==float):\n",
        "    longitude_1.append(long)\n",
        "  elif(type(long)==str):\n",
        "    s=''\n",
        "    if(long[-1]=='S'):\n",
        "      # print(\"S wala\")\n",
        "      for char in long:\n",
        "        if(char >= '0' and char <= '9'):\n",
        "          s = s+char\n",
        "        elif(char == '.'):\n",
        "          s = s+ char\n",
        "        else:\n",
        "          continue\n",
        "      if(long[0]>='0' and long[0]<='9'):\n",
        "        longitude_1.append(-1*float(s))\n",
        "      else:\n",
        "        # print(\"haa bhai\")\n",
        "        longitude_1.append(float(s))\n",
        "    else:\n",
        "      for char in long:\n",
        "        if(char >= '0' and char <= '9'):\n",
        "          s = s+char\n",
        "        elif(char == '.'):\n",
        "          s = s+ char\n",
        "        else:\n",
        "          continue\n",
        "      # print(s)\n",
        "      if(long[0]>='0' and long[0]<='9'):\n",
        "        longitude_1.append(float(s))\n",
        "      else:\n",
        "        # print(\"minus \",-1*s)\n",
        "        longitude_1.append(-1*float(s))\n",
        "  \n",
        "\n",
        "\n",
        "\n",
        "print(len(longitude_1)) "
      ],
      "execution_count": 233,
      "outputs": [
        {
          "output_type": "stream",
          "text": [
            "52989\n"
          ],
          "name": "stdout"
        }
      ]
    },
    {
      "cell_type": "code",
      "metadata": {
        "id": "TyUulLh04ucF",
        "colab_type": "code",
        "colab": {}
      },
      "source": [
        "import math\n",
        "date = final_data_1['DATE'].tolist()\n",
        "date_int =[]\n",
        "\n",
        "\n",
        "for dt in date:\n",
        "  date_int.append(int(dt))\n",
        "\n",
        "year = final_data_1['YEAR '].tolist()\n",
        "year_int =[]\n",
        "for yr in year:\n",
        "  year_int.append(int(yr))\n",
        "  \n",
        "\n",
        "month = final_data_1['MONTH '].tolist()\n",
        "# month_int=[]\n",
        "\n",
        "# for mt in month:\n",
        "#   month_int.append(int(mt))"
      ],
      "execution_count": 234,
      "outputs": []
    },
    {
      "cell_type": "code",
      "metadata": {
        "id": "DbY8xK2Gi6_P",
        "colab_type": "code",
        "colab": {
          "base_uri": "https://localhost:8080/",
          "height": 255
        },
        "outputId": "f404f69c-1868-4471-9abf-3caf8d015617"
      },
      "source": [
        "final_data_2 = final_data_1.drop(['LAT (N)','LONG (E)','DATE','YEAR ','MONTH '],axis=1)\n",
        "print(final_data_2)"
      ],
      "execution_count": 235,
      "outputs": [
        {
          "output_type": "stream",
          "text": [
            "       MAGNITUDE  DEPTH (km)\n",
            "0         7.5000    0.000000\n",
            "1         7.5000    0.000000\n",
            "2         7.5000    0.000000\n",
            "3         6.1397   45.569867\n",
            "4         6.1397   80.000000\n",
            "...          ...         ...\n",
            "52984     3.2000   10.000000\n",
            "52985     3.6000   70.000000\n",
            "52986     4.0000   22.000000\n",
            "52987     4.3000   20.000000\n",
            "52988     3.0000   10.000000\n",
            "\n",
            "[52989 rows x 2 columns]\n"
          ],
          "name": "stdout"
        }
      ]
    },
    {
      "cell_type": "code",
      "metadata": {
        "id": "PuPVcy4ii-0W",
        "colab_type": "code",
        "colab": {
          "base_uri": "https://localhost:8080/",
          "height": 493
        },
        "outputId": "343321dc-9426-4f01-b135-413a2e2e44ff"
      },
      "source": [
        "\n",
        "df_latitude = pd.DataFrame (latitude_1,columns=['latitude'])\n",
        "print(df_latitude)\n",
        "df_longitude = pd.DataFrame(longitude_1,columns=['longitude'])\n",
        "print(df_longitude)\n",
        "\n",
        "df_date = pd.DataFrame(date_int,columns=['date'])\n",
        "df_year = pd.DataFrame(year_int,columns=['years'])\n",
        "df_month = pd.DataFrame(month,columns=['month']) "
      ],
      "execution_count": 236,
      "outputs": [
        {
          "output_type": "stream",
          "text": [
            "       latitude\n",
            "0          71.0\n",
            "1          71.0\n",
            "2          72.9\n",
            "3          17.3\n",
            "4          26.0\n",
            "...         ...\n",
            "52984      32.8\n",
            "52985      25.5\n",
            "52986      23.2\n",
            "52987      32.8\n",
            "52988      20.0\n",
            "\n",
            "[52989 rows x 1 columns]\n",
            "       longitude\n",
            "0          24.00\n",
            "1          24.00\n",
            "2          33.72\n",
            "3          80.10\n",
            "4          97.00\n",
            "...          ...\n",
            "52984      78.40\n",
            "52985      90.40\n",
            "52986      86.50\n",
            "52987      76.40\n",
            "52988      72.80\n",
            "\n",
            "[52989 rows x 1 columns]\n"
          ],
          "name": "stdout"
        }
      ]
    },
    {
      "cell_type": "code",
      "metadata": {
        "id": "QAzz995fjEkP",
        "colab_type": "code",
        "colab": {
          "base_uri": "https://localhost:8080/",
          "height": 419
        },
        "outputId": "ce4b9db5-8545-4c6b-cc2a-47e4ee70d648"
      },
      "source": [
        "df11 = pd.concat([final_data_2,df_latitude],axis=1)\n",
        "df22 = pd.concat([df11,df_longitude],axis=1)\n",
        "df22"
      ],
      "execution_count": 237,
      "outputs": [
        {
          "output_type": "execute_result",
          "data": {
            "text/html": [
              "<div>\n",
              "<style scoped>\n",
              "    .dataframe tbody tr th:only-of-type {\n",
              "        vertical-align: middle;\n",
              "    }\n",
              "\n",
              "    .dataframe tbody tr th {\n",
              "        vertical-align: top;\n",
              "    }\n",
              "\n",
              "    .dataframe thead th {\n",
              "        text-align: right;\n",
              "    }\n",
              "</style>\n",
              "<table border=\"1\" class=\"dataframe\">\n",
              "  <thead>\n",
              "    <tr style=\"text-align: right;\">\n",
              "      <th></th>\n",
              "      <th>MAGNITUDE</th>\n",
              "      <th>DEPTH (km)</th>\n",
              "      <th>latitude</th>\n",
              "      <th>longitude</th>\n",
              "    </tr>\n",
              "  </thead>\n",
              "  <tbody>\n",
              "    <tr>\n",
              "      <th>0</th>\n",
              "      <td>7.5000</td>\n",
              "      <td>0.000000</td>\n",
              "      <td>71.0</td>\n",
              "      <td>24.00</td>\n",
              "    </tr>\n",
              "    <tr>\n",
              "      <th>1</th>\n",
              "      <td>7.5000</td>\n",
              "      <td>0.000000</td>\n",
              "      <td>71.0</td>\n",
              "      <td>24.00</td>\n",
              "    </tr>\n",
              "    <tr>\n",
              "      <th>2</th>\n",
              "      <td>7.5000</td>\n",
              "      <td>0.000000</td>\n",
              "      <td>72.9</td>\n",
              "      <td>33.72</td>\n",
              "    </tr>\n",
              "    <tr>\n",
              "      <th>3</th>\n",
              "      <td>6.1397</td>\n",
              "      <td>45.569867</td>\n",
              "      <td>17.3</td>\n",
              "      <td>80.10</td>\n",
              "    </tr>\n",
              "    <tr>\n",
              "      <th>4</th>\n",
              "      <td>6.1397</td>\n",
              "      <td>80.000000</td>\n",
              "      <td>26.0</td>\n",
              "      <td>97.00</td>\n",
              "    </tr>\n",
              "    <tr>\n",
              "      <th>...</th>\n",
              "      <td>...</td>\n",
              "      <td>...</td>\n",
              "      <td>...</td>\n",
              "      <td>...</td>\n",
              "    </tr>\n",
              "    <tr>\n",
              "      <th>52984</th>\n",
              "      <td>3.2000</td>\n",
              "      <td>10.000000</td>\n",
              "      <td>32.8</td>\n",
              "      <td>78.40</td>\n",
              "    </tr>\n",
              "    <tr>\n",
              "      <th>52985</th>\n",
              "      <td>3.6000</td>\n",
              "      <td>70.000000</td>\n",
              "      <td>25.5</td>\n",
              "      <td>90.40</td>\n",
              "    </tr>\n",
              "    <tr>\n",
              "      <th>52986</th>\n",
              "      <td>4.0000</td>\n",
              "      <td>22.000000</td>\n",
              "      <td>23.2</td>\n",
              "      <td>86.50</td>\n",
              "    </tr>\n",
              "    <tr>\n",
              "      <th>52987</th>\n",
              "      <td>4.3000</td>\n",
              "      <td>20.000000</td>\n",
              "      <td>32.8</td>\n",
              "      <td>76.40</td>\n",
              "    </tr>\n",
              "    <tr>\n",
              "      <th>52988</th>\n",
              "      <td>3.0000</td>\n",
              "      <td>10.000000</td>\n",
              "      <td>20.0</td>\n",
              "      <td>72.80</td>\n",
              "    </tr>\n",
              "  </tbody>\n",
              "</table>\n",
              "<p>52989 rows × 4 columns</p>\n",
              "</div>"
            ],
            "text/plain": [
              "       MAGNITUDE  DEPTH (km)  latitude  longitude\n",
              "0         7.5000    0.000000      71.0      24.00\n",
              "1         7.5000    0.000000      71.0      24.00\n",
              "2         7.5000    0.000000      72.9      33.72\n",
              "3         6.1397   45.569867      17.3      80.10\n",
              "4         6.1397   80.000000      26.0      97.00\n",
              "...          ...         ...       ...        ...\n",
              "52984     3.2000   10.000000      32.8      78.40\n",
              "52985     3.6000   70.000000      25.5      90.40\n",
              "52986     4.0000   22.000000      23.2      86.50\n",
              "52987     4.3000   20.000000      32.8      76.40\n",
              "52988     3.0000   10.000000      20.0      72.80\n",
              "\n",
              "[52989 rows x 4 columns]"
            ]
          },
          "metadata": {
            "tags": []
          },
          "execution_count": 237
        }
      ]
    },
    {
      "cell_type": "code",
      "metadata": {
        "id": "7hwhqRVTjI5j",
        "colab_type": "code",
        "colab": {}
      },
      "source": [
        "target_label=df22['MAGNITUDE']"
      ],
      "execution_count": 238,
      "outputs": []
    },
    {
      "cell_type": "code",
      "metadata": {
        "id": "ff2pcuAXjMd5",
        "colab_type": "code",
        "colab": {}
      },
      "source": [
        "target_label=pd.to_numeric(target_label)"
      ],
      "execution_count": 239,
      "outputs": []
    },
    {
      "cell_type": "code",
      "metadata": {
        "id": "oAiAVXDnrjpe",
        "colab_type": "code",
        "colab": {
          "base_uri": "https://localhost:8080/",
          "height": 221
        },
        "outputId": "94dc4486-0918-47ec-9bc8-9575125e31bd"
      },
      "source": [
        "print(target_label)"
      ],
      "execution_count": 240,
      "outputs": [
        {
          "output_type": "stream",
          "text": [
            "0        7.5000\n",
            "1        7.5000\n",
            "2        7.5000\n",
            "3        6.1397\n",
            "4        6.1397\n",
            "          ...  \n",
            "52984    3.2000\n",
            "52985    3.6000\n",
            "52986    4.0000\n",
            "52987    4.3000\n",
            "52988    3.0000\n",
            "Name: MAGNITUDE, Length: 52989, dtype: float64\n"
          ],
          "name": "stdout"
        }
      ]
    },
    {
      "cell_type": "code",
      "metadata": {
        "id": "q9hshkR7jPXB",
        "colab_type": "code",
        "colab": {}
      },
      "source": [
        "count=0\n",
        "for i in range(0,len(target_label)):\n",
        "    \n",
        "#     print(target_label.iloc[i])\n",
        "    if(target_label.iloc[i]<=4.5):\n",
        "        target_label.iloc[i]=0\n",
        "        # print(\"A \",target_label.iloc[i])\n",
        "    else:\n",
        "        target_label.iloc[i]=1\n",
        "        count=count+1\n",
        "        # print(\"T\",target_label.iloc[i])\n",
        "        \n",
        "# print(target_label)"
      ],
      "execution_count": 241,
      "outputs": []
    },
    {
      "cell_type": "code",
      "metadata": {
        "id": "6CfZp5uNjShF",
        "colab_type": "code",
        "colab": {}
      },
      "source": [
        "df22=df22.drop('MAGNITUDE',axis=1)"
      ],
      "execution_count": 242,
      "outputs": []
    },
    {
      "cell_type": "markdown",
      "metadata": {
        "id": "8GoMH6OMvfen",
        "colab_type": "text"
      },
      "source": [
        "## **USING LATITUDE,LONGITUDE,DEPTH AS FEATURE**"
      ]
    },
    {
      "cell_type": "code",
      "metadata": {
        "id": "BiTXeu-hjVVr",
        "colab_type": "code",
        "colab": {}
      },
      "source": [
        "from sklearn.model_selection import train_test_split\n",
        "X_train, X_test, y_train, y_test = train_test_split(df22, target_label, test_size=0.2, random_state=42)"
      ],
      "execution_count": 243,
      "outputs": []
    },
    {
      "cell_type": "markdown",
      "metadata": {
        "id": "oi2AJjiev8Hi",
        "colab_type": "text"
      },
      "source": [
        "# **KNN WITH K = 3**"
      ]
    },
    {
      "cell_type": "code",
      "metadata": {
        "id": "Khpf6iRYq4e3",
        "colab_type": "code",
        "colab": {
          "base_uri": "https://localhost:8080/",
          "height": 68
        },
        "outputId": "82ed3fe3-3eb3-404d-bc21-1d5c932e2fac"
      },
      "source": [
        "from sklearn.neighbors import KNeighborsClassifier\n",
        "\n",
        "model = KNeighborsClassifier(n_neighbors=3)\n",
        "\n",
        "# Train the model using the training sets\n",
        "model.fit(X_train,y_train)"
      ],
      "execution_count": 244,
      "outputs": [
        {
          "output_type": "execute_result",
          "data": {
            "text/plain": [
              "KNeighborsClassifier(algorithm='auto', leaf_size=30, metric='minkowski',\n",
              "                     metric_params=None, n_jobs=None, n_neighbors=3, p=2,\n",
              "                     weights='uniform')"
            ]
          },
          "metadata": {
            "tags": []
          },
          "execution_count": 244
        }
      ]
    },
    {
      "cell_type": "code",
      "metadata": {
        "id": "xP7fPrLsq7aQ",
        "colab_type": "code",
        "colab": {}
      },
      "source": [
        "predicted=model.predict(X_test)"
      ],
      "execution_count": 245,
      "outputs": []
    },
    {
      "cell_type": "code",
      "metadata": {
        "id": "6b15VnP8q-ZN",
        "colab_type": "code",
        "colab": {
          "base_uri": "https://localhost:8080/",
          "height": 391
        },
        "outputId": "fd6db4f7-346a-4954-dfee-edf88cdc55f2"
      },
      "source": [
        "from sklearn.metrics import accuracy_score,f1_score,recall_score,confusion_matrix,precision_score,classification_report\n",
        "# print(accuracy_score(predicted,y_test))\n",
        "accu_score = accuracy_score(predicted,y_test,normalize=True)\n",
        "print(accu_score) \n",
        "f11 = f1_score(predicted,y_test,average=None)\n",
        "re = recall_score(predicted,y_test,average='weighted')\n",
        "cm = confusion_matrix(predicted,y_test)\n",
        "pr_sc = precision_score(predicted,y_test,average='weighted')\n",
        "clrp = classification_report(predicted,y_test)\n",
        "print(\"**********KNN WITH K = 3 ***********\")\n",
        "print(\"accuracy score \",accu_score)\n",
        "print(\"********************\")\n",
        "print(\"f1 score \",f11)\n",
        "print(\"********************\")\n",
        "print(\"recall score \",re)\n",
        "print(\"********************\")\n",
        "print(\"confusion matrix \",cm)\n",
        "print(\"********************\")\n",
        "print(\"precision score \",pr_sc)\n",
        "print(\"********************\")\n",
        "print(\"classification report \",clrp)"
      ],
      "execution_count": 246,
      "outputs": [
        {
          "output_type": "stream",
          "text": [
            "0.6146442725042461\n",
            "**********KNN WITH K = 3 ***********\n",
            "accuracy score  0.6146442725042461\n",
            "********************\n",
            "f1 score  [0.62421789 0.6045701 ]\n",
            "********************\n",
            "recall score  0.6146442725042461\n",
            "********************\n",
            "confusion matrix  [[3392 2044]\n",
            " [2040 3122]]\n",
            "********************\n",
            "precision score  0.6146518632473564\n",
            "********************\n",
            "classification report                precision    recall  f1-score   support\n",
            "\n",
            "         0.0       0.62      0.62      0.62      5436\n",
            "         1.0       0.60      0.60      0.60      5162\n",
            "\n",
            "    accuracy                           0.61     10598\n",
            "   macro avg       0.61      0.61      0.61     10598\n",
            "weighted avg       0.61      0.61      0.61     10598\n",
            "\n"
          ],
          "name": "stdout"
        }
      ]
    },
    {
      "cell_type": "code",
      "metadata": {
        "id": "3VG-szN5joJG",
        "colab_type": "code",
        "colab": {}
      },
      "source": [
        "from sklearn.metrics import roc_curve, auc\n",
        "from sklearn.metrics import roc_auc_score"
      ],
      "execution_count": 247,
      "outputs": []
    },
    {
      "cell_type": "code",
      "metadata": {
        "id": "TeC7ETP6jtQX",
        "colab_type": "code",
        "colab": {
          "base_uri": "https://localhost:8080/",
          "height": 68
        },
        "outputId": "6ee3d7b2-7a3c-4478-c4f1-7a6acc87d441"
      },
      "source": [
        "y_test=y_test.to_numpy()\n",
        "fpr = dict()\n",
        "tpr = dict()\n",
        "roc_auc = dict()\n",
        "# for i in range(0,2):\n",
        "fpr, tpr,threshlod = roc_curve(y_test, predicted)\n",
        "roc_auc = auc(fpr, tpr)\n",
        "\n",
        "print(\"roc_auc \",roc_auc)\n",
        "print(\"fpr,tpr \",fpr,tpr)\n",
        "print(\"threshold \",threshlod)"
      ],
      "execution_count": 248,
      "outputs": [
        {
          "output_type": "stream",
          "text": [
            "roc_auc  0.6143918802958279\n",
            "fpr,tpr  [0.         0.37555228 1.        ] [0.         0.60433604 1.        ]\n",
            "threshold  [2. 1. 0.]\n"
          ],
          "name": "stdout"
        }
      ]
    },
    {
      "cell_type": "markdown",
      "metadata": {
        "id": "J8nBvljnwL2P",
        "colab_type": "text"
      },
      "source": [
        "# **KNN WITH K = 5**"
      ]
    },
    {
      "cell_type": "code",
      "metadata": {
        "id": "KA1JDMG5CXCd",
        "colab_type": "code",
        "colab": {
          "base_uri": "https://localhost:8080/",
          "height": 442
        },
        "outputId": "056b5383-ad00-497d-b79a-4f37deffc634"
      },
      "source": [
        "from sklearn.neighbors import KNeighborsClassifier\n",
        "\n",
        "model = KNeighborsClassifier(n_neighbors=5)\n",
        "\n",
        "# Train the model using the training sets\n",
        "model.fit(X_train,y_train)\n",
        "predicted=model.predict(X_test)\n",
        "from sklearn.metrics import accuracy_score\n",
        "# print(accuracy_score(predicted,y_test))\n",
        "accu_score = accuracy_score(predicted,y_test,normalize=True)\n",
        "print(accu_score) \n",
        "f11 = f1_score(predicted,y_test,average=None)\n",
        "re = recall_score(predicted,y_test,average='weighted')\n",
        "cm = confusion_matrix(predicted,y_test)\n",
        "pr_sc = precision_score(predicted,y_test,average='weighted')\n",
        "clrp = classification_report(predicted,y_test)\n",
        "print(\"**********KNN WITH K = 5***********\")\n",
        "print(\"accuracy score \",accu_score)\n",
        "print(\"********************\")\n",
        "print(\"f1 score \",f11)\n",
        "print(\"********************\")\n",
        "print(\"recall score \",re)\n",
        "print(\"********************\")\n",
        "print(\"confusion matrix \",cm)\n",
        "print(\"********************\")\n",
        "print(\"precision score \",pr_sc)\n",
        "print(\"********************\")\n",
        "print(\"classification report \",clrp)\n",
        "\n",
        "fpr_1 = dict()\n",
        "tpr_1 = dict()\n",
        "roc_auc_1 = dict()\n",
        "# for i in range(0,2):\n",
        "fpr_1, tpr_1,threshlod_1 = roc_curve(y_test, predicted)\n",
        "roc_auc_1 = auc(fpr_1, tpr_1)\n",
        "\n",
        "print(\"roc_auc \",roc_auc_1)\n",
        "print(\"fpr,tpr \",fpr_1,tpr_1)\n",
        "print(\"threshold \",threshlod_1)"
      ],
      "execution_count": 249,
      "outputs": [
        {
          "output_type": "stream",
          "text": [
            "0.6257784487639177\n",
            "**********KNN WITH K = 5***********\n",
            "accuracy score  0.6257784487639177\n",
            "********************\n",
            "f1 score  [0.6366801  0.61420233]\n",
            "********************\n",
            "recall score  0.6257784487639179\n",
            "********************\n",
            "confusion matrix  [[3475 2009]\n",
            " [1957 3157]]\n",
            "********************\n",
            "precision score  0.6259188577399756\n",
            "********************\n",
            "classification report                precision    recall  f1-score   support\n",
            "\n",
            "         0.0       0.64      0.63      0.64      5484\n",
            "         1.0       0.61      0.62      0.61      5114\n",
            "\n",
            "    accuracy                           0.63     10598\n",
            "   macro avg       0.63      0.63      0.63     10598\n",
            "weighted avg       0.63      0.63      0.63     10598\n",
            "\n",
            "roc_auc  0.6254193258059237\n",
            "fpr,tpr  [0.         0.36027246 1.        ] [0.         0.61111111 1.        ]\n",
            "threshold  [2. 1. 0.]\n"
          ],
          "name": "stdout"
        }
      ]
    },
    {
      "cell_type": "markdown",
      "metadata": {
        "id": "nfA_5Mv_wQa6",
        "colab_type": "text"
      },
      "source": [
        "# **KNN WITH K =7**"
      ]
    },
    {
      "cell_type": "code",
      "metadata": {
        "id": "hlTZ65L8jwKS",
        "colab_type": "code",
        "colab": {
          "base_uri": "https://localhost:8080/",
          "height": 442
        },
        "outputId": "c4c3c4fe-8756-4795-949d-79fe8bfff443"
      },
      "source": [
        "from sklearn.neighbors import KNeighborsClassifier\n",
        "\n",
        "model = KNeighborsClassifier(n_neighbors=7)\n",
        "\n",
        "# Train the model using the training sets\n",
        "model.fit(X_train,y_train)\n",
        "predicted=model.predict(X_test)\n",
        "from sklearn.metrics import accuracy_score\n",
        "# print(accuracy_score(predicted,y_test))\n",
        "accu_score = accuracy_score(predicted,y_test,normalize=True)\n",
        "print(accu_score) \n",
        "f11 = f1_score(predicted,y_test,average=None)\n",
        "re = recall_score(predicted,y_test,average='weighted')\n",
        "cm = confusion_matrix(predicted,y_test)\n",
        "pr_sc = precision_score(predicted,y_test,average='weighted')\n",
        "clrp = classification_report(predicted,y_test)\n",
        "print(\"**********KNN WITH K = 7 ***********\")\n",
        "print(\"accuracy score \",accu_score)\n",
        "print(\"********************\")\n",
        "print(\"f1 score \",f11)\n",
        "print(\"********************\")\n",
        "print(\"recall score \",re)\n",
        "print(\"********************\")\n",
        "print(\"confusion matrix \",cm)\n",
        "print(\"********************\")\n",
        "print(\"precision score \",pr_sc)\n",
        "print(\"********************\")\n",
        "print(\"classification report \",clrp)\n",
        "\n",
        "fpr_2 = dict()\n",
        "tpr_2 = dict()\n",
        "roc_auc_2 = dict()\n",
        "# for i in range(0,2):\n",
        "fpr_2, tpr_2,threshlod_2 = roc_curve(y_test, predicted)\n",
        "roc_auc_2 = auc(fpr_2, tpr_2)\n",
        "\n",
        "print(\"ROC_AUC \",roc_auc_2)\n",
        "print(\"FPR,TPR \",fpr_2,tpr_2)\n",
        "print(\"THRESHOLD \",threshlod_2)"
      ],
      "execution_count": 250,
      "outputs": [
        {
          "output_type": "stream",
          "text": [
            "0.6316286091715418\n",
            "**********KNN WITH K = 7 ***********\n",
            "accuracy score  0.6316286091715418\n",
            "********************\n",
            "f1 score  [0.6441852  0.61815336]\n",
            "********************\n",
            "recall score  0.6316286091715418\n",
            "********************\n",
            "confusion matrix  [[3534 2006]\n",
            " [1898 3160]]\n",
            "********************\n",
            "precision score  0.6320249957732524\n",
            "********************\n",
            "classification report                precision    recall  f1-score   support\n",
            "\n",
            "         0.0       0.65      0.64      0.64      5540\n",
            "         1.0       0.61      0.62      0.62      5058\n",
            "\n",
            "    accuracy                           0.63     10598\n",
            "   macro avg       0.63      0.63      0.63     10598\n",
            "weighted avg       0.63      0.63      0.63     10598\n",
            "\n",
            "ROC_AUC  0.631140466412028\n",
            "FPR,TPR  [0.        0.3494109 1.       ] [0.         0.61169183 1.        ]\n",
            "THRESHOLD  [2. 1. 0.]\n"
          ],
          "name": "stdout"
        }
      ]
    },
    {
      "cell_type": "code",
      "metadata": {
        "id": "hjAw0NSnG8t-",
        "colab_type": "code",
        "colab": {}
      },
      "source": [
        ""
      ],
      "execution_count": 250,
      "outputs": []
    },
    {
      "cell_type": "markdown",
      "metadata": {
        "id": "RVr3fli4wae6",
        "colab_type": "text"
      },
      "source": [
        "# **ROC FOR DIFFERENT VALUES OF K**"
      ]
    },
    {
      "cell_type": "markdown",
      "metadata": {
        "id": "VtRWxfEGFA47",
        "colab_type": "text"
      },
      "source": [
        "AUC - ROC curve is a performance measurement for classification problem at various thresholds settings. ROC is a probability curve and AUC represents degree or measure of separability. It tells how much model is capable of distinguishing between classes. Higher the AUC, better the model is at predicting 0s as 0s and 1s as 1s. By analogy, Higher the AUC, better the model is at distinguishing between patients with disease and no disease.\n",
        "\n",
        "**According to the below present ROC curve for k=7, AUC is 0.631 it means there is 63% chance that model will be able to distinguish between positive class and negative class**."
      ]
    },
    {
      "cell_type": "code",
      "metadata": {
        "id": "FPiHd2tpjz0G",
        "colab_type": "code",
        "colab": {
          "base_uri": "https://localhost:8080/",
          "height": 295
        },
        "outputId": "a17c99d6-7a9f-4ef4-9fcd-49d56234ca74"
      },
      "source": [
        "import matplotlib.pyplot as plt\n",
        "\n",
        "plt.figure()\n",
        "lw = 2\n",
        "plt.plot(fpr, tpr, color='darkorange',\n",
        "         lw=lw, label='ROC curve for k=3(area = %0.3f)' % roc_auc)\n",
        "\n",
        "plt.plot(fpr_1, tpr_1, color='darkgreen',\n",
        "         lw=lw, label='ROC curve for k=5(area = %0.3f)' % roc_auc_1)\n",
        "\n",
        "plt.plot(fpr_2, tpr_2, color='magenta',\n",
        "         lw=lw, label='ROC curve  for k=7(area = %0.3f)' % roc_auc_2)\n",
        "plt.plot([0, 1], [0, 1], color='navy', lw=lw, linestyle='--')\n",
        "plt.xlim([0.0, 1.0])\n",
        "plt.ylim([0.0, 1.05])\n",
        "plt.xlabel('False Positive Rate')\n",
        "plt.ylabel('True Positive Rate')\n",
        "plt.title('Receiver operating characteristic example')\n",
        "plt.legend(loc=\"lower right\")\n",
        "plt.show()"
      ],
      "execution_count": 251,
      "outputs": [
        {
          "output_type": "display_data",
          "data": {
            "image/png": "[encoded data removed]",
            "text/plain": [
              "<Figure size 432x288 with 1 Axes>"
            ]
          },
          "metadata": {
            "tags": [],
            "needs_background": "light"
          }
        }
      ]
    },
    {
      "cell_type": "markdown",
      "metadata": {
        "id": "rRMi75qewYXn",
        "colab_type": "text"
      },
      "source": [
        "# **DECISION TREE CLASSIFIER WITH DEPTH =5**"
      ]
    },
    {
      "cell_type": "code",
      "metadata": {
        "id": "FnK7x5owrBI1",
        "colab_type": "code",
        "colab": {}
      },
      "source": [
        "from sklearn.tree import DecisionTreeClassifier\n",
        "from sklearn import tree\n",
        "clf = DecisionTreeClassifier(random_state=42,max_depth=5)"
      ],
      "execution_count": 252,
      "outputs": []
    },
    {
      "cell_type": "code",
      "metadata": {
        "id": "orFtfpcmvrUn",
        "colab_type": "code",
        "colab": {
          "base_uri": "https://localhost:8080/",
          "height": 34
        },
        "outputId": "0f39031b-de5a-4f15-da76-312f268b6d95"
      },
      "source": [
        "clf = clf.fit(X_train, y_train)\n",
        "prefict=clf.predict(X_test)\n",
        "accuracy_score(prefict,y_test)\n",
        "# tree.plot_tree(clf) "
      ],
      "execution_count": 253,
      "outputs": [
        {
          "output_type": "execute_result",
          "data": {
            "text/plain": [
              "0.655689752783544"
            ]
          },
          "metadata": {
            "tags": []
          },
          "execution_count": 253
        }
      ]
    },
    {
      "cell_type": "code",
      "metadata": {
        "id": "bIjhGzkNMMVF",
        "colab_type": "code",
        "colab": {
          "base_uri": "https://localhost:8080/",
          "height": 442
        },
        "outputId": "7bc261a4-258f-4bc9-9828-79ce5406c482"
      },
      "source": [
        "accu_score = accuracy_score(prefict,y_test)\n",
        "print(accu_score) \n",
        "f11 = f1_score(prefict,y_test,average=None)\n",
        "re = recall_score(prefict,y_test,average='weighted')\n",
        "cm = confusion_matrix(prefict,y_test)\n",
        "pr_sc = precision_score(prefict,y_test,average='weighted')\n",
        "clrp = classification_report(prefict,y_test)\n",
        "print(\"**********DECISION TREE WITH DEPTH = 5 ***********\")\n",
        "print(\"accuracy score \",accu_score)\n",
        "print(\"********************\")\n",
        "print(\"f1 score \",f11)\n",
        "print(\"********************\")\n",
        "print(\"recall score \",re)\n",
        "print(\"********************\")\n",
        "print(\"confusion matrix \",cm)\n",
        "print(\"********************\")\n",
        "print(\"precision score \",pr_sc)\n",
        "print(\"********************\")\n",
        "print(\"classification report \",clrp)\n",
        "\n",
        "fpr = dict()\n",
        "tpr = dict()\n",
        "roc_auc = dict()\n",
        "# for i in range(0,2):\n",
        "fpr, tpr,threshlod = roc_curve(prefict,y_test)\n",
        "roc_auc = auc(fpr, tpr)\n",
        "\n",
        "print(\"ROC_AUC \",roc_auc)\n",
        "print(\"FPR,TPR \",fpr,tpr)\n",
        "print(\"THRESHOLD \",threshlod)"
      ],
      "execution_count": 254,
      "outputs": [
        {
          "output_type": "stream",
          "text": [
            "0.655689752783544\n",
            "**********DECISION TREE WITH DEPTH = 5 ***********\n",
            "accuracy score  0.655689752783544\n",
            "********************\n",
            "f1 score  [0.68431525 0.62135519]\n",
            "********************\n",
            "recall score  0.655689752783544\n",
            "********************\n",
            "confusion matrix  [[3955 2172]\n",
            " [1477 2994]]\n",
            "********************\n",
            "precision score  0.6654303850621966\n",
            "********************\n",
            "classification report                precision    recall  f1-score   support\n",
            "\n",
            "         0.0       0.73      0.65      0.68      6127\n",
            "         1.0       0.58      0.67      0.62      4471\n",
            "\n",
            "    accuracy                           0.66     10598\n",
            "   macro avg       0.65      0.66      0.65     10598\n",
            "weighted avg       0.67      0.66      0.66     10598\n",
            "\n",
            "ROC_AUC  0.6575761785953378\n",
            "FPR,TPR  [0.         0.35449649 1.        ] [0.         0.66964885 1.        ]\n",
            "THRESHOLD  [2. 1. 0.]\n"
          ],
          "name": "stdout"
        }
      ]
    },
    {
      "cell_type": "markdown",
      "metadata": {
        "id": "UpSC7SI0wq5a",
        "colab_type": "text"
      },
      "source": [
        "# **DECISION TREE CLASSIFIER WITH DEPTH = 7**"
      ]
    },
    {
      "cell_type": "code",
      "metadata": {
        "id": "v-Bcxh9DvvRS",
        "colab_type": "code",
        "colab": {
          "base_uri": "https://localhost:8080/",
          "height": 442
        },
        "outputId": "72dbb179-7a9f-4c59-e20e-d28ebf8f840a"
      },
      "source": [
        "clf = DecisionTreeClassifier(random_state=42,max_depth=7)\n",
        "clf = clf.fit(X_train, y_train)\n",
        "prefict=clf.predict(X_test)\n",
        "accuracy_score(prefict,y_test)\n",
        "# tree.plot_tree(clf) \n",
        "\n",
        "\n",
        "accu_score = accuracy_score(prefict,y_test)\n",
        "print(accu_score) \n",
        "f11 = f1_score(prefict,y_test,average=None)\n",
        "re = recall_score(prefict,y_test,average='weighted')\n",
        "cm = confusion_matrix(prefict,y_test)\n",
        "pr_sc = precision_score(prefict,y_test,average='weighted')\n",
        "clrp = classification_report(prefict,y_test)\n",
        "print(\"**********DECISION TREE WITH DEPTH = 7 ***********\")\n",
        "print(\"accuracy score \",accu_score)\n",
        "print(\"********************\")\n",
        "print(\"f1 score \",f11)\n",
        "print(\"********************\")\n",
        "print(\"recall score \",re)\n",
        "print(\"********************\")\n",
        "print(\"confusion matrix \",cm)\n",
        "print(\"********************\")\n",
        "print(\"precision score \",pr_sc)\n",
        "print(\"********************\")\n",
        "print(\"classification report \",clrp)\n",
        "\n",
        "fpr_1 = dict()\n",
        "tpr_1 = dict()\n",
        "roc_auc_1 = dict()\n",
        "# for i in range(0,2):\n",
        "fpr_1, tpr_1,threshlod_1 = roc_curve(prefict,y_test)\n",
        "roc_auc_1 = auc(fpr_1, tpr_1)\n",
        "\n",
        "print(\"ROC_AUC \",roc_auc_1)\n",
        "print(\"FPR,TPR \",fpr_1,tpr_1)\n",
        "print(\"THRESHOLD \",threshlod_1)"
      ],
      "execution_count": 255,
      "outputs": [
        {
          "output_type": "stream",
          "text": [
            "0.6539913191168145\n",
            "**********DECISION TREE WITH DEPTH = 7 ***********\n",
            "accuracy score  0.6539913191168145\n",
            "********************\n",
            "f1 score  [0.6676937  0.63911032]\n",
            "********************\n",
            "recall score  0.6539913191168145\n",
            "********************\n",
            "confusion matrix  [[3684 1919]\n",
            " [1748 3247]]\n",
            "********************\n",
            "precision score  0.6547927590086261\n",
            "********************\n",
            "classification report                precision    recall  f1-score   support\n",
            "\n",
            "         0.0       0.68      0.66      0.67      5603\n",
            "         1.0       0.63      0.65      0.64      4995\n",
            "\n",
            "    accuracy                           0.65     10598\n",
            "   macro avg       0.65      0.65      0.65     10598\n",
            "weighted avg       0.65      0.65      0.65     10598\n",
            "\n",
            "ROC_AUC  0.6537774790675023\n",
            "FPR,TPR  [0.         0.34249509 1.        ] [0.         0.65005005 1.        ]\n",
            "THRESHOLD  [2. 1. 0.]\n"
          ],
          "name": "stdout"
        }
      ]
    },
    {
      "cell_type": "markdown",
      "metadata": {
        "id": "szTc45cxw01k",
        "colab_type": "text"
      },
      "source": [
        "# **DECISION TREE CLASSIFIER WITH DEPTH =3**"
      ]
    },
    {
      "cell_type": "code",
      "metadata": {
        "id": "iOsrNWxujU0a",
        "colab_type": "code",
        "colab": {
          "base_uri": "https://localhost:8080/",
          "height": 442
        },
        "outputId": "11c4568a-1f4f-42df-cd66-2940c579eeee"
      },
      "source": [
        "clf = DecisionTreeClassifier(random_state=42,max_depth=3)\n",
        "clf = clf.fit(X_train, y_train)\n",
        "prefict=clf.predict(X_test)\n",
        "accuracy_score(prefict,y_test)\n",
        "# tree.plot_tree(clf) \n",
        "\n",
        "\n",
        "accu_score = accuracy_score(prefict,y_test)\n",
        "print(accu_score) \n",
        "f11 = f1_score(prefict,y_test,average=None)\n",
        "re = recall_score(prefict,y_test,average='weighted')\n",
        "cm = confusion_matrix(prefict,y_test)\n",
        "pr_sc = precision_score(prefict,y_test,average='weighted')\n",
        "clrp = classification_report(prefict,y_test)\n",
        "print(\"**********DECISION TREE WITH DEPTH = 3 ***********\")\n",
        "print(\"accuracy score \",accu_score)\n",
        "print(\"********************\")\n",
        "print(\"f1 score \",f11)\n",
        "print(\"********************\")\n",
        "print(\"recall score \",re)\n",
        "print(\"********************\")\n",
        "print(\"confusion matrix \",cm)\n",
        "print(\"********************\")\n",
        "print(\"precision score \",pr_sc)\n",
        "print(\"********************\")\n",
        "print(\"classification report \",clrp)\n",
        "\n",
        "fpr_2 = dict()\n",
        "tpr_2 = dict()\n",
        "roc_auc_2 = dict()\n",
        "# for i in range(0,2):\n",
        "fpr_2, tpr_2,threshlod_2 = roc_curve(prefict,y_test)\n",
        "roc_auc_2 = auc(fpr_2, tpr_2)\n",
        "\n",
        "print(\"ROC_AUC \",roc_auc_2)\n",
        "print(\"FPR,TPR \",fpr_2,tpr_2)\n",
        "print(\"THRESHOLD \",threshlod_2)"
      ],
      "execution_count": 256,
      "outputs": [
        {
          "output_type": "stream",
          "text": [
            "0.6323834685789772\n",
            "**********DECISION TREE WITH DEPTH = 3 ***********\n",
            "accuracy score  0.6323834685789772\n",
            "********************\n",
            "f1 score  [0.64250321 0.62167411]\n",
            "********************\n",
            "recall score  0.6323834685789772\n",
            "********************\n",
            "confusion matrix  [[3501 1965]\n",
            " [1931 3201]]\n",
            "********************\n",
            "precision score  0.6324633055452709\n",
            "********************\n",
            "classification report                precision    recall  f1-score   support\n",
            "\n",
            "         0.0       0.64      0.64      0.64      5466\n",
            "         1.0       0.62      0.62      0.62      5132\n",
            "\n",
            "    accuracy                           0.63     10598\n",
            "   macro avg       0.63      0.63      0.63     10598\n",
            "weighted avg       0.63      0.63      0.63     10598\n",
            "\n",
            "ROC_AUC  0.632119188441607\n",
            "FPR,TPR  [0.         0.35949506 1.        ] [0.         0.62373344 1.        ]\n",
            "THRESHOLD  [2. 1. 0.]\n"
          ],
          "name": "stdout"
        }
      ]
    },
    {
      "cell_type": "markdown",
      "metadata": {
        "id": "2arPtpPYxA27",
        "colab_type": "text"
      },
      "source": [
        "# **ROC CURVE FOR DIFFERENT PRE-PRUNE DEPTH**"
      ]
    },
    {
      "cell_type": "markdown",
      "metadata": {
        "id": "4sHO0FVfF8Fg",
        "colab_type": "text"
      },
      "source": [
        "According to the below present ROC curve for pre-prune depth=5, AUC is 0.658 it means there is 65.8% chance that model will be able to distinguish between positive class and negative class."
      ]
    },
    {
      "cell_type": "code",
      "metadata": {
        "id": "tR5P366AjYLo",
        "colab_type": "code",
        "colab": {
          "base_uri": "https://localhost:8080/",
          "height": 295
        },
        "outputId": "19874c92-0971-4fe1-a9ce-52e2df6c12aa"
      },
      "source": [
        "import matplotlib.pyplot as plt\n",
        "\n",
        "plt.figure()\n",
        "lw = 2\n",
        "plt.plot(fpr, tpr, color='darkorange',\n",
        "         lw=lw, label='ROC curve for DEPTH=5(area = %0.3f)' % roc_auc)\n",
        "\n",
        "plt.plot(fpr_1, tpr_1, color='darkgreen',\n",
        "         lw=lw, label='ROC curve for DEPTH=7(area = %0.3f)' % roc_auc_1)\n",
        "\n",
        "plt.plot(fpr_2, tpr_2, color='magenta',\n",
        "         lw=lw, label='ROC curve  for DEPTH=3(area = %0.3f)' % roc_auc_2)\n",
        "plt.plot([0, 1], [0, 1], color='navy', lw=lw, linestyle='--')\n",
        "plt.xlim([0.0, 1.0])\n",
        "plt.ylim([0.0, 1.05])\n",
        "plt.xlabel('False Positive Rate')\n",
        "plt.ylabel('True Positive Rate')\n",
        "plt.title('Receiver operating characteristic example')\n",
        "plt.legend(loc=\"lower right\")\n",
        "plt.show()"
      ],
      "execution_count": 257,
      "outputs": [
        {
          "output_type": "display_data",
          "data": {
            "image/png": "[encoded data removed]",
            "text/plain": [
              "<Figure size 432x288 with 1 Axes>"
            ]
          },
          "metadata": {
            "tags": [],
            "needs_background": "light"
          }
        }
      ]
    },
    {
      "cell_type": "markdown",
      "metadata": {
        "id": "Zo9BGWhqkBeS",
        "colab_type": "text"
      },
      "source": [
        "# **Using Year,month,date,latitude,longitude,depth as features**"
      ]
    },
    {
      "cell_type": "code",
      "metadata": {
        "id": "Bf_IYcnpyfWk",
        "colab_type": "code",
        "colab": {
          "base_uri": "https://localhost:8080/",
          "height": 255
        },
        "outputId": "1b8f6efb-7705-4384-8035-21c28baec2d8"
      },
      "source": [
        "df33 = pd.concat([df22,df_year],axis=1)\n",
        "df44 = pd.concat([df33,df_date],axis=1)\n",
        "df55 = pd.concat([df44,df_month],axis=1)\n",
        "print(df55)"
      ],
      "execution_count": 258,
      "outputs": [
        {
          "output_type": "stream",
          "text": [
            "       DEPTH (km)  latitude  longitude  years  date month\n",
            "0        0.000000      71.0      24.00  -2474     0     0\n",
            "1        0.000000      71.0      24.00   -325     0     0\n",
            "2        0.000000      72.9      33.72     25     0     0\n",
            "3       45.569867      17.3      80.10     26    10     5\n",
            "4       80.000000      26.0      97.00     26    10     5\n",
            "...           ...       ...        ...    ...   ...   ...\n",
            "52984   10.000000      32.8      78.40   2019    28     7\n",
            "52985   70.000000      25.5      90.40   2019    28     7\n",
            "52986   22.000000      23.2      86.50   2019    28     7\n",
            "52987   20.000000      32.8      76.40   2019    29     7\n",
            "52988   10.000000      20.0      72.80   2019    31     7\n",
            "\n",
            "[52989 rows x 6 columns]\n"
          ],
          "name": "stdout"
        }
      ]
    },
    {
      "cell_type": "code",
      "metadata": {
        "id": "1kFV_OCF61My",
        "colab_type": "code",
        "colab": {}
      },
      "source": [
        "from sklearn.model_selection import train_test_split\n",
        "X_train, X_test, y_train, y_test = train_test_split(df44, target_label, test_size=0.2, random_state=42)"
      ],
      "execution_count": 259,
      "outputs": []
    },
    {
      "cell_type": "markdown",
      "metadata": {
        "id": "Eq2TJIH0xaJn",
        "colab_type": "text"
      },
      "source": [
        "# **KNN CLASSIFIER WITH K = 3,5,7**"
      ]
    },
    {
      "cell_type": "code",
      "metadata": {
        "id": "HFL34MdV668L",
        "colab_type": "code",
        "colab": {
          "base_uri": "https://localhost:8080/",
          "height": 68
        },
        "outputId": "7ddcab94-c4de-4905-9f0e-0b93d9c6316a"
      },
      "source": [
        "from sklearn.neighbors import KNeighborsClassifier\n",
        "\n",
        "model = KNeighborsClassifier(n_neighbors=3)\n",
        "\n",
        "# Train the model using the training sets\n",
        "model.fit(X_train,y_train)"
      ],
      "execution_count": 260,
      "outputs": [
        {
          "output_type": "execute_result",
          "data": {
            "text/plain": [
              "KNeighborsClassifier(algorithm='auto', leaf_size=30, metric='minkowski',\n",
              "                     metric_params=None, n_jobs=None, n_neighbors=3, p=2,\n",
              "                     weights='uniform')"
            ]
          },
          "metadata": {
            "tags": []
          },
          "execution_count": 260
        }
      ]
    },
    {
      "cell_type": "code",
      "metadata": {
        "id": "GHT6XpwF6-cq",
        "colab_type": "code",
        "colab": {}
      },
      "source": [
        "predicted=model.predict(X_test)"
      ],
      "execution_count": 261,
      "outputs": []
    },
    {
      "cell_type": "code",
      "metadata": {
        "id": "O_hyv_xUUiT9",
        "colab_type": "code",
        "colab": {
          "base_uri": "https://localhost:8080/",
          "height": 391
        },
        "outputId": "56c052e8-5528-45b6-bde9-052b6b549740"
      },
      "source": [
        "accu_score = accuracy_score(predicted,y_test,normalize=True)\n",
        "print(accu_score) \n",
        "f11 = f1_score(predicted,y_test,average=None)\n",
        "re = recall_score(predicted,y_test,average='weighted')\n",
        "cm = confusion_matrix(predicted,y_test)\n",
        "pr_sc = precision_score(predicted,y_test,average='weighted')\n",
        "clrp = classification_report(predicted,y_test)\n",
        "print(\"**********KNN WITH K = 3 ***********\")\n",
        "print(\"accuracy score \",accu_score)\n",
        "print(\"********************\")\n",
        "print(\"f1 score \",f11)\n",
        "print(\"********************\")\n",
        "print(\"recall score \",re)\n",
        "print(\"********************\")\n",
        "print(\"confusion matrix \",cm)\n",
        "print(\"********************\")\n",
        "print(\"precision score \",pr_sc)\n",
        "print(\"********************\")\n",
        "print(\"classification report \",clrp)"
      ],
      "execution_count": 262,
      "outputs": [
        {
          "output_type": "stream",
          "text": [
            "0.6750330250990753\n",
            "**********KNN WITH K = 3 ***********\n",
            "accuracy score  0.6750330250990753\n",
            "********************\n",
            "f1 score  [0.68542199 0.66393443]\n",
            "********************\n",
            "recall score  0.6750330250990753\n",
            "********************\n",
            "confusion matrix  [[3752 1764]\n",
            " [1680 3402]]\n",
            "********************\n",
            "precision score  0.6752881246825788\n",
            "********************\n",
            "classification report                precision    recall  f1-score   support\n",
            "\n",
            "         0.0       0.69      0.68      0.69      5516\n",
            "         1.0       0.66      0.67      0.66      5082\n",
            "\n",
            "    accuracy                           0.68     10598\n",
            "   macro avg       0.67      0.67      0.67     10598\n",
            "weighted avg       0.68      0.68      0.68     10598\n",
            "\n"
          ],
          "name": "stdout"
        }
      ]
    },
    {
      "cell_type": "code",
      "metadata": {
        "id": "-psaBwp2Ujvq",
        "colab_type": "code",
        "colab": {
          "base_uri": "https://localhost:8080/",
          "height": 68
        },
        "outputId": "bfd68438-453c-47db-a9ed-7b9b6e22ef5f"
      },
      "source": [
        "y_test=y_test.to_numpy()\n",
        "fpr = dict()\n",
        "tpr = dict()\n",
        "roc_auc = dict()\n",
        "# for i in range(0,2):\n",
        "fpr, tpr,threshlod = roc_curve(y_test, predicted)\n",
        "roc_auc = auc(fpr, tpr)\n",
        "\n",
        "print(\"roc_auc \",roc_auc)\n",
        "print(\"fpr,tpr \",fpr,tpr)\n",
        "print(\"threshold \",threshlod)"
      ],
      "execution_count": 263,
      "outputs": [
        {
          "output_type": "stream",
          "text": [
            "roc_auc  0.6746291174251949\n",
            "fpr,tpr  [0.         0.30927835 1.        ] [0.         0.65853659 1.        ]\n",
            "threshold  [2. 1. 0.]\n"
          ],
          "name": "stdout"
        }
      ]
    },
    {
      "cell_type": "code",
      "metadata": {
        "id": "N_g3imzVUwe-",
        "colab_type": "code",
        "colab": {
          "base_uri": "https://localhost:8080/",
          "height": 442
        },
        "outputId": "f7c226cd-7a55-4d82-aed6-b43247aae420"
      },
      "source": [
        "from sklearn.neighbors import KNeighborsClassifier\n",
        "\n",
        "model = KNeighborsClassifier(n_neighbors=5)\n",
        "\n",
        "# Train the model using the training sets\n",
        "model.fit(X_train,y_train)\n",
        "predicted=model.predict(X_test)\n",
        "from sklearn.metrics import accuracy_score\n",
        "# print(accuracy_score(predicted,y_test))\n",
        "accu_score = accuracy_score(predicted,y_test,normalize=True)\n",
        "print(accu_score) \n",
        "f11 = f1_score(predicted,y_test,average=None)\n",
        "re = recall_score(predicted,y_test,average='weighted')\n",
        "cm = confusion_matrix(predicted,y_test)\n",
        "pr_sc = precision_score(predicted,y_test,average='weighted')\n",
        "clrp = classification_report(predicted,y_test)\n",
        "print(\"**********KNN WITH K = 5***********\")\n",
        "print(\"accuracy score \",accu_score)\n",
        "print(\"********************\")\n",
        "print(\"f1 score \",f11)\n",
        "print(\"********************\")\n",
        "print(\"recall score \",re)\n",
        "print(\"********************\")\n",
        "print(\"confusion matrix \",cm)\n",
        "print(\"********************\")\n",
        "print(\"precision score \",pr_sc)\n",
        "print(\"********************\")\n",
        "print(\"classification report \",clrp)\n",
        "\n",
        "fpr_1 = dict()\n",
        "tpr_1 = dict()\n",
        "roc_auc_1 = dict()\n",
        "# for i in range(0,2):\n",
        "fpr_1, tpr_1,threshlod_1 = roc_curve(y_test, predicted)\n",
        "roc_auc_1 = auc(fpr_1, tpr_1)\n",
        "\n",
        "print(\"roc_auc \",roc_auc_1)\n",
        "print(\"fpr,tpr \",fpr_1,tpr_1)\n",
        "print(\"threshold \",threshlod_1)"
      ],
      "execution_count": 264,
      "outputs": [
        {
          "output_type": "stream",
          "text": [
            "0.6839969805623702\n",
            "**********KNN WITH K = 5***********\n",
            "accuracy score  0.6839969805623702\n",
            "********************\n",
            "f1 score  [0.69579435 0.67124767]\n",
            "********************\n",
            "recall score  0.6839969805623702\n",
            "********************\n",
            "confusion matrix  [[3830 1747]\n",
            " [1602 3419]]\n",
            "********************\n",
            "precision score  0.684588769767172\n",
            "********************\n",
            "classification report                precision    recall  f1-score   support\n",
            "\n",
            "         0.0       0.71      0.69      0.70      5577\n",
            "         1.0       0.66      0.68      0.67      5021\n",
            "\n",
            "    accuracy                           0.68     10598\n",
            "   macro avg       0.68      0.68      0.68     10598\n",
            "weighted avg       0.68      0.68      0.68     10598\n",
            "\n",
            "roc_auc  0.6834541670158969\n",
            "fpr,tpr  [0.       0.294919 1.      ] [0.         0.66182733 1.        ]\n",
            "threshold  [2. 1. 0.]\n"
          ],
          "name": "stdout"
        }
      ]
    },
    {
      "cell_type": "code",
      "metadata": {
        "id": "MUA2xqBzVIi8",
        "colab_type": "code",
        "colab": {
          "base_uri": "https://localhost:8080/",
          "height": 442
        },
        "outputId": "2c38a6d6-3fb5-4dc6-f157-e9dba026a3d2"
      },
      "source": [
        "from sklearn.neighbors import KNeighborsClassifier\n",
        "\n",
        "model = KNeighborsClassifier(n_neighbors=7)\n",
        "\n",
        "# Train the model using the training sets\n",
        "model.fit(X_train,y_train)\n",
        "predicted=model.predict(X_test)\n",
        "from sklearn.metrics import accuracy_score\n",
        "# print(accuracy_score(predicted,y_test))\n",
        "accu_score = accuracy_score(predicted,y_test,normalize=True)\n",
        "print(accu_score) \n",
        "f11 = f1_score(predicted,y_test,average=None)\n",
        "re = recall_score(predicted,y_test,average='weighted')\n",
        "cm = confusion_matrix(predicted,y_test)\n",
        "pr_sc = precision_score(predicted,y_test,average='weighted')\n",
        "clrp = classification_report(predicted,y_test)\n",
        "print(\"**********KNN WITH K = 7 ***********\")\n",
        "print(\"accuracy score \",accu_score)\n",
        "print(\"********************\")\n",
        "print(\"f1 score \",f11)\n",
        "print(\"********************\")\n",
        "print(\"recall score \",re)\n",
        "print(\"********************\")\n",
        "print(\"confusion matrix \",cm)\n",
        "print(\"********************\")\n",
        "print(\"precision score \",pr_sc)\n",
        "print(\"********************\")\n",
        "print(\"classification report \",clrp)\n",
        "\n",
        "fpr_2 = dict()\n",
        "tpr_2 = dict()\n",
        "roc_auc_2 = dict()\n",
        "# for i in range(0,2):\n",
        "fpr_2, tpr_2,threshlod_2 = roc_curve(y_test, predicted)\n",
        "roc_auc_2 = auc(fpr_2, tpr_2)\n",
        "\n",
        "print(\"ROC_AUC \",roc_auc_2)\n",
        "print(\"FPR,TPR \",fpr_2,tpr_2)\n",
        "print(\"THRESHOLD \",threshlod_2)"
      ],
      "execution_count": 265,
      "outputs": [
        {
          "output_type": "stream",
          "text": [
            "0.6894697112662767\n",
            "**********KNN WITH K = 7 ***********\n",
            "accuracy score  0.6894697112662767\n",
            "********************\n",
            "f1 score  [0.70165896 0.67624201]\n",
            "********************\n",
            "recall score  0.6894697112662767\n",
            "********************\n",
            "confusion matrix  [[3870 1729]\n",
            " [1562 3437]]\n",
            "********************\n",
            "precision score  0.6902124203441499\n",
            "********************\n",
            "classification report                precision    recall  f1-score   support\n",
            "\n",
            "         0.0       0.71      0.69      0.70      5599\n",
            "         1.0       0.67      0.69      0.68      4999\n",
            "\n",
            "    accuracy                           0.69     10598\n",
            "   macro avg       0.69      0.69      0.69     10598\n",
            "weighted avg       0.69      0.69      0.69     10598\n",
            "\n",
            "ROC_AUC  0.6888782124198267\n",
            "FPR,TPR  [0.         0.28755523 1.        ] [0.         0.66531165 1.        ]\n",
            "THRESHOLD  [2. 1. 0.]\n"
          ],
          "name": "stdout"
        }
      ]
    },
    {
      "cell_type": "code",
      "metadata": {
        "id": "cik72ecP7BPB",
        "colab_type": "code",
        "colab": {}
      },
      "source": [
        "# from sklearn.metrics import accuracy_score\n",
        "# print(accuracy_score(predicted,y_test))"
      ],
      "execution_count": 266,
      "outputs": []
    },
    {
      "cell_type": "code",
      "metadata": {
        "id": "BKp9yu-kkTjQ",
        "colab_type": "code",
        "colab": {}
      },
      "source": [
        "# y_test=y_test.to_numpy()"
      ],
      "execution_count": 267,
      "outputs": []
    },
    {
      "cell_type": "code",
      "metadata": {
        "id": "8_RH_JcxonTt",
        "colab_type": "code",
        "colab": {}
      },
      "source": [
        "# fpr = dict()\n",
        "# tpr = dict()\n",
        "# roc_auc = dict()\n",
        "# # for i in range(0,2):\n",
        "# fpr, tpr,threshlod = roc_curve(y_test, predicted)\n",
        "# roc_auc = auc(fpr, tpr)"
      ],
      "execution_count": 268,
      "outputs": []
    },
    {
      "cell_type": "markdown",
      "metadata": {
        "id": "yfd8rFWkxjXC",
        "colab_type": "text"
      },
      "source": [
        "# **ROC CURVE FOR DIFFERENT VALUES OF K**"
      ]
    },
    {
      "cell_type": "markdown",
      "metadata": {
        "id": "v-DNNnS6GMMP",
        "colab_type": "text"
      },
      "source": [
        "According to the below present ROC curve for k=7, AUC is 0.689 it means there is 68.9% chance that model will be able to distinguish between positive class and negative class."
      ]
    },
    {
      "cell_type": "code",
      "metadata": {
        "id": "PksYko-Uota9",
        "colab_type": "code",
        "colab": {
          "base_uri": "https://localhost:8080/",
          "height": 295
        },
        "outputId": "0c945a92-8c49-4ea5-b3f3-c29bd873b7af"
      },
      "source": [
        "import matplotlib.pyplot as plt\n",
        "\n",
        "plt.figure()\n",
        "lw = 2\n",
        "plt.plot(fpr, tpr, color='darkorange',\n",
        "         lw=lw, label='ROC curve for k=3(area = %0.3f)' % roc_auc)\n",
        "\n",
        "plt.plot(fpr_1, tpr_1, color='darkgreen',\n",
        "         lw=lw, label='ROC curve for k=5(area = %0.3f)' % roc_auc_1)\n",
        "\n",
        "plt.plot(fpr_2, tpr_2, color='magenta',\n",
        "         lw=lw, label='ROC curve  for k=7(area = %0.3f)' % roc_auc_2)\n",
        "plt.plot([0, 1], [0, 1], color='navy', lw=lw, linestyle='--')\n",
        "plt.xlim([0.0, 1.0])\n",
        "plt.ylim([0.0, 1.05])\n",
        "plt.xlabel('False Positive Rate')\n",
        "plt.ylabel('True Positive Rate')\n",
        "plt.title('Receiver operating characteristic example')\n",
        "plt.legend(loc=\"lower right\")\n",
        "plt.show()"
      ],
      "execution_count": 269,
      "outputs": [
        {
          "output_type": "display_data",
          "data": {
            "image/png": "[encoded data removed]",
            "text/plain": [
              "<Figure size 432x288 with 1 Axes>"
            ]
          },
          "metadata": {
            "tags": [],
            "needs_background": "light"
          }
        }
      ]
    },
    {
      "cell_type": "markdown",
      "metadata": {
        "id": "0naZMcwx2VMa",
        "colab_type": "text"
      },
      "source": [
        "# **DECISION TREE WITH PRE-PRUNE DEPTH = 8,7,5**"
      ]
    },
    {
      "cell_type": "code",
      "metadata": {
        "id": "G_yWkQyV7EFH",
        "colab_type": "code",
        "colab": {}
      },
      "source": [
        "from sklearn.tree import DecisionTreeClassifier\n",
        "from sklearn import tree\n",
        "clf = DecisionTreeClassifier(random_state=42,max_depth=8)"
      ],
      "execution_count": 270,
      "outputs": []
    },
    {
      "cell_type": "code",
      "metadata": {
        "id": "nTCF6OpV7HDA",
        "colab_type": "code",
        "colab": {
          "base_uri": "https://localhost:8080/",
          "height": 34
        },
        "outputId": "a3e36d17-155e-4554-b381-5e15d4a336e1"
      },
      "source": [
        "clf = clf.fit(X_train, y_train)\n",
        "prefict=clf.predict(X_test)\n",
        "accuracy_score(prefict,y_test)"
      ],
      "execution_count": 271,
      "outputs": [
        {
          "output_type": "execute_result",
          "data": {
            "text/plain": [
              "0.7098509152670315"
            ]
          },
          "metadata": {
            "tags": []
          },
          "execution_count": 271
        }
      ]
    },
    {
      "cell_type": "code",
      "metadata": {
        "id": "S7PYdsxRo9nm",
        "colab_type": "code",
        "colab": {}
      },
      "source": [
        "# y_test=y_test.to_numpy()"
      ],
      "execution_count": 272,
      "outputs": []
    },
    {
      "cell_type": "code",
      "metadata": {
        "id": "KMcJUPlZovqY",
        "colab_type": "code",
        "colab": {}
      },
      "source": [
        "\n",
        "fpr = dict()\n",
        "tpr = dict()\n",
        "roc_auc = dict()\n",
        "# for i in range(0,2):\n",
        "fpr, tpr,threshlod = roc_curve(y_test, prefict)\n",
        "roc_auc = auc(fpr, tpr)"
      ],
      "execution_count": 273,
      "outputs": []
    },
    {
      "cell_type": "code",
      "metadata": {
        "id": "BPhSskJKov1U",
        "colab_type": "code",
        "colab": {
          "base_uri": "https://localhost:8080/",
          "height": 68
        },
        "outputId": "7359f555-917a-4be7-bded-193b202587e9"
      },
      "source": [
        "print(roc_auc)\n",
        "print(fpr,tpr)\n",
        "print(threshlod)"
      ],
      "execution_count": 274,
      "outputs": [
        {
          "output_type": "stream",
          "text": [
            "0.7081063336406559\n",
            "[0.         0.22238586 1.        ] [0.         0.63859853 1.        ]\n",
            "[2. 1. 0.]\n"
          ],
          "name": "stdout"
        }
      ]
    },
    {
      "cell_type": "code",
      "metadata": {
        "id": "2AfGmKT6Vl2x",
        "colab_type": "code",
        "colab": {
          "base_uri": "https://localhost:8080/",
          "height": 442
        },
        "outputId": "dd1afcd6-ee1f-4f6a-fde5-f98a8762bff7"
      },
      "source": [
        "clf = DecisionTreeClassifier(random_state=42,max_depth=5)\n",
        "clf = clf.fit(X_train, y_train)\n",
        "prefict=clf.predict(X_test)\n",
        "accuracy_score(prefict,y_test)\n",
        "# tree.plot_tree(clf) \n",
        "\n",
        "\n",
        "accu_score = accuracy_score(prefict,y_test)\n",
        "print(accu_score) \n",
        "f11 = f1_score(prefict,y_test,average=None)\n",
        "re = recall_score(prefict,y_test,average='weighted')\n",
        "cm = confusion_matrix(prefict,y_test)\n",
        "pr_sc = precision_score(prefict,y_test,average='weighted')\n",
        "clrp = classification_report(prefict,y_test)\n",
        "print(\"**********DECISION TREE WITH DEPTH = 5 ***********\")\n",
        "print(\"accuracy score \",accu_score)\n",
        "print(\"********************\")\n",
        "print(\"f1 score \",f11)\n",
        "print(\"********************\")\n",
        "print(\"recall score \",re)\n",
        "print(\"********************\")\n",
        "print(\"confusion matrix \",cm)\n",
        "print(\"********************\")\n",
        "print(\"precision score \",pr_sc)\n",
        "print(\"********************\")\n",
        "print(\"classification report \",clrp)\n",
        "\n",
        "fpr_1 = dict()\n",
        "tpr_1 = dict()\n",
        "roc_auc_1 = dict()\n",
        "# for i in range(0,2):\n",
        "fpr_1, tpr_1,threshlod_1 = roc_curve(prefict,y_test)\n",
        "roc_auc_1 = auc(fpr_1, tpr_1)\n",
        "\n",
        "print(\"ROC_AUC \",roc_auc_1)\n",
        "print(\"FPR,TPR \",fpr_1,tpr_1)\n",
        "print(\"THRESHOLD \",threshlod_1)"
      ],
      "execution_count": 275,
      "outputs": [
        {
          "output_type": "stream",
          "text": [
            "0.6891866389884884\n",
            "**********DECISION TREE WITH DEPTH = 5 ***********\n",
            "accuracy score  0.6891866389884884\n",
            "********************\n",
            "f1 score  [0.73571887 0.62276683]\n",
            "********************\n",
            "recall score  0.6891866389884884\n",
            "********************\n",
            "confusion matrix  [[4585 2447]\n",
            " [ 847 2719]]\n",
            "********************\n",
            "precision score  0.737157378736058\n",
            "********************\n",
            "classification report                precision    recall  f1-score   support\n",
            "\n",
            "         0.0       0.84      0.65      0.74      7032\n",
            "         1.0       0.53      0.76      0.62      3566\n",
            "\n",
            "    accuracy                           0.69     10598\n",
            "   macro avg       0.69      0.71      0.68     10598\n",
            "weighted avg       0.74      0.69      0.70     10598\n",
            "\n",
            "ROC_AUC  0.7072491540953398\n",
            "FPR,TPR  [0.         0.34798066 1.        ] [0.         0.76247897 1.        ]\n",
            "THRESHOLD  [2. 1. 0.]\n"
          ],
          "name": "stdout"
        }
      ]
    },
    {
      "cell_type": "code",
      "metadata": {
        "id": "A_ODqIzUVm78",
        "colab_type": "code",
        "colab": {
          "base_uri": "https://localhost:8080/",
          "height": 442
        },
        "outputId": "6cc72446-e949-4ee3-9203-17d400ce0934"
      },
      "source": [
        "clf = DecisionTreeClassifier(random_state=42,max_depth=7)\n",
        "clf = clf.fit(X_train, y_train)\n",
        "prefict=clf.predict(X_test)\n",
        "accuracy_score(prefict,y_test)\n",
        "# tree.plot_tree(clf) \n",
        "\n",
        "\n",
        "accu_score = accuracy_score(prefict,y_test)\n",
        "print(accu_score) \n",
        "f11 = f1_score(prefict,y_test,average=None)\n",
        "re = recall_score(prefict,y_test,average='weighted')\n",
        "cm = confusion_matrix(prefict,y_test)\n",
        "pr_sc = precision_score(prefict,y_test,average='weighted')\n",
        "clrp = classification_report(prefict,y_test)\n",
        "print(\"**********DECISION TREE WITH DEPTH = 7 ***********\")\n",
        "print(\"accuracy score \",accu_score)\n",
        "print(\"********************\")\n",
        "print(\"f1 score \",f11)\n",
        "print(\"********************\")\n",
        "print(\"recall score \",re)\n",
        "print(\"********************\")\n",
        "print(\"confusion matrix \",cm)\n",
        "print(\"********************\")\n",
        "print(\"precision score \",pr_sc)\n",
        "print(\"********************\")\n",
        "print(\"classification report \",clrp)\n",
        "\n",
        "fpr_2 = dict()\n",
        "tpr_2 = dict()\n",
        "roc_auc_2 = dict()\n",
        "# for i in range(0,2):\n",
        "fpr_2, tpr_2,threshlod_2 = roc_curve(prefict,y_test)\n",
        "roc_auc_2 = auc(fpr_2, tpr_2)\n",
        "\n",
        "print(\"ROC_AUC \",roc_auc_2)\n",
        "print(\"FPR,TPR \",fpr_2,tpr_2)\n",
        "print(\"THRESHOLD \",threshlod_2)"
      ],
      "execution_count": 276,
      "outputs": [
        {
          "output_type": "stream",
          "text": [
            "0.705699188526137\n",
            "**********DECISION TREE WITH DEPTH = 7 ***********\n",
            "accuracy score  0.705699188526137\n",
            "********************\n",
            "f1 score  [0.72395787 0.684854  ]\n",
            "********************\n",
            "recall score  0.705699188526137\n",
            "********************\n",
            "confusion matrix  [[4090 1777]\n",
            " [1342 3389]]\n",
            "********************\n",
            "precision score  0.7096775371546107\n",
            "********************\n",
            "classification report                precision    recall  f1-score   support\n",
            "\n",
            "         0.0       0.75      0.70      0.72      5867\n",
            "         1.0       0.66      0.72      0.68      4731\n",
            "\n",
            "    accuracy                           0.71     10598\n",
            "   macro avg       0.70      0.71      0.70     10598\n",
            "weighted avg       0.71      0.71      0.71     10598\n",
            "\n",
            "ROC_AUC  0.7067292611098183\n",
            "FPR,TPR  [0.         0.30288052 1.        ] [0.         0.71633904 1.        ]\n",
            "THRESHOLD  [2. 1. 0.]\n"
          ],
          "name": "stdout"
        }
      ]
    },
    {
      "cell_type": "markdown",
      "metadata": {
        "id": "wMbQS-iaGZVb",
        "colab_type": "text"
      },
      "source": [
        "**According to the below present ROC curve for pre-prune depth=8, AUC is 0.70 it means there is 70% chance that model will be able to distinguish between positive class and negative class.**"
      ]
    },
    {
      "cell_type": "code",
      "metadata": {
        "id": "qcniXeswowBd",
        "colab_type": "code",
        "colab": {
          "base_uri": "https://localhost:8080/",
          "height": 295
        },
        "outputId": "45927b58-735e-4232-88fb-4910ebf7d730"
      },
      "source": [
        "import matplotlib.pyplot as plt\n",
        "\n",
        "plt.figure()\n",
        "lw = 2\n",
        "plt.plot(fpr, tpr, color='darkorange',\n",
        "         lw=lw, label='ROC curve for DEPTH=8(area = %0.3f)' % roc_auc)\n",
        "\n",
        "plt.plot(fpr_1, tpr_1, color='darkgreen',\n",
        "         lw=lw, label='ROC curve for DEPTH=5(area = %0.3f)' % roc_auc_1)\n",
        "\n",
        "plt.plot(fpr_2, tpr_2, color='magenta',\n",
        "         lw=lw, label='ROC curve  for DEPTH=7(area = %0.3f)' % roc_auc_2)\n",
        "plt.plot([0, 1], [0, 1], color='navy', lw=lw, linestyle='--')\n",
        "plt.xlim([0.0, 1.0])\n",
        "plt.ylim([0.0, 1.05])\n",
        "plt.xlabel('False Positive Rate')\n",
        "plt.ylabel('True Positive Rate')\n",
        "plt.title('Receiver operating characteristic example')\n",
        "plt.legend(loc=\"lower right\")\n",
        "plt.show()"
      ],
      "execution_count": 277,
      "outputs": [
        {
          "output_type": "display_data",
          "data": {
            "image/png": "[encoded data removed]",
            "text/plain": [
              "<Figure size 432x288 with 1 Axes>"
            ]
          },
          "metadata": {
            "tags": [],
            "needs_background": "light"
          }
        }
      ]
    },
    {
      "cell_type": "markdown",
      "metadata": {
        "id": "m9usSBxP3Jy8",
        "colab_type": "text"
      },
      "source": [
        "# **FEATURE PROCESSING , USING DATE,MONTH,YEAR CREATING A NEW FEATURE TIMESTAMP**"
      ]
    },
    {
      "cell_type": "markdown",
      "metadata": {
        "id": "b0q0voq-GkVl",
        "colab_type": "text"
      },
      "source": [
        "**date month and year has to be in yyyymmdd format for conversion into timestamp.**"
      ]
    },
    {
      "cell_type": "code",
      "metadata": {
        "id": "W9O4FO977KKr",
        "colab_type": "code",
        "colab": {}
      },
      "source": [
        "\n",
        "import math\n",
        "date = df55['date'].tolist()\n",
        "date_str =[]\n",
        "# hel = []\n",
        "for dt in date:\n",
        "  if(math.isnan(dt)):\n",
        "    # print(\"hey\")\n",
        "    date_str.append('00')\n",
        "  else:\n",
        "    date_int = int(dt)\n",
        "    date_s = str(date_int)\n",
        "    if(len(date_s)==1):\n",
        "      date_str.append('0'+date_s)\n",
        "    else:\n",
        "      date_str.append(str(date_int))"
      ],
      "execution_count": 278,
      "outputs": []
    },
    {
      "cell_type": "code",
      "metadata": {
        "id": "-oYGxasbaWEr",
        "colab_type": "code",
        "colab": {
          "base_uri": "https://localhost:8080/",
          "height": 34
        },
        "outputId": "5a94ce85-4bba-4781-9d34-a8f289554149"
      },
      "source": [
        "year = df55['years'].tolist()\n",
        "year_str =[]\n",
        "for yr in year:\n",
        "  year_int = int(yr)\n",
        "  year_str.append(str(year_int))\n",
        "\n",
        "print(len(year_str))"
      ],
      "execution_count": 279,
      "outputs": [
        {
          "output_type": "stream",
          "text": [
            "52989\n"
          ],
          "name": "stdout"
        }
      ]
    },
    {
      "cell_type": "code",
      "metadata": {
        "id": "aZ6nO3OQaaGA",
        "colab_type": "code",
        "colab": {
          "base_uri": "https://localhost:8080/",
          "height": 34
        },
        "outputId": "aa975462-b76b-4508-bedf-9e20f66bbdd7"
      },
      "source": [
        "month = df55['month'].tolist()\n",
        "month_str=[]\n",
        "heal = []\n",
        "for mt in month:\n",
        "  if(type(mt)==int):\n",
        "    month_s = str(mt)\n",
        "    if(len(month_s)==1):\n",
        "      month_str.append('0'+month_s)\n",
        "    else:\n",
        "      month_str.append(month_s)\n",
        "  else:\n",
        "    heal.append(1)\n",
        "    month_str.append(\"00\")\n",
        "\n",
        "print(len(month_str))"
      ],
      "execution_count": 280,
      "outputs": [
        {
          "output_type": "stream",
          "text": [
            "52989\n"
          ],
          "name": "stdout"
        }
      ]
    },
    {
      "cell_type": "code",
      "metadata": {
        "id": "nJigRsBPaeiv",
        "colab_type": "code",
        "colab": {}
      },
      "source": [
        "final_date=[]\n",
        "for i in range(0,len(date)):\n",
        "  s = year_str[i]+'-'+month_str[i] + '-'+date_str[i]\n",
        "  final_date.append(s)"
      ],
      "execution_count": 281,
      "outputs": []
    },
    {
      "cell_type": "markdown",
      "metadata": {
        "id": "wBI9MYwWG58L",
        "colab_type": "text"
      },
      "source": [
        "## **using numpy dateTime for converting date,month,year to timeStamp**"
      ]
    },
    {
      "cell_type": "code",
      "metadata": {
        "id": "d0TJnMucaf1d",
        "colab_type": "code",
        "colab": {}
      },
      "source": [
        "import numpy as np\n",
        "from datetime import datetime\n",
        "dt = datetime.utcnow()\n",
        "timeStamp_=[]\n",
        "\n",
        "def get_timestamp(date_str):\n",
        "  dt64 = np.datetime64(dt)\n",
        "  date_str = date_str.strip()\n",
        "    # Remove + sign\n",
        "  if date_str[0] == '+':\n",
        "      date_str = date_str[1:]\n",
        "    # Remove missing month/day\n",
        "  date_str = date_str.split('-00', maxsplit=1)[0]\n",
        "  if(date_str == \"1995-06-31\"):\n",
        "      date_str = '1995-06-30'\n",
        "  elif(date_str == \"2015-11-31\"):\n",
        "      date_str = \"2015-11-30\"\n",
        "  ts = (dt64 - np.datetime64(date_str)) / np.timedelta64(1, 's')\n",
        "  return ts\n",
        "\n",
        "\n",
        "for date1 in final_date:\n",
        "  ts1 = get_timestamp(date1)\n",
        "  timeStamp_.append(ts1)"
      ],
      "execution_count": 282,
      "outputs": []
    },
    {
      "cell_type": "code",
      "metadata": {
        "id": "xiLHVCJHarYG",
        "colab_type": "code",
        "colab": {}
      },
      "source": [
        "df66  = df55.drop(['date','month','years'],axis=1)"
      ],
      "execution_count": 283,
      "outputs": []
    },
    {
      "cell_type": "code",
      "metadata": {
        "id": "zBnwdQNaauwt",
        "colab_type": "code",
        "colab": {}
      },
      "source": [
        "df_timestamp =  pd.DataFrame(timeStamp_,columns=['timestamp'])"
      ],
      "execution_count": 284,
      "outputs": []
    },
    {
      "cell_type": "code",
      "metadata": {
        "id": "eO7kcraHa0Q0",
        "colab_type": "code",
        "colab": {
          "base_uri": "https://localhost:8080/",
          "height": 419
        },
        "outputId": "fc779a7e-2c7d-4291-ef51-1959869f6973"
      },
      "source": [
        "final_df = pd.concat([df66,df_timestamp],axis=1)\n",
        "final_df"
      ],
      "execution_count": 285,
      "outputs": [
        {
          "output_type": "execute_result",
          "data": {
            "text/html": [
              "<div>\n",
              "<style scoped>\n",
              "    .dataframe tbody tr th:only-of-type {\n",
              "        vertical-align: middle;\n",
              "    }\n",
              "\n",
              "    .dataframe tbody tr th {\n",
              "        vertical-align: top;\n",
              "    }\n",
              "\n",
              "    .dataframe thead th {\n",
              "        text-align: right;\n",
              "    }\n",
              "</style>\n",
              "<table border=\"1\" class=\"dataframe\">\n",
              "  <thead>\n",
              "    <tr style=\"text-align: right;\">\n",
              "      <th></th>\n",
              "      <th>DEPTH (km)</th>\n",
              "      <th>latitude</th>\n",
              "      <th>longitude</th>\n",
              "      <th>timestamp</th>\n",
              "    </tr>\n",
              "  </thead>\n",
              "  <tbody>\n",
              "    <tr>\n",
              "      <th>0</th>\n",
              "      <td>0.000000</td>\n",
              "      <td>71.0</td>\n",
              "      <td>24.00</td>\n",
              "      <td>1.418385e+11</td>\n",
              "    </tr>\n",
              "    <tr>\n",
              "      <th>1</th>\n",
              "      <td>0.000000</td>\n",
              "      <td>71.0</td>\n",
              "      <td>24.00</td>\n",
              "      <td>7.402255e+10</td>\n",
              "    </tr>\n",
              "    <tr>\n",
              "      <th>2</th>\n",
              "      <td>0.000000</td>\n",
              "      <td>72.9</td>\n",
              "      <td>33.72</td>\n",
              "      <td>6.297761e+10</td>\n",
              "    </tr>\n",
              "    <tr>\n",
              "      <th>3</th>\n",
              "      <td>45.569867</td>\n",
              "      <td>17.3</td>\n",
              "      <td>80.10</td>\n",
              "      <td>6.293493e+10</td>\n",
              "    </tr>\n",
              "    <tr>\n",
              "      <th>4</th>\n",
              "      <td>80.000000</td>\n",
              "      <td>26.0</td>\n",
              "      <td>97.00</td>\n",
              "      <td>6.293493e+10</td>\n",
              "    </tr>\n",
              "    <tr>\n",
              "      <th>...</th>\n",
              "      <td>...</td>\n",
              "      <td>...</td>\n",
              "      <td>...</td>\n",
              "      <td>...</td>\n",
              "    </tr>\n",
              "    <tr>\n",
              "      <th>52984</th>\n",
              "      <td>10.000000</td>\n",
              "      <td>32.8</td>\n",
              "      <td>78.40</td>\n",
              "      <td>3.512058e+07</td>\n",
              "    </tr>\n",
              "    <tr>\n",
              "      <th>52985</th>\n",
              "      <td>70.000000</td>\n",
              "      <td>25.5</td>\n",
              "      <td>90.40</td>\n",
              "      <td>3.512058e+07</td>\n",
              "    </tr>\n",
              "    <tr>\n",
              "      <th>52986</th>\n",
              "      <td>22.000000</td>\n",
              "      <td>23.2</td>\n",
              "      <td>86.50</td>\n",
              "      <td>3.512058e+07</td>\n",
              "    </tr>\n",
              "    <tr>\n",
              "      <th>52987</th>\n",
              "      <td>20.000000</td>\n",
              "      <td>32.8</td>\n",
              "      <td>76.40</td>\n",
              "      <td>3.503418e+07</td>\n",
              "    </tr>\n",
              "    <tr>\n",
              "      <th>52988</th>\n",
              "      <td>10.000000</td>\n",
              "      <td>20.0</td>\n",
              "      <td>72.80</td>\n",
              "      <td>3.486138e+07</td>\n",
              "    </tr>\n",
              "  </tbody>\n",
              "</table>\n",
              "<p>52989 rows × 4 columns</p>\n",
              "</div>"
            ],
            "text/plain": [
              "       DEPTH (km)  latitude  longitude     timestamp\n",
              "0        0.000000      71.0      24.00  1.418385e+11\n",
              "1        0.000000      71.0      24.00  7.402255e+10\n",
              "2        0.000000      72.9      33.72  6.297761e+10\n",
              "3       45.569867      17.3      80.10  6.293493e+10\n",
              "4       80.000000      26.0      97.00  6.293493e+10\n",
              "...           ...       ...        ...           ...\n",
              "52984   10.000000      32.8      78.40  3.512058e+07\n",
              "52985   70.000000      25.5      90.40  3.512058e+07\n",
              "52986   22.000000      23.2      86.50  3.512058e+07\n",
              "52987   20.000000      32.8      76.40  3.503418e+07\n",
              "52988   10.000000      20.0      72.80  3.486138e+07\n",
              "\n",
              "[52989 rows x 4 columns]"
            ]
          },
          "metadata": {
            "tags": []
          },
          "execution_count": 285
        }
      ]
    },
    {
      "cell_type": "code",
      "metadata": {
        "id": "Y1HFILMsa1NW",
        "colab_type": "code",
        "colab": {}
      },
      "source": [
        "from sklearn.model_selection import train_test_split\n",
        "X_train, X_test, y_train, y_test = train_test_split(final_df, target_label, test_size=0.2, random_state=42)"
      ],
      "execution_count": 286,
      "outputs": []
    },
    {
      "cell_type": "markdown",
      "metadata": {
        "id": "y-b-FjPt35Jo",
        "colab_type": "text"
      },
      "source": [
        "# **KNN WITH K=3,5,7**"
      ]
    },
    {
      "cell_type": "code",
      "metadata": {
        "id": "DQykwsWqcrn5",
        "colab_type": "code",
        "colab": {
          "base_uri": "https://localhost:8080/",
          "height": 68
        },
        "outputId": "9a287faf-5aef-42f7-ccde-6070e0d8494e"
      },
      "source": [
        "from sklearn.neighbors import KNeighborsClassifier\n",
        "\n",
        "model = KNeighborsClassifier(n_neighbors=5)\n",
        "\n",
        "# Train the model using the training sets\n",
        "model.fit(X_train,y_train)\n",
        "\n",
        "#Predict Output\n",
        "# predicted= model.predict([[0,2]]) # 0:Overcast, 2:Mild\n",
        "# print(predicted)"
      ],
      "execution_count": 287,
      "outputs": [
        {
          "output_type": "execute_result",
          "data": {
            "text/plain": [
              "KNeighborsClassifier(algorithm='auto', leaf_size=30, metric='minkowski',\n",
              "                     metric_params=None, n_jobs=None, n_neighbors=5, p=2,\n",
              "                     weights='uniform')"
            ]
          },
          "metadata": {
            "tags": []
          },
          "execution_count": 287
        }
      ]
    },
    {
      "cell_type": "code",
      "metadata": {
        "id": "ANe1qOdNcuKV",
        "colab_type": "code",
        "colab": {}
      },
      "source": [
        "predicted=model.predict(X_test)"
      ],
      "execution_count": 288,
      "outputs": []
    },
    {
      "cell_type": "code",
      "metadata": {
        "id": "UxtprCFScw8t",
        "colab_type": "code",
        "colab": {
          "base_uri": "https://localhost:8080/",
          "height": 391
        },
        "outputId": "1fe00511-6fd6-453c-deac-8fb4315d5af5"
      },
      "source": [
        "from sklearn.metrics import accuracy_score\n",
        "print(accuracy_score(predicted,y_test))\n",
        "f11 = f1_score(predicted,y_test,average=None)\n",
        "re = recall_score(predicted,y_test,average='weighted')\n",
        "cm = confusion_matrix(predicted,y_test)\n",
        "pr_sc = precision_score(predicted,y_test,average='weighted')\n",
        "clrp = classification_report(predicted,y_test)\n",
        "print(\"**********KNN WITH K = 5***********\")\n",
        "print(\"accuracy score \",accu_score)\n",
        "print(\"********************\")\n",
        "print(\"f1 score \",f11)\n",
        "print(\"********************\")\n",
        "print(\"recall score \",re)\n",
        "print(\"********************\")\n",
        "print(\"confusion matrix \",cm)\n",
        "print(\"********************\")\n",
        "print(\"precision score \",pr_sc)\n",
        "print(\"********************\")\n",
        "print(\"classification report \",clrp)\n"
      ],
      "execution_count": 289,
      "outputs": [
        {
          "output_type": "stream",
          "text": [
            "0.6624834874504624\n",
            "**********KNN WITH K = 5***********\n",
            "accuracy score  0.705699188526137\n",
            "********************\n",
            "f1 score  [0.67649453 0.64720387]\n",
            "********************\n",
            "recall score  0.6624834874504624\n",
            "********************\n",
            "confusion matrix  [[3740 1885]\n",
            " [1692 3281]]\n",
            "********************\n",
            "precision score  0.6634559231792816\n",
            "********************\n",
            "classification report                precision    recall  f1-score   support\n",
            "\n",
            "         0.0       0.69      0.66      0.68      5625\n",
            "         1.0       0.64      0.66      0.65      4973\n",
            "\n",
            "    accuracy                           0.66     10598\n",
            "   macro avg       0.66      0.66      0.66     10598\n",
            "weighted avg       0.66      0.66      0.66     10598\n",
            "\n"
          ],
          "name": "stdout"
        }
      ]
    },
    {
      "cell_type": "code",
      "metadata": {
        "id": "QTHxpzsjpBBe",
        "colab_type": "code",
        "colab": {}
      },
      "source": [
        "y_test=y_test.to_numpy()"
      ],
      "execution_count": 290,
      "outputs": []
    },
    {
      "cell_type": "code",
      "metadata": {
        "id": "k-xgiItPpBLU",
        "colab_type": "code",
        "colab": {}
      },
      "source": [
        "fpr = dict()\n",
        "tpr = dict()\n",
        "roc_auc = dict()\n",
        "# for i in range(0,2):\n",
        "fpr, tpr,threshlod = roc_curve(y_test, predicted)\n",
        "roc_auc = auc(fpr, tpr)\n"
      ],
      "execution_count": 291,
      "outputs": []
    },
    {
      "cell_type": "code",
      "metadata": {
        "id": "DhdDIVIPpBYa",
        "colab_type": "code",
        "colab": {
          "base_uri": "https://localhost:8080/",
          "height": 68
        },
        "outputId": "b2037919-6f14-4af9-dfa8-3d8fc0c223e1"
      },
      "source": [
        "print(roc_auc)\n",
        "print(fpr,tpr)\n",
        "print(threshlod)"
      ],
      "execution_count": 292,
      "outputs": [
        {
          "output_type": "stream",
          "text": [
            "0.6618133633471829\n",
            "[0.         0.31148748 1.        ] [0.         0.63511421 1.        ]\n",
            "[2. 1. 0.]\n"
          ],
          "name": "stdout"
        }
      ]
    },
    {
      "cell_type": "code",
      "metadata": {
        "id": "DW62awnxoQyn",
        "colab_type": "code",
        "colab": {
          "base_uri": "https://localhost:8080/",
          "height": 442
        },
        "outputId": "59d1e982-6ddd-47ff-98fb-5e4908f81b77"
      },
      "source": [
        "from sklearn.neighbors import KNeighborsClassifier\n",
        "\n",
        "model = KNeighborsClassifier(n_neighbors=3)\n",
        "\n",
        "# Train the model using the training sets\n",
        "model.fit(X_train,y_train)\n",
        "predicted=model.predict(X_test)\n",
        "from sklearn.metrics import accuracy_score\n",
        "# print(accuracy_score(predicted,y_test))\n",
        "accu_score = accuracy_score(predicted,y_test,normalize=True)\n",
        "print(accu_score) \n",
        "f11 = f1_score(predicted,y_test,average=None)\n",
        "re = recall_score(predicted,y_test,average='weighted')\n",
        "cm = confusion_matrix(predicted,y_test)\n",
        "pr_sc = precision_score(predicted,y_test,average='weighted')\n",
        "clrp = classification_report(predicted,y_test)\n",
        "print(\"**********KNN WITH K = 3***********\")\n",
        "print(\"accuracy score \",accu_score)\n",
        "print(\"********************\")\n",
        "print(\"f1 score \",f11)\n",
        "print(\"********************\")\n",
        "print(\"recall score \",re)\n",
        "print(\"********************\")\n",
        "print(\"confusion matrix \",cm)\n",
        "print(\"********************\")\n",
        "print(\"precision score \",pr_sc)\n",
        "print(\"********************\")\n",
        "print(\"classification report \",clrp)\n",
        "\n",
        "fpr_1 = dict()\n",
        "tpr_1 = dict()\n",
        "roc_auc_1 = dict()\n",
        "# for i in range(0,2):\n",
        "fpr_1, tpr_1,threshlod_1 = roc_curve(y_test, predicted)\n",
        "roc_auc_1 = auc(fpr_1, tpr_1)\n",
        "\n",
        "print(\"roc_auc \",roc_auc_1)\n",
        "print(\"fpr,tpr \",fpr_1,tpr_1)\n",
        "print(\"threshold \",threshlod_1)"
      ],
      "execution_count": 293,
      "outputs": [
        {
          "output_type": "stream",
          "text": [
            "0.6597471220985092\n",
            "**********KNN WITH K = 3***********\n",
            "accuracy score  0.6597471220985092\n",
            "********************\n",
            "f1 score  [0.67366516 0.644589  ]\n",
            "********************\n",
            "recall score  0.659747122098509\n",
            "********************\n",
            "confusion matrix  [[3722 1896]\n",
            " [1710 3270]]\n",
            "********************\n",
            "precision score  0.6606635015301535\n",
            "********************\n",
            "classification report                precision    recall  f1-score   support\n",
            "\n",
            "         0.0       0.69      0.66      0.67      5618\n",
            "         1.0       0.63      0.66      0.64      4980\n",
            "\n",
            "    accuracy                           0.66     10598\n",
            "   macro avg       0.66      0.66      0.66     10598\n",
            "weighted avg       0.66      0.66      0.66     10598\n",
            "\n",
            "roc_auc  0.6590918615371721\n",
            "fpr,tpr  [0.         0.31480118 1.        ] [0.        0.6329849 1.       ]\n",
            "threshold  [2. 1. 0.]\n"
          ],
          "name": "stdout"
        }
      ]
    },
    {
      "cell_type": "code",
      "metadata": {
        "id": "1ngLwUaZoRLK",
        "colab_type": "code",
        "colab": {
          "base_uri": "https://localhost:8080/",
          "height": 442
        },
        "outputId": "39b821b7-0674-42ce-bca6-9fa4b7b32a13"
      },
      "source": [
        "from sklearn.neighbors import KNeighborsClassifier\n",
        "\n",
        "model = KNeighborsClassifier(n_neighbors=7)\n",
        "\n",
        "# Train the model using the training sets\n",
        "model.fit(X_train,y_train)\n",
        "predicted=model.predict(X_test)\n",
        "from sklearn.metrics import accuracy_score\n",
        "# print(accuracy_score(predicted,y_test))\n",
        "accu_score = accuracy_score(predicted,y_test,normalize=True)\n",
        "print(accu_score) \n",
        "f11 = f1_score(predicted,y_test,average=None)\n",
        "re = recall_score(predicted,y_test,average='weighted')\n",
        "cm = confusion_matrix(predicted,y_test)\n",
        "pr_sc = precision_score(predicted,y_test,average='weighted')\n",
        "clrp = classification_report(predicted,y_test)\n",
        "print(\"**********KNN WITH K = 7 ***********\")\n",
        "print(\"accuracy score \",accu_score)\n",
        "print(\"********************\")\n",
        "print(\"f1 score \",f11)\n",
        "print(\"********************\")\n",
        "print(\"recall score \",re)\n",
        "print(\"********************\")\n",
        "print(\"confusion matrix \",cm)\n",
        "print(\"********************\")\n",
        "print(\"precision score \",pr_sc)\n",
        "print(\"********************\")\n",
        "print(\"classification report \",clrp)\n",
        "\n",
        "fpr_2 = dict()\n",
        "tpr_2 = dict()\n",
        "roc_auc_2 = dict()\n",
        "# for i in range(0,2):\n",
        "fpr_2, tpr_2,threshlod_2 = roc_curve(y_test, predicted)\n",
        "roc_auc_2 = auc(fpr_2, tpr_2)\n",
        "\n",
        "print(\"ROC_AUC \",roc_auc_2)\n",
        "print(\"FPR,TPR \",fpr_2,tpr_2)\n",
        "print(\"THRESHOLD \",threshlod_2)"
      ],
      "execution_count": 294,
      "outputs": [
        {
          "output_type": "stream",
          "text": [
            "0.6655029250802038\n",
            "**********KNN WITH K = 7 ***********\n",
            "accuracy score  0.6655029250802038\n",
            "********************\n",
            "f1 score  [0.68100423 0.64841813]\n",
            "********************\n",
            "recall score  0.6655029250802038\n",
            "********************\n",
            "confusion matrix  [[3784 1897]\n",
            " [1648 3269]]\n",
            "********************\n",
            "precision score  0.6670024073509262\n",
            "********************\n",
            "classification report                precision    recall  f1-score   support\n",
            "\n",
            "         0.0       0.70      0.67      0.68      5681\n",
            "         1.0       0.63      0.66      0.65      4917\n",
            "\n",
            "    accuracy                           0.67     10598\n",
            "   macro avg       0.66      0.67      0.66     10598\n",
            "weighted avg       0.67      0.67      0.67     10598\n",
            "\n",
            "ROC_AUC  0.6647019967990548\n",
            "FPR,TPR  [0.         0.30338733 1.        ] [0.         0.63279133 1.        ]\n",
            "THRESHOLD  [2. 1. 0.]\n"
          ],
          "name": "stdout"
        }
      ]
    },
    {
      "cell_type": "markdown",
      "metadata": {
        "id": "BvoV44ldHMGS",
        "colab_type": "text"
      },
      "source": [
        "**According to the below present ROC curve for k = 7, AUC is 0.665 it means there is 66.5% chance that model will be able to distinguish between positive class and negative class.**"
      ]
    },
    {
      "cell_type": "code",
      "metadata": {
        "id": "IWMaxbl_pBjH",
        "colab_type": "code",
        "colab": {
          "base_uri": "https://localhost:8080/",
          "height": 295
        },
        "outputId": "f6f0d941-df10-434b-e55a-f6d8d99205f1"
      },
      "source": [
        "import matplotlib.pyplot as plt\n",
        "\n",
        "plt.figure()\n",
        "lw = 2\n",
        "plt.plot(fpr, tpr, color='darkorange',\n",
        "         lw=lw, label='ROC curve for k=5(area = %0.3f)' % roc_auc)\n",
        "\n",
        "plt.plot(fpr_1, tpr_1, color='darkgreen',\n",
        "         lw=lw, label='ROC curve for k=3(area = %0.3f)' % roc_auc_1)\n",
        "\n",
        "plt.plot(fpr_2, tpr_2, color='magenta',\n",
        "         lw=lw, label='ROC curve  for k=7(area = %0.3f)' % roc_auc_2)\n",
        "plt.plot([0, 1], [0, 1], color='navy', lw=lw, linestyle='--')\n",
        "plt.xlim([0.0, 1.0])\n",
        "plt.ylim([0.0, 1.05])\n",
        "plt.xlabel('False Positive Rate')\n",
        "plt.ylabel('True Positive Rate')\n",
        "plt.title('Receiver operating characteristic example')\n",
        "plt.legend(loc=\"lower right\")\n",
        "plt.show()"
      ],
      "execution_count": 295,
      "outputs": [
        {
          "output_type": "display_data",
          "data": {
            "image/png": "[encoded data removed]",
            "text/plain": [
              "<Figure size 432x288 with 1 Axes>"
            ]
          },
          "metadata": {
            "tags": [],
            "needs_background": "light"
          }
        }
      ]
    },
    {
      "cell_type": "markdown",
      "metadata": {
        "id": "FZBRzELi4N-r",
        "colab_type": "text"
      },
      "source": [
        "# **DECISION TREE CLASSIFIER WITH PRE-PRUNE DEPTH = 9,7,3**"
      ]
    },
    {
      "cell_type": "code",
      "metadata": {
        "id": "eldyGKNTczR2",
        "colab_type": "code",
        "colab": {}
      },
      "source": [
        "from sklearn.tree import DecisionTreeClassifier\n",
        "from sklearn import tree\n",
        "clf = DecisionTreeClassifier(random_state=42,max_depth=9)"
      ],
      "execution_count": 296,
      "outputs": []
    },
    {
      "cell_type": "code",
      "metadata": {
        "id": "4gYJ9WD6c140",
        "colab_type": "code",
        "colab": {
          "base_uri": "https://localhost:8080/",
          "height": 391
        },
        "outputId": "33c30e23-331c-45d5-c6c4-13e0cdbc5eb0"
      },
      "source": [
        "clf = clf.fit(X_train, y_train)\n",
        "# tree.plot_tree(clf) \n",
        "prefict=clf.predict(X_test)\n",
        "accuracy_score(prefict,y_test)\n",
        "accu_score = accuracy_score(prefict,y_test)\n",
        "print(accu_score) \n",
        "f11 = f1_score(prefict,y_test,average=None)\n",
        "re = recall_score(prefict,y_test,average='weighted')\n",
        "cm = confusion_matrix(prefict,y_test)\n",
        "pr_sc = precision_score(prefict,y_test,average='weighted')\n",
        "clrp = classification_report(prefict,y_test)\n",
        "print(\"**********DECISION TREE WITH DEPTH = 9 ***********\")\n",
        "print(\"accuracy score \",accu_score)\n",
        "print(\"********************\")\n",
        "print(\"f1 score \",f11)\n",
        "print(\"********************\")\n",
        "print(\"recall score \",re)\n",
        "print(\"********************\")\n",
        "print(\"confusion matrix \",cm)\n",
        "print(\"********************\")\n",
        "print(\"precision score \",pr_sc)\n",
        "print(\"********************\")\n",
        "print(\"classification report \",clrp)\n"
      ],
      "execution_count": 297,
      "outputs": [
        {
          "output_type": "stream",
          "text": [
            "0.7107944895263257\n",
            "**********DECISION TREE WITH DEPTH = 9 ***********\n",
            "accuracy score  0.7107944895263257\n",
            "********************\n",
            "f1 score  [0.73479277 0.68202096]\n",
            "********************\n",
            "recall score  0.7107944895263257\n",
            "********************\n",
            "confusion matrix  [[4246 1879]\n",
            " [1186 3287]]\n",
            "********************\n",
            "precision score  0.72030140352697\n",
            "********************\n",
            "classification report                precision    recall  f1-score   support\n",
            "\n",
            "         0.0       0.78      0.69      0.73      6125\n",
            "         1.0       0.64      0.73      0.68      4473\n",
            "\n",
            "    accuracy                           0.71     10598\n",
            "   macro avg       0.71      0.71      0.71     10598\n",
            "weighted avg       0.72      0.71      0.71     10598\n",
            "\n"
          ],
          "name": "stdout"
        }
      ]
    },
    {
      "cell_type": "code",
      "metadata": {
        "id": "awYvSARdc4o7",
        "colab_type": "code",
        "colab": {}
      },
      "source": [
        "# y_test=y_test.to_numpy()"
      ],
      "execution_count": 298,
      "outputs": []
    },
    {
      "cell_type": "code",
      "metadata": {
        "id": "5p4Q-aJNsmQA",
        "colab_type": "code",
        "colab": {}
      },
      "source": [
        "fpr = dict()\n",
        "tpr = dict()\n",
        "roc_auc = dict()\n",
        "# for i in range(0,2):\n",
        "fpr, tpr,threshlod = roc_curve(y_test, prefict)\n",
        "roc_auc = auc(fpr, tpr)\n"
      ],
      "execution_count": 299,
      "outputs": []
    },
    {
      "cell_type": "code",
      "metadata": {
        "id": "ItX8p25asmnT",
        "colab_type": "code",
        "colab": {
          "base_uri": "https://localhost:8080/",
          "height": 68
        },
        "outputId": "3ad6c66a-74c2-4ba7-c0d2-b2b6e5be9f63"
      },
      "source": [
        "print(roc_auc)\n",
        "print(fpr,tpr)\n",
        "print(threshlod)"
      ],
      "execution_count": 300,
      "outputs": [
        {
          "output_type": "stream",
          "text": [
            "0.7089699302736767\n",
            "[0.         0.21833579 1.        ] [0.         0.63627565 1.        ]\n",
            "[2. 1. 0.]\n"
          ],
          "name": "stdout"
        }
      ]
    },
    {
      "cell_type": "code",
      "metadata": {
        "id": "GHqNg5hEsp-X",
        "colab_type": "code",
        "colab": {
          "base_uri": "https://localhost:8080/",
          "height": 442
        },
        "outputId": "d868796c-382f-4ea0-b385-dded4a0567f4"
      },
      "source": [
        "clf = DecisionTreeClassifier(random_state=42,max_depth=7)\n",
        "clf = clf.fit(X_train, y_train)\n",
        "prefict=clf.predict(X_test)\n",
        "accuracy_score(prefict,y_test)\n",
        "# tree.plot_tree(clf) \n",
        "\n",
        "\n",
        "accu_score = accuracy_score(prefict,y_test)\n",
        "print(accu_score) \n",
        "f11 = f1_score(prefict,y_test,average=None)\n",
        "re = recall_score(prefict,y_test,average='weighted')\n",
        "cm = confusion_matrix(prefict,y_test)\n",
        "pr_sc = precision_score(prefict,y_test,average='weighted')\n",
        "clrp = classification_report(prefict,y_test)\n",
        "print(\"**********DECISION TREE WITH DEPTH = 7 ***********\")\n",
        "print(\"accuracy score \",accu_score)\n",
        "print(\"********************\")\n",
        "print(\"f1 score \",f11)\n",
        "print(\"********************\")\n",
        "print(\"recall score \",re)\n",
        "print(\"********************\")\n",
        "print(\"confusion matrix \",cm)\n",
        "print(\"********************\")\n",
        "print(\"precision score \",pr_sc)\n",
        "print(\"********************\")\n",
        "print(\"classification report \",clrp)\n",
        "\n",
        "fpr_1 = dict()\n",
        "tpr_1 = dict()\n",
        "roc_auc_1 = dict()\n",
        "# for i in range(0,2):\n",
        "fpr_1, tpr_1,threshlod_1 = roc_curve(prefict,y_test)\n",
        "roc_auc_1 = auc(fpr_1, tpr_1)\n",
        "\n",
        "print(\"ROC_AUC \",roc_auc_1)\n",
        "print(\"FPR,TPR \",fpr_1,tpr_1)\n",
        "print(\"THRESHOLD \",threshlod_1)"
      ],
      "execution_count": 301,
      "outputs": [
        {
          "output_type": "stream",
          "text": [
            "0.7091904132855256\n",
            "**********DECISION TREE WITH DEPTH = 7 ***********\n",
            "accuracy score  0.7091904132855256\n",
            "********************\n",
            "f1 score  [0.73097067 0.6835729 ]\n",
            "********************\n",
            "recall score  0.7091904132855256\n",
            "********************\n",
            "confusion matrix  [[4187 1837]\n",
            " [1245 3329]]\n",
            "********************\n",
            "precision score  0.7162508942575899\n",
            "********************\n",
            "classification report                precision    recall  f1-score   support\n",
            "\n",
            "         0.0       0.77      0.70      0.73      6024\n",
            "         1.0       0.64      0.73      0.68      4574\n",
            "\n",
            "    accuracy                           0.71     10598\n",
            "   macro avg       0.71      0.71      0.71     10598\n",
            "weighted avg       0.72      0.71      0.71     10598\n",
            "\n",
            "ROC_AUC  0.711431239043244\n",
            "FPR,TPR  [0.         0.30494688 1.        ] [0.         0.72780936 1.        ]\n",
            "THRESHOLD  [2. 1. 0.]\n"
          ],
          "name": "stdout"
        }
      ]
    },
    {
      "cell_type": "code",
      "metadata": {
        "id": "oPrpgP8BsukI",
        "colab_type": "code",
        "colab": {
          "base_uri": "https://localhost:8080/",
          "height": 442
        },
        "outputId": "18470290-df06-45a9-fb84-e2c9351caeed"
      },
      "source": [
        "clf = DecisionTreeClassifier(random_state=42,max_depth=3)\n",
        "clf = clf.fit(X_train, y_train)\n",
        "prefict=clf.predict(X_test)\n",
        "accuracy_score(prefict,y_test)\n",
        "# tree.plot_tree(clf) \n",
        "\n",
        "\n",
        "accu_score = accuracy_score(prefict,y_test)\n",
        "print(accu_score) \n",
        "f11 = f1_score(prefict,y_test,average=None)\n",
        "re = recall_score(prefict,y_test,average='weighted')\n",
        "cm = confusion_matrix(prefict,y_test)\n",
        "pr_sc = precision_score(prefict,y_test,average='weighted')\n",
        "clrp = classification_report(prefict,y_test)\n",
        "print(\"**********DECISION TREE WITH DEPTH = 3 ***********\")\n",
        "print(\"accuracy score \",accu_score)\n",
        "print(\"********************\")\n",
        "print(\"f1 score \",f11)\n",
        "print(\"********************\")\n",
        "print(\"recall score \",re)\n",
        "print(\"********************\")\n",
        "print(\"confusion matrix \",cm)\n",
        "print(\"********************\")\n",
        "print(\"precision score \",pr_sc)\n",
        "print(\"********************\")\n",
        "print(\"classification report \",clrp)\n",
        "\n",
        "fpr_2 = dict()\n",
        "tpr_2 = dict()\n",
        "roc_auc_2 = dict()\n",
        "# for i in range(0,2):\n",
        "fpr_2, tpr_2,threshlod_2 = roc_curve(prefict,y_test)\n",
        "roc_auc_2 = auc(fpr_2, tpr_2)\n",
        "\n",
        "print(\"ROC_AUC \",roc_auc_2)\n",
        "print(\"FPR,TPR \",fpr_2,tpr_2)\n",
        "print(\"THRESHOLD \",threshlod_2)"
      ],
      "execution_count": 302,
      "outputs": [
        {
          "output_type": "stream",
          "text": [
            "0.6755991696546518\n",
            "**********DECISION TREE WITH DEPTH = 3 ***********\n",
            "accuracy score  0.6755991696546518\n",
            "********************\n",
            "f1 score  [0.73319882 0.58628159]\n",
            "********************\n",
            "recall score  0.6755991696546518\n",
            "********************\n",
            "confusion matrix  [[4724 2730]\n",
            " [ 708 2436]]\n",
            "********************\n",
            "precision score  0.7515561111877077\n",
            "********************\n",
            "classification report                precision    recall  f1-score   support\n",
            "\n",
            "         0.0       0.87      0.63      0.73      7454\n",
            "         1.0       0.47      0.77      0.59      3144\n",
            "\n",
            "    accuracy                           0.68     10598\n",
            "   macro avg       0.67      0.70      0.66     10598\n",
            "weighted avg       0.75      0.68      0.69     10598\n",
            "\n",
            "ROC_AUC  0.7042814247998411\n",
            "FPR,TPR  [0.         0.36624631 1.        ] [0.         0.77480916 1.        ]\n",
            "THRESHOLD  [2. 1. 0.]\n"
          ],
          "name": "stdout"
        }
      ]
    },
    {
      "cell_type": "markdown",
      "metadata": {
        "id": "W5GraMleIJ7l",
        "colab_type": "text"
      },
      "source": [
        "**According to the below present ROC curve for pre-prune depth=9, AUC is 0.711 it means there is 71.1% chance that model will be able to distinguish between positive class and negative class.**"
      ]
    },
    {
      "cell_type": "code",
      "metadata": {
        "id": "k_rS1rtzsm3f",
        "colab_type": "code",
        "colab": {
          "base_uri": "https://localhost:8080/",
          "height": 295
        },
        "outputId": "17aa9281-d40e-46c7-c32c-46728dd9a8c1"
      },
      "source": [
        "import matplotlib.pyplot as plt\n",
        "\n",
        "plt.figure()\n",
        "lw = 2\n",
        "plt.plot(fpr, tpr, color='darkorange',\n",
        "         lw=lw, label='ROC curve for DEPTH=9(area = %0.3f)' % roc_auc)\n",
        "\n",
        "plt.plot(fpr_1, tpr_1, color='darkgreen',\n",
        "         lw=lw, label='ROC curve for DEPTH=7(area = %0.3f)' % roc_auc_1)\n",
        "\n",
        "plt.plot(fpr_2, tpr_2, color='magenta',\n",
        "         lw=lw, label='ROC curve  for DEPTH=3(area = %0.3f)' % roc_auc_2)\n",
        "plt.plot([0, 1], [0, 1], color='navy', lw=lw, linestyle='--')\n",
        "plt.xlim([0.0, 1.0])\n",
        "plt.ylim([0.0, 1.05])\n",
        "plt.xlabel('False Positive Rate')\n",
        "plt.ylabel('True Positive Rate')\n",
        "plt.title('Receiver operating characteristic example')\n",
        "plt.legend(loc=\"lower right\")\n",
        "plt.show()"
      ],
      "execution_count": 303,
      "outputs": [
        {
          "output_type": "display_data",
          "data": {
            "image/png": "[encoded data removed]",
            "text/plain": [
              "<Figure size 432x288 with 1 Axes>"
            ]
          },
          "metadata": {
            "tags": [],
            "needs_background": "light"
          }
        }
      ]
    },
    {
      "cell_type": "markdown",
      "metadata": {
        "id": "JF_2g8xBAqWj",
        "colab_type": "text"
      },
      "source": [
        "**DATA CLEANING : dropped all the columns having null values more than 60% of the dataset , In case of magnitude and depth,replaced nan values by mean , In case of date and month,replaced nan values by mode**"
      ]
    },
    {
      "cell_type": "markdown",
      "metadata": {
        "id": "ZleITenHCs9g",
        "colab_type": "text"
      },
      "source": [
        "**Decision Tree classifers are better because they can distinguish postive and negetive class better than KNN classifiers, as observed in the above ROC curves**"
      ]
    },
    {
      "cell_type": "markdown",
      "metadata": {
        "id": "hdpNb0gyLI7k",
        "colab_type": "text"
      },
      "source": [
        "**Observation : feature does help in improvising the model to a little extent**\n",
        "**New feature - TimeStamp is created using existing features Date,month and year, without using additional feature, maximum AUC was around 70% and after using new feature AUC is 71% and has better accuracy and precision**"
      ]
    },
    {
      "cell_type": "code",
      "metadata": {
        "id": "DEaL1g9_OBPI",
        "colab_type": "code",
        "colab": {}
      },
      "source": [
        ""
      ],
      "execution_count": 303,
      "outputs": []
    }
  ]
}