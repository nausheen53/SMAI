{
  "nbformat": 4,
  "nbformat_minor": 0,
  "metadata": {
    "colab": {
      "name": "DAFINAL_1_goodAcc.ipynb",
      "provenance": [],
      "collapsed_sections": [],
      "include_colab_link": true
    },
    "kernelspec": {
      "name": "python3",
      "display_name": "Python 3"
    }
  },
  "cells": [
    {
      "cell_type": "markdown",
      "metadata": {
        "id": "view-in-github",
        "colab_type": "text"
      },
      "source": [
        "<a href=\"https://colab.research.google.com/github/nausheen53/SMAI/blob/master/DAFINAL_1_goodAcc.ipynb\" target=\"_parent\"><img src=\"https://colab.research.google.com/assets/colab-badge.svg\" alt=\"Open In Colab\"/></a>"
      ]
    },
    {
      "cell_type": "markdown",
      "metadata": {
        "id": "OJ_ltHQu-sPZ",
        "colab_type": "text"
      },
      "source": [
        "## ***DATA ANLALYTICS ASSIGNMENT***"
      ]
    },
    {
      "cell_type": "markdown",
      "metadata": {
        "id": "H6DhpLfo-43T",
        "colab_type": "text"
      },
      "source": [
        "### ***Data preprocessing ***"
      ]
    },
    {
      "cell_type": "code",
      "metadata": {
        "id": "dDkkqDZSY3Zf",
        "colab_type": "code",
        "colab": {}
      },
      "source": [
        "import pandas as pd"
      ],
      "execution_count": null,
      "outputs": []
    },
    {
      "cell_type": "code",
      "metadata": {
        "id": "4zI2OV0xaogH",
        "colab_type": "code",
        "colab": {}
      },
      "source": [
        "#from google.colab import drive\n",
        "# drive.mount('/content/drive')"
      ],
      "execution_count": null,
      "outputs": []
    },
    {
      "cell_type": "code",
      "metadata": {
        "id": "NQgwc_6Yaq56",
        "colab_type": "code",
        "colab": {}
      },
      "source": [
        "# data=pd.read_excel(\"/content/drive/My Drive/DA-1/earth.xls\")"
      ],
      "execution_count": null,
      "outputs": []
    },
    {
      "cell_type": "code",
      "metadata": {
        "id": "Cu6R4BtCrj0S",
        "colab_type": "code",
        "colab": {}
      },
      "source": [
        "data =pd.read_excel(\"earth.xls\")"
      ],
      "execution_count": null,
      "outputs": []
    },
    {
      "cell_type": "code",
      "metadata": {
        "id": "h5eBEHzGcRJK",
        "colab_type": "code",
        "colab": {
          "base_uri": "https://localhost:8080/",
          "height": 521
        },
        "outputId": "03e1161f-b019-4231-de34-f4070c0771d6"
      },
      "source": [
        "data"
      ],
      "execution_count": null,
      "outputs": [
        {
          "output_type": "execute_result",
          "data": {
            "text/html": [
              "<div>\n",
              "<style scoped>\n",
              "    .dataframe tbody tr th:only-of-type {\n",
              "        vertical-align: middle;\n",
              "    }\n",
              "\n",
              "    .dataframe tbody tr th {\n",
              "        vertical-align: top;\n",
              "    }\n",
              "\n",
              "    .dataframe thead th {\n",
              "        text-align: right;\n",
              "    }\n",
              "</style>\n",
              "<table border=\"1\" class=\"dataframe\">\n",
              "  <thead>\n",
              "    <tr style=\"text-align: right;\">\n",
              "      <th></th>\n",
              "      <th>Sl. No.</th>\n",
              "      <th>YEAR</th>\n",
              "      <th>MONTH</th>\n",
              "      <th>DATE</th>\n",
              "      <th>ORIGIN TIME</th>\n",
              "      <th>Unnamed: 5</th>\n",
              "      <th>MAGNITUDE</th>\n",
              "      <th>Unnamed: 7</th>\n",
              "      <th>Unnamed: 8</th>\n",
              "      <th>Unnamed: 9</th>\n",
              "      <th>Unnamed: 10</th>\n",
              "      <th>Unnamed: 11</th>\n",
              "      <th>LAT (N)</th>\n",
              "      <th>LONG (E)</th>\n",
              "      <th>DEPTH (km)</th>\n",
              "      <th>INTENSITY</th>\n",
              "      <th>Unnamed: 16</th>\n",
              "      <th>Unnamed: 17</th>\n",
              "      <th>LOCATION</th>\n",
              "      <th>REFERENCE</th>\n",
              "    </tr>\n",
              "  </thead>\n",
              "  <tbody>\n",
              "    <tr>\n",
              "      <th>0</th>\n",
              "      <td>NaN</td>\n",
              "      <td>NaN</td>\n",
              "      <td>NaN</td>\n",
              "      <td>NaN</td>\n",
              "      <td>(UTC)</td>\n",
              "      <td>(IST)</td>\n",
              "      <td>Mw</td>\n",
              "      <td>Mw</td>\n",
              "      <td>Mb</td>\n",
              "      <td>Mb</td>\n",
              "      <td>Ms</td>\n",
              "      <td>ML</td>\n",
              "      <td>NaN</td>\n",
              "      <td>NaN</td>\n",
              "      <td>NaN</td>\n",
              "      <td>MM</td>\n",
              "      <td>MMI</td>\n",
              "      <td>MME</td>\n",
              "      <td>NaN</td>\n",
              "      <td>NaN</td>\n",
              "    </tr>\n",
              "    <tr>\n",
              "      <th>1</th>\n",
              "      <td>1.0</td>\n",
              "      <td>-2474.0</td>\n",
              "      <td>0</td>\n",
              "      <td>0.0</td>\n",
              "      <td>NaN</td>\n",
              "      <td>NaN</td>\n",
              "      <td>7.5</td>\n",
              "      <td>7.5</td>\n",
              "      <td>NaN</td>\n",
              "      <td>6.9692</td>\n",
              "      <td>8.78459</td>\n",
              "      <td>7.42707</td>\n",
              "      <td>71</td>\n",
              "      <td>24</td>\n",
              "      <td>0.0</td>\n",
              "      <td>NaN</td>\n",
              "      <td>NaN</td>\n",
              "      <td>NaN</td>\n",
              "      <td>NaN</td>\n",
              "      <td>Dr STGR</td>\n",
              "    </tr>\n",
              "    <tr>\n",
              "      <th>2</th>\n",
              "      <td>2.0</td>\n",
              "      <td>-325.0</td>\n",
              "      <td>0</td>\n",
              "      <td>0.0</td>\n",
              "      <td>NaN</td>\n",
              "      <td>NaN</td>\n",
              "      <td>7.5</td>\n",
              "      <td>7.5</td>\n",
              "      <td>NaN</td>\n",
              "      <td>6.9692</td>\n",
              "      <td>8.78459</td>\n",
              "      <td>7.42707</td>\n",
              "      <td>71</td>\n",
              "      <td>24</td>\n",
              "      <td>0.0</td>\n",
              "      <td>NaN</td>\n",
              "      <td>NaN</td>\n",
              "      <td>NaN</td>\n",
              "      <td>NaN</td>\n",
              "      <td>Dr STGR</td>\n",
              "    </tr>\n",
              "    <tr>\n",
              "      <th>3</th>\n",
              "      <td>3.0</td>\n",
              "      <td>25.0</td>\n",
              "      <td>0</td>\n",
              "      <td>0.0</td>\n",
              "      <td>NaN</td>\n",
              "      <td>NaN</td>\n",
              "      <td>7.5</td>\n",
              "      <td>7.5</td>\n",
              "      <td>NaN</td>\n",
              "      <td>6.9692</td>\n",
              "      <td>8.78459</td>\n",
              "      <td>7.42707</td>\n",
              "      <td>72.9</td>\n",
              "      <td>33.72</td>\n",
              "      <td>0.0</td>\n",
              "      <td>NaN</td>\n",
              "      <td>NaN</td>\n",
              "      <td>NaN</td>\n",
              "      <td>NaN</td>\n",
              "      <td>Dr STGR</td>\n",
              "    </tr>\n",
              "    <tr>\n",
              "      <th>4</th>\n",
              "      <td>4.0</td>\n",
              "      <td>26.0</td>\n",
              "      <td>5</td>\n",
              "      <td>10.0</td>\n",
              "      <td>08.19.10.0</td>\n",
              "      <td>NaN</td>\n",
              "      <td>6.1397</td>\n",
              "      <td>6.1397</td>\n",
              "      <td>5.73705</td>\n",
              "      <td>5.73705</td>\n",
              "      <td>6.40228</td>\n",
              "      <td>5.99969</td>\n",
              "      <td>17.3</td>\n",
              "      <td>80.1</td>\n",
              "      <td>NaN</td>\n",
              "      <td>NaN</td>\n",
              "      <td>NaN</td>\n",
              "      <td>NaN</td>\n",
              "      <td>NaN</td>\n",
              "      <td>NEIC</td>\n",
              "    </tr>\n",
              "    <tr>\n",
              "      <th>...</th>\n",
              "      <td>...</td>\n",
              "      <td>...</td>\n",
              "      <td>...</td>\n",
              "      <td>...</td>\n",
              "      <td>...</td>\n",
              "      <td>...</td>\n",
              "      <td>...</td>\n",
              "      <td>...</td>\n",
              "      <td>...</td>\n",
              "      <td>...</td>\n",
              "      <td>...</td>\n",
              "      <td>...</td>\n",
              "      <td>...</td>\n",
              "      <td>...</td>\n",
              "      <td>...</td>\n",
              "      <td>...</td>\n",
              "      <td>...</td>\n",
              "      <td>...</td>\n",
              "      <td>...</td>\n",
              "      <td>...</td>\n",
              "    </tr>\n",
              "    <tr>\n",
              "      <th>52985</th>\n",
              "      <td>52970.0</td>\n",
              "      <td>2019.0</td>\n",
              "      <td>7</td>\n",
              "      <td>28.0</td>\n",
              "      <td>19:24:08</td>\n",
              "      <td>00:54:08/2019-07-29/</td>\n",
              "      <td>3.2</td>\n",
              "      <td>3.2</td>\n",
              "      <td>NaN</td>\n",
              "      <td>3.07428</td>\n",
              "      <td>1.25394</td>\n",
              "      <td>2.91501</td>\n",
              "      <td>32.8°N</td>\n",
              "      <td>78.4°E</td>\n",
              "      <td>10.0</td>\n",
              "      <td>NaN</td>\n",
              "      <td>NaN</td>\n",
              "      <td>NaN</td>\n",
              "      <td>Jammu &amp; Kashmir</td>\n",
              "      <td>NaN</td>\n",
              "    </tr>\n",
              "    <tr>\n",
              "      <th>52986</th>\n",
              "      <td>52971.0</td>\n",
              "      <td>2019.0</td>\n",
              "      <td>7</td>\n",
              "      <td>28.0</td>\n",
              "      <td>10:44:10</td>\n",
              "      <td>16:14:10</td>\n",
              "      <td>3.6</td>\n",
              "      <td>3.6</td>\n",
              "      <td>NaN</td>\n",
              "      <td>3.43659</td>\n",
              "      <td>1.95447</td>\n",
              "      <td>3.33473</td>\n",
              "      <td>25.5°N</td>\n",
              "      <td>90.4°E</td>\n",
              "      <td>70.0</td>\n",
              "      <td>NaN</td>\n",
              "      <td>NaN</td>\n",
              "      <td>NaN</td>\n",
              "      <td>Distt. East Garo Hills ,Meghalaya</td>\n",
              "      <td>NaN</td>\n",
              "    </tr>\n",
              "    <tr>\n",
              "      <th>52987</th>\n",
              "      <td>52972.0</td>\n",
              "      <td>2019.0</td>\n",
              "      <td>7</td>\n",
              "      <td>28.0</td>\n",
              "      <td>21:25:06</td>\n",
              "      <td>2019-07-29 02:55:06</td>\n",
              "      <td>4</td>\n",
              "      <td>4</td>\n",
              "      <td>NaN</td>\n",
              "      <td>3.79891</td>\n",
              "      <td>2.65499</td>\n",
              "      <td>3.75446</td>\n",
              "      <td>23.2°N</td>\n",
              "      <td>86.5°E</td>\n",
              "      <td>22.0</td>\n",
              "      <td>NaN</td>\n",
              "      <td>NaN</td>\n",
              "      <td>NaN</td>\n",
              "      <td>Distt. Puruliya, West Bengal</td>\n",
              "      <td>NaN</td>\n",
              "    </tr>\n",
              "    <tr>\n",
              "      <th>52988</th>\n",
              "      <td>52973.0</td>\n",
              "      <td>2019.0</td>\n",
              "      <td>7</td>\n",
              "      <td>29.0</td>\n",
              "      <td>03:33:53</td>\n",
              "      <td>09:03:53</td>\n",
              "      <td>4.3</td>\n",
              "      <td>4.3</td>\n",
              "      <td>NaN</td>\n",
              "      <td>4.07065</td>\n",
              "      <td>3.18039</td>\n",
              "      <td>4.06925</td>\n",
              "      <td>32.8°N</td>\n",
              "      <td>76.4°E</td>\n",
              "      <td>20.0</td>\n",
              "      <td>NaN</td>\n",
              "      <td>NaN</td>\n",
              "      <td>NaN</td>\n",
              "      <td>Distt. Lahaul-Spiti,Himachal Pradesh</td>\n",
              "      <td>NaN</td>\n",
              "    </tr>\n",
              "    <tr>\n",
              "      <th>52989</th>\n",
              "      <td>52974.0</td>\n",
              "      <td>2019.0</td>\n",
              "      <td>7</td>\n",
              "      <td>31.0</td>\n",
              "      <td>14:50:02</td>\n",
              "      <td>20:20:02</td>\n",
              "      <td>3</td>\n",
              "      <td>3</td>\n",
              "      <td>NaN</td>\n",
              "      <td>2.89312</td>\n",
              "      <td>0.903678</td>\n",
              "      <td>2.70514</td>\n",
              "      <td>20.0°N</td>\n",
              "      <td>72.8°E</td>\n",
              "      <td>10.0</td>\n",
              "      <td>NaN</td>\n",
              "      <td>NaN</td>\n",
              "      <td>NaN</td>\n",
              "      <td>Distt. Palghar, Maharashtra</td>\n",
              "      <td>NaN</td>\n",
              "    </tr>\n",
              "  </tbody>\n",
              "</table>\n",
              "<p>52990 rows × 20 columns</p>\n",
              "</div>"
            ],
            "text/plain": [
              "       Sl. No.   YEAR   ...                              LOCATION  REFERENCE\n",
              "0          NaN     NaN  ...                                   NaN        NaN\n",
              "1          1.0 -2474.0  ...                                   NaN    Dr STGR\n",
              "2          2.0  -325.0  ...                                   NaN    Dr STGR\n",
              "3          3.0    25.0  ...                                   NaN    Dr STGR\n",
              "4          4.0    26.0  ...                                   NaN       NEIC\n",
              "...        ...     ...  ...                                   ...        ...\n",
              "52985  52970.0  2019.0  ...                       Jammu & Kashmir        NaN\n",
              "52986  52971.0  2019.0  ...     Distt. East Garo Hills ,Meghalaya        NaN\n",
              "52987  52972.0  2019.0  ...          Distt. Puruliya, West Bengal        NaN\n",
              "52988  52973.0  2019.0  ...  Distt. Lahaul-Spiti,Himachal Pradesh        NaN\n",
              "52989  52974.0  2019.0  ...           Distt. Palghar, Maharashtra        NaN\n",
              "\n",
              "[52990 rows x 20 columns]"
            ]
          },
          "metadata": {
            "tags": []
          },
          "execution_count": 118
        }
      ]
    },
    {
      "cell_type": "code",
      "metadata": {
        "id": "pfY96bMl2Zqn",
        "colab_type": "code",
        "colab": {
          "base_uri": "https://localhost:8080/",
          "height": 374
        },
        "outputId": "e2267f3d-bd48-4b16-e82c-9a8114e5b79b"
      },
      "source": [
        "data.isnull().sum(axis = 0)"
      ],
      "execution_count": null,
      "outputs": [
        {
          "output_type": "execute_result",
          "data": {
            "text/plain": [
              "Sl. No.            1\n",
              "YEAR               1\n",
              "MONTH             19\n",
              "DATE              58\n",
              "ORIGIN TIME    31803\n",
              "Unnamed: 5     52563\n",
              "MAGNITUDE      12054\n",
              "Unnamed: 7      2507\n",
              "Unnamed: 8     40706\n",
              "Unnamed: 9      2492\n",
              "Unnamed: 10      169\n",
              "Unnamed: 11      169\n",
              "LAT (N)            1\n",
              "LONG (E)           1\n",
              "DEPTH (km)      2179\n",
              "INTENSITY      52948\n",
              "Unnamed: 16    52989\n",
              "Unnamed: 17    52989\n",
              "LOCATION       43616\n",
              "REFERENCE       1583\n",
              "dtype: int64"
            ]
          },
          "metadata": {
            "tags": []
          },
          "execution_count": 119
        }
      ]
    },
    {
      "cell_type": "code",
      "metadata": {
        "id": "M1zXjyFscT8s",
        "colab_type": "code",
        "colab": {}
      },
      "source": [
        "features = ['YEAR ', 'MONTH ', 'DATE','Unnamed: 7','LAT (N)', 'LONG (E)', 'DEPTH (km)','REFERENCE']"
      ],
      "execution_count": null,
      "outputs": []
    },
    {
      "cell_type": "code",
      "metadata": {
        "id": "a-iVTbqbe5xM",
        "colab_type": "code",
        "colab": {}
      },
      "source": [
        "data=data.drop([0])"
      ],
      "execution_count": null,
      "outputs": []
    },
    {
      "cell_type": "code",
      "metadata": {
        "id": "HvSNnsxUe9zX",
        "colab_type": "code",
        "colab": {}
      },
      "source": [
        "data1 = data.reset_index(drop=True)"
      ],
      "execution_count": null,
      "outputs": []
    },
    {
      "cell_type": "code",
      "metadata": {
        "id": "fBlnx8GOh_Zy",
        "colab_type": "code",
        "colab": {
          "base_uri": "https://localhost:8080/",
          "height": 419
        },
        "outputId": "bea46159-db4a-4dbe-ffc9-65bdd29cdee5"
      },
      "source": [
        "final_data=data1[features]\n",
        "final_data"
      ],
      "execution_count": null,
      "outputs": [
        {
          "output_type": "execute_result",
          "data": {
            "text/html": [
              "<div>\n",
              "<style scoped>\n",
              "    .dataframe tbody tr th:only-of-type {\n",
              "        vertical-align: middle;\n",
              "    }\n",
              "\n",
              "    .dataframe tbody tr th {\n",
              "        vertical-align: top;\n",
              "    }\n",
              "\n",
              "    .dataframe thead th {\n",
              "        text-align: right;\n",
              "    }\n",
              "</style>\n",
              "<table border=\"1\" class=\"dataframe\">\n",
              "  <thead>\n",
              "    <tr style=\"text-align: right;\">\n",
              "      <th></th>\n",
              "      <th>YEAR</th>\n",
              "      <th>MONTH</th>\n",
              "      <th>DATE</th>\n",
              "      <th>Unnamed: 7</th>\n",
              "      <th>LAT (N)</th>\n",
              "      <th>LONG (E)</th>\n",
              "      <th>DEPTH (km)</th>\n",
              "      <th>REFERENCE</th>\n",
              "    </tr>\n",
              "  </thead>\n",
              "  <tbody>\n",
              "    <tr>\n",
              "      <th>0</th>\n",
              "      <td>-2474.0</td>\n",
              "      <td>0</td>\n",
              "      <td>0.0</td>\n",
              "      <td>7.5</td>\n",
              "      <td>71</td>\n",
              "      <td>24</td>\n",
              "      <td>0.0</td>\n",
              "      <td>Dr STGR</td>\n",
              "    </tr>\n",
              "    <tr>\n",
              "      <th>1</th>\n",
              "      <td>-325.0</td>\n",
              "      <td>0</td>\n",
              "      <td>0.0</td>\n",
              "      <td>7.5</td>\n",
              "      <td>71</td>\n",
              "      <td>24</td>\n",
              "      <td>0.0</td>\n",
              "      <td>Dr STGR</td>\n",
              "    </tr>\n",
              "    <tr>\n",
              "      <th>2</th>\n",
              "      <td>25.0</td>\n",
              "      <td>0</td>\n",
              "      <td>0.0</td>\n",
              "      <td>7.5</td>\n",
              "      <td>72.9</td>\n",
              "      <td>33.72</td>\n",
              "      <td>0.0</td>\n",
              "      <td>Dr STGR</td>\n",
              "    </tr>\n",
              "    <tr>\n",
              "      <th>3</th>\n",
              "      <td>26.0</td>\n",
              "      <td>5</td>\n",
              "      <td>10.0</td>\n",
              "      <td>6.1397</td>\n",
              "      <td>17.3</td>\n",
              "      <td>80.1</td>\n",
              "      <td>NaN</td>\n",
              "      <td>NEIC</td>\n",
              "    </tr>\n",
              "    <tr>\n",
              "      <th>4</th>\n",
              "      <td>26.0</td>\n",
              "      <td>5</td>\n",
              "      <td>10.0</td>\n",
              "      <td>6.1397</td>\n",
              "      <td>26</td>\n",
              "      <td>97</td>\n",
              "      <td>80.0</td>\n",
              "      <td>G-R</td>\n",
              "    </tr>\n",
              "    <tr>\n",
              "      <th>...</th>\n",
              "      <td>...</td>\n",
              "      <td>...</td>\n",
              "      <td>...</td>\n",
              "      <td>...</td>\n",
              "      <td>...</td>\n",
              "      <td>...</td>\n",
              "      <td>...</td>\n",
              "      <td>...</td>\n",
              "    </tr>\n",
              "    <tr>\n",
              "      <th>52984</th>\n",
              "      <td>2019.0</td>\n",
              "      <td>7</td>\n",
              "      <td>28.0</td>\n",
              "      <td>3.2</td>\n",
              "      <td>32.8°N</td>\n",
              "      <td>78.4°E</td>\n",
              "      <td>10.0</td>\n",
              "      <td>NaN</td>\n",
              "    </tr>\n",
              "    <tr>\n",
              "      <th>52985</th>\n",
              "      <td>2019.0</td>\n",
              "      <td>7</td>\n",
              "      <td>28.0</td>\n",
              "      <td>3.6</td>\n",
              "      <td>25.5°N</td>\n",
              "      <td>90.4°E</td>\n",
              "      <td>70.0</td>\n",
              "      <td>NaN</td>\n",
              "    </tr>\n",
              "    <tr>\n",
              "      <th>52986</th>\n",
              "      <td>2019.0</td>\n",
              "      <td>7</td>\n",
              "      <td>28.0</td>\n",
              "      <td>4</td>\n",
              "      <td>23.2°N</td>\n",
              "      <td>86.5°E</td>\n",
              "      <td>22.0</td>\n",
              "      <td>NaN</td>\n",
              "    </tr>\n",
              "    <tr>\n",
              "      <th>52987</th>\n",
              "      <td>2019.0</td>\n",
              "      <td>7</td>\n",
              "      <td>29.0</td>\n",
              "      <td>4.3</td>\n",
              "      <td>32.8°N</td>\n",
              "      <td>76.4°E</td>\n",
              "      <td>20.0</td>\n",
              "      <td>NaN</td>\n",
              "    </tr>\n",
              "    <tr>\n",
              "      <th>52988</th>\n",
              "      <td>2019.0</td>\n",
              "      <td>7</td>\n",
              "      <td>31.0</td>\n",
              "      <td>3</td>\n",
              "      <td>20.0°N</td>\n",
              "      <td>72.8°E</td>\n",
              "      <td>10.0</td>\n",
              "      <td>NaN</td>\n",
              "    </tr>\n",
              "  </tbody>\n",
              "</table>\n",
              "<p>52989 rows × 8 columns</p>\n",
              "</div>"
            ],
            "text/plain": [
              "        YEAR  MONTH   DATE Unnamed: 7 LAT (N) LONG (E)  DEPTH (km) REFERENCE\n",
              "0     -2474.0      0   0.0        7.5      71       24         0.0   Dr STGR\n",
              "1      -325.0      0   0.0        7.5      71       24         0.0   Dr STGR\n",
              "2        25.0      0   0.0        7.5    72.9    33.72         0.0   Dr STGR\n",
              "3        26.0      5  10.0     6.1397    17.3     80.1         NaN      NEIC\n",
              "4        26.0      5  10.0     6.1397      26       97        80.0       G-R\n",
              "...       ...    ...   ...        ...     ...      ...         ...       ...\n",
              "52984  2019.0      7  28.0        3.2  32.8°N   78.4°E        10.0       NaN\n",
              "52985  2019.0      7  28.0        3.6  25.5°N   90.4°E        70.0       NaN\n",
              "52986  2019.0      7  28.0          4  23.2°N   86.5°E        22.0       NaN\n",
              "52987  2019.0      7  29.0        4.3  32.8°N   76.4°E        20.0       NaN\n",
              "52988  2019.0      7  31.0          3  20.0°N   72.8°E        10.0       NaN\n",
              "\n",
              "[52989 rows x 8 columns]"
            ]
          },
          "metadata": {
            "tags": []
          },
          "execution_count": 123
        }
      ]
    },
    {
      "cell_type": "code",
      "metadata": {
        "id": "Mx2tkcOQiB-1",
        "colab_type": "code",
        "colab": {}
      },
      "source": [
        "final_data_1 = final_data.rename(columns = {'Unnamed: 7': 'MAGNITUDE'}, inplace = False)"
      ],
      "execution_count": null,
      "outputs": []
    },
    {
      "cell_type": "code",
      "metadata": {
        "id": "plr7jtdBsuWK",
        "colab_type": "code",
        "colab": {
          "base_uri": "https://localhost:8080/",
          "height": 419
        },
        "outputId": "3794fb0a-9110-47bd-b752-24b2e9d2f3f8"
      },
      "source": [
        "final_data_1"
      ],
      "execution_count": null,
      "outputs": [
        {
          "output_type": "execute_result",
          "data": {
            "text/html": [
              "<div>\n",
              "<style scoped>\n",
              "    .dataframe tbody tr th:only-of-type {\n",
              "        vertical-align: middle;\n",
              "    }\n",
              "\n",
              "    .dataframe tbody tr th {\n",
              "        vertical-align: top;\n",
              "    }\n",
              "\n",
              "    .dataframe thead th {\n",
              "        text-align: right;\n",
              "    }\n",
              "</style>\n",
              "<table border=\"1\" class=\"dataframe\">\n",
              "  <thead>\n",
              "    <tr style=\"text-align: right;\">\n",
              "      <th></th>\n",
              "      <th>YEAR</th>\n",
              "      <th>MONTH</th>\n",
              "      <th>DATE</th>\n",
              "      <th>MAGNITUDE</th>\n",
              "      <th>LAT (N)</th>\n",
              "      <th>LONG (E)</th>\n",
              "      <th>DEPTH (km)</th>\n",
              "      <th>REFERENCE</th>\n",
              "    </tr>\n",
              "  </thead>\n",
              "  <tbody>\n",
              "    <tr>\n",
              "      <th>0</th>\n",
              "      <td>-2474.0</td>\n",
              "      <td>0</td>\n",
              "      <td>0.0</td>\n",
              "      <td>7.5</td>\n",
              "      <td>71</td>\n",
              "      <td>24</td>\n",
              "      <td>0.0</td>\n",
              "      <td>Dr STGR</td>\n",
              "    </tr>\n",
              "    <tr>\n",
              "      <th>1</th>\n",
              "      <td>-325.0</td>\n",
              "      <td>0</td>\n",
              "      <td>0.0</td>\n",
              "      <td>7.5</td>\n",
              "      <td>71</td>\n",
              "      <td>24</td>\n",
              "      <td>0.0</td>\n",
              "      <td>Dr STGR</td>\n",
              "    </tr>\n",
              "    <tr>\n",
              "      <th>2</th>\n",
              "      <td>25.0</td>\n",
              "      <td>0</td>\n",
              "      <td>0.0</td>\n",
              "      <td>7.5</td>\n",
              "      <td>72.9</td>\n",
              "      <td>33.72</td>\n",
              "      <td>0.0</td>\n",
              "      <td>Dr STGR</td>\n",
              "    </tr>\n",
              "    <tr>\n",
              "      <th>3</th>\n",
              "      <td>26.0</td>\n",
              "      <td>5</td>\n",
              "      <td>10.0</td>\n",
              "      <td>6.1397</td>\n",
              "      <td>17.3</td>\n",
              "      <td>80.1</td>\n",
              "      <td>NaN</td>\n",
              "      <td>NEIC</td>\n",
              "    </tr>\n",
              "    <tr>\n",
              "      <th>4</th>\n",
              "      <td>26.0</td>\n",
              "      <td>5</td>\n",
              "      <td>10.0</td>\n",
              "      <td>6.1397</td>\n",
              "      <td>26</td>\n",
              "      <td>97</td>\n",
              "      <td>80.0</td>\n",
              "      <td>G-R</td>\n",
              "    </tr>\n",
              "    <tr>\n",
              "      <th>...</th>\n",
              "      <td>...</td>\n",
              "      <td>...</td>\n",
              "      <td>...</td>\n",
              "      <td>...</td>\n",
              "      <td>...</td>\n",
              "      <td>...</td>\n",
              "      <td>...</td>\n",
              "      <td>...</td>\n",
              "    </tr>\n",
              "    <tr>\n",
              "      <th>52984</th>\n",
              "      <td>2019.0</td>\n",
              "      <td>7</td>\n",
              "      <td>28.0</td>\n",
              "      <td>3.2</td>\n",
              "      <td>32.8°N</td>\n",
              "      <td>78.4°E</td>\n",
              "      <td>10.0</td>\n",
              "      <td>NaN</td>\n",
              "    </tr>\n",
              "    <tr>\n",
              "      <th>52985</th>\n",
              "      <td>2019.0</td>\n",
              "      <td>7</td>\n",
              "      <td>28.0</td>\n",
              "      <td>3.6</td>\n",
              "      <td>25.5°N</td>\n",
              "      <td>90.4°E</td>\n",
              "      <td>70.0</td>\n",
              "      <td>NaN</td>\n",
              "    </tr>\n",
              "    <tr>\n",
              "      <th>52986</th>\n",
              "      <td>2019.0</td>\n",
              "      <td>7</td>\n",
              "      <td>28.0</td>\n",
              "      <td>4</td>\n",
              "      <td>23.2°N</td>\n",
              "      <td>86.5°E</td>\n",
              "      <td>22.0</td>\n",
              "      <td>NaN</td>\n",
              "    </tr>\n",
              "    <tr>\n",
              "      <th>52987</th>\n",
              "      <td>2019.0</td>\n",
              "      <td>7</td>\n",
              "      <td>29.0</td>\n",
              "      <td>4.3</td>\n",
              "      <td>32.8°N</td>\n",
              "      <td>76.4°E</td>\n",
              "      <td>20.0</td>\n",
              "      <td>NaN</td>\n",
              "    </tr>\n",
              "    <tr>\n",
              "      <th>52988</th>\n",
              "      <td>2019.0</td>\n",
              "      <td>7</td>\n",
              "      <td>31.0</td>\n",
              "      <td>3</td>\n",
              "      <td>20.0°N</td>\n",
              "      <td>72.8°E</td>\n",
              "      <td>10.0</td>\n",
              "      <td>NaN</td>\n",
              "    </tr>\n",
              "  </tbody>\n",
              "</table>\n",
              "<p>52989 rows × 8 columns</p>\n",
              "</div>"
            ],
            "text/plain": [
              "        YEAR  MONTH   DATE MAGNITUDE LAT (N) LONG (E)  DEPTH (km) REFERENCE\n",
              "0     -2474.0      0   0.0       7.5      71       24         0.0   Dr STGR\n",
              "1      -325.0      0   0.0       7.5      71       24         0.0   Dr STGR\n",
              "2        25.0      0   0.0       7.5    72.9    33.72         0.0   Dr STGR\n",
              "3        26.0      5  10.0    6.1397    17.3     80.1         NaN      NEIC\n",
              "4        26.0      5  10.0    6.1397      26       97        80.0       G-R\n",
              "...       ...    ...   ...       ...     ...      ...         ...       ...\n",
              "52984  2019.0      7  28.0       3.2  32.8°N   78.4°E        10.0       NaN\n",
              "52985  2019.0      7  28.0       3.6  25.5°N   90.4°E        70.0       NaN\n",
              "52986  2019.0      7  28.0         4  23.2°N   86.5°E        22.0       NaN\n",
              "52987  2019.0      7  29.0       4.3  32.8°N   76.4°E        20.0       NaN\n",
              "52988  2019.0      7  31.0         3  20.0°N   72.8°E        10.0       NaN\n",
              "\n",
              "[52989 rows x 8 columns]"
            ]
          },
          "metadata": {
            "tags": []
          },
          "execution_count": 125
        }
      ]
    },
    {
      "cell_type": "code",
      "metadata": {
        "id": "TIoFKytmiH3C",
        "colab_type": "code",
        "colab": {
          "base_uri": "https://localhost:8080/",
          "height": 170
        },
        "outputId": "8a0cbe90-9388-4799-abea-2e153c38a684"
      },
      "source": [
        "final_data_1.isnull().sum(axis = 0)"
      ],
      "execution_count": null,
      "outputs": [
        {
          "output_type": "execute_result",
          "data": {
            "text/plain": [
              "YEAR             0\n",
              "MONTH           18\n",
              "DATE            57\n",
              "MAGNITUDE     2507\n",
              "LAT (N)          0\n",
              "LONG (E)         0\n",
              "DEPTH (km)    2178\n",
              "REFERENCE     1582\n",
              "dtype: int64"
            ]
          },
          "metadata": {
            "tags": []
          },
          "execution_count": 126
        }
      ]
    },
    {
      "cell_type": "code",
      "metadata": {
        "id": "HPoODCXCiKYH",
        "colab_type": "code",
        "colab": {}
      },
      "source": [
        "final_data_1['MAGNITUDE'].fillna((final_data_1['MAGNITUDE'].mean()), inplace=True)"
      ],
      "execution_count": null,
      "outputs": []
    },
    {
      "cell_type": "code",
      "metadata": {
        "id": "AxIN01uMisA6",
        "colab_type": "code",
        "colab": {}
      },
      "source": [
        "final_data_1['DEPTH (km)'].fillna((final_data_1['DEPTH (km)'].mean()), inplace=True)"
      ],
      "execution_count": null,
      "outputs": []
    },
    {
      "cell_type": "code",
      "metadata": {
        "id": "HF0YXAf2LwcE",
        "colab_type": "code",
        "colab": {}
      },
      "source": [
        "mont = final_data_1['MONTH ']\n",
        "dat = final_data_1['DATE']"
      ],
      "execution_count": null,
      "outputs": []
    },
    {
      "cell_type": "code",
      "metadata": {
        "id": "wmlqCgYn3KY6",
        "colab_type": "code",
        "colab": {}
      },
      "source": [
        "final_data_1['MONTH ']=final_data_1['MONTH '].fillna(final_data_1['MONTH '].mode()[0])\n",
        "final_data_1['DATE']=final_data_1['DATE'].fillna(final_data_1['DATE'].mode()[0])\n",
        "final_data_1['REFERENCE'] = final_data_1['REFERENCE'].fillna(final_data_1['REFERENCE'].mode()[0])"
      ],
      "execution_count": null,
      "outputs": []
    },
    {
      "cell_type": "code",
      "metadata": {
        "id": "EnNFjW0V6vf3",
        "colab_type": "code",
        "colab": {
          "base_uri": "https://localhost:8080/",
          "height": 221
        },
        "outputId": "390265c2-18c0-4049-a676-2049007b35b7"
      },
      "source": [
        "#df_reference  = final_data_1['REFERENCE']\n",
        "df_reference"
      ],
      "execution_count": null,
      "outputs": [
        {
          "output_type": "execute_result",
          "data": {
            "text/plain": [
              "0        Dr STGR\n",
              "1        Dr STGR\n",
              "2        Dr STGR\n",
              "3           NEIC\n",
              "4            G-R\n",
              "          ...   \n",
              "52984    Dr STGR\n",
              "52985    Dr STGR\n",
              "52986    Dr STGR\n",
              "52987    Dr STGR\n",
              "52988    Dr STGR\n",
              "Name: REFERENCE, Length: 52989, dtype: object"
            ]
          },
          "metadata": {
            "tags": []
          },
          "execution_count": 131
        }
      ]
    },
    {
      "cell_type": "code",
      "metadata": {
        "id": "7PDUHDhm8Kg3",
        "colab_type": "code",
        "colab": {
          "base_uri": "https://localhost:8080/",
          "height": 71
        },
        "outputId": "95a1cfdf-c739-476d-eeea-852053fa726e"
      },
      "source": [
        "#ref  =  df_reference.tolist()\n",
        "myset = set(ref)\n",
        "print(myset)\n",
        "print(len(myset))\n",
        "attr = myset"
      ],
      "execution_count": null,
      "outputs": [
        {
          "output_type": "stream",
          "text": [
            "{'GSI', 'CHAN', 'PDE', 'ISR', 'G-R', 'ISC', 'IMD', 'OLD', 'TAN', 'BDA', 'RO', 'LEE', 'ISS/T-S', 'G-R/BDA', 'CM/G-R', 'LEE/T-S', 'HRVD', 'Dr STGR', 'G-R/CM', 'PDE/T-S', 'T-S', 'G-R/T-S', 'CM/ISS', 'T-S/G-R', 'CM/LEE', ' ISC', 'ISS', 'SHL', 'NEIC', 'LEE/CM', 'GERI', 'NGRI', 'MALIK', 'USGS', 'BDA/CM', 'BCI', 'J & S', 'NEIC / USGS'}\n",
            "38\n"
          ],
          "name": "stdout"
        }
      ]
    },
    {
      "cell_type": "code",
      "metadata": {
        "id": "AhRh9pf5DWG9",
        "colab_type": "code",
        "colab": {
          "base_uri": "https://localhost:8080/",
          "height": 102
        },
        "outputId": "83fb621f-a199-4356-f518-37bafd5715fd"
      },
      "source": [
        "!pip install pandas"
      ],
      "execution_count": null,
      "outputs": [
        {
          "output_type": "stream",
          "text": [
            "Requirement already satisfied: pandas in /usr/local/lib/python3.6/dist-packages (1.0.5)\n",
            "Requirement already satisfied: python-dateutil>=2.6.1 in /usr/local/lib/python3.6/dist-packages (from pandas) (2.8.1)\n",
            "Requirement already satisfied: pytz>=2017.2 in /usr/local/lib/python3.6/dist-packages (from pandas) (2018.9)\n",
            "Requirement already satisfied: numpy>=1.13.3 in /usr/local/lib/python3.6/dist-packages (from pandas) (1.18.5)\n",
            "Requirement already satisfied: six>=1.5 in /usr/local/lib/python3.6/dist-packages (from python-dateutil>=2.6.1->pandas) (1.15.0)\n"
          ],
          "name": "stdout"
        }
      ]
    },
    {
      "cell_type": "code",
      "metadata": {
        "id": "Jbo58yrj7ruZ",
        "colab_type": "code",
        "colab": {}
      },
      "source": [
        "#final_data_1 = pd.concat([final_data_1,pd.get_dummies(df_reference)],axis=1)\n",
        "\n",
        "# now drop the original 'country' column (you don't need it anymore)\n",
        "final_data_1.drop(['REFERENCE'],axis=1, inplace=True)"
      ],
      "execution_count": null,
      "outputs": []
    },
    {
      "cell_type": "code",
      "metadata": {
        "id": "Sp6h1b1TD7cx",
        "colab_type": "code",
        "colab": {
          "base_uri": "https://localhost:8080/",
          "height": 419
        },
        "outputId": "0c3468fd-637c-41f3-b387-cfb33cda0401"
      },
      "source": [
        "final_data_1"
      ],
      "execution_count": null,
      "outputs": [
        {
          "output_type": "execute_result",
          "data": {
            "text/html": [
              "<div>\n",
              "<style scoped>\n",
              "    .dataframe tbody tr th:only-of-type {\n",
              "        vertical-align: middle;\n",
              "    }\n",
              "\n",
              "    .dataframe tbody tr th {\n",
              "        vertical-align: top;\n",
              "    }\n",
              "\n",
              "    .dataframe thead th {\n",
              "        text-align: right;\n",
              "    }\n",
              "</style>\n",
              "<table border=\"1\" class=\"dataframe\">\n",
              "  <thead>\n",
              "    <tr style=\"text-align: right;\">\n",
              "      <th></th>\n",
              "      <th>YEAR</th>\n",
              "      <th>MONTH</th>\n",
              "      <th>DATE</th>\n",
              "      <th>MAGNITUDE</th>\n",
              "      <th>LAT (N)</th>\n",
              "      <th>LONG (E)</th>\n",
              "      <th>DEPTH (km)</th>\n",
              "    </tr>\n",
              "  </thead>\n",
              "  <tbody>\n",
              "    <tr>\n",
              "      <th>0</th>\n",
              "      <td>-2474.0</td>\n",
              "      <td>0</td>\n",
              "      <td>0.0</td>\n",
              "      <td>7.5000</td>\n",
              "      <td>71</td>\n",
              "      <td>24</td>\n",
              "      <td>0.000000</td>\n",
              "    </tr>\n",
              "    <tr>\n",
              "      <th>1</th>\n",
              "      <td>-325.0</td>\n",
              "      <td>0</td>\n",
              "      <td>0.0</td>\n",
              "      <td>7.5000</td>\n",
              "      <td>71</td>\n",
              "      <td>24</td>\n",
              "      <td>0.000000</td>\n",
              "    </tr>\n",
              "    <tr>\n",
              "      <th>2</th>\n",
              "      <td>25.0</td>\n",
              "      <td>0</td>\n",
              "      <td>0.0</td>\n",
              "      <td>7.5000</td>\n",
              "      <td>72.9</td>\n",
              "      <td>33.72</td>\n",
              "      <td>0.000000</td>\n",
              "    </tr>\n",
              "    <tr>\n",
              "      <th>3</th>\n",
              "      <td>26.0</td>\n",
              "      <td>5</td>\n",
              "      <td>10.0</td>\n",
              "      <td>6.1397</td>\n",
              "      <td>17.3</td>\n",
              "      <td>80.1</td>\n",
              "      <td>45.569867</td>\n",
              "    </tr>\n",
              "    <tr>\n",
              "      <th>4</th>\n",
              "      <td>26.0</td>\n",
              "      <td>5</td>\n",
              "      <td>10.0</td>\n",
              "      <td>6.1397</td>\n",
              "      <td>26</td>\n",
              "      <td>97</td>\n",
              "      <td>80.000000</td>\n",
              "    </tr>\n",
              "    <tr>\n",
              "      <th>...</th>\n",
              "      <td>...</td>\n",
              "      <td>...</td>\n",
              "      <td>...</td>\n",
              "      <td>...</td>\n",
              "      <td>...</td>\n",
              "      <td>...</td>\n",
              "      <td>...</td>\n",
              "    </tr>\n",
              "    <tr>\n",
              "      <th>52984</th>\n",
              "      <td>2019.0</td>\n",
              "      <td>7</td>\n",
              "      <td>28.0</td>\n",
              "      <td>3.2000</td>\n",
              "      <td>32.8°N</td>\n",
              "      <td>78.4°E</td>\n",
              "      <td>10.000000</td>\n",
              "    </tr>\n",
              "    <tr>\n",
              "      <th>52985</th>\n",
              "      <td>2019.0</td>\n",
              "      <td>7</td>\n",
              "      <td>28.0</td>\n",
              "      <td>3.6000</td>\n",
              "      <td>25.5°N</td>\n",
              "      <td>90.4°E</td>\n",
              "      <td>70.000000</td>\n",
              "    </tr>\n",
              "    <tr>\n",
              "      <th>52986</th>\n",
              "      <td>2019.0</td>\n",
              "      <td>7</td>\n",
              "      <td>28.0</td>\n",
              "      <td>4.0000</td>\n",
              "      <td>23.2°N</td>\n",
              "      <td>86.5°E</td>\n",
              "      <td>22.000000</td>\n",
              "    </tr>\n",
              "    <tr>\n",
              "      <th>52987</th>\n",
              "      <td>2019.0</td>\n",
              "      <td>7</td>\n",
              "      <td>29.0</td>\n",
              "      <td>4.3000</td>\n",
              "      <td>32.8°N</td>\n",
              "      <td>76.4°E</td>\n",
              "      <td>20.000000</td>\n",
              "    </tr>\n",
              "    <tr>\n",
              "      <th>52988</th>\n",
              "      <td>2019.0</td>\n",
              "      <td>7</td>\n",
              "      <td>31.0</td>\n",
              "      <td>3.0000</td>\n",
              "      <td>20.0°N</td>\n",
              "      <td>72.8°E</td>\n",
              "      <td>10.000000</td>\n",
              "    </tr>\n",
              "  </tbody>\n",
              "</table>\n",
              "<p>52989 rows × 7 columns</p>\n",
              "</div>"
            ],
            "text/plain": [
              "        YEAR  MONTH   DATE  MAGNITUDE LAT (N) LONG (E)  DEPTH (km)\n",
              "0     -2474.0      0   0.0     7.5000      71       24    0.000000\n",
              "1      -325.0      0   0.0     7.5000      71       24    0.000000\n",
              "2        25.0      0   0.0     7.5000    72.9    33.72    0.000000\n",
              "3        26.0      5  10.0     6.1397    17.3     80.1   45.569867\n",
              "4        26.0      5  10.0     6.1397      26       97   80.000000\n",
              "...       ...    ...   ...        ...     ...      ...         ...\n",
              "52984  2019.0      7  28.0     3.2000  32.8°N   78.4°E   10.000000\n",
              "52985  2019.0      7  28.0     3.6000  25.5°N   90.4°E   70.000000\n",
              "52986  2019.0      7  28.0     4.0000  23.2°N   86.5°E   22.000000\n",
              "52987  2019.0      7  29.0     4.3000  32.8°N   76.4°E   20.000000\n",
              "52988  2019.0      7  31.0     3.0000  20.0°N   72.8°E   10.000000\n",
              "\n",
              "[52989 rows x 7 columns]"
            ]
          },
          "metadata": {
            "tags": []
          },
          "execution_count": 135
        }
      ]
    },
    {
      "cell_type": "code",
      "metadata": {
        "id": "tIyvgbiwiu7b",
        "colab_type": "code",
        "colab": {
          "base_uri": "https://localhost:8080/",
          "height": 34
        },
        "outputId": "33cb72a3-9f3d-4dba-a249-5edd3a7ed011"
      },
      "source": [
        "latitude = final_data_1['LAT (N)'].tolist()\n",
        "latitude_1=[]\n",
        "for lat in latitude:\n",
        "  if(type(lat)==int):\n",
        "    latitude_1.append(float(lat))\n",
        "  elif(type(lat)==float):\n",
        "    latitude_1.append(lat)\n",
        "  elif(type(lat)==str):\n",
        "    s=''\n",
        "    if(lat[-1]=='S'):\n",
        "      # print(\"S wala\")\n",
        "      for char in lat:\n",
        "        if(char >= '0' and char <= '9'):\n",
        "          s = s+char\n",
        "        elif(char == '.'):\n",
        "          s = s+ char\n",
        "        else:\n",
        "          continue\n",
        "      if(lat[0]>='0' and lat[0]<='9'):\n",
        "        latitude_1.append(-1*float(s))\n",
        "      else:\n",
        "        # print(\"haa bhai\")\n",
        "        latitude_1.append(float(s))\n",
        "    else:\n",
        "      for char in lat:\n",
        "        if(char >= '0' and char <= '9'):\n",
        "          s = s+char\n",
        "        elif(char == '.'):\n",
        "          s = s+ char\n",
        "        else:\n",
        "          continue\n",
        "      # print(s)\n",
        "      if(lat[0]>='0' and lat[0]<='9'):\n",
        "        latitude_1.append(float(s))\n",
        "      else:\n",
        "        # print(\"minus \",-1*s)\n",
        "        latitude_1.append(-1*float(s))\n",
        "  \n",
        "\n",
        "\n",
        "\n",
        "print(len(latitude_1)) "
      ],
      "execution_count": null,
      "outputs": [
        {
          "output_type": "stream",
          "text": [
            "52989\n"
          ],
          "name": "stdout"
        }
      ]
    },
    {
      "cell_type": "code",
      "metadata": {
        "id": "SwNFcvlKi33j",
        "colab_type": "code",
        "colab": {
          "base_uri": "https://localhost:8080/",
          "height": 34
        },
        "outputId": "57b3b663-33da-4247-f848-9192eaf54fc7"
      },
      "source": [
        "longitude = final_data_1['LONG (E)'].tolist()\n",
        "longitude_1=[]\n",
        "for long in longitude:\n",
        "  if(type(long)==int):\n",
        "    longitude_1.append(float(long))\n",
        "  elif(type(long)==float):\n",
        "    longitude_1.append(long)\n",
        "  elif(type(long)==str):\n",
        "    s=''\n",
        "    if(long[-1]=='W'):\n",
        "      # print(\"S wala\")\n",
        "      for char in long:\n",
        "        if(char >= '0' and char <= '9'):\n",
        "          s = s+char\n",
        "        elif(char == '.'):\n",
        "          s = s+ char\n",
        "        else:\n",
        "          continue\n",
        "      if(long[0]>='0' and long[0]<='9'):\n",
        "        longitude_1.append(-1*float(s))\n",
        "      else:\n",
        "        # print(\"haa bhai\")\n",
        "        longitude_1.append(float(s))\n",
        "    else:\n",
        "      for char in long:\n",
        "        if(char >= '0' and char <= '9'):\n",
        "          s = s+char\n",
        "        elif(char == '.'):\n",
        "          s = s+ char\n",
        "        else:\n",
        "          continue\n",
        "      # print(s)\n",
        "      if(long[0]>='0' and long[0]<='9'):\n",
        "        longitude_1.append(float(s))\n",
        "      else:\n",
        "        # print(\"minus \",-1*s)\n",
        "        longitude_1.append(-1*float(s))\n",
        "  \n",
        "\n",
        "\n",
        "\n",
        "print(len(longitude_1)) "
      ],
      "execution_count": null,
      "outputs": [
        {
          "output_type": "stream",
          "text": [
            "52989\n"
          ],
          "name": "stdout"
        }
      ]
    },
    {
      "cell_type": "code",
      "metadata": {
        "id": "TyUulLh04ucF",
        "colab_type": "code",
        "colab": {}
      },
      "source": [
        "import math\n",
        "date = final_data_1['DATE'].tolist()\n",
        "date_int =[]\n",
        "\n",
        "\n",
        "for dt in date:\n",
        "  date_int.append(int(dt))\n",
        "\n",
        "year = final_data_1['YEAR '].tolist()\n",
        "year_int =[]\n",
        "for yr in year:\n",
        "  year_int.append(int(yr))\n",
        "  \n",
        "\n",
        "month = final_data_1['MONTH '].tolist()\n",
        "# month_int=[]\n",
        "\n",
        "# for mt in month:\n",
        "#   month_int.append(int(mt))"
      ],
      "execution_count": null,
      "outputs": []
    },
    {
      "cell_type": "code",
      "metadata": {
        "id": "DbY8xK2Gi6_P",
        "colab_type": "code",
        "colab": {
          "base_uri": "https://localhost:8080/",
          "height": 255
        },
        "outputId": "07f4d782-a15a-4c1e-a30f-64017330397d"
      },
      "source": [
        "final_data_2 = final_data_1.drop(['LAT (N)','LONG (E)','DATE','YEAR ','MONTH '],axis=1)\n",
        "print(final_data_2)"
      ],
      "execution_count": null,
      "outputs": [
        {
          "output_type": "stream",
          "text": [
            "       MAGNITUDE  DEPTH (km)\n",
            "0         7.5000    0.000000\n",
            "1         7.5000    0.000000\n",
            "2         7.5000    0.000000\n",
            "3         6.1397   45.569867\n",
            "4         6.1397   80.000000\n",
            "...          ...         ...\n",
            "52984     3.2000   10.000000\n",
            "52985     3.6000   70.000000\n",
            "52986     4.0000   22.000000\n",
            "52987     4.3000   20.000000\n",
            "52988     3.0000   10.000000\n",
            "\n",
            "[52989 rows x 2 columns]\n"
          ],
          "name": "stdout"
        }
      ]
    },
    {
      "cell_type": "code",
      "metadata": {
        "id": "PuPVcy4ii-0W",
        "colab_type": "code",
        "colab": {
          "base_uri": "https://localhost:8080/",
          "height": 493
        },
        "outputId": "11b6aa7e-74e7-44be-bfb6-a26edb1f087a"
      },
      "source": [
        "\n",
        "df_latitude = pd.DataFrame (latitude_1,columns=['latitude'])\n",
        "print(df_latitude)\n",
        "df_longitude = pd.DataFrame(longitude_1,columns=['longitude'])\n",
        "print(df_longitude)\n",
        "\n",
        "df_date = pd.DataFrame(date_int,columns=['date'])\n",
        "df_year = pd.DataFrame(year_int,columns=['years'])\n",
        "df_month = pd.DataFrame(month,columns=['month']) "
      ],
      "execution_count": null,
      "outputs": [
        {
          "output_type": "stream",
          "text": [
            "       latitude\n",
            "0          71.0\n",
            "1          71.0\n",
            "2          72.9\n",
            "3          17.3\n",
            "4          26.0\n",
            "...         ...\n",
            "52984      32.8\n",
            "52985      25.5\n",
            "52986      23.2\n",
            "52987      32.8\n",
            "52988      20.0\n",
            "\n",
            "[52989 rows x 1 columns]\n",
            "       longitude\n",
            "0          24.00\n",
            "1          24.00\n",
            "2          33.72\n",
            "3          80.10\n",
            "4          97.00\n",
            "...          ...\n",
            "52984      78.40\n",
            "52985      90.40\n",
            "52986      86.50\n",
            "52987      76.40\n",
            "52988      72.80\n",
            "\n",
            "[52989 rows x 1 columns]\n"
          ],
          "name": "stdout"
        }
      ]
    },
    {
      "cell_type": "code",
      "metadata": {
        "id": "Cig3p9Jf8JNX",
        "colab_type": "code",
        "colab": {
          "base_uri": "https://localhost:8080/",
          "height": 51
        },
        "outputId": "a4e59b61-e63a-46b4-a5a7-976f53af948b"
      },
      "source": [
        "print(df_date.mode())"
      ],
      "execution_count": null,
      "outputs": [
        {
          "output_type": "stream",
          "text": [
            "   date\n",
            "0    27\n"
          ],
          "name": "stdout"
        }
      ]
    },
    {
      "cell_type": "code",
      "metadata": {
        "id": "QAzz995fjEkP",
        "colab_type": "code",
        "colab": {
          "base_uri": "https://localhost:8080/",
          "height": 419
        },
        "outputId": "baae6f38-2dc8-45da-a02a-f6de1a01e08f"
      },
      "source": [
        "df11 = pd.concat([final_data_2,df_latitude],axis=1)\n",
        "df22 = pd.concat([df11,df_longitude],axis=1)\n",
        "df22"
      ],
      "execution_count": null,
      "outputs": [
        {
          "output_type": "execute_result",
          "data": {
            "text/html": [
              "<div>\n",
              "<style scoped>\n",
              "    .dataframe tbody tr th:only-of-type {\n",
              "        vertical-align: middle;\n",
              "    }\n",
              "\n",
              "    .dataframe tbody tr th {\n",
              "        vertical-align: top;\n",
              "    }\n",
              "\n",
              "    .dataframe thead th {\n",
              "        text-align: right;\n",
              "    }\n",
              "</style>\n",
              "<table border=\"1\" class=\"dataframe\">\n",
              "  <thead>\n",
              "    <tr style=\"text-align: right;\">\n",
              "      <th></th>\n",
              "      <th>MAGNITUDE</th>\n",
              "      <th>DEPTH (km)</th>\n",
              "      <th>latitude</th>\n",
              "      <th>longitude</th>\n",
              "    </tr>\n",
              "  </thead>\n",
              "  <tbody>\n",
              "    <tr>\n",
              "      <th>0</th>\n",
              "      <td>7.5000</td>\n",
              "      <td>0.000000</td>\n",
              "      <td>71.0</td>\n",
              "      <td>24.00</td>\n",
              "    </tr>\n",
              "    <tr>\n",
              "      <th>1</th>\n",
              "      <td>7.5000</td>\n",
              "      <td>0.000000</td>\n",
              "      <td>71.0</td>\n",
              "      <td>24.00</td>\n",
              "    </tr>\n",
              "    <tr>\n",
              "      <th>2</th>\n",
              "      <td>7.5000</td>\n",
              "      <td>0.000000</td>\n",
              "      <td>72.9</td>\n",
              "      <td>33.72</td>\n",
              "    </tr>\n",
              "    <tr>\n",
              "      <th>3</th>\n",
              "      <td>6.1397</td>\n",
              "      <td>45.569867</td>\n",
              "      <td>17.3</td>\n",
              "      <td>80.10</td>\n",
              "    </tr>\n",
              "    <tr>\n",
              "      <th>4</th>\n",
              "      <td>6.1397</td>\n",
              "      <td>80.000000</td>\n",
              "      <td>26.0</td>\n",
              "      <td>97.00</td>\n",
              "    </tr>\n",
              "    <tr>\n",
              "      <th>...</th>\n",
              "      <td>...</td>\n",
              "      <td>...</td>\n",
              "      <td>...</td>\n",
              "      <td>...</td>\n",
              "    </tr>\n",
              "    <tr>\n",
              "      <th>52984</th>\n",
              "      <td>3.2000</td>\n",
              "      <td>10.000000</td>\n",
              "      <td>32.8</td>\n",
              "      <td>78.40</td>\n",
              "    </tr>\n",
              "    <tr>\n",
              "      <th>52985</th>\n",
              "      <td>3.6000</td>\n",
              "      <td>70.000000</td>\n",
              "      <td>25.5</td>\n",
              "      <td>90.40</td>\n",
              "    </tr>\n",
              "    <tr>\n",
              "      <th>52986</th>\n",
              "      <td>4.0000</td>\n",
              "      <td>22.000000</td>\n",
              "      <td>23.2</td>\n",
              "      <td>86.50</td>\n",
              "    </tr>\n",
              "    <tr>\n",
              "      <th>52987</th>\n",
              "      <td>4.3000</td>\n",
              "      <td>20.000000</td>\n",
              "      <td>32.8</td>\n",
              "      <td>76.40</td>\n",
              "    </tr>\n",
              "    <tr>\n",
              "      <th>52988</th>\n",
              "      <td>3.0000</td>\n",
              "      <td>10.000000</td>\n",
              "      <td>20.0</td>\n",
              "      <td>72.80</td>\n",
              "    </tr>\n",
              "  </tbody>\n",
              "</table>\n",
              "<p>52989 rows × 4 columns</p>\n",
              "</div>"
            ],
            "text/plain": [
              "       MAGNITUDE  DEPTH (km)  latitude  longitude\n",
              "0         7.5000    0.000000      71.0      24.00\n",
              "1         7.5000    0.000000      71.0      24.00\n",
              "2         7.5000    0.000000      72.9      33.72\n",
              "3         6.1397   45.569867      17.3      80.10\n",
              "4         6.1397   80.000000      26.0      97.00\n",
              "...          ...         ...       ...        ...\n",
              "52984     3.2000   10.000000      32.8      78.40\n",
              "52985     3.6000   70.000000      25.5      90.40\n",
              "52986     4.0000   22.000000      23.2      86.50\n",
              "52987     4.3000   20.000000      32.8      76.40\n",
              "52988     3.0000   10.000000      20.0      72.80\n",
              "\n",
              "[52989 rows x 4 columns]"
            ]
          },
          "metadata": {
            "tags": []
          },
          "execution_count": 142
        }
      ]
    },
    {
      "cell_type": "code",
      "metadata": {
        "id": "unZy8jQKw9yV",
        "colab_type": "code",
        "colab": {}
      },
      "source": [
        ""
      ],
      "execution_count": null,
      "outputs": []
    },
    {
      "cell_type": "code",
      "metadata": {
        "id": "7hwhqRVTjI5j",
        "colab_type": "code",
        "colab": {}
      },
      "source": [
        "target_label=df22['MAGNITUDE']"
      ],
      "execution_count": null,
      "outputs": []
    },
    {
      "cell_type": "code",
      "metadata": {
        "id": "ff2pcuAXjMd5",
        "colab_type": "code",
        "colab": {}
      },
      "source": [
        "target_label=pd.to_numeric(target_label)"
      ],
      "execution_count": null,
      "outputs": []
    },
    {
      "cell_type": "code",
      "metadata": {
        "id": "oAiAVXDnrjpe",
        "colab_type": "code",
        "colab": {
          "base_uri": "https://localhost:8080/",
          "height": 221
        },
        "outputId": "81680771-9b41-4de7-9427-dcd176fa1b00"
      },
      "source": [
        "print(target_label)"
      ],
      "execution_count": null,
      "outputs": [
        {
          "output_type": "stream",
          "text": [
            "0        7.5000\n",
            "1        7.5000\n",
            "2        7.5000\n",
            "3        6.1397\n",
            "4        6.1397\n",
            "          ...  \n",
            "52984    3.2000\n",
            "52985    3.6000\n",
            "52986    4.0000\n",
            "52987    4.3000\n",
            "52988    3.0000\n",
            "Name: MAGNITUDE, Length: 52989, dtype: float64\n"
          ],
          "name": "stdout"
        }
      ]
    },
    {
      "cell_type": "code",
      "metadata": {
        "id": "q9hshkR7jPXB",
        "colab_type": "code",
        "colab": {}
      },
      "source": [
        "count=0\n",
        "for i in range(0,len(target_label)):\n",
        "    \n",
        "#     print(target_label.iloc[i])\n",
        "    if(target_label.iloc[i]<=5):\n",
        "        target_label.iloc[i]=0\n",
        "        # print(\"A \",target_label.iloc[i])\n",
        "    else:\n",
        "        target_label.iloc[i]=1\n",
        "        count=count+1\n",
        "        # print(\"T\",target_label.iloc[i])\n",
        "        \n",
        "# print(target_label)"
      ],
      "execution_count": null,
      "outputs": []
    },
    {
      "cell_type": "code",
      "metadata": {
        "id": "6CfZp5uNjShF",
        "colab_type": "code",
        "colab": {}
      },
      "source": [
        "df22=df22.drop('MAGNITUDE',axis=1)"
      ],
      "execution_count": null,
      "outputs": []
    },
    {
      "cell_type": "code",
      "metadata": {
        "id": "Ve7xVCiQyypf",
        "colab_type": "code",
        "colab": {
          "base_uri": "https://localhost:8080/",
          "height": 34
        },
        "outputId": "a993535a-de29-44a5-c613-4f492e3c1415"
      },
      "source": [
        "# df22=(df22-df22.mean())/df22.std()\n",
        "df22.columns"
      ],
      "execution_count": null,
      "outputs": [
        {
          "output_type": "execute_result",
          "data": {
            "text/plain": [
              "Index(['DEPTH (km)', 'latitude', 'longitude'], dtype='object')"
            ]
          },
          "metadata": {
            "tags": []
          },
          "execution_count": 148
        }
      ]
    },
    {
      "cell_type": "markdown",
      "metadata": {
        "id": "8GoMH6OMvfen",
        "colab_type": "text"
      },
      "source": [
        "## **USING LATITUDE,LONGITUDE,DEPTH AS FEATURE**"
      ]
    },
    {
      "cell_type": "code",
      "metadata": {
        "id": "BiTXeu-hjVVr",
        "colab_type": "code",
        "colab": {}
      },
      "source": [
        "from sklearn.model_selection import train_test_split\n",
        "X_train, X_test, y_train, y_test = train_test_split(df22, target_label, test_size=0.2, random_state=42)"
      ],
      "execution_count": null,
      "outputs": []
    },
    {
      "cell_type": "code",
      "metadata": {
        "id": "rw7ldXfYwLQ6",
        "colab_type": "code",
        "colab": {
          "base_uri": "https://localhost:8080/",
          "height": 204
        },
        "outputId": "4cfbc2b7-d1ae-411c-e72a-f5af2e60a7d7"
      },
      "source": [
        "X_train.head()"
      ],
      "execution_count": null,
      "outputs": [
        {
          "output_type": "execute_result",
          "data": {
            "text/html": [
              "<div>\n",
              "<style scoped>\n",
              "    .dataframe tbody tr th:only-of-type {\n",
              "        vertical-align: middle;\n",
              "    }\n",
              "\n",
              "    .dataframe tbody tr th {\n",
              "        vertical-align: top;\n",
              "    }\n",
              "\n",
              "    .dataframe thead th {\n",
              "        text-align: right;\n",
              "    }\n",
              "</style>\n",
              "<table border=\"1\" class=\"dataframe\">\n",
              "  <thead>\n",
              "    <tr style=\"text-align: right;\">\n",
              "      <th></th>\n",
              "      <th>DEPTH (km)</th>\n",
              "      <th>latitude</th>\n",
              "      <th>longitude</th>\n",
              "    </tr>\n",
              "  </thead>\n",
              "  <tbody>\n",
              "    <tr>\n",
              "      <th>41918</th>\n",
              "      <td>0.0</td>\n",
              "      <td>96.56</td>\n",
              "      <td>6.610</td>\n",
              "    </tr>\n",
              "    <tr>\n",
              "      <th>38878</th>\n",
              "      <td>97.0</td>\n",
              "      <td>30.10</td>\n",
              "      <td>90.260</td>\n",
              "    </tr>\n",
              "    <tr>\n",
              "      <th>36946</th>\n",
              "      <td>0.0</td>\n",
              "      <td>94.27</td>\n",
              "      <td>3.560</td>\n",
              "    </tr>\n",
              "    <tr>\n",
              "      <th>7117</th>\n",
              "      <td>45.4</td>\n",
              "      <td>26.07</td>\n",
              "      <td>90.475</td>\n",
              "    </tr>\n",
              "    <tr>\n",
              "      <th>1243</th>\n",
              "      <td>0.0</td>\n",
              "      <td>98.50</td>\n",
              "      <td>25.500</td>\n",
              "    </tr>\n",
              "  </tbody>\n",
              "</table>\n",
              "</div>"
            ],
            "text/plain": [
              "       DEPTH (km)  latitude  longitude\n",
              "41918         0.0     96.56      6.610\n",
              "38878        97.0     30.10     90.260\n",
              "36946         0.0     94.27      3.560\n",
              "7117         45.4     26.07     90.475\n",
              "1243          0.0     98.50     25.500"
            ]
          },
          "metadata": {
            "tags": []
          },
          "execution_count": 150
        }
      ]
    },
    {
      "cell_type": "markdown",
      "metadata": {
        "id": "oi2AJjiev8Hi",
        "colab_type": "text"
      },
      "source": [
        "# **KNN WITH K = 3**"
      ]
    },
    {
      "cell_type": "code",
      "metadata": {
        "id": "Khpf6iRYq4e3",
        "colab_type": "code",
        "colab": {
          "base_uri": "https://localhost:8080/",
          "height": 68
        },
        "outputId": "46bb6321-ba37-4d07-f7d9-2782ffa85e65"
      },
      "source": [
        "from sklearn.neighbors import KNeighborsClassifier\n",
        "\n",
        "model = KNeighborsClassifier(n_neighbors=3)\n",
        "\n",
        "# Train the model using the training sets\n",
        "model.fit(X_train,y_train)"
      ],
      "execution_count": null,
      "outputs": [
        {
          "output_type": "execute_result",
          "data": {
            "text/plain": [
              "KNeighborsClassifier(algorithm='auto', leaf_size=30, metric='minkowski',\n",
              "                     metric_params=None, n_jobs=None, n_neighbors=3, p=2,\n",
              "                     weights='uniform')"
            ]
          },
          "metadata": {
            "tags": []
          },
          "execution_count": 151
        }
      ]
    },
    {
      "cell_type": "code",
      "metadata": {
        "id": "xP7fPrLsq7aQ",
        "colab_type": "code",
        "colab": {}
      },
      "source": [
        "predicted=model.predict(X_test)"
      ],
      "execution_count": null,
      "outputs": []
    },
    {
      "cell_type": "code",
      "metadata": {
        "id": "6b15VnP8q-ZN",
        "colab_type": "code",
        "colab": {
          "base_uri": "https://localhost:8080/",
          "height": 391
        },
        "outputId": "14530b02-fc3a-4dfa-b949-2f72b7f32e98"
      },
      "source": [
        "from sklearn.metrics import accuracy_score,f1_score,recall_score,confusion_matrix,precision_score,classification_report\n",
        "# print(accuracy_score(predicted,y_test))\n",
        "accu_score = accuracy_score(predicted,y_test,normalize=True)\n",
        "print(accu_score) \n",
        "f11 = f1_score(predicted,y_test,average=None)\n",
        "re = recall_score(predicted,y_test,average='weighted')\n",
        "cm = confusion_matrix(predicted,y_test)\n",
        "pr_sc = precision_score(predicted,y_test,average='weighted')\n",
        "clrp = classification_report(predicted,y_test)\n",
        "print(\"**********KNN WITH K = 3 ***********\")\n",
        "print(\"accuracy score \",accu_score)\n",
        "print(\"********************\")\n",
        "print(\"f1 score \",f11)\n",
        "print(\"********************\")\n",
        "print(\"recall score \",re)\n",
        "print(\"********************\")\n",
        "print(\"confusion matrix \",cm)\n",
        "print(\"********************\")\n",
        "print(\"precision score \",pr_sc)\n",
        "print(\"********************\")\n",
        "print(\"classification report \",clrp)"
      ],
      "execution_count": null,
      "outputs": [
        {
          "output_type": "stream",
          "text": [
            "0.8202491036044537\n",
            "**********KNN WITH K = 3 ***********\n",
            "accuracy score  0.8202491036044537\n",
            "********************\n",
            "f1 score  [0.89739861 0.27538988]\n",
            "********************\n",
            "recall score  0.8202491036044537\n",
            "********************\n",
            "confusion matrix  [[8331 1302]\n",
            " [ 603  362]]\n",
            "********************\n",
            "precision score  0.8674046909841584\n",
            "********************\n",
            "classification report                precision    recall  f1-score   support\n",
            "\n",
            "         0.0       0.93      0.86      0.90      9633\n",
            "         1.0       0.22      0.38      0.28       965\n",
            "\n",
            "    accuracy                           0.82     10598\n",
            "   macro avg       0.58      0.62      0.59     10598\n",
            "weighted avg       0.87      0.82      0.84     10598\n",
            "\n"
          ],
          "name": "stdout"
        }
      ]
    },
    {
      "cell_type": "code",
      "metadata": {
        "id": "3VG-szN5joJG",
        "colab_type": "code",
        "colab": {}
      },
      "source": [
        "from sklearn.metrics import roc_curve, auc\n",
        "from sklearn.metrics import roc_auc_score"
      ],
      "execution_count": null,
      "outputs": []
    },
    {
      "cell_type": "code",
      "metadata": {
        "id": "TeC7ETP6jtQX",
        "colab_type": "code",
        "colab": {
          "base_uri": "https://localhost:8080/",
          "height": 68
        },
        "outputId": "28a7bc65-108d-4e99-e3d1-2d0002672193"
      },
      "source": [
        "y_test=y_test.to_numpy()\n",
        "fpr = dict()\n",
        "tpr = dict()\n",
        "roc_auc = dict()\n",
        "# for i in range(0,2):\n",
        "fpr, tpr,threshlod = roc_curve(y_test, predicted)\n",
        "roc_auc = auc(fpr, tpr)\n",
        "\n",
        "print(\"roc_auc \",roc_auc)\n",
        "print(\"fpr,tpr \",fpr,tpr)\n",
        "print(\"threshold \",threshlod)"
      ],
      "execution_count": null,
      "outputs": [
        {
          "output_type": "stream",
          "text": [
            "roc_auc  0.5750265569303095\n",
            "fpr,tpr  [0.         0.06749496 1.        ] [0.         0.21754808 1.        ]\n",
            "threshold  [2. 1. 0.]\n"
          ],
          "name": "stdout"
        }
      ]
    },
    {
      "cell_type": "markdown",
      "metadata": {
        "id": "J8nBvljnwL2P",
        "colab_type": "text"
      },
      "source": [
        "# **KNN WITH K = 5**"
      ]
    },
    {
      "cell_type": "code",
      "metadata": {
        "id": "KA1JDMG5CXCd",
        "colab_type": "code",
        "colab": {
          "base_uri": "https://localhost:8080/",
          "height": 442
        },
        "outputId": "bcf09173-2350-4c3e-bff5-51c575a88643"
      },
      "source": [
        "from sklearn.neighbors import KNeighborsClassifier\n",
        "\n",
        "model = KNeighborsClassifier(n_neighbors=5)\n",
        "\n",
        "# Train the model using the training sets\n",
        "model.fit(X_train,y_train)\n",
        "predicted=model.predict(X_test)\n",
        "from sklearn.metrics import accuracy_score\n",
        "# print(accuracy_score(predicted,y_test))\n",
        "accu_score = accuracy_score(predicted,y_test,normalize=True)\n",
        "print(accu_score) \n",
        "f11 = f1_score(predicted,y_test,average=None)\n",
        "re = recall_score(predicted,y_test,average='weighted')\n",
        "cm = confusion_matrix(predicted,y_test)\n",
        "pr_sc = precision_score(predicted,y_test,average='weighted')\n",
        "clrp = classification_report(predicted,y_test)\n",
        "print(\"**********KNN WITH K = 5***********\")\n",
        "print(\"accuracy score \",accu_score)\n",
        "print(\"********************\")\n",
        "print(\"f1 score \",f11)\n",
        "print(\"********************\")\n",
        "print(\"recall score \",re)\n",
        "print(\"********************\")\n",
        "print(\"confusion matrix \",cm)\n",
        "print(\"********************\")\n",
        "print(\"precision score \",pr_sc)\n",
        "print(\"********************\")\n",
        "print(\"classification report \",clrp)\n",
        "\n",
        "fpr_1 = dict()\n",
        "tpr_1 = dict()\n",
        "roc_auc_1 = dict()\n",
        "# for i in range(0,2):\n",
        "fpr_1, tpr_1,threshlod_1 = roc_curve(y_test, predicted)\n",
        "roc_auc_1 = auc(fpr_1, tpr_1)\n",
        "\n",
        "print(\"roc_auc \",roc_auc_1)\n",
        "print(\"fpr,tpr \",fpr_1,tpr_1)\n",
        "print(\"threshold \",threshlod_1)"
      ],
      "execution_count": null,
      "outputs": [
        {
          "output_type": "stream",
          "text": [
            "0.8334591432345726\n",
            "**********KNN WITH K = 5***********\n",
            "accuracy score  0.8334591432345726\n",
            "********************\n",
            "f1 score  [0.90641073 0.24475824]\n",
            "********************\n",
            "recall score  0.8334591432345726\n",
            "********************\n",
            "confusion matrix  [[8547 1378]\n",
            " [ 387  286]]\n",
            "********************\n",
            "precision score  0.9068450718158869\n",
            "********************\n",
            "classification report                precision    recall  f1-score   support\n",
            "\n",
            "         0.0       0.96      0.86      0.91      9925\n",
            "         1.0       0.17      0.42      0.24       673\n",
            "\n",
            "    accuracy                           0.83     10598\n",
            "   macro avg       0.56      0.64      0.58     10598\n",
            "weighted avg       0.91      0.83      0.86     10598\n",
            "\n",
            "roc_auc  0.5642786685695098\n",
            "fpr,tpr  [0.         0.04331766 1.        ] [0.       0.171875 1.      ]\n",
            "threshold  [2. 1. 0.]\n"
          ],
          "name": "stdout"
        }
      ]
    },
    {
      "cell_type": "markdown",
      "metadata": {
        "id": "nfA_5Mv_wQa6",
        "colab_type": "text"
      },
      "source": [
        "# **KNN WITH K =7**"
      ]
    },
    {
      "cell_type": "code",
      "metadata": {
        "id": "hlTZ65L8jwKS",
        "colab_type": "code",
        "colab": {
          "base_uri": "https://localhost:8080/",
          "height": 442
        },
        "outputId": "1e21c4b4-8a65-4681-cedf-18bca4ae1071"
      },
      "source": [
        "from sklearn.neighbors import KNeighborsClassifier\n",
        "\n",
        "model = KNeighborsClassifier(n_neighbors=7)\n",
        "\n",
        "# Train the model using the training sets\n",
        "model.fit(X_train,y_train)\n",
        "predicted=model.predict(X_test)\n",
        "from sklearn.metrics import accuracy_score\n",
        "# print(accuracy_score(predicted,y_test))\n",
        "accu_score = accuracy_score(predicted,y_test,normalize=True)\n",
        "print(accu_score) \n",
        "f11 = f1_score(predicted,y_test,average=None)\n",
        "re = recall_score(predicted,y_test,average='weighted')\n",
        "cm = confusion_matrix(predicted,y_test)\n",
        "pr_sc = precision_score(predicted,y_test,average='weighted')\n",
        "clrp = classification_report(predicted,y_test)\n",
        "print(\"**********KNN WITH K = 7 ***********\")\n",
        "print(\"accuracy score \",accu_score)\n",
        "print(\"********************\")\n",
        "print(\"f1 score \",f11)\n",
        "print(\"********************\")\n",
        "print(\"recall score \",re)\n",
        "print(\"********************\")\n",
        "print(\"confusion matrix \",cm)\n",
        "print(\"********************\")\n",
        "print(\"precision score \",pr_sc)\n",
        "print(\"********************\")\n",
        "print(\"classification report \",clrp)\n",
        "\n",
        "fpr_2 = dict()\n",
        "tpr_2 = dict()\n",
        "roc_auc_2 = dict()\n",
        "# for i in range(0,2):\n",
        "fpr_2, tpr_2,threshlod_2 = roc_curve(y_test, predicted)\n",
        "roc_auc_2 = auc(fpr_2, tpr_2)\n",
        "\n",
        "print(\"ROC_AUC \",roc_auc_2)\n",
        "print(\"FPR,TPR \",fpr_2,tpr_2)\n",
        "print(\"THRESHOLD \",threshlod_2)"
      ],
      "execution_count": null,
      "outputs": [
        {
          "output_type": "stream",
          "text": [
            "0.8425174561237969\n",
            "**********KNN WITH K = 7 ***********\n",
            "accuracy score  0.8425174561237969\n",
            "********************\n",
            "f1 score  [0.91231941 0.22767237]\n",
            "********************\n",
            "recall score  0.8425174561237969\n",
            "********************\n",
            "confusion matrix  [[8683 1418]\n",
            " [ 251  246]]\n",
            "********************\n",
            "precision score  0.9332598594047299\n",
            "********************\n",
            "classification report                precision    recall  f1-score   support\n",
            "\n",
            "         0.0       0.97      0.86      0.91     10101\n",
            "         1.0       0.15      0.49      0.23       497\n",
            "\n",
            "    accuracy                           0.84     10598\n",
            "   macro avg       0.56      0.68      0.57     10598\n",
            "weighted avg       0.93      0.84      0.88     10598\n",
            "\n",
            "ROC_AUC  0.5598708100859293\n",
            "FPR,TPR  [0.         0.02809492 1.        ] [0.         0.14783654 1.        ]\n",
            "THRESHOLD  [2. 1. 0.]\n"
          ],
          "name": "stdout"
        }
      ]
    },
    {
      "cell_type": "code",
      "metadata": {
        "id": "hjAw0NSnG8t-",
        "colab_type": "code",
        "colab": {}
      },
      "source": [
        ""
      ],
      "execution_count": null,
      "outputs": []
    },
    {
      "cell_type": "markdown",
      "metadata": {
        "id": "RVr3fli4wae6",
        "colab_type": "text"
      },
      "source": [
        "# **ROC FOR DIFFERENT VALUES OF K**"
      ]
    },
    {
      "cell_type": "markdown",
      "metadata": {
        "id": "VtRWxfEGFA47",
        "colab_type": "text"
      },
      "source": [
        "AUC - ROC curve is a performance measurement for classification problem at various thresholds settings. ROC is a probability curve and AUC represents degree or measure of separability. It tells how much model is capable of distinguishing between classes. Higher the AUC, better the model is at predicting 0s as 0s and 1s as 1s. By analogy, Higher the AUC, better the model is at distinguishing between patients with disease and no disease.\n",
        "\n",
        "**According to the below present ROC curve for k=3, AUC is 0.575 it means there is 57.5% chance that model will be able to distinguish between positive class and negative class**."
      ]
    },
    {
      "cell_type": "code",
      "metadata": {
        "id": "FPiHd2tpjz0G",
        "colab_type": "code",
        "colab": {
          "base_uri": "https://localhost:8080/",
          "height": 295
        },
        "outputId": "71aed793-42f5-4fee-ed1c-eb063029035e"
      },
      "source": [
        "import matplotlib.pyplot as plt\n",
        "\n",
        "plt.figure()\n",
        "lw = 2\n",
        "plt.plot(fpr, tpr, color='darkorange',\n",
        "         lw=lw, label='ROC curve for k=3(area = %0.3f)' % roc_auc)\n",
        "\n",
        "plt.plot(fpr_1, tpr_1, color='darkgreen',\n",
        "         lw=lw, label='ROC curve for k=5(area = %0.3f)' % roc_auc_1)\n",
        "\n",
        "plt.plot(fpr_2, tpr_2, color='magenta',\n",
        "         lw=lw, label='ROC curve  for k=7(area = %0.3f)' % roc_auc_2)\n",
        "plt.plot([0, 1], [0, 1], color='navy', lw=lw, linestyle='--')\n",
        "plt.xlim([0.0, 1.0])\n",
        "plt.ylim([0.0, 1.05])\n",
        "plt.xlabel('False Positive Rate')\n",
        "plt.ylabel('True Positive Rate')\n",
        "plt.title('Receiver operating characteristic example')\n",
        "plt.legend(loc=\"lower right\")\n",
        "plt.show()"
      ],
      "execution_count": null,
      "outputs": [
        {
          "output_type": "display_data",
          "data": {
            "image/png": "[encoded data removed]",
            "text/plain": [
              "<Figure size 432x288 with 1 Axes>"
            ]
          },
          "metadata": {
            "tags": [],
            "needs_background": "light"
          }
        }
      ]
    },
    {
      "cell_type": "markdown",
      "metadata": {
        "id": "rRMi75qewYXn",
        "colab_type": "text"
      },
      "source": [
        "# **DECISION TREE CLASSIFIER WITH DEPTH =3**"
      ]
    },
    {
      "cell_type": "code",
      "metadata": {
        "id": "FnK7x5owrBI1",
        "colab_type": "code",
        "colab": {}
      },
      "source": [
        "from sklearn.tree import DecisionTreeClassifier\n",
        "from sklearn import tree\n",
        "clf = DecisionTreeClassifier(random_state=42,max_depth=3)"
      ],
      "execution_count": null,
      "outputs": []
    },
    {
      "cell_type": "code",
      "metadata": {
        "id": "orFtfpcmvrUn",
        "colab_type": "code",
        "colab": {
          "base_uri": "https://localhost:8080/",
          "height": 503
        },
        "outputId": "8ad08e1a-7262-440a-ce1e-6c489063def0"
      },
      "source": [
        "clf = clf.fit(X_train, y_train)\n",
        "prefict=clf.predict(X_test)\n",
        "accuracy_score(prefict,y_test)\n",
        "tree.plot_tree(clf) "
      ],
      "execution_count": null,
      "outputs": [
        {
          "output_type": "execute_result",
          "data": {
            "text/plain": [
              "[Text(167.4, 190.26, 'X[2] <= 100.75\\ngini = 0.269\\nsamples = 42391\\nvalue = [35615, 6776]'),\n",
              " Text(83.7, 135.9, 'X[1] <= 66.335\\ngini = 0.26\\nsamples = 42046\\nvalue = [35586, 6460]'),\n",
              " Text(41.85, 81.53999999999999, 'X[1] <= 5.25\\ngini = 0.335\\nsamples = 18217\\nvalue = [14342, 3875]'),\n",
              " Text(20.925, 27.180000000000007, 'gini = 0.374\\nsamples = 197\\nvalue = [49, 148]'),\n",
              " Text(62.775000000000006, 27.180000000000007, 'gini = 0.328\\nsamples = 18020\\nvalue = [14293, 3727]'),\n",
              " Text(125.55000000000001, 81.53999999999999, 'X[0] <= 32.05\\ngini = 0.193\\nsamples = 23829\\nvalue = [21244, 2585]'),\n",
              " Text(104.625, 27.180000000000007, 'gini = 0.236\\nsamples = 11957\\nvalue = [10323, 1634]'),\n",
              " Text(146.475, 27.180000000000007, 'gini = 0.147\\nsamples = 11872\\nvalue = [10921, 951]'),\n",
              " Text(251.10000000000002, 135.9, 'X[2] <= 120.75\\ngini = 0.154\\nsamples = 345\\nvalue = [29, 316]'),\n",
              " Text(209.25, 81.53999999999999, 'X[2] <= 120.5\\ngini = 0.38\\nsamples = 55\\nvalue = [14, 41]'),\n",
              " Text(188.32500000000002, 27.180000000000007, 'gini = 0.334\\nsamples = 52\\nvalue = [11, 41]'),\n",
              " Text(230.175, 27.180000000000007, 'gini = 0.0\\nsamples = 3\\nvalue = [3, 0]'),\n",
              " Text(292.95, 81.53999999999999, 'X[1] <= 58.9\\ngini = 0.098\\nsamples = 290\\nvalue = [15, 275]'),\n",
              " Text(272.02500000000003, 27.180000000000007, 'gini = 0.092\\nsamples = 289\\nvalue = [14, 275]'),\n",
              " Text(313.875, 27.180000000000007, 'gini = 0.0\\nsamples = 1\\nvalue = [1, 0]')]"
            ]
          },
          "metadata": {
            "tags": []
          },
          "execution_count": 160
        },
        {
          "output_type": "display_data",
          "data": {
            "image/png": "[encoded data removed]",
            "text/plain": [
              "<Figure size 432x288 with 1 Axes>"
            ]
          },
          "metadata": {
            "tags": [],
            "needs_background": "light"
          }
        }
      ]
    },
    {
      "cell_type": "code",
      "metadata": {
        "id": "bIjhGzkNMMVF",
        "colab_type": "code",
        "colab": {
          "base_uri": "https://localhost:8080/",
          "height": 442
        },
        "outputId": "a4088307-bb46-4cef-d2f5-8a9ab5338911"
      },
      "source": [
        "accu_score = accuracy_score(prefict,y_test)\n",
        "print(accu_score) \n",
        "f11 = f1_score(prefict,y_test,average=None)\n",
        "re = recall_score(prefict,y_test,average='weighted')\n",
        "cm = confusion_matrix(prefict,y_test)\n",
        "pr_sc = precision_score(prefict,y_test,average='weighted')\n",
        "clrp = classification_report(prefict,y_test)\n",
        "print(\"**********DECISION TREE WITH DEPTH = 3 ***********\")\n",
        "print(\"accuracy score \",accu_score)\n",
        "print(\"********************\")\n",
        "print(\"f1 score \",f11)\n",
        "print(\"********************\")\n",
        "print(\"recall score \",re)\n",
        "print(\"********************\")\n",
        "print(\"confusion matrix \",cm)\n",
        "print(\"********************\")\n",
        "print(\"precision score \",pr_sc)\n",
        "print(\"********************\")\n",
        "print(\"classification report \",clrp)\n",
        "\n",
        "fpr = dict()\n",
        "tpr = dict()\n",
        "roc_auc = dict()\n",
        "# for i in range(0,2):\n",
        "fpr, tpr,threshlod = roc_curve(prefict,y_test)\n",
        "roc_auc = auc(fpr, tpr)\n",
        "\n",
        "print(\"ROC_AUC \",roc_auc)\n",
        "print(\"FPR,TPR \",fpr,tpr)\n",
        "print(\"THRESHOLD \",threshlod)"
      ],
      "execution_count": null,
      "outputs": [
        {
          "output_type": "stream",
          "text": [
            "0.8515757690130213\n",
            "**********DECISION TREE WITH DEPTH = 3 ***********\n",
            "accuracy score  0.8515757690130213\n",
            "********************\n",
            "f1 score  [0.91891335 0.1246522 ]\n",
            "********************\n",
            "recall score  0.8515757690130213\n",
            "********************\n",
            "confusion matrix  [[8913 1552]\n",
            " [  21  112]]\n",
            "********************\n",
            "precision score  0.9859740704945368\n",
            "********************\n",
            "classification report                precision    recall  f1-score   support\n",
            "\n",
            "         0.0       1.00      0.85      0.92     10465\n",
            "         1.0       0.07      0.84      0.12       133\n",
            "\n",
            "    accuracy                           0.85     10598\n",
            "   macro avg       0.53      0.85      0.52     10598\n",
            "weighted avg       0.99      0.85      0.91     10598\n",
            "\n",
            "ROC_AUC  0.8469006965574472\n",
            "FPR,TPR  [0.         0.14830387 1.        ] [0.         0.84210526 1.        ]\n",
            "THRESHOLD  [2. 1. 0.]\n"
          ],
          "name": "stdout"
        }
      ]
    },
    {
      "cell_type": "markdown",
      "metadata": {
        "id": "UpSC7SI0wq5a",
        "colab_type": "text"
      },
      "source": [
        "# **DECISION TREE CLASSIFIER WITH DEPTH = 4**"
      ]
    },
    {
      "cell_type": "code",
      "metadata": {
        "id": "0dUPhnH-wTQs",
        "colab_type": "code",
        "colab": {
          "base_uri": "https://localhost:8080/",
          "height": 204
        },
        "outputId": "82285834-781c-4c66-d199-927ef8b0efd6"
      },
      "source": [
        "X_train.head()"
      ],
      "execution_count": null,
      "outputs": [
        {
          "output_type": "execute_result",
          "data": {
            "text/html": [
              "<div>\n",
              "<style scoped>\n",
              "    .dataframe tbody tr th:only-of-type {\n",
              "        vertical-align: middle;\n",
              "    }\n",
              "\n",
              "    .dataframe tbody tr th {\n",
              "        vertical-align: top;\n",
              "    }\n",
              "\n",
              "    .dataframe thead th {\n",
              "        text-align: right;\n",
              "    }\n",
              "</style>\n",
              "<table border=\"1\" class=\"dataframe\">\n",
              "  <thead>\n",
              "    <tr style=\"text-align: right;\">\n",
              "      <th></th>\n",
              "      <th>DEPTH (km)</th>\n",
              "      <th>latitude</th>\n",
              "      <th>longitude</th>\n",
              "    </tr>\n",
              "  </thead>\n",
              "  <tbody>\n",
              "    <tr>\n",
              "      <th>41918</th>\n",
              "      <td>0.0</td>\n",
              "      <td>96.56</td>\n",
              "      <td>6.610</td>\n",
              "    </tr>\n",
              "    <tr>\n",
              "      <th>38878</th>\n",
              "      <td>97.0</td>\n",
              "      <td>30.10</td>\n",
              "      <td>90.260</td>\n",
              "    </tr>\n",
              "    <tr>\n",
              "      <th>36946</th>\n",
              "      <td>0.0</td>\n",
              "      <td>94.27</td>\n",
              "      <td>3.560</td>\n",
              "    </tr>\n",
              "    <tr>\n",
              "      <th>7117</th>\n",
              "      <td>45.4</td>\n",
              "      <td>26.07</td>\n",
              "      <td>90.475</td>\n",
              "    </tr>\n",
              "    <tr>\n",
              "      <th>1243</th>\n",
              "      <td>0.0</td>\n",
              "      <td>98.50</td>\n",
              "      <td>25.500</td>\n",
              "    </tr>\n",
              "  </tbody>\n",
              "</table>\n",
              "</div>"
            ],
            "text/plain": [
              "       DEPTH (km)  latitude  longitude\n",
              "41918         0.0     96.56      6.610\n",
              "38878        97.0     30.10     90.260\n",
              "36946         0.0     94.27      3.560\n",
              "7117         45.4     26.07     90.475\n",
              "1243          0.0     98.50     25.500"
            ]
          },
          "metadata": {
            "tags": []
          },
          "execution_count": 162
        }
      ]
    },
    {
      "cell_type": "code",
      "metadata": {
        "id": "v-Bcxh9DvvRS",
        "colab_type": "code",
        "colab": {
          "base_uri": "https://localhost:8080/",
          "height": 673
        },
        "outputId": "88872544-960b-4936-f4f0-f01e03253bed"
      },
      "source": [
        "clf = DecisionTreeClassifier(random_state=42,max_depth=4)\n",
        "clf = clf.fit(X_train, y_train)\n",
        "prefict=clf.predict(X_test)\n",
        "accuracy_score(prefict,y_test)\n",
        "tree.plot_tree(clf) \n",
        "\n",
        "\n",
        "accu_score = accuracy_score(prefict,y_test)\n",
        "print(accu_score) \n",
        "f11 = f1_score(prefict,y_test,average=None)\n",
        "re = recall_score(prefict,y_test,average='weighted')\n",
        "cm = confusion_matrix(prefict,y_test)\n",
        "pr_sc = precision_score(prefict,y_test,average='weighted')\n",
        "clrp = classification_report(prefict,y_test)\n",
        "print(\"**********DECISION TREE WITH DEPTH = 4 ***********\")\n",
        "print(\"accuracy score \",accu_score)\n",
        "print(\"********************\")\n",
        "print(\"f1 score \",f11)\n",
        "print(\"********************\")\n",
        "print(\"recall score \",re)\n",
        "print(\"********************\")\n",
        "print(\"confusion matrix \",cm)\n",
        "print(\"********************\")\n",
        "print(\"precision score \",pr_sc)\n",
        "print(\"********************\")\n",
        "print(\"classification report \",clrp)\n",
        "\n",
        "fpr_1 = dict()\n",
        "tpr_1 = dict()\n",
        "roc_auc_1 = dict()\n",
        "# for i in range(0,2):\n",
        "fpr_1, tpr_1,threshlod_1 = roc_curve(prefict,y_test)\n",
        "roc_auc_1 = auc(fpr_1, tpr_1)\n",
        "\n",
        "print(\"ROC_AUC \",roc_auc_1)\n",
        "print(\"FPR,TPR \",fpr_1,tpr_1)\n",
        "print(\"THRESHOLD \",threshlod_1)"
      ],
      "execution_count": null,
      "outputs": [
        {
          "output_type": "stream",
          "text": [
            "0.8522362709945273\n",
            "**********DECISION TREE WITH DEPTH = 4 ***********\n",
            "accuracy score  0.8522362709945273\n",
            "********************\n",
            "f1 score  [0.91924505 0.13192905]\n",
            "********************\n",
            "recall score  0.8522362709945273\n",
            "********************\n",
            "confusion matrix  [[8913 1545]\n",
            " [  21  119]]\n",
            "********************\n",
            "precision score  0.9854151490140515\n",
            "********************\n",
            "classification report                precision    recall  f1-score   support\n",
            "\n",
            "         0.0       1.00      0.85      0.92     10458\n",
            "         1.0       0.07      0.85      0.13       140\n",
            "\n",
            "    accuracy                           0.85     10598\n",
            "   macro avg       0.53      0.85      0.53     10598\n",
            "weighted avg       0.99      0.85      0.91     10598\n",
            "\n",
            "ROC_AUC  0.8511331038439471\n",
            "FPR,TPR  [0.         0.14773379 1.        ] [0.   0.85 1.  ]\n",
            "THRESHOLD  [2. 1. 0.]\n"
          ],
          "name": "stdout"
        },
        {
          "output_type": "display_data",
          "data": {
            "image/png": "[encoded data removed]",
            "text/plain": [
              "<Figure size 432x288 with 1 Axes>"
            ]
          },
          "metadata": {
            "tags": [],
            "needs_background": "light"
          }
        }
      ]
    },
    {
      "cell_type": "code",
      "metadata": {
        "id": "aCllTuHpxrtu",
        "colab_type": "code",
        "colab": {}
      },
      "source": [
        ""
      ],
      "execution_count": null,
      "outputs": []
    },
    {
      "cell_type": "code",
      "metadata": {
        "id": "gCnvhf7uu864",
        "colab_type": "code",
        "colab": {
          "base_uri": "https://localhost:8080/",
          "height": 316
        },
        "outputId": "1d61f652-9cb3-488c-f648-be1c694d928a"
      },
      "source": [
        "importance = clf.feature_importances_\n",
        "from matplotlib import pyplot\n",
        "# summarize feature importance\n",
        "for i,v in enumerate(importance):\n",
        "\tprint('Feature: %0d, Score: %.5f' % (i,v))\n",
        "# plot feature importance\n",
        "pyplot.bar([x for x in range(len(importance))], importance)\n",
        "pyplot.show()"
      ],
      "execution_count": null,
      "outputs": [
        {
          "output_type": "stream",
          "text": [
            "Feature: 0, Score: 0.04369\n",
            "Feature: 1, Score: 0.40523\n",
            "Feature: 2, Score: 0.55107\n"
          ],
          "name": "stdout"
        },
        {
          "output_type": "display_data",
          "data": {
            "image/png": "[encoded data removed]",
            "text/plain": [
              "<Figure size 432x288 with 1 Axes>"
            ]
          },
          "metadata": {
            "tags": [],
            "needs_background": "light"
          }
        }
      ]
    },
    {
      "cell_type": "markdown",
      "metadata": {
        "id": "szTc45cxw01k",
        "colab_type": "text"
      },
      "source": [
        "# **DECISION TREE CLASSIFIER WITH DEPTH =10**"
      ]
    },
    {
      "cell_type": "code",
      "metadata": {
        "id": "iOsrNWxujU0a",
        "colab_type": "code",
        "colab": {
          "base_uri": "https://localhost:8080/",
          "height": 673
        },
        "outputId": "3ff41359-ee4d-402f-fbb4-413e62789c5d"
      },
      "source": [
        "clf = DecisionTreeClassifier(random_state=42,max_depth=10)\n",
        "clf = clf.fit(X_train, y_train)\n",
        "prefict=clf.predict(X_test)\n",
        "accuracy_score(prefict,y_test)\n",
        "tree.plot_tree(clf) \n",
        "\n",
        "\n",
        "accu_score = accuracy_score(prefict,y_test)\n",
        "print(accu_score) \n",
        "f11 = f1_score(prefict,y_test,average=None)\n",
        "re = recall_score(prefict,y_test,average='weighted')\n",
        "cm = confusion_matrix(prefict,y_test)\n",
        "pr_sc = precision_score(prefict,y_test,average='weighted')\n",
        "clrp = classification_report(prefict,y_test)\n",
        "print(\"**********DECISION TREE WITH DEPTH = 10 ***********\")\n",
        "print(\"accuracy score \",accu_score)\n",
        "print(\"********************\")\n",
        "print(\"f1 score \",f11)\n",
        "print(\"********************\")\n",
        "print(\"recall score \",re)\n",
        "print(\"********************\")\n",
        "print(\"confusion matrix \",cm)\n",
        "print(\"********************\")\n",
        "print(\"precision score \",pr_sc)\n",
        "print(\"********************\")\n",
        "print(\"classification report \",clrp)\n",
        "\n",
        "fpr_2 = dict()\n",
        "tpr_2 = dict()\n",
        "roc_auc_2 = dict()\n",
        "# for i in range(0,2):\n",
        "fpr_2, tpr_2,threshlod_2 = roc_curve(prefict,y_test)\n",
        "roc_auc_2 = auc(fpr_2, tpr_2)\n",
        "\n",
        "print(\"ROC_AUC \",roc_auc_2)\n",
        "print(\"FPR,TPR \",fpr_2,tpr_2)\n",
        "print(\"THRESHOLD \",threshlod_2)"
      ],
      "execution_count": null,
      "outputs": [
        {
          "output_type": "stream",
          "text": [
            "0.8512926967352331\n",
            "**********DECISION TREE WITH DEPTH = 10 ***********\n",
            "accuracy score  0.8512926967352331\n",
            "********************\n",
            "f1 score  [0.9182403  0.17916667]\n",
            "********************\n",
            "recall score  0.8512926967352331\n",
            "********************\n",
            "confusion matrix  [[8850 1492]\n",
            " [  84  172]]\n",
            "********************\n",
            "precision score  0.9691661750724557\n",
            "********************\n",
            "classification report                precision    recall  f1-score   support\n",
            "\n",
            "         0.0       0.99      0.86      0.92     10342\n",
            "         1.0       0.10      0.67      0.18       256\n",
            "\n",
            "    accuracy                           0.85     10598\n",
            "   macro avg       0.55      0.76      0.55     10598\n",
            "weighted avg       0.97      0.85      0.90     10598\n",
            "\n",
            "ROC_AUC  0.7638044502997485\n",
            "FPR,TPR  [0.        0.1442661 1.       ] [0.       0.671875 1.      ]\n",
            "THRESHOLD  [2. 1. 0.]\n"
          ],
          "name": "stdout"
        },
        {
          "output_type": "display_data",
          "data": {
            "image/png": "[encoded data removed]",
            "text/plain": [
              "<Figure size 432x288 with 1 Axes>"
            ]
          },
          "metadata": {
            "tags": [],
            "needs_background": "light"
          }
        }
      ]
    },
    {
      "cell_type": "markdown",
      "metadata": {
        "id": "2arPtpPYxA27",
        "colab_type": "text"
      },
      "source": [
        "# **ROC CURVE FOR DIFFERENT PRE-PRUNE DEPTH**"
      ]
    },
    {
      "cell_type": "markdown",
      "metadata": {
        "id": "4sHO0FVfF8Fg",
        "colab_type": "text"
      },
      "source": [
        "According to the below present ROC curve for pre-prune depth=2, AUC is 0.874 it means there is 87.4% chance that model will be able to distinguish between positive class and negative class."
      ]
    },
    {
      "cell_type": "code",
      "metadata": {
        "id": "tR5P366AjYLo",
        "colab_type": "code",
        "colab": {
          "base_uri": "https://localhost:8080/",
          "height": 295
        },
        "outputId": "46a36e36-3f47-4aa5-e019-005cd8d064bd"
      },
      "source": [
        "import matplotlib.pyplot as plt\n",
        "\n",
        "plt.figure()\n",
        "lw = 2\n",
        "plt.plot(fpr, tpr, color='darkorange',\n",
        "         lw=lw, label='ROC curve for DEPTH=3(area = %0.3f)' % roc_auc)\n",
        "\n",
        "plt.plot(fpr_1, tpr_1, color='darkgreen',\n",
        "         lw=lw, label='ROC curve for DEPTH=4(area = %0.3f)' % roc_auc_1)\n",
        "\n",
        "plt.plot(fpr_2, tpr_2, color='magenta',\n",
        "         lw=lw, label='ROC curve  for DEPTH=10(area = %0.3f)' % roc_auc_2)\n",
        "plt.plot([0, 1], [0, 1], color='navy', lw=lw, linestyle='--')\n",
        "plt.xlim([0.0, 1.0])\n",
        "plt.ylim([0.0, 1.05])\n",
        "plt.xlabel('False Positive Rate')\n",
        "plt.ylabel('True Positive Rate')\n",
        "plt.title('Receiver operating characteristic example')\n",
        "plt.legend(loc=\"lower right\")\n",
        "plt.show()"
      ],
      "execution_count": 208,
      "outputs": [
        {
          "output_type": "display_data",
          "data": {
            "image/png": "[encoded data removed]",
            "text/plain": [
              "<Figure size 432x288 with 1 Axes>"
            ]
          },
          "metadata": {
            "tags": [],
            "needs_background": "light"
          }
        }
      ]
    },
    {
      "cell_type": "markdown",
      "metadata": {
        "id": "Zo9BGWhqkBeS",
        "colab_type": "text"
      },
      "source": [
        "# **SECOND APPROACH: Using Year,month,date,latitude,longitude,depth as features**"
      ]
    },
    {
      "cell_type": "code",
      "metadata": {
        "id": "Bf_IYcnpyfWk",
        "colab_type": "code",
        "colab": {
          "base_uri": "https://localhost:8080/",
          "height": 255
        },
        "outputId": "84abec25-6800-492e-eaa3-51819cab8ad6"
      },
      "source": [
        "df33 = pd.concat([df22,df_year],axis=1)\n",
        "df44 = pd.concat([df33,df_date],axis=1)\n",
        "df55 = pd.concat([df44,df_month],axis=1)\n",
        "print(df55)"
      ],
      "execution_count": null,
      "outputs": [
        {
          "output_type": "stream",
          "text": [
            "       DEPTH (km)  latitude  longitude  years  date month\n",
            "0        0.000000      71.0      24.00  -2474     0     0\n",
            "1        0.000000      71.0      24.00   -325     0     0\n",
            "2        0.000000      72.9      33.72     25     0     0\n",
            "3       45.569867      17.3      80.10     26    10     5\n",
            "4       80.000000      26.0      97.00     26    10     5\n",
            "...           ...       ...        ...    ...   ...   ...\n",
            "52984   10.000000      32.8      78.40   2019    28     7\n",
            "52985   70.000000      25.5      90.40   2019    28     7\n",
            "52986   22.000000      23.2      86.50   2019    28     7\n",
            "52987   20.000000      32.8      76.40   2019    29     7\n",
            "52988   10.000000      20.0      72.80   2019    31     7\n",
            "\n",
            "[52989 rows x 6 columns]\n"
          ],
          "name": "stdout"
        }
      ]
    },
    {
      "cell_type": "code",
      "metadata": {
        "id": "PJ84gZ1IvkUV",
        "colab_type": "code",
        "colab": {
          "base_uri": "https://localhost:8080/",
          "height": 34
        },
        "outputId": "845d71f2-0192-49eb-e813-a09589126070"
      },
      "source": [
        "df55.columns"
      ],
      "execution_count": null,
      "outputs": [
        {
          "output_type": "execute_result",
          "data": {
            "text/plain": [
              "Index(['DEPTH (km)', 'latitude', 'longitude', 'years', 'date', 'month'], dtype='object')"
            ]
          },
          "metadata": {
            "tags": []
          },
          "execution_count": 168
        }
      ]
    },
    {
      "cell_type": "code",
      "metadata": {
        "id": "1kFV_OCF61My",
        "colab_type": "code",
        "colab": {}
      },
      "source": [
        "from sklearn.model_selection import train_test_split\n",
        "X_train, X_test, y_train, y_test = train_test_split(df, target_label, test_size=0.2, random_state=42)"
      ],
      "execution_count": null,
      "outputs": []
    },
    {
      "cell_type": "markdown",
      "metadata": {
        "id": "Eq2TJIH0xaJn",
        "colab_type": "text"
      },
      "source": [
        "# **KNN CLASSIFIER WITH K = 3,5,7**"
      ]
    },
    {
      "cell_type": "code",
      "metadata": {
        "id": "HFL34MdV668L",
        "colab_type": "code",
        "colab": {
          "base_uri": "https://localhost:8080/",
          "height": 68
        },
        "outputId": "a0c7d07f-1850-41ca-9d4d-045040560d7f"
      },
      "source": [
        "from sklearn.neighbors import KNeighborsClassifier\n",
        "\n",
        "model = KNeighborsClassifier(n_neighbors=3)\n",
        "\n",
        "# Train the model using the training sets\n",
        "model.fit(X_train,y_train)"
      ],
      "execution_count": null,
      "outputs": [
        {
          "output_type": "execute_result",
          "data": {
            "text/plain": [
              "KNeighborsClassifier(algorithm='auto', leaf_size=30, metric='minkowski',\n",
              "                     metric_params=None, n_jobs=None, n_neighbors=3, p=2,\n",
              "                     weights='uniform')"
            ]
          },
          "metadata": {
            "tags": []
          },
          "execution_count": 170
        }
      ]
    },
    {
      "cell_type": "code",
      "metadata": {
        "id": "GHT6XpwF6-cq",
        "colab_type": "code",
        "colab": {}
      },
      "source": [
        "predicted=model.predict(X_test)"
      ],
      "execution_count": null,
      "outputs": []
    },
    {
      "cell_type": "code",
      "metadata": {
        "id": "O_hyv_xUUiT9",
        "colab_type": "code",
        "colab": {
          "base_uri": "https://localhost:8080/",
          "height": 391
        },
        "outputId": "583f562c-b446-4e37-9486-a6d7bde4db4b"
      },
      "source": [
        "\n",
        "accu_score = accuracy_score(predicted,y_test,normalize=True)\n",
        "print(accu_score) \n",
        "f11 = f1_score(predicted,y_test,average=None)\n",
        "re = recall_score(predicted,y_test,average='weighted')\n",
        "cm = confusion_matrix(predicted,y_test)\n",
        "pr_sc = precision_score(predicted,y_test,average='weighted')\n",
        "clrp = classification_report(predicted,y_test)\n",
        "print(\"**********KNN WITH K = 3 ***********\")\n",
        "print(\"accuracy score \",accu_score)\n",
        "print(\"********************\")\n",
        "print(\"f1 score \",f11)\n",
        "print(\"********************\")\n",
        "print(\"recall score \",re)\n",
        "print(\"********************\")\n",
        "print(\"confusion matrix \",cm)\n",
        "print(\"********************\")\n",
        "print(\"precision score \",pr_sc)\n",
        "print(\"********************\")\n",
        "print(\"classification report \",clrp)"
      ],
      "execution_count": null,
      "outputs": [
        {
          "output_type": "stream",
          "text": [
            "0.845914323457256\n",
            "**********KNN WITH K = 3 ***********\n",
            "accuracy score  0.845914323457256\n",
            "********************\n",
            "f1 score  [0.91147612 0.40596581]\n",
            "********************\n",
            "recall score  0.845914323457256\n",
            "********************\n",
            "confusion matrix  [[8407 1106]\n",
            " [ 527  558]]\n",
            "********************\n",
            "precision score  0.8790041530422708\n",
            "********************\n",
            "classification report                precision    recall  f1-score   support\n",
            "\n",
            "         0.0       0.94      0.88      0.91      9513\n",
            "         1.0       0.34      0.51      0.41      1085\n",
            "\n",
            "    accuracy                           0.85     10598\n",
            "   macro avg       0.64      0.70      0.66     10598\n",
            "weighted avg       0.88      0.85      0.86     10598\n",
            "\n"
          ],
          "name": "stdout"
        }
      ]
    },
    {
      "cell_type": "code",
      "metadata": {
        "id": "-psaBwp2Ujvq",
        "colab_type": "code",
        "colab": {
          "base_uri": "https://localhost:8080/",
          "height": 68
        },
        "outputId": "6483d9a4-1765-446f-8528-f42892e80394"
      },
      "source": [
        "y_test=y_test.to_numpy()\n",
        "fpr = dict()\n",
        "tpr = dict()\n",
        "roc_auc = dict()\n",
        "# for i in range(0,2):\n",
        "fpr, tpr,threshlod = roc_curve(y_test, predicted)\n",
        "roc_auc = auc(fpr, tpr)\n",
        "\n",
        "print(\"roc_auc \",roc_auc)\n",
        "print(\"fpr,tpr \",fpr,tpr)\n",
        "print(\"threshold \",threshlod)"
      ],
      "execution_count": null,
      "outputs": [
        {
          "output_type": "stream",
          "text": [
            "roc_auc  0.6381742016238742\n",
            "fpr,tpr  [0.         0.05898814 1.        ] [0.         0.33533654 1.        ]\n",
            "threshold  [2. 1. 0.]\n"
          ],
          "name": "stdout"
        }
      ]
    },
    {
      "cell_type": "code",
      "metadata": {
        "id": "N_g3imzVUwe-",
        "colab_type": "code",
        "colab": {
          "base_uri": "https://localhost:8080/",
          "height": 442
        },
        "outputId": "97053e62-3997-45c8-bca7-9472d51b583c"
      },
      "source": [
        "from sklearn.neighbors import KNeighborsClassifier\n",
        "\n",
        "model = KNeighborsClassifier(n_neighbors=5)\n",
        "\n",
        "# Train the model using the training sets\n",
        "model.fit(X_train,y_train)\n",
        "predicted=model.predict(X_test)\n",
        "from sklearn.metrics import accuracy_score\n",
        "# print(accuracy_score(predicted,y_test))\n",
        "accu_score = accuracy_score(predicted,y_test,normalize=True)\n",
        "print(accu_score) \n",
        "f11 = f1_score(predicted,y_test,average=None)\n",
        "re = recall_score(predicted,y_test,average='weighted')\n",
        "cm = confusion_matrix(predicted,y_test)\n",
        "pr_sc = precision_score(predicted,y_test,average='weighted')\n",
        "clrp = classification_report(predicted,y_test)\n",
        "print(\"**********KNN WITH K = 5***********\")\n",
        "print(\"accuracy score \",accu_score)\n",
        "print(\"********************\")\n",
        "print(\"f1 score \",f11)\n",
        "print(\"********************\")\n",
        "print(\"recall score \",re)\n",
        "print(\"********************\")\n",
        "print(\"confusion matrix \",cm)\n",
        "print(\"********************\")\n",
        "print(\"precision score \",pr_sc)\n",
        "print(\"********************\")\n",
        "print(\"classification report \",clrp)\n",
        "\n",
        "fpr_1 = dict()\n",
        "tpr_1 = dict()\n",
        "roc_auc_1 = dict()\n",
        "# for i in range(0,2):\n",
        "fpr_1, tpr_1,threshlod_1 = roc_curve(y_test, predicted)\n",
        "roc_auc_1 = auc(fpr_1, tpr_1)\n",
        "\n",
        "print(\"roc_auc \",roc_auc_1)\n",
        "print(\"fpr,tpr \",fpr_1,tpr_1)\n",
        "print(\"threshold \",threshlod_1)"
      ],
      "execution_count": null,
      "outputs": [
        {
          "output_type": "stream",
          "text": [
            "0.8567654274391394\n",
            "**********KNN WITH K = 5***********\n",
            "accuracy score  0.8567654274391394\n",
            "********************\n",
            "f1 score  [0.91863208 0.4023622 ]\n",
            "********************\n",
            "recall score  0.8567654274391394\n",
            "********************\n",
            "confusion matrix  [[8569 1153]\n",
            " [ 365  511]]\n",
            "********************\n",
            "precision score  0.9052479857615943\n",
            "********************\n",
            "classification report                precision    recall  f1-score   support\n",
            "\n",
            "         0.0       0.96      0.88      0.92      9722\n",
            "         1.0       0.31      0.58      0.40       876\n",
            "\n",
            "    accuracy                           0.86     10598\n",
            "   macro avg       0.63      0.73      0.66     10598\n",
            "weighted avg       0.91      0.86      0.88     10598\n",
            "\n",
            "roc_auc  0.6331180930455822\n",
            "fpr,tpr  [0.         0.04085516 1.        ] [0.         0.30709135 1.        ]\n",
            "threshold  [2. 1. 0.]\n"
          ],
          "name": "stdout"
        }
      ]
    },
    {
      "cell_type": "code",
      "metadata": {
        "id": "MUA2xqBzVIi8",
        "colab_type": "code",
        "colab": {
          "base_uri": "https://localhost:8080/",
          "height": 442
        },
        "outputId": "75970a52-b1d2-40f7-eb56-e0277ef2cd45"
      },
      "source": [
        "from sklearn.neighbors import KNeighborsClassifier\n",
        "\n",
        "model = KNeighborsClassifier(n_neighbors=7)\n",
        "\n",
        "# Train the model using the training sets\n",
        "model.fit(X_train,y_train)\n",
        "predicted=model.predict(X_test)\n",
        "from sklearn.metrics import accuracy_score\n",
        "# print(accuracy_score(predicted,y_test))\n",
        "accu_score = accuracy_score(predicted,y_test,normalize=True)\n",
        "print(accu_score) \n",
        "f11 = f1_score(predicted,y_test,average=None)\n",
        "re = recall_score(predicted,y_test,average='weighted')\n",
        "cm = confusion_matrix(predicted,y_test)\n",
        "pr_sc = precision_score(predicted,y_test,average='weighted')\n",
        "clrp = classification_report(predicted,y_test)\n",
        "print(\"**********KNN WITH K = 7 ***********\")\n",
        "print(\"accuracy score \",accu_score)\n",
        "print(\"********************\")\n",
        "print(\"f1 score \",f11)\n",
        "print(\"********************\")\n",
        "print(\"recall score \",re)\n",
        "print(\"********************\")\n",
        "print(\"confusion matrix \",cm)\n",
        "print(\"********************\")\n",
        "print(\"precision score \",pr_sc)\n",
        "print(\"********************\")\n",
        "print(\"classification report \",clrp)\n",
        "\n",
        "fpr_2 = dict()\n",
        "tpr_2 = dict()\n",
        "roc_auc_2 = dict()\n",
        "# for i in range(0,2):\n",
        "fpr_2, tpr_2,threshlod_2 = roc_curve(y_test, predicted)\n",
        "roc_auc_2 = auc(fpr_2, tpr_2)\n",
        "\n",
        "print(\"ROC_AUC \",roc_auc_2)\n",
        "print(\"FPR,TPR \",fpr_2,tpr_2)\n",
        "print(\"THRESHOLD \",threshlod_2)"
      ],
      "execution_count": null,
      "outputs": [
        {
          "output_type": "stream",
          "text": [
            "0.8629930175504812\n",
            "**********KNN WITH K = 7 ***********\n",
            "accuracy score  0.8629930175504812\n",
            "********************\n",
            "f1 score  [0.92262603 0.40246914]\n",
            "********************\n",
            "recall score  0.8629930175504812\n",
            "********************\n",
            "confusion matrix  [[8657 1175]\n",
            " [ 277  489]]\n",
            "********************\n",
            "precision score  0.9201983339897049\n",
            "********************\n",
            "classification report                precision    recall  f1-score   support\n",
            "\n",
            "         0.0       0.97      0.88      0.92      9832\n",
            "         1.0       0.29      0.64      0.40       766\n",
            "\n",
            "    accuracy                           0.86     10598\n",
            "   macro avg       0.63      0.76      0.66     10598\n",
            "weighted avg       0.92      0.86      0.89     10598\n",
            "\n",
            "ROC_AUC  0.6314325217191025\n",
            "FPR,TPR  [0.         0.03100515 1.        ] [0.         0.29387019 1.        ]\n",
            "THRESHOLD  [2. 1. 0.]\n"
          ],
          "name": "stdout"
        }
      ]
    },
    {
      "cell_type": "code",
      "metadata": {
        "id": "cik72ecP7BPB",
        "colab_type": "code",
        "colab": {}
      },
      "source": [
        "# from sklearn.metrics import accuracy_score\n",
        "# print(accuracy_score(predicted,y_test))"
      ],
      "execution_count": null,
      "outputs": []
    },
    {
      "cell_type": "code",
      "metadata": {
        "id": "BKp9yu-kkTjQ",
        "colab_type": "code",
        "colab": {}
      },
      "source": [
        "# y_test=y_test.to_numpy()"
      ],
      "execution_count": null,
      "outputs": []
    },
    {
      "cell_type": "code",
      "metadata": {
        "id": "8_RH_JcxonTt",
        "colab_type": "code",
        "colab": {}
      },
      "source": [
        "# fpr = dict()\n",
        "# tpr = dict()\n",
        "# roc_auc = dict()\n",
        "# # for i in range(0,2):\n",
        "# fpr, tpr,threshlod = roc_curve(y_test, predicted)\n",
        "# roc_auc = auc(fpr, tpr)"
      ],
      "execution_count": null,
      "outputs": []
    },
    {
      "cell_type": "markdown",
      "metadata": {
        "id": "yfd8rFWkxjXC",
        "colab_type": "text"
      },
      "source": [
        "# **ROC CURVE FOR DIFFERENT VALUES OF K**"
      ]
    },
    {
      "cell_type": "markdown",
      "metadata": {
        "id": "v-DNNnS6GMMP",
        "colab_type": "text"
      },
      "source": [
        "According to the below present ROC curve for k=3, AUC is 0.638 it means there is 63.8% chance that model will be able to distinguish between positive class and negative class."
      ]
    },
    {
      "cell_type": "code",
      "metadata": {
        "id": "PksYko-Uota9",
        "colab_type": "code",
        "colab": {
          "base_uri": "https://localhost:8080/",
          "height": 295
        },
        "outputId": "53a88eb2-eefc-4a1a-d699-2901959eb696"
      },
      "source": [
        "import matplotlib.pyplot as plt\n",
        "\n",
        "plt.figure()\n",
        "lw = 2\n",
        "plt.plot(fpr, tpr, color='darkorange',\n",
        "         lw=lw, label='ROC curve for k=3(area = %0.3f)' % roc_auc)\n",
        "\n",
        "plt.plot(fpr_1, tpr_1, color='darkgreen',\n",
        "         lw=lw, label='ROC curve for k=5(area = %0.3f)' % roc_auc_1)\n",
        "\n",
        "plt.plot(fpr_2, tpr_2, color='magenta',\n",
        "         lw=lw, label='ROC curve  for k=7(area = %0.3f)' % roc_auc_2)\n",
        "plt.plot([0, 1], [0, 1], color='navy', lw=lw, linestyle='--')\n",
        "plt.xlim([0.0, 1.0])\n",
        "plt.ylim([0.0, 1.05])\n",
        "plt.xlabel('False Positive Rate')\n",
        "plt.ylabel('True Positive Rate')\n",
        "plt.title('Receiver operating characteristic example')\n",
        "plt.legend(loc=\"lower right\")\n",
        "plt.show()"
      ],
      "execution_count": null,
      "outputs": [
        {
          "output_type": "display_data",
          "data": {
            "image/png": "[encoded data removed]",
            "text/plain": [
              "<Figure size 432x288 with 1 Axes>"
            ]
          },
          "metadata": {
            "tags": [],
            "needs_background": "light"
          }
        }
      ]
    },
    {
      "cell_type": "markdown",
      "metadata": {
        "id": "0naZMcwx2VMa",
        "colab_type": "text"
      },
      "source": [
        "# **DECISION TREE WITH PRE-PRUNE DEPTH = 2,4,10**"
      ]
    },
    {
      "cell_type": "code",
      "metadata": {
        "id": "G_yWkQyV7EFH",
        "colab_type": "code",
        "colab": {}
      },
      "source": [
        "from sklearn.tree import DecisionTreeClassifier\n",
        "from sklearn import tree\n",
        "clf = DecisionTreeClassifier(random_state=42,max_depth=2)"
      ],
      "execution_count": null,
      "outputs": []
    },
    {
      "cell_type": "code",
      "metadata": {
        "id": "nTCF6OpV7HDA",
        "colab_type": "code",
        "colab": {
          "base_uri": "https://localhost:8080/",
          "height": 367
        },
        "outputId": "477edc80-edf8-48e2-ef8c-37e4cdba9f18"
      },
      "source": [
        "clf = clf.fit(X_train, y_train)\n",
        "prefict=clf.predict(X_test)\n",
        "accuracy_score(prefict,y_test)\n",
        "tree.plot_tree(clf)"
      ],
      "execution_count": null,
      "outputs": [
        {
          "output_type": "execute_result",
          "data": {
            "text/plain": [
              "[Text(167.4, 181.2, 'X[3] <= 1964.5\\ngini = 0.269\\nsamples = 42391\\nvalue = [35615, 6776]'),\n",
              " Text(83.7, 108.72, 'X[2] <= 67.8\\ngini = 0.5\\nsamples = 2568\\nvalue = [1284, 1284]'),\n",
              " Text(41.85, 36.23999999999998, 'gini = 0.354\\nsamples = 1274\\nvalue = [293, 981]'),\n",
              " Text(125.55000000000001, 36.23999999999998, 'gini = 0.359\\nsamples = 1294\\nvalue = [991, 303]'),\n",
              " Text(251.10000000000002, 108.72, 'X[1] <= 66.235\\ngini = 0.238\\nsamples = 39823\\nvalue = [34331, 5492]'),\n",
              " Text(209.25, 36.23999999999998, 'gini = 0.347\\nsamples = 17183\\nvalue = [13348, 3835]'),\n",
              " Text(292.95, 36.23999999999998, 'gini = 0.136\\nsamples = 22640\\nvalue = [20983, 1657]')]"
            ]
          },
          "metadata": {
            "tags": []
          },
          "execution_count": 181
        },
        {
          "output_type": "display_data",
          "data": {
            "image/png": "[encoded data removed]",
            "text/plain": [
              "<Figure size 432x288 with 1 Axes>"
            ]
          },
          "metadata": {
            "tags": [],
            "needs_background": "light"
          }
        }
      ]
    },
    {
      "cell_type": "code",
      "metadata": {
        "id": "S7PYdsxRo9nm",
        "colab_type": "code",
        "colab": {}
      },
      "source": [
        "# y_test=y_test.to_numpy()"
      ],
      "execution_count": null,
      "outputs": []
    },
    {
      "cell_type": "code",
      "metadata": {
        "id": "KMcJUPlZovqY",
        "colab_type": "code",
        "colab": {}
      },
      "source": [
        "\n",
        "fpr = dict()\n",
        "tpr = dict()\n",
        "roc_auc = dict()\n",
        "# for i in range(0,2):\n",
        "fpr, tpr,threshlod = roc_curve(y_test, prefict)\n",
        "roc_auc = auc(fpr, tpr)"
      ],
      "execution_count": null,
      "outputs": []
    },
    {
      "cell_type": "code",
      "metadata": {
        "id": "BPhSskJKov1U",
        "colab_type": "code",
        "colab": {
          "base_uri": "https://localhost:8080/",
          "height": 68
        },
        "outputId": "2bc1b6e0-7324-4773-f11d-98926ed9f004"
      },
      "source": [
        "print(roc_auc)\n",
        "print(fpr,tpr)\n",
        "print(threshlod)"
      ],
      "execution_count": null,
      "outputs": [
        {
          "output_type": "stream",
          "text": [
            "0.5692524425918273\n",
            "[0.         0.00873069 1.        ] [0.         0.14723558 1.        ]\n",
            "[2. 1. 0.]\n"
          ],
          "name": "stdout"
        }
      ]
    },
    {
      "cell_type": "code",
      "metadata": {
        "id": "2AfGmKT6Vl2x",
        "colab_type": "code",
        "colab": {
          "base_uri": "https://localhost:8080/",
          "height": 673
        },
        "outputId": "3ec340c4-552d-4499-8982-c179bfbe8539"
      },
      "source": [
        "clf = DecisionTreeClassifier(random_state=42,max_depth=4)\n",
        "clf = clf.fit(X_train, y_train)\n",
        "prefict=clf.predict(X_test)\n",
        "accuracy_score(prefict,y_test)\n",
        "tree.plot_tree(clf) \n",
        "\n",
        "\n",
        "accu_score = accuracy_score(prefict,y_test)\n",
        "print(accu_score) \n",
        "f11 = f1_score(prefict,y_test,average=None)\n",
        "re = recall_score(prefict,y_test,average='weighted')\n",
        "cm = confusion_matrix(prefict,y_test)\n",
        "pr_sc = precision_score(prefict,y_test,average='weighted')\n",
        "clrp = classification_report(prefict,y_test)\n",
        "print(\"**********DECISION TREE WITH DEPTH = 4 ***********\")\n",
        "print(\"accuracy score \",accu_score)\n",
        "print(\"********************\")\n",
        "print(\"f1 score \",f11)\n",
        "print(\"********************\")\n",
        "print(\"recall score \",re)\n",
        "print(\"********************\")\n",
        "print(\"confusion matrix \",cm)\n",
        "print(\"********************\")\n",
        "print(\"precision score \",pr_sc)\n",
        "print(\"********************\")\n",
        "print(\"classification report \",clrp)\n",
        "\n",
        "fpr_1 = dict()\n",
        "tpr_1 = dict()\n",
        "roc_auc_1 = dict()\n",
        "# for i in range(0,2):\n",
        "fpr_1, tpr_1,threshlod_1 = roc_curve(prefict,y_test)\n",
        "roc_auc_1 = auc(fpr_1, tpr_1)\n",
        "\n",
        "print(\"ROC_AUC \",roc_auc_1)\n",
        "print(\"FPR,TPR \",fpr_1,tpr_1)\n",
        "print(\"THRESHOLD \",threshlod_1)"
      ],
      "execution_count": null,
      "outputs": [
        {
          "output_type": "stream",
          "text": [
            "0.8666729571617287\n",
            "**********DECISION TREE WITH DEPTH = 4 ***********\n",
            "accuracy score  0.8666729571617287\n",
            "********************\n",
            "f1 score  [0.92655543 0.27797649]\n",
            "********************\n",
            "recall score  0.8666729571617287\n",
            "********************\n",
            "confusion matrix  [[8913 1392]\n",
            " [  21  272]]\n",
            "********************\n",
            "precision score  0.9745868652698504\n",
            "********************\n",
            "classification report                precision    recall  f1-score   support\n",
            "\n",
            "         0.0       1.00      0.86      0.93     10305\n",
            "         1.0       0.16      0.93      0.28       293\n",
            "\n",
            "    accuracy                           0.87     10598\n",
            "   macro avg       0.58      0.90      0.60     10598\n",
            "weighted avg       0.97      0.87      0.91     10598\n",
            "\n",
            "ROC_AUC  0.8966237934135157\n",
            "FPR,TPR  [0.         0.13508006 1.        ] [0.         0.92832765 1.        ]\n",
            "THRESHOLD  [2. 1. 0.]\n"
          ],
          "name": "stdout"
        },
        {
          "output_type": "display_data",
          "data": {
            "image/png": "[encoded data removed]",
            "text/plain": [
              "<Figure size 432x288 with 1 Axes>"
            ]
          },
          "metadata": {
            "tags": [],
            "needs_background": "light"
          }
        }
      ]
    },
    {
      "cell_type": "code",
      "metadata": {
        "id": "lL_7k_n_w6u7",
        "colab_type": "code",
        "colab": {
          "base_uri": "https://localhost:8080/",
          "height": 204
        },
        "outputId": "2fd1d163-df87-4943-dafc-43011b4ec555"
      },
      "source": [
        "X_train.head()"
      ],
      "execution_count": null,
      "outputs": [
        {
          "output_type": "execute_result",
          "data": {
            "text/html": [
              "<div>\n",
              "<style scoped>\n",
              "    .dataframe tbody tr th:only-of-type {\n",
              "        vertical-align: middle;\n",
              "    }\n",
              "\n",
              "    .dataframe tbody tr th {\n",
              "        vertical-align: top;\n",
              "    }\n",
              "\n",
              "    .dataframe thead th {\n",
              "        text-align: right;\n",
              "    }\n",
              "</style>\n",
              "<table border=\"1\" class=\"dataframe\">\n",
              "  <thead>\n",
              "    <tr style=\"text-align: right;\">\n",
              "      <th></th>\n",
              "      <th>DEPTH (km)</th>\n",
              "      <th>latitude</th>\n",
              "      <th>longitude</th>\n",
              "      <th>years</th>\n",
              "      <th>date</th>\n",
              "    </tr>\n",
              "  </thead>\n",
              "  <tbody>\n",
              "    <tr>\n",
              "      <th>41918</th>\n",
              "      <td>0.0</td>\n",
              "      <td>96.56</td>\n",
              "      <td>6.610</td>\n",
              "      <td>2005</td>\n",
              "      <td>27</td>\n",
              "    </tr>\n",
              "    <tr>\n",
              "      <th>38878</th>\n",
              "      <td>97.0</td>\n",
              "      <td>30.10</td>\n",
              "      <td>90.260</td>\n",
              "      <td>2005</td>\n",
              "      <td>8</td>\n",
              "    </tr>\n",
              "    <tr>\n",
              "      <th>36946</th>\n",
              "      <td>0.0</td>\n",
              "      <td>94.27</td>\n",
              "      <td>3.560</td>\n",
              "      <td>2004</td>\n",
              "      <td>28</td>\n",
              "    </tr>\n",
              "    <tr>\n",
              "      <th>7117</th>\n",
              "      <td>45.4</td>\n",
              "      <td>26.07</td>\n",
              "      <td>90.475</td>\n",
              "      <td>1977</td>\n",
              "      <td>29</td>\n",
              "    </tr>\n",
              "    <tr>\n",
              "      <th>1243</th>\n",
              "      <td>0.0</td>\n",
              "      <td>98.50</td>\n",
              "      <td>25.500</td>\n",
              "      <td>1929</td>\n",
              "      <td>9</td>\n",
              "    </tr>\n",
              "  </tbody>\n",
              "</table>\n",
              "</div>"
            ],
            "text/plain": [
              "       DEPTH (km)  latitude  longitude  years  date\n",
              "41918         0.0     96.56      6.610   2005    27\n",
              "38878        97.0     30.10     90.260   2005     8\n",
              "36946         0.0     94.27      3.560   2004    28\n",
              "7117         45.4     26.07     90.475   1977    29\n",
              "1243          0.0     98.50     25.500   1929     9"
            ]
          },
          "metadata": {
            "tags": []
          },
          "execution_count": 186
        }
      ]
    },
    {
      "cell_type": "code",
      "metadata": {
        "id": "SD8DbpnHw3HV",
        "colab_type": "code",
        "colab": {
          "base_uri": "https://localhost:8080/",
          "height": 350
        },
        "outputId": "f765396c-b54f-4629-b6c1-ea4c2da93a8b"
      },
      "source": [
        "importance = clf.feature_importances_\n",
        "from matplotlib import pyplot\n",
        "# summarize feature importance\n",
        "for i,v in enumerate(importance):\n",
        "\tprint('Feature: %0d, Score: %.5f' % (i,v))\n",
        "# plot feature importance\n",
        "pyplot.bar([x for x in range(len(importance))], importance)\n",
        "pyplot.show()"
      ],
      "execution_count": null,
      "outputs": [
        {
          "output_type": "stream",
          "text": [
            "Feature: 0, Score: 0.01161\n",
            "Feature: 1, Score: 0.18922\n",
            "Feature: 2, Score: 0.33987\n",
            "Feature: 3, Score: 0.45930\n",
            "Feature: 4, Score: 0.00000\n"
          ],
          "name": "stdout"
        },
        {
          "output_type": "display_data",
          "data": {
            "image/png": "[encoded data removed]",
            "text/plain": [
              "<Figure size 432x288 with 1 Axes>"
            ]
          },
          "metadata": {
            "tags": [],
            "needs_background": "light"
          }
        }
      ]
    },
    {
      "cell_type": "code",
      "metadata": {
        "id": "Ge8mf_b_wvQF",
        "colab_type": "code",
        "colab": {}
      },
      "source": [
        ""
      ],
      "execution_count": null,
      "outputs": []
    },
    {
      "cell_type": "code",
      "metadata": {
        "id": "xAmWvy2USQuw",
        "colab_type": "code",
        "colab": {}
      },
      "source": [
        "# y_test=y_test.to_numpy()"
      ],
      "execution_count": null,
      "outputs": []
    },
    {
      "cell_type": "code",
      "metadata": {
        "id": "A_ODqIzUVm78",
        "colab_type": "code",
        "colab": {
          "base_uri": "https://localhost:8080/",
          "height": 673
        },
        "outputId": "d3c3de76-d28f-4303-cc9d-60f49f74381a"
      },
      "source": [
        "clf = DecisionTreeClassifier(random_state=42,max_depth=10)\n",
        "clf = clf.fit(X_train, y_train)\n",
        "prefict=clf.predict(X_test)\n",
        "from sklearn.metrics import accuracy_score,f1_score,recall_score,confusion_matrix,precision_score,classification_report\n",
        "accuracy_score(prefict,y_test)\n",
        "tree.plot_tree(clf) \n",
        "\n",
        "\n",
        "accu_score = accuracy_score(prefict,y_test)\n",
        "print(accu_score) \n",
        "f11 = f1_score(prefict,y_test,average=None)\n",
        "re = recall_score(prefict,y_test,average='weighted')\n",
        "cm = confusion_matrix(prefict,y_test)\n",
        "pr_sc = precision_score(prefict,y_test,average='weighted')\n",
        "clrp = classification_report(prefict,y_test)\n",
        "print(\"**********DECISION TREE WITH DEPTH = 10 ***********\")\n",
        "print(\"accuracy score \",accu_score)\n",
        "print(\"********************\")\n",
        "print(\"f1 score \",f11)\n",
        "print(\"********************\")\n",
        "print(\"recall score \",re)\n",
        "print(\"********************\")\n",
        "print(\"confusion matrix \",cm)\n",
        "print(\"********************\")\n",
        "print(\"precision score \",pr_sc)\n",
        "print(\"********************\")\n",
        "print(\"classification report \",clrp)\n",
        "from sklearn.metrics import roc_curve, auc\n",
        "from sklearn.metrics import roc_auc_score\n",
        "\n",
        "fpr_2 = dict()\n",
        "tpr_2 = dict()\n",
        "roc_auc_2 = dict()\n",
        "# for i in range(0,2):\n",
        "fpr_2, tpr_2,threshlod_2 = roc_curve(prefict,y_test)\n",
        "roc_auc_2 = auc(fpr_2, tpr_2)\n",
        "\n",
        "print(\"ROC_AUC \",roc_auc_2)\n",
        "print(\"FPR,TPR \",fpr_2,tpr_2)\n",
        "print(\"THRESHOLD \",threshlod_2)"
      ],
      "execution_count": null,
      "outputs": [
        {
          "output_type": "stream",
          "text": [
            "0.8694093225136819\n",
            "**********DECISION TREE WITH DEPTH = 10 ***********\n",
            "accuracy score  0.8694093225136819\n",
            "********************\n",
            "f1 score  [0.92721918 0.36513761]\n",
            "********************\n",
            "recall score  0.8694093225136819\n",
            "********************\n",
            "confusion matrix  [[8816 1266]\n",
            " [ 118  398]]\n",
            "********************\n",
            "precision score  0.9503921041877893\n",
            "********************\n",
            "classification report                precision    recall  f1-score   support\n",
            "\n",
            "         0.0       0.99      0.87      0.93     10082\n",
            "         1.0       0.24      0.77      0.37       516\n",
            "\n",
            "    accuracy                           0.87     10598\n",
            "   macro avg       0.61      0.82      0.65     10598\n",
            "weighted avg       0.95      0.87      0.90     10598\n",
            "\n",
            "ROC_AUC  0.8228737530544112\n",
            "FPR,TPR  [0.         0.12557032 1.        ] [0.         0.77131783 1.        ]\n",
            "THRESHOLD  [2. 1. 0.]\n"
          ],
          "name": "stdout"
        },
        {
          "output_type": "display_data",
          "data": {
            "image/png": "[encoded data removed]",
            "text/plain": [
              "<Figure size 432x288 with 1 Axes>"
            ]
          },
          "metadata": {
            "tags": [],
            "needs_background": "light"
          }
        }
      ]
    },
    {
      "cell_type": "markdown",
      "metadata": {
        "id": "wMbQS-iaGZVb",
        "colab_type": "text"
      },
      "source": [
        "**According to the below present ROC curve for pre-prune depth=4, AUC is 0.897 it means there is 89.7% chance that model will be able to distinguish between positive class and negative class.**"
      ]
    },
    {
      "cell_type": "code",
      "metadata": {
        "id": "qcniXeswowBd",
        "colab_type": "code",
        "colab": {
          "base_uri": "https://localhost:8080/",
          "height": 295
        },
        "outputId": "e98613c8-331d-40a4-a01e-7a7a603dec57"
      },
      "source": [
        "import matplotlib.pyplot as plt\n",
        "\n",
        "plt.figure()\n",
        "lw = 2\n",
        "plt.plot(fpr, tpr, color='darkorange',\n",
        "         lw=lw, label='ROC curve for DEPTH=2(area = %0.3f)' % roc_auc)\n",
        "\n",
        "plt.plot(fpr_1, tpr_1, color='darkgreen',\n",
        "         lw=lw, label='ROC curve for DEPTH=4(area = %0.3f)' % roc_auc_1)\n",
        "\n",
        "plt.plot(fpr_2, tpr_2, color='magenta',\n",
        "         lw=lw, label='ROC curve  for DEPTH=10(area = %0.3f)' % roc_auc_2)\n",
        "plt.plot([0, 1], [0, 1], color='navy', lw=lw, linestyle='--')\n",
        "plt.xlim([0.0, 1.0])\n",
        "plt.ylim([0.0, 1.05])\n",
        "plt.xlabel('False Positive Rate')\n",
        "plt.ylabel('True Positive Rate')\n",
        "plt.title('Receiver operating characteristic example')\n",
        "plt.legend(loc=\"lower right\")\n",
        "plt.show()"
      ],
      "execution_count": null,
      "outputs": [
        {
          "output_type": "display_data",
          "data": {
            "image/png": "[encoded data removed]",
            "text/plain": [
              "<Figure size 432x288 with 1 Axes>"
            ]
          },
          "metadata": {
            "tags": [],
            "needs_background": "light"
          }
        }
      ]
    },
    {
      "cell_type": "markdown",
      "metadata": {
        "id": "m9usSBxP3Jy8",
        "colab_type": "text"
      },
      "source": [
        "# **FEATURE PROCESSING , USING DATE,MONTH,YEAR CREATING A NEW FEATURE TIMESTAMP**"
      ]
    },
    {
      "cell_type": "markdown",
      "metadata": {
        "id": "b0q0voq-GkVl",
        "colab_type": "text"
      },
      "source": [
        "**date month and year has to be in yyyymmdd format for conversion into timestamp.**"
      ]
    },
    {
      "cell_type": "code",
      "metadata": {
        "id": "W9O4FO977KKr",
        "colab_type": "code",
        "colab": {}
      },
      "source": [
        "\n",
        "import math\n",
        "date = dat.tolist()\n",
        "date_str =[]\n",
        "# hel = []\n",
        "for dt in date:\n",
        "  if(math.isnan(dt)):\n",
        "    # print(\"hey\")\n",
        "    date_str.append('00')\n",
        "  else:\n",
        "    date_int = int(dt)\n",
        "    date_s = str(date_int)\n",
        "    if(len(date_s)==1):\n",
        "      date_str.append('0'+date_s)\n",
        "    else:\n",
        "      date_str.append(str(date_int))"
      ],
      "execution_count": null,
      "outputs": []
    },
    {
      "cell_type": "code",
      "metadata": {
        "id": "-oYGxasbaWEr",
        "colab_type": "code",
        "colab": {
          "base_uri": "https://localhost:8080/",
          "height": 34
        },
        "outputId": "ab4a0c46-bb0b-4927-c1c5-041930ead57b"
      },
      "source": [
        "year = df55['years'].tolist()\n",
        "year_str =[]\n",
        "for yr in year:\n",
        "  year_int = int(yr)\n",
        "  year_str.append(str(year_int))\n",
        "\n",
        "print(len(year_str))"
      ],
      "execution_count": null,
      "outputs": [
        {
          "output_type": "stream",
          "text": [
            "52989\n"
          ],
          "name": "stdout"
        }
      ]
    },
    {
      "cell_type": "code",
      "metadata": {
        "id": "aZ6nO3OQaaGA",
        "colab_type": "code",
        "colab": {
          "base_uri": "https://localhost:8080/",
          "height": 34
        },
        "outputId": "6d5e2d48-9ec6-4298-9357-fd887a5ccbed"
      },
      "source": [
        "month = mont.tolist()\n",
        "month_str=[]\n",
        "heal = []\n",
        "for mt in month:\n",
        "  if(type(mt)==int):\n",
        "    month_s = str(mt)\n",
        "    if(len(month_s)==1):\n",
        "      month_str.append('0'+month_s)\n",
        "    else:\n",
        "      month_str.append(month_s)\n",
        "  else:\n",
        "    heal.append(1)\n",
        "    month_str.append(\"00\")\n",
        "\n",
        "print(len(month_str))"
      ],
      "execution_count": null,
      "outputs": [
        {
          "output_type": "stream",
          "text": [
            "52989\n"
          ],
          "name": "stdout"
        }
      ]
    },
    {
      "cell_type": "code",
      "metadata": {
        "id": "nJigRsBPaeiv",
        "colab_type": "code",
        "colab": {}
      },
      "source": [
        "final_date=[]\n",
        "for i in range(0,len(date)):\n",
        "  s = year_str[i]+'-'+month_str[i] + '-'+date_str[i]\n",
        "  final_date.append(s)"
      ],
      "execution_count": null,
      "outputs": []
    },
    {
      "cell_type": "markdown",
      "metadata": {
        "id": "wBI9MYwWG58L",
        "colab_type": "text"
      },
      "source": [
        "## **using numpy dateTime for converting date,month,year to timeStamp**"
      ]
    },
    {
      "cell_type": "code",
      "metadata": {
        "id": "d0TJnMucaf1d",
        "colab_type": "code",
        "colab": {}
      },
      "source": [
        "import numpy as np\n",
        "from datetime import datetime\n",
        "dt = datetime.utcnow()\n",
        "timeStamp_=[]\n",
        "\n",
        "def get_timestamp(date_str):\n",
        "  dt64 = np.datetime64(dt)\n",
        "  date_str = date_str.strip()\n",
        "    # Remove + sign\n",
        "  if date_str[0] == '+':\n",
        "      date_str = date_str[1:]\n",
        "    # Remove missing month/day\n",
        "  date_str = date_str.split('-00', maxsplit=1)[0]\n",
        "  if(date_str == \"1995-06-31\"):\n",
        "      date_str = '1995-06-27'   #day 31 is not possible in june so replacing it with mode\n",
        "  elif(date_str == \"2015-11-31\"):\n",
        "      date_str = \"2015-11-27\" # nov is of 30 days so replacing 31 with 27 i.e mode of dates\n",
        "  ts = (dt64 - np.datetime64(date_str)) / np.timedelta64(1, 's')\n",
        "  return ts\n",
        "\n",
        "\n",
        "for date1 in final_date:\n",
        "  ts1 = get_timestamp(date1)\n",
        "  timeStamp_.append(ts1)"
      ],
      "execution_count": null,
      "outputs": []
    },
    {
      "cell_type": "code",
      "metadata": {
        "id": "xiLHVCJHarYG",
        "colab_type": "code",
        "colab": {}
      },
      "source": [
        "df66  = df55.drop(['date','month','years'],axis=1)"
      ],
      "execution_count": null,
      "outputs": []
    },
    {
      "cell_type": "code",
      "metadata": {
        "id": "zBnwdQNaauwt",
        "colab_type": "code",
        "colab": {}
      },
      "source": [
        "df_timestamp =  pd.DataFrame(timeStamp_,columns=['timestamp'])"
      ],
      "execution_count": null,
      "outputs": []
    },
    {
      "cell_type": "code",
      "metadata": {
        "id": "eO7kcraHa0Q0",
        "colab_type": "code",
        "colab": {
          "base_uri": "https://localhost:8080/",
          "height": 419
        },
        "outputId": "ac852531-4cfd-49a8-f178-6093239cb238"
      },
      "source": [
        "final_df = pd.concat([df66,df_timestamp],axis=1)\n",
        "final_df"
      ],
      "execution_count": null,
      "outputs": [
        {
          "output_type": "execute_result",
          "data": {
            "text/html": [
              "<div>\n",
              "<style scoped>\n",
              "    .dataframe tbody tr th:only-of-type {\n",
              "        vertical-align: middle;\n",
              "    }\n",
              "\n",
              "    .dataframe tbody tr th {\n",
              "        vertical-align: top;\n",
              "    }\n",
              "\n",
              "    .dataframe thead th {\n",
              "        text-align: right;\n",
              "    }\n",
              "</style>\n",
              "<table border=\"1\" class=\"dataframe\">\n",
              "  <thead>\n",
              "    <tr style=\"text-align: right;\">\n",
              "      <th></th>\n",
              "      <th>DEPTH (km)</th>\n",
              "      <th>latitude</th>\n",
              "      <th>longitude</th>\n",
              "      <th>timestamp</th>\n",
              "    </tr>\n",
              "  </thead>\n",
              "  <tbody>\n",
              "    <tr>\n",
              "      <th>0</th>\n",
              "      <td>0.000000</td>\n",
              "      <td>71.0</td>\n",
              "      <td>24.00</td>\n",
              "      <td>1.418387e+11</td>\n",
              "    </tr>\n",
              "    <tr>\n",
              "      <th>1</th>\n",
              "      <td>0.000000</td>\n",
              "      <td>71.0</td>\n",
              "      <td>24.00</td>\n",
              "      <td>7.402273e+10</td>\n",
              "    </tr>\n",
              "    <tr>\n",
              "      <th>2</th>\n",
              "      <td>0.000000</td>\n",
              "      <td>72.9</td>\n",
              "      <td>33.72</td>\n",
              "      <td>6.297778e+10</td>\n",
              "    </tr>\n",
              "    <tr>\n",
              "      <th>3</th>\n",
              "      <td>45.569867</td>\n",
              "      <td>17.3</td>\n",
              "      <td>80.10</td>\n",
              "      <td>6.293510e+10</td>\n",
              "    </tr>\n",
              "    <tr>\n",
              "      <th>4</th>\n",
              "      <td>80.000000</td>\n",
              "      <td>26.0</td>\n",
              "      <td>97.00</td>\n",
              "      <td>6.293510e+10</td>\n",
              "    </tr>\n",
              "    <tr>\n",
              "      <th>...</th>\n",
              "      <td>...</td>\n",
              "      <td>...</td>\n",
              "      <td>...</td>\n",
              "      <td>...</td>\n",
              "    </tr>\n",
              "    <tr>\n",
              "      <th>52984</th>\n",
              "      <td>10.000000</td>\n",
              "      <td>32.8</td>\n",
              "      <td>78.40</td>\n",
              "      <td>3.529834e+07</td>\n",
              "    </tr>\n",
              "    <tr>\n",
              "      <th>52985</th>\n",
              "      <td>70.000000</td>\n",
              "      <td>25.5</td>\n",
              "      <td>90.40</td>\n",
              "      <td>3.529834e+07</td>\n",
              "    </tr>\n",
              "    <tr>\n",
              "      <th>52986</th>\n",
              "      <td>22.000000</td>\n",
              "      <td>23.2</td>\n",
              "      <td>86.50</td>\n",
              "      <td>3.529834e+07</td>\n",
              "    </tr>\n",
              "    <tr>\n",
              "      <th>52987</th>\n",
              "      <td>20.000000</td>\n",
              "      <td>32.8</td>\n",
              "      <td>76.40</td>\n",
              "      <td>3.521194e+07</td>\n",
              "    </tr>\n",
              "    <tr>\n",
              "      <th>52988</th>\n",
              "      <td>10.000000</td>\n",
              "      <td>20.0</td>\n",
              "      <td>72.80</td>\n",
              "      <td>3.503914e+07</td>\n",
              "    </tr>\n",
              "  </tbody>\n",
              "</table>\n",
              "<p>52989 rows × 4 columns</p>\n",
              "</div>"
            ],
            "text/plain": [
              "       DEPTH (km)  latitude  longitude     timestamp\n",
              "0        0.000000      71.0      24.00  1.418387e+11\n",
              "1        0.000000      71.0      24.00  7.402273e+10\n",
              "2        0.000000      72.9      33.72  6.297778e+10\n",
              "3       45.569867      17.3      80.10  6.293510e+10\n",
              "4       80.000000      26.0      97.00  6.293510e+10\n",
              "...           ...       ...        ...           ...\n",
              "52984   10.000000      32.8      78.40  3.529834e+07\n",
              "52985   70.000000      25.5      90.40  3.529834e+07\n",
              "52986   22.000000      23.2      86.50  3.529834e+07\n",
              "52987   20.000000      32.8      76.40  3.521194e+07\n",
              "52988   10.000000      20.0      72.80  3.503914e+07\n",
              "\n",
              "[52989 rows x 4 columns]"
            ]
          },
          "metadata": {
            "tags": []
          },
          "execution_count": 198
        }
      ]
    },
    {
      "cell_type": "code",
      "metadata": {
        "id": "U1sdrZr0v3Kf",
        "colab_type": "code",
        "colab": {
          "base_uri": "https://localhost:8080/",
          "height": 34
        },
        "outputId": "ebbdaf6c-a7d6-4962-8352-b49d1dfdb9a0"
      },
      "source": [
        "final_df.columns"
      ],
      "execution_count": null,
      "outputs": [
        {
          "output_type": "execute_result",
          "data": {
            "text/plain": [
              "Index(['DEPTH (km)', 'latitude', 'longitude', 'timestamp'], dtype='object')"
            ]
          },
          "metadata": {
            "tags": []
          },
          "execution_count": 199
        }
      ]
    },
    {
      "cell_type": "code",
      "metadata": {
        "id": "Y1HFILMsa1NW",
        "colab_type": "code",
        "colab": {}
      },
      "source": [
        "from sklearn.model_selection import train_test_split\n",
        "X_train, X_test, y_train, y_test = train_test_split(final_df, target_label, test_size=0.2, random_state=42)"
      ],
      "execution_count": null,
      "outputs": []
    },
    {
      "cell_type": "markdown",
      "metadata": {
        "id": "y-b-FjPt35Jo",
        "colab_type": "text"
      },
      "source": [
        "# **KNN WITH K=3,5,7**"
      ]
    },
    {
      "cell_type": "code",
      "metadata": {
        "id": "DQykwsWqcrn5",
        "colab_type": "code",
        "colab": {
          "base_uri": "https://localhost:8080/",
          "height": 68
        },
        "outputId": "7d52287b-14d2-493d-b8ea-212a3bf73859"
      },
      "source": [
        "from sklearn.neighbors import KNeighborsClassifier\n",
        "\n",
        "model = KNeighborsClassifier(n_neighbors=5)\n",
        "\n",
        "# Train the model using the training sets\n",
        "model.fit(X_train,y_train)\n",
        "\n",
        "#Predict Output\n",
        "# predicted= model.predict([[0,2]]) # 0:Overcast, 2:Mild\n",
        "# print(predicted)"
      ],
      "execution_count": null,
      "outputs": [
        {
          "output_type": "execute_result",
          "data": {
            "text/plain": [
              "KNeighborsClassifier(algorithm='auto', leaf_size=30, metric='minkowski',\n",
              "                     metric_params=None, n_jobs=None, n_neighbors=5, p=2,\n",
              "                     weights='uniform')"
            ]
          },
          "metadata": {
            "tags": []
          },
          "execution_count": 201
        }
      ]
    },
    {
      "cell_type": "code",
      "metadata": {
        "id": "ANe1qOdNcuKV",
        "colab_type": "code",
        "colab": {}
      },
      "source": [
        "predicted=model.predict(X_test)"
      ],
      "execution_count": null,
      "outputs": []
    },
    {
      "cell_type": "code",
      "metadata": {
        "id": "UxtprCFScw8t",
        "colab_type": "code",
        "colab": {
          "base_uri": "https://localhost:8080/",
          "height": 391
        },
        "outputId": "3e92fef2-67e9-4aa6-cb66-51647e5818b0"
      },
      "source": [
        "from sklearn.metrics import accuracy_score\n",
        "print(accuracy_score(predicted,y_test))\n",
        "f11 = f1_score(predicted,y_test,average=None)\n",
        "re = recall_score(predicted,y_test,average='weighted')\n",
        "cm = confusion_matrix(predicted,y_test)\n",
        "pr_sc = precision_score(predicted,y_test,average='weighted')\n",
        "clrp = classification_report(predicted,y_test)\n",
        "print(\"**********KNN WITH K = 5***********\")\n",
        "print(\"accuracy score \",accu_score)\n",
        "print(\"********************\")\n",
        "print(\"f1 score \",f11)\n",
        "print(\"********************\")\n",
        "print(\"recall score \",re)\n",
        "print(\"********************\")\n",
        "print(\"confusion matrix \",cm)\n",
        "print(\"********************\")\n",
        "print(\"precision score \",pr_sc)\n",
        "print(\"********************\")\n",
        "print(\"classification report \",clrp)\n"
      ],
      "execution_count": null,
      "outputs": [
        {
          "output_type": "stream",
          "text": [
            "0.8480845442536328\n",
            "**********KNN WITH K = 5***********\n",
            "accuracy score  0.8694093225136819\n",
            "********************\n",
            "f1 score  [0.91285993 0.40808824]\n",
            "********************\n",
            "recall score  0.8480845442536328\n",
            "********************\n",
            "confusion matrix  [[8433 1109]\n",
            " [ 501  555]]\n",
            "********************\n",
            "precision score  0.8831021110062349\n",
            "********************\n",
            "classification report                precision    recall  f1-score   support\n",
            "\n",
            "         0.0       0.94      0.88      0.91      9542\n",
            "         1.0       0.33      0.53      0.41      1056\n",
            "\n",
            "    accuracy                           0.85     10598\n",
            "   macro avg       0.64      0.70      0.66     10598\n",
            "weighted avg       0.88      0.85      0.86     10598\n",
            "\n"
          ],
          "name": "stdout"
        }
      ]
    },
    {
      "cell_type": "code",
      "metadata": {
        "id": "QTHxpzsjpBBe",
        "colab_type": "code",
        "colab": {}
      },
      "source": [
        "y_test=y_test.to_numpy()"
      ],
      "execution_count": null,
      "outputs": []
    },
    {
      "cell_type": "code",
      "metadata": {
        "id": "k-xgiItPpBLU",
        "colab_type": "code",
        "colab": {}
      },
      "source": [
        "fpr = dict()\n",
        "tpr = dict()\n",
        "roc_auc = dict()\n",
        "# for i in range(0,2):\n",
        "fpr, tpr,threshlod = roc_curve(y_test, predicted)\n",
        "roc_auc = auc(fpr, tpr)\n"
      ],
      "execution_count": null,
      "outputs": []
    },
    {
      "cell_type": "code",
      "metadata": {
        "id": "DhdDIVIPpBYa",
        "colab_type": "code",
        "colab": {
          "base_uri": "https://localhost:8080/",
          "height": 68
        },
        "outputId": "d50bce44-85aa-4301-ced2-9461a0c8b730"
      },
      "source": [
        "print(roc_auc)\n",
        "print(fpr,tpr)\n",
        "print(threshlod)"
      ],
      "execution_count": null,
      "outputs": [
        {
          "output_type": "stream",
          "text": [
            "0.6387278746060856\n",
            "[0.        0.0560779 1.       ] [0.         0.33353365 1.        ]\n",
            "[2. 1. 0.]\n"
          ],
          "name": "stdout"
        }
      ]
    },
    {
      "cell_type": "code",
      "metadata": {
        "id": "DW62awnxoQyn",
        "colab_type": "code",
        "colab": {
          "base_uri": "https://localhost:8080/",
          "height": 442
        },
        "outputId": "7ddb8767-6ec5-4f15-b618-eb2702a2e505"
      },
      "source": [
        "from sklearn.neighbors import KNeighborsClassifier\n",
        "\n",
        "model = KNeighborsClassifier(n_neighbors=3)\n",
        "\n",
        "# Train the model using the training sets\n",
        "model.fit(X_train,y_train)\n",
        "predicted=model.predict(X_test)\n",
        "from sklearn.metrics import accuracy_score\n",
        "# print(accuracy_score(predicted,y_test))\n",
        "accu_score = accuracy_score(predicted,y_test,normalize=True)\n",
        "print(accu_score) \n",
        "f11 = f1_score(predicted,y_test,average=None)\n",
        "re = recall_score(predicted,y_test,average='weighted')\n",
        "cm = confusion_matrix(predicted,y_test)\n",
        "pr_sc = precision_score(predicted,y_test,average='weighted')\n",
        "clrp = classification_report(predicted,y_test)\n",
        "print(\"**********KNN WITH K = 3***********\")\n",
        "print(\"accuracy score \",accu_score)\n",
        "print(\"********************\")\n",
        "print(\"f1 score \",f11)\n",
        "print(\"********************\")\n",
        "print(\"recall score \",re)\n",
        "print(\"********************\")\n",
        "print(\"confusion matrix \",cm)\n",
        "print(\"********************\")\n",
        "print(\"precision score \",pr_sc)\n",
        "print(\"********************\")\n",
        "print(\"classification report \",clrp)\n",
        "\n",
        "fpr_1 = dict()\n",
        "tpr_1 = dict()\n",
        "roc_auc_1 = dict()\n",
        "# for i in range(0,2):\n",
        "fpr_1, tpr_1,threshlod_1 = roc_curve(y_test, predicted)\n",
        "roc_auc_1 = auc(fpr_1, tpr_1)\n",
        "\n",
        "print(\"roc_auc \",roc_auc_1)\n",
        "print(\"fpr,tpr \",fpr_1,tpr_1)\n",
        "print(\"threshold \",threshlod_1)"
      ],
      "execution_count": null,
      "outputs": [
        {
          "output_type": "stream",
          "text": [
            "0.8403472353274203\n",
            "**********KNN WITH K = 3***********\n",
            "accuracy score  0.8403472353274203\n",
            "********************\n",
            "f1 score  [0.90736888 0.4225256 ]\n",
            "********************\n",
            "recall score  0.8403472353274203\n",
            "********************\n",
            "confusion matrix  [[8287 1045]\n",
            " [ 647  619]]\n",
            "********************\n",
            "precision score  0.8612118103354629\n",
            "********************\n",
            "classification report                precision    recall  f1-score   support\n",
            "\n",
            "         0.0       0.93      0.89      0.91      9332\n",
            "         1.0       0.37      0.49      0.42      1266\n",
            "\n",
            "    accuracy                           0.84     10598\n",
            "   macro avg       0.65      0.69      0.66     10598\n",
            "weighted avg       0.86      0.84      0.85     10598\n",
            "\n",
            "roc_auc  0.6497876118243185\n",
            "fpr,tpr  [0.         0.07241997 1.        ] [0.         0.37199519 1.        ]\n",
            "threshold  [2. 1. 0.]\n"
          ],
          "name": "stdout"
        }
      ]
    },
    {
      "cell_type": "code",
      "metadata": {
        "id": "1ngLwUaZoRLK",
        "colab_type": "code",
        "colab": {
          "base_uri": "https://localhost:8080/",
          "height": 442
        },
        "outputId": "6572e962-d9a4-4f7c-f22a-cbc69beeae67"
      },
      "source": [
        "from sklearn.neighbors import KNeighborsClassifier\n",
        "\n",
        "model = KNeighborsClassifier(n_neighbors=7)\n",
        "\n",
        "# Train the model using the training sets\n",
        "model.fit(X_train,y_train)\n",
        "predicted=model.predict(X_test)\n",
        "from sklearn.metrics import accuracy_score\n",
        "# print(accuracy_score(predicted,y_test))\n",
        "accu_score = accuracy_score(predicted,y_test,normalize=True)\n",
        "print(accu_score) \n",
        "f11 = f1_score(predicted,y_test,average=None)\n",
        "re = recall_score(predicted,y_test,average='weighted')\n",
        "cm = confusion_matrix(predicted,y_test)\n",
        "pr_sc = precision_score(predicted,y_test,average='weighted')\n",
        "clrp = classification_report(predicted,y_test)\n",
        "print(\"**********KNN WITH K = 7 ***********\")\n",
        "print(\"accuracy score \",accu_score)\n",
        "print(\"********************\")\n",
        "print(\"f1 score \",f11)\n",
        "print(\"********************\")\n",
        "print(\"recall score \",re)\n",
        "print(\"********************\")\n",
        "print(\"confusion matrix \",cm)\n",
        "print(\"********************\")\n",
        "print(\"precision score \",pr_sc)\n",
        "print(\"********************\")\n",
        "print(\"classification report \",clrp)\n",
        "\n",
        "fpr_2 = dict()\n",
        "tpr_2 = dict()\n",
        "roc_auc_2 = dict()\n",
        "# for i in range(0,2):\n",
        "fpr_2, tpr_2,threshlod_2 = roc_curve(y_test, predicted)\n",
        "roc_auc_2 = auc(fpr_2, tpr_2)\n",
        "\n",
        "print(\"ROC_AUC \",roc_auc_2)\n",
        "print(\"FPR,TPR \",fpr_2,tpr_2)\n",
        "print(\"THRESHOLD \",threshlod_2)"
      ],
      "execution_count": null,
      "outputs": [
        {
          "output_type": "stream",
          "text": [
            "0.8539347046612569\n",
            "**********KNN WITH K = 7 ***********\n",
            "accuracy score  0.8539347046612569\n",
            "********************\n",
            "f1 score  [0.91687252 0.3986014 ]\n",
            "********************\n",
            "recall score  0.8539347046612569\n",
            "********************\n",
            "confusion matrix  [[8537 1151]\n",
            " [ 397  513]]\n",
            "********************\n",
            "precision score  0.8999850340002525\n",
            "********************\n",
            "classification report                precision    recall  f1-score   support\n",
            "\n",
            "         0.0       0.96      0.88      0.92      9688\n",
            "         1.0       0.31      0.56      0.40       910\n",
            "\n",
            "    accuracy                           0.85     10598\n",
            "   macro avg       0.63      0.72      0.66     10598\n",
            "weighted avg       0.90      0.85      0.87     10598\n",
            "\n",
            "ROC_AUC  0.6319281434580082\n",
            "FPR,TPR  [0.         0.04443698 1.        ] [0.         0.30829327 1.        ]\n",
            "THRESHOLD  [2. 1. 0.]\n"
          ],
          "name": "stdout"
        }
      ]
    },
    {
      "cell_type": "markdown",
      "metadata": {
        "id": "BvoV44ldHMGS",
        "colab_type": "text"
      },
      "source": [
        "**According to the below present ROC curve for k = 3, AUC is 0.65 it means there is 65% chance that model will be able to distinguish between positive class and negative class.**"
      ]
    },
    {
      "cell_type": "code",
      "metadata": {
        "id": "IWMaxbl_pBjH",
        "colab_type": "code",
        "colab": {
          "base_uri": "https://localhost:8080/",
          "height": 295
        },
        "outputId": "46996857-0695-4b36-bb4a-a7bb38bab16a"
      },
      "source": [
        "import matplotlib.pyplot as plt\n",
        "\n",
        "plt.figure()\n",
        "lw = 2\n",
        "plt.plot(fpr, tpr, color='darkorange',\n",
        "         lw=lw, label='ROC curve for k=5(area = %0.3f)' % roc_auc)\n",
        "\n",
        "plt.plot(fpr_1, tpr_1, color='darkgreen',\n",
        "         lw=lw, label='ROC curve for k=3(area = %0.3f)' % roc_auc_1)\n",
        "\n",
        "plt.plot(fpr_2, tpr_2, color='magenta',\n",
        "         lw=lw, label='ROC curve  for k=7(area = %0.3f)' % roc_auc_2)\n",
        "plt.plot([0, 1], [0, 1], color='navy', lw=lw, linestyle='--')\n",
        "plt.xlim([0.0, 1.0])\n",
        "plt.ylim([0.0, 1.05])\n",
        "plt.xlabel('False Positive Rate')\n",
        "plt.ylabel('True Positive Rate')\n",
        "plt.title('Receiver operating characteristic example')\n",
        "plt.legend(loc=\"lower right\")\n",
        "plt.show()"
      ],
      "execution_count": null,
      "outputs": [
        {
          "output_type": "display_data",
          "data": {
            "image/png": "[encoded data removed]",
            "text/plain": [
              "<Figure size 432x288 with 1 Axes>"
            ]
          },
          "metadata": {
            "tags": [],
            "needs_background": "light"
          }
        }
      ]
    },
    {
      "cell_type": "markdown",
      "metadata": {
        "id": "FZBRzELi4N-r",
        "colab_type": "text"
      },
      "source": [
        "# **DECISION TREE CLASSIFIER WITH PRE-PRUNE DEPTH = 2,4,10**"
      ]
    },
    {
      "cell_type": "code",
      "metadata": {
        "id": "eldyGKNTczR2",
        "colab_type": "code",
        "colab": {}
      },
      "source": [
        "from sklearn.tree import DecisionTreeClassifier\n",
        "from sklearn import tree\n",
        "clf = DecisionTreeClassifier(random_state=42,max_depth=2)"
      ],
      "execution_count": null,
      "outputs": []
    },
    {
      "cell_type": "code",
      "metadata": {
        "id": "4gYJ9WD6c140",
        "colab_type": "code",
        "colab": {
          "base_uri": "https://localhost:8080/",
          "height": 622
        },
        "outputId": "8bffbb98-99d5-4a3a-c253-4e052663f42a"
      },
      "source": [
        "clf = clf.fit(X_train, y_train)\n",
        "tree.plot_tree(clf) \n",
        "prefict=clf.predict(X_test)\n",
        "accuracy_score(prefict,y_test)\n",
        "accu_score = accuracy_score(prefict,y_test)\n",
        "print(accu_score) \n",
        "f11 = f1_score(prefict,y_test,average=None)\n",
        "re = recall_score(prefict,y_test,average='weighted')\n",
        "cm = confusion_matrix(prefict,y_test)\n",
        "pr_sc = precision_score(prefict,y_test,average='weighted')\n",
        "clrp = classification_report(prefict,y_test)\n",
        "print(\"**********DECISION TREE WITH DEPTH = 2 ***********\")\n",
        "print(\"accuracy score \",accu_score)\n",
        "print(\"********************\")\n",
        "print(\"f1 score \",f11)\n",
        "print(\"********************\")\n",
        "print(\"recall score \",re)\n",
        "print(\"********************\")\n",
        "print(\"confusion matrix \",cm)\n",
        "print(\"********************\")\n",
        "print(\"precision score \",pr_sc)\n",
        "print(\"********************\")\n",
        "print(\"classification report \",clrp)\n"
      ],
      "execution_count": null,
      "outputs": [
        {
          "output_type": "stream",
          "text": [
            "0.858463861105869\n",
            "**********DECISION TREE WITH DEPTH = 2 ***********\n",
            "accuracy score  0.858463861105869\n",
            "********************\n",
            "f1 score  [0.92189127 0.24698795]\n",
            "********************\n",
            "recall score  0.858463861105869\n",
            "********************\n",
            "confusion matrix  [[8852 1418]\n",
            " [  82  246]]\n",
            "********************\n",
            "precision score  0.9647318377180054\n",
            "********************\n",
            "classification report                precision    recall  f1-score   support\n",
            "\n",
            "         0.0       0.99      0.86      0.92     10270\n",
            "         1.0       0.15      0.75      0.25       328\n",
            "\n",
            "    accuracy                           0.86     10598\n",
            "   macro avg       0.57      0.81      0.58     10598\n",
            "weighted avg       0.96      0.86      0.90     10598\n",
            "\n"
          ],
          "name": "stdout"
        },
        {
          "output_type": "display_data",
          "data": {
            "image/png": "[encoded data removed]",
            "text/plain": [
              "<Figure size 432x288 with 1 Axes>"
            ]
          },
          "metadata": {
            "tags": [],
            "needs_background": "light"
          }
        }
      ]
    },
    {
      "cell_type": "code",
      "metadata": {
        "id": "awYvSARdc4o7",
        "colab_type": "code",
        "colab": {}
      },
      "source": [
        "# y_test=y_test.to_numpy()"
      ],
      "execution_count": null,
      "outputs": []
    },
    {
      "cell_type": "code",
      "metadata": {
        "id": "5p4Q-aJNsmQA",
        "colab_type": "code",
        "colab": {}
      },
      "source": [
        "fpr = dict()\n",
        "tpr = dict()\n",
        "roc_auc = dict()\n",
        "# for i in range(0,2):\n",
        "fpr, tpr,threshlod = roc_curve(y_test, prefict)\n",
        "roc_auc = auc(fpr, tpr)\n"
      ],
      "execution_count": null,
      "outputs": []
    },
    {
      "cell_type": "code",
      "metadata": {
        "id": "ItX8p25asmnT",
        "colab_type": "code",
        "colab": {
          "base_uri": "https://localhost:8080/",
          "height": 68
        },
        "outputId": "d280ac78-4feb-4453-dc01-a9bc2129bfc0"
      },
      "source": [
        "print(roc_auc)\n",
        "print(fpr,tpr)\n",
        "print(threshlod)"
      ],
      "execution_count": null,
      "outputs": [
        {
          "output_type": "stream",
          "text": [
            "0.5693290594703037\n",
            "[0.         0.00917842 1.        ] [0.         0.14783654 1.        ]\n",
            "[2. 1. 0.]\n"
          ],
          "name": "stdout"
        }
      ]
    },
    {
      "cell_type": "code",
      "metadata": {
        "id": "GHqNg5hEsp-X",
        "colab_type": "code",
        "colab": {
          "base_uri": "https://localhost:8080/",
          "height": 673
        },
        "outputId": "85c95efc-7f6a-4ef3-e042-1959f4904851"
      },
      "source": [
        "clf = DecisionTreeClassifier(random_state=42,max_depth=4)\n",
        "clf = clf.fit(X_train, y_train)\n",
        "prefict=clf.predict(X_test)\n",
        "accuracy_score(prefict,y_test)\n",
        "tree.plot_tree(clf) \n",
        "\n",
        "\n",
        "accu_score = accuracy_score(prefict,y_test)\n",
        "print(accu_score) \n",
        "f11 = f1_score(prefict,y_test,average=None)\n",
        "re = recall_score(prefict,y_test,average='weighted')\n",
        "cm = confusion_matrix(prefict,y_test)\n",
        "pr_sc = precision_score(prefict,y_test,average='weighted')\n",
        "clrp = classification_report(prefict,y_test)\n",
        "print(\"**********DECISION TREE WITH DEPTH = 4 ***********\")\n",
        "print(\"accuracy score \",accu_score)\n",
        "print(\"********************\")\n",
        "print(\"f1 score \",f11)\n",
        "print(\"********************\")\n",
        "print(\"recall score \",re)\n",
        "print(\"********************\")\n",
        "print(\"confusion matrix \",cm)\n",
        "print(\"********************\")\n",
        "print(\"precision score \",pr_sc)\n",
        "print(\"********************\")\n",
        "print(\"classification report \",clrp)\n",
        "\n",
        "fpr_1 = dict()\n",
        "tpr_1 = dict()\n",
        "roc_auc_1 = dict()\n",
        "# for i in range(0,2):\n",
        "fpr_1, tpr_1,threshlod_1 = roc_curve(prefict,y_test)\n",
        "roc_auc_1 = auc(fpr_1, tpr_1)\n",
        "\n",
        "print(\"ROC_AUC \",roc_auc_1)\n",
        "print(\"FPR,TPR \",fpr_1,tpr_1)\n",
        "print(\"THRESHOLD \",threshlod_1)"
      ],
      "execution_count": null,
      "outputs": [
        {
          "output_type": "stream",
          "text": [
            "0.8665785997357992\n",
            "**********DECISION TREE WITH DEPTH = 4 ***********\n",
            "accuracy score  0.8665785997357992\n",
            "********************\n",
            "f1 score  [0.92649199 0.27857143]\n",
            "********************\n",
            "recall score  0.8665785997357992\n",
            "********************\n",
            "confusion matrix  [[8911 1391]\n",
            " [  23  273]]\n",
            "********************\n",
            "precision score  0.9741499031204617\n",
            "********************\n",
            "classification report                precision    recall  f1-score   support\n",
            "\n",
            "         0.0       1.00      0.86      0.93     10302\n",
            "         1.0       0.16      0.92      0.28       296\n",
            "\n",
            "    accuracy                           0.87     10598\n",
            "   macro avg       0.58      0.89      0.60     10598\n",
            "weighted avg       0.97      0.87      0.91     10598\n",
            "\n",
            "ROC_AUC  0.8936374857676547\n",
            "FPR,TPR  [0.         0.13502233 1.        ] [0.        0.9222973 1.       ]\n",
            "THRESHOLD  [2. 1. 0.]\n"
          ],
          "name": "stdout"
        },
        {
          "output_type": "display_data",
          "data": {
            "image/png": "[encoded data removed]",
            "text/plain": [
              "<Figure size 432x288 with 1 Axes>"
            ]
          },
          "metadata": {
            "tags": [],
            "needs_background": "light"
          }
        }
      ]
    },
    {
      "cell_type": "code",
      "metadata": {
        "id": "C7JNFDcXxbCV",
        "colab_type": "code",
        "colab": {}
      },
      "source": [
        "X_train.head()\n",
        "\n",
        "tar=pd.DataFrame(target_label)\n",
        "heat_map_df=pd.concat([final_df,tar],axis=1)\n",
        "# heat_map_df"
      ],
      "execution_count": null,
      "outputs": []
    },
    {
      "cell_type": "code",
      "metadata": {
        "id": "Zp45uTa37RGd",
        "colab_type": "code",
        "colab": {
          "base_uri": "https://localhost:8080/",
          "height": 419
        },
        "outputId": "1a76103b-70d3-4d1a-eb97-4c8834e33287"
      },
      "source": [
        "heat_map_df"
      ],
      "execution_count": null,
      "outputs": [
        {
          "output_type": "execute_result",
          "data": {
            "text/html": [
              "<div>\n",
              "<style scoped>\n",
              "    .dataframe tbody tr th:only-of-type {\n",
              "        vertical-align: middle;\n",
              "    }\n",
              "\n",
              "    .dataframe tbody tr th {\n",
              "        vertical-align: top;\n",
              "    }\n",
              "\n",
              "    .dataframe thead th {\n",
              "        text-align: right;\n",
              "    }\n",
              "</style>\n",
              "<table border=\"1\" class=\"dataframe\">\n",
              "  <thead>\n",
              "    <tr style=\"text-align: right;\">\n",
              "      <th></th>\n",
              "      <th>DEPTH (km)</th>\n",
              "      <th>latitude</th>\n",
              "      <th>longitude</th>\n",
              "      <th>timestamp</th>\n",
              "      <th>MAGNITUDE</th>\n",
              "    </tr>\n",
              "  </thead>\n",
              "  <tbody>\n",
              "    <tr>\n",
              "      <th>0</th>\n",
              "      <td>0.000000</td>\n",
              "      <td>71.0</td>\n",
              "      <td>24.00</td>\n",
              "      <td>1.418387e+11</td>\n",
              "      <td>1.0</td>\n",
              "    </tr>\n",
              "    <tr>\n",
              "      <th>1</th>\n",
              "      <td>0.000000</td>\n",
              "      <td>71.0</td>\n",
              "      <td>24.00</td>\n",
              "      <td>7.402273e+10</td>\n",
              "      <td>1.0</td>\n",
              "    </tr>\n",
              "    <tr>\n",
              "      <th>2</th>\n",
              "      <td>0.000000</td>\n",
              "      <td>72.9</td>\n",
              "      <td>33.72</td>\n",
              "      <td>6.297778e+10</td>\n",
              "      <td>1.0</td>\n",
              "    </tr>\n",
              "    <tr>\n",
              "      <th>3</th>\n",
              "      <td>45.569867</td>\n",
              "      <td>17.3</td>\n",
              "      <td>80.10</td>\n",
              "      <td>6.293510e+10</td>\n",
              "      <td>1.0</td>\n",
              "    </tr>\n",
              "    <tr>\n",
              "      <th>4</th>\n",
              "      <td>80.000000</td>\n",
              "      <td>26.0</td>\n",
              "      <td>97.00</td>\n",
              "      <td>6.293510e+10</td>\n",
              "      <td>1.0</td>\n",
              "    </tr>\n",
              "    <tr>\n",
              "      <th>...</th>\n",
              "      <td>...</td>\n",
              "      <td>...</td>\n",
              "      <td>...</td>\n",
              "      <td>...</td>\n",
              "      <td>...</td>\n",
              "    </tr>\n",
              "    <tr>\n",
              "      <th>52984</th>\n",
              "      <td>10.000000</td>\n",
              "      <td>32.8</td>\n",
              "      <td>78.40</td>\n",
              "      <td>3.529834e+07</td>\n",
              "      <td>0.0</td>\n",
              "    </tr>\n",
              "    <tr>\n",
              "      <th>52985</th>\n",
              "      <td>70.000000</td>\n",
              "      <td>25.5</td>\n",
              "      <td>90.40</td>\n",
              "      <td>3.529834e+07</td>\n",
              "      <td>0.0</td>\n",
              "    </tr>\n",
              "    <tr>\n",
              "      <th>52986</th>\n",
              "      <td>22.000000</td>\n",
              "      <td>23.2</td>\n",
              "      <td>86.50</td>\n",
              "      <td>3.529834e+07</td>\n",
              "      <td>0.0</td>\n",
              "    </tr>\n",
              "    <tr>\n",
              "      <th>52987</th>\n",
              "      <td>20.000000</td>\n",
              "      <td>32.8</td>\n",
              "      <td>76.40</td>\n",
              "      <td>3.521194e+07</td>\n",
              "      <td>0.0</td>\n",
              "    </tr>\n",
              "    <tr>\n",
              "      <th>52988</th>\n",
              "      <td>10.000000</td>\n",
              "      <td>20.0</td>\n",
              "      <td>72.80</td>\n",
              "      <td>3.503914e+07</td>\n",
              "      <td>0.0</td>\n",
              "    </tr>\n",
              "  </tbody>\n",
              "</table>\n",
              "<p>52989 rows × 5 columns</p>\n",
              "</div>"
            ],
            "text/plain": [
              "       DEPTH (km)  latitude  longitude     timestamp  MAGNITUDE\n",
              "0        0.000000      71.0      24.00  1.418387e+11        1.0\n",
              "1        0.000000      71.0      24.00  7.402273e+10        1.0\n",
              "2        0.000000      72.9      33.72  6.297778e+10        1.0\n",
              "3       45.569867      17.3      80.10  6.293510e+10        1.0\n",
              "4       80.000000      26.0      97.00  6.293510e+10        1.0\n",
              "...           ...       ...        ...           ...        ...\n",
              "52984   10.000000      32.8      78.40  3.529834e+07        0.0\n",
              "52985   70.000000      25.5      90.40  3.529834e+07        0.0\n",
              "52986   22.000000      23.2      86.50  3.529834e+07        0.0\n",
              "52987   20.000000      32.8      76.40  3.521194e+07        0.0\n",
              "52988   10.000000      20.0      72.80  3.503914e+07        0.0\n",
              "\n",
              "[52989 rows x 5 columns]"
            ]
          },
          "metadata": {
            "tags": []
          },
          "execution_count": 240
        }
      ]
    },
    {
      "cell_type": "markdown",
      "metadata": {
        "id": "yCT1vZ_A7gbJ",
        "colab_type": "text"
      },
      "source": [
        "**Correlation between parameters.**\n",
        "It is evident that longitude and timestamp are correlated to Magnitude."
      ]
    },
    {
      "cell_type": "code",
      "metadata": {
        "id": "AsbfaIUe5AHK",
        "colab_type": "code",
        "colab": {
          "base_uri": "https://localhost:8080/",
          "height": 554
        },
        "outputId": "c70f1bcc-ff8c-4b8a-9cca-356bb7b0a7a9"
      },
      "source": [
        "# heat_map_df=pd.concat([final_df,target_label])\n",
        "\n",
        "import seaborn as sns\n",
        "import numpy as np\n",
        "corr = heat_map_df.corr()\n",
        "mask = np.triu(np.ones_like(corr, dtype=np.bool))\n",
        "sns.set_style(style = 'white')\n",
        "f, ax = plt.subplots(figsize=(11, 9))\n",
        "cmap = sns.diverging_palette(10, 250, as_cmap=True)\n",
        "sns.heatmap(corr, mask=mask, cmap=cmap, \n",
        "        square=True,\n",
        "        linewidths=.5, cbar_kws={\"shrink\": .5}, ax=ax)"
      ],
      "execution_count": null,
      "outputs": [
        {
          "output_type": "execute_result",
          "data": {
            "text/plain": [
              "<matplotlib.axes._subplots.AxesSubplot at 0x7fe1e52d99e8>"
            ]
          },
          "metadata": {
            "tags": []
          },
          "execution_count": 241
        },
        {
          "output_type": "display_data",
          "data": {
            "image/png": "[encoded data removed]",
            "text/plain": [
              "<Figure size 792x648 with 2 Axes>"
            ]
          },
          "metadata": {
            "tags": []
          }
        }
      ]
    },
    {
      "cell_type": "markdown",
      "metadata": {
        "id": "kiNpTgAO75Xa",
        "colab_type": "text"
      },
      "source": [
        "**Importance of parameters**\n",
        "Here also the longitude and the timestamp are the two important features."
      ]
    },
    {
      "cell_type": "code",
      "metadata": {
        "id": "KMLBJZPfxW3O",
        "colab_type": "code",
        "colab": {
          "base_uri": "https://localhost:8080/",
          "height": 333
        },
        "outputId": "8d04cf62-fbe9-4383-caab-454ee2a3ba30"
      },
      "source": [
        "importance = clf.feature_importances_\n",
        "from matplotlib import pyplot\n",
        "# summarize feature importance\n",
        "for i,v in enumerate(importance):\n",
        "\tprint('Feature: %0d, Score: %.5f' % (i,v))\n",
        "# plot feature importance\n",
        "pyplot.bar([x for x in range(len(importance))], importance)\n",
        "pyplot.show()"
      ],
      "execution_count": null,
      "outputs": [
        {
          "output_type": "stream",
          "text": [
            "Feature: 0, Score: 0.01151\n",
            "Feature: 1, Score: 0.18663\n",
            "Feature: 2, Score: 0.32816\n",
            "Feature: 3, Score: 0.47370\n"
          ],
          "name": "stdout"
        },
        {
          "output_type": "display_data",
          "data": {
            "image/png": "[encoded data removed]",
            "text/plain": [
              "<Figure size 432x288 with 1 Axes>"
            ]
          },
          "metadata": {
            "tags": [],
            "needs_background": "light"
          }
        }
      ]
    },
    {
      "cell_type": "code",
      "metadata": {
        "id": "oPrpgP8BsukI",
        "colab_type": "code",
        "colab": {
          "base_uri": "https://localhost:8080/",
          "height": 690
        },
        "outputId": "513fa554-716a-42b4-f687-65d86cd4e10d"
      },
      "source": [
        "clf_1 = DecisionTreeClassifier(max_depth=10)\n",
        "clf_1 = clf_1.fit(X_train, y_train)\n",
        "prefict=clf_1.predict(X_test)\n",
        "accuracy_score(prefict,y_test)\n",
        "tree.plot_tree(clf) \n",
        "\n",
        "\n",
        "accu_score = accuracy_score(prefict,y_test)\n",
        "print(accu_score) \n",
        "f11 = f1_score(prefict,y_test,average=None)\n",
        "re = recall_score(prefict,y_test,average='weighted')\n",
        "cm = confusion_matrix(prefict,y_test)\n",
        "pr_sc = precision_score(prefict,y_test,average='weighted')\n",
        "clrp = classification_report(prefict,y_test)\n",
        "print(\"**********DECISION TREE WITH DEPTH = 10 ***********\")\n",
        "print(\"accuracy score \",accu_score)\n",
        "print(\"********************\")\n",
        "print(\"f1 score \",f11)\n",
        "print(\"********************\")\n",
        "print(\"recall score \",re)\n",
        "print(\"********************\")\n",
        "print(\"confusion matrix \",cm)\n",
        "print(\"********************\")\n",
        "print(\"precision score \",pr_sc)\n",
        "print(\"********************\")\n",
        "print(\"classification report \",clrp)\n",
        "\n",
        "fpr_2 = dict()\n",
        "tpr_2 = dict()\n",
        "roc_auc_2 = dict()\n",
        "# for i in range(0,2):\n",
        "fpr_2, tpr_2,threshlod_2 = roc_curve(prefict,y_test)\n",
        "roc_auc_2 = auc(fpr_2, tpr_2)\n",
        "score = roc_auc_score(prefict,y_test)\n",
        "print(\"score..\",score)\n",
        "\n",
        "print(\"ROC_AUC \",roc_auc_2)\n",
        "print(\"FPR,TPR \",fpr_2,tpr_2)\n",
        "print(\"THRESHOLD \",threshlod_2)"
      ],
      "execution_count": null,
      "outputs": [
        {
          "output_type": "stream",
          "text": [
            "0.8695036799396112\n",
            "**********DECISION TREE WITH DEPTH = 10 ***********\n",
            "accuracy score  0.8695036799396112\n",
            "********************\n",
            "f1 score  [0.92707619 0.38009861]\n",
            "********************\n",
            "recall score  0.8695036799396112\n",
            "********************\n",
            "confusion matrix  [[8791 1240]\n",
            " [ 143  424]]\n",
            "********************\n",
            "precision score  0.9449817970688048\n",
            "********************\n",
            "classification report                precision    recall  f1-score   support\n",
            "\n",
            "         0.0       0.98      0.88      0.93     10031\n",
            "         1.0       0.25      0.75      0.38       567\n",
            "\n",
            "    accuracy                           0.87     10598\n",
            "   macro avg       0.62      0.81      0.65     10598\n",
            "weighted avg       0.94      0.87      0.90     10598\n",
            "\n",
            "score.. 0.8120893132523744\n",
            "ROC_AUC  0.8120893132523744\n",
            "FPR,TPR  [0.         0.12361679 1.        ] [0.         0.74779541 1.        ]\n",
            "THRESHOLD  [2. 1. 0.]\n"
          ],
          "name": "stdout"
        },
        {
          "output_type": "display_data",
          "data": {
            "image/png": "[encoded data removed]",
            "text/plain": [
              "<Figure size 432x288 with 1 Axes>"
            ]
          },
          "metadata": {
            "tags": [],
            "needs_background": "light"
          }
        }
      ]
    },
    {
      "cell_type": "code",
      "metadata": {
        "id": "Fvs9IM3S2gkk",
        "colab_type": "code",
        "colab": {
          "base_uri": "https://localhost:8080/",
          "height": 673
        },
        "outputId": "94dfc4e7-3a59-47f7-b32b-644590ab5ee0"
      },
      "source": [
        "clf = DecisionTreeClassifier(random_state=42,max_depth=3)\n",
        "clf = clf.fit(X_train, y_train)\n",
        "prefict=clf.predict(X_test)\n",
        "accuracy_score(prefict,y_test)\n",
        "tree.plot_tree(clf) \n",
        "\n",
        "\n",
        "accu_score = accuracy_score(prefict,y_test)\n",
        "print(accu_score) \n",
        "f11 = f1_score(prefict,y_test,average=None)\n",
        "re = recall_score(prefict,y_test,average='weighted')\n",
        "cm = confusion_matrix(prefict,y_test)\n",
        "pr_sc = precision_score(prefict,y_test,average='weighted')\n",
        "clrp = classification_report(prefict,y_test)\n",
        "print(\"**********DECISION TREE WITH DEPTH = 3 ***********\")\n",
        "print(\"accuracy score \",accu_score)\n",
        "print(\"********************\")\n",
        "print(\"f1 score \",f11)\n",
        "print(\"********************\")\n",
        "print(\"recall score \",re)\n",
        "print(\"********************\")\n",
        "print(\"confusion matrix \",cm)\n",
        "print(\"********************\")\n",
        "print(\"precision score \",pr_sc)\n",
        "print(\"********************\")\n",
        "print(\"classification report \",clrp)\n",
        "\n",
        "fpr_3 = dict()\n",
        "tpr_3 = dict()\n",
        "roc_auc_3 = dict()\n",
        "# for i in range(0,2):\n",
        "fpr_3, tpr_3,threshlod_3 = roc_curve(prefict,y_test)\n",
        "roc_auc_3 = auc(fpr_3, tpr_3)\n",
        "\n",
        "print(\"ROC_AUC \",roc_auc_3)\n",
        "print(\"FPR,TPR \",fpr_3,tpr_3)\n",
        "print(\"THRESHOLD \",threshlod_3)"
      ],
      "execution_count": null,
      "outputs": [
        {
          "output_type": "stream",
          "text": [
            "0.8661068126061521\n",
            "**********DECISION TREE WITH DEPTH = 3 ***********\n",
            "accuracy score  0.8661068126061521\n",
            "********************\n",
            "f1 score  [0.9260668  0.29156266]\n",
            "********************\n",
            "recall score  0.8661068126061521\n",
            "********************\n",
            "confusion matrix  [[8887 1372]\n",
            " [  47  292]]\n",
            "********************\n",
            "precision score  0.9685334420523556\n",
            "********************\n",
            "classification report                precision    recall  f1-score   support\n",
            "\n",
            "         0.0       0.99      0.87      0.93     10259\n",
            "         1.0       0.18      0.86      0.29       339\n",
            "\n",
            "    accuracy                           0.87     10598\n",
            "   macro avg       0.59      0.86      0.61     10598\n",
            "weighted avg       0.97      0.87      0.91     10598\n",
            "\n",
            "ROC_AUC  0.8638103502759359\n",
            "FPR,TPR  [0.         0.13373623 1.        ] [0.         0.86135693 1.        ]\n",
            "THRESHOLD  [2. 1. 0.]\n"
          ],
          "name": "stdout"
        },
        {
          "output_type": "display_data",
          "data": {
            "image/png": "[encoded data removed]",
            "text/plain": [
              "<Figure size 432x288 with 1 Axes>"
            ]
          },
          "metadata": {
            "tags": [],
            "needs_background": "light"
          }
        }
      ]
    },
    {
      "cell_type": "markdown",
      "metadata": {
        "id": "W5GraMleIJ7l",
        "colab_type": "text"
      },
      "source": [
        "**According to the below present ROC curve for pre-prune depth=4, AUC is 0.894 it means there is 89.4% chance that model will be able to distinguish between positive class and negative class.**"
      ]
    },
    {
      "cell_type": "code",
      "metadata": {
        "id": "k_rS1rtzsm3f",
        "colab_type": "code",
        "colab": {
          "base_uri": "https://localhost:8080/",
          "height": 295
        },
        "outputId": "f371a309-6287-48f4-93c3-a9d211ab91c2"
      },
      "source": [
        "import matplotlib.pyplot as plt\n",
        "\n",
        "plt.figure()\n",
        "lw = 2\n",
        "plt.plot(fpr, tpr, color='darkorange',\n",
        "         lw=lw, label='ROC curve for DEPTH=2(area = %0.3f)' % roc_auc)\n",
        "\n",
        "plt.plot(fpr_1, tpr_1, color='darkgreen',\n",
        "         lw=lw, label='ROC curve for DEPTH=4(area = %0.3f)' % roc_auc_1)\n",
        "\n",
        "plt.plot(fpr_2, tpr_2, color='magenta',\n",
        "         lw=lw, label='ROC curve  for DEPTH=10(area = %0.3f)' % roc_auc_2)\n",
        "\n",
        "plt.plot(fpr_3, tpr_3, color='red',\n",
        "         lw=lw, label='ROC curve for DEPTH=3(area = %0.3f)' % roc_auc_3)\n",
        "plt.plot([0, 1], [0, 1], color='navy', lw=lw, linestyle='--')\n",
        "plt.xlim([0.0, 1.0])\n",
        "plt.ylim([0.0, 1.05])\n",
        "plt.xlabel('False Positive Rate')\n",
        "plt.ylabel('True Positive Rate')\n",
        "plt.title('Receiver operating characteristic example')\n",
        "plt.legend(loc=\"lower right\")\n",
        "plt.show()"
      ],
      "execution_count": null,
      "outputs": [
        {
          "output_type": "display_data",
          "data": {
            "image/png": "[encoded data removed]",
            "text/plain": [
              "<Figure size 432x288 with 1 Axes>"
            ]
          },
          "metadata": {
            "tags": [],
            "needs_background": "light"
          }
        }
      ]
    },
    {
      "cell_type": "markdown",
      "metadata": {
        "id": "JF_2g8xBAqWj",
        "colab_type": "text"
      },
      "source": [
        "**DATA CLEANING : Dropped all the columns having null values more than 60% of the dataset .In case of magnitude and depth,replaced nan values by mean. In case of date and month,replaced nan values by mode  , converted latitude direction from S to N and longitude direction from W to E**\n",
        "\n",
        "**month has mixture of int,float and str values,so converted to integer values,date field has float values,they are converted to int and values of year field were string type,so converted them to int**\n",
        "\n",
        "\n",
        "**for timeStamp, data has to be used in yyyymmdd format and must be a string, and used NumPy timestamp as only numpy can handle dates in BC**\n"
      ]
    },
    {
      "cell_type": "markdown",
      "metadata": {
        "id": "ZleITenHCs9g",
        "colab_type": "text"
      },
      "source": [
        "**2)Decision Tree classifers are better because they can distinguish postive and negetive class better than KNN classifiers, as observed in the above ROC curves as well as they have better precision,accuracy,f1 score**"
      ]
    },
    {
      "cell_type": "markdown",
      "metadata": {
        "id": "txXP9NMj3fDZ",
        "colab_type": "text"
      },
      "source": [
        "**3) For Decision tree, the best parameter is depth k=4 as it has the highest auc value and other metrics like  the highest accuracy and better precision.As it goes deeper it tends to overfit.                                             For a KNN it is best at k=3 as it has the highest auc and accuracy among others.**"
      ]
    },
    {
      "cell_type": "markdown",
      "metadata": {
        "id": "aY0CloHn2ngu",
        "colab_type": "text"
      },
      "source": [
        "**4) The best two features are timestamp and longitude as we obtained it from the sklearn's feature_importance and shown in plots above**"
      ]
    },
    {
      "cell_type": "markdown",
      "metadata": {
        "id": "hdpNb0gyLI7k",
        "colab_type": "text"
      },
      "source": [
        "**5)Observation : feature processing does help in improvising the model to a little extent**\n",
        "**New feature - TimeStamp is created using existing features Date,month and year, without using additional feature i.e approach 1 and 2, maximum AUC was around 89% and after using new feature AUC is again 89% however this model has better accuracy,f1 score, recall and precision**\n",
        "\n",
        "**We kept threshold value = 4, 4.3 , 4.5, 4.8 ,5 for magnitude(mW). Threshold value =5 gave best result**"
      ]
    },
    {
      "cell_type": "code",
      "metadata": {
        "id": "5-Dsf-J1rNDE",
        "colab_type": "code",
        "colab": {}
      },
      "source": [
        ""
      ],
      "execution_count": null,
      "outputs": []
    }
  ]
}