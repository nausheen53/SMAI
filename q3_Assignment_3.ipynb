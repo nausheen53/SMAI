{
  "nbformat": 4,
  "nbformat_minor": 0,
  "metadata": {
    "kernelspec": {
      "name": "python3",
      "display_name": "Python 3"
    },
    "language_info": {
      "codemirror_mode": {
        "name": "ipython",
        "version": 3
      },
      "file_extension": ".py",
      "mimetype": "text/x-python",
      "name": "python",
      "nbconvert_exporter": "python",
      "pygments_lexer": "ipython3",
      "version": "3.6.9"
    },
    "colab": {
      "name": "q3.ipynb",
      "provenance": [],
      "collapsed_sections": [],
      "include_colab_link": true
    },
    "accelerator": "GPU"
  },
  "cells": [
    {
      "cell_type": "markdown",
      "metadata": {
        "id": "view-in-github",
        "colab_type": "text"
      },
      "source": [
        "<a href=\"https://colab.research.google.com/github/nausheen53/SMAI/blob/master/q3_Assignment_3.ipynb\" target=\"_parent\"><img src=\"https://colab.research.google.com/assets/colab-badge.svg\" alt=\"Open In Colab\"/></a>"
      ]
    },
    {
      "cell_type": "code",
      "metadata": {
        "scrolled": false,
        "id": "GNlltam7Nyym",
        "colab_type": "code",
        "colab": {}
      },
      "source": [
        "import struct as st\n",
        "import numpy as np\n",
        "import keras\n",
        "from sklearn import svm\n",
        "from sklearn.svm import LinearSVC\n",
        "from sklearn.metrics import accuracy_score, f1_score, precision_score, recall_score, classification_report, confusion_matrix"
      ],
      "execution_count": 0,
      "outputs": []
    },
    {
      "cell_type": "code",
      "metadata": {
        "scrolled": true,
        "id": "4tHddRrHNyy6",
        "colab_type": "code",
        "colab": {}
      },
      "source": [
        "from keras.datasets import mnist\n",
        "\n",
        "(X_train, y_train), (X_test, y_test) = mnist.load_data()"
      ],
      "execution_count": 0,
      "outputs": []
    },
    {
      "cell_type": "code",
      "metadata": {
        "id": "LQooJbUMNyzW",
        "colab_type": "code",
        "colab": {}
      },
      "source": [
        "import matplotlib.pyplot as plt\n",
        "image = np.asarray(X_train[0]).squeeze()\n",
        "plt.imshow(image,cmap='Greys')\n",
        "plt.show()"
      ],
      "execution_count": 0,
      "outputs": []
    },
    {
      "cell_type": "code",
      "metadata": {
        "id": "hEebjWJxNyzE",
        "colab_type": "code",
        "colab": {}
      },
      "source": [
        "print(X_train.shape)\n",
        "n_sample,h,w=X_train.shape\n",
        "x_train=X_train.reshape(n_sample,h*w)\n",
        "print(x_train.shape)"
      ],
      "execution_count": 0,
      "outputs": []
    },
    {
      "cell_type": "code",
      "metadata": {
        "id": "vWMEDuoENyzM",
        "colab_type": "code",
        "colab": {}
      },
      "source": [
        "print(X_test.shape)\n",
        "n_sample_t,h_t,w_t=X_test.shape\n",
        "x_test=X_test.reshape(n_sample_t,h_t*w_t)\n",
        "print(x_test.shape)"
      ],
      "execution_count": 0,
      "outputs": []
    },
    {
      "cell_type": "code",
      "metadata": {
        "id": "YPzpUtnyNyzR",
        "colab_type": "code",
        "colab": {}
      },
      "source": [
        "print(len(y_train))\n",
        "print(len(y_test))"
      ],
      "execution_count": 0,
      "outputs": []
    },
    {
      "cell_type": "code",
      "metadata": {
        "id": "CYL6dLncNyza",
        "colab_type": "code",
        "colab": {}
      },
      "source": [
        "#linear model\n",
        "model_linear = svm.SVC(kernel='linear',C=1.0)\n",
        "model_linear.fit(x_train, y_train)\n",
        "\n",
        "# predict\n",
        "y_pred = model_linear.predict(x_test)\n",
        "Accuracy_score = accuracy_score(y_test,y_pred)\n",
        "f11 = f1_score(y_test,y_pred,average=None)\n",
        "re = recall_score(y_test,y_pred,average='weighted')\n",
        "cm = confusion_matrix(y_test,y_pred)\n",
        "pr_sc = precision_score(y_test,y_pred,average='weighted')\n",
        "clrp = classification_report(y_test,y_pred)\n",
        "print(\"****** LINEAR SVC ***************** WITH C = 1.0\")\n",
        "print(\"accuracy score \",Accuracy_score)\n",
        "print(\"********************\")\n",
        "print(\"f1 score \",f11)\n",
        "print(\"********************\")\n",
        "print(\"recall score \",re)\n",
        "print(\"********************\")\n",
        "print(\"confusion matrix \",cm)\n",
        "print(\"********************\")\n",
        "print(\"precision score \",pr_sc)\n",
        "print(\"********************\")\n",
        "print(\"classification report \",clrp)"
      ],
      "execution_count": 0,
      "outputs": []
    },
    {
      "cell_type": "code",
      "metadata": {
        "id": "y_k6X2ZINyzj",
        "colab_type": "code",
        "colab": {}
      },
      "source": [
        "#linear model\n",
        "model_linear = svm.SVC(kernel='rbf',C=1.0)\n",
        "model_linear.fit(x_train, y_train)\n",
        "\n",
        "# predict\n",
        "y_pred = model_linear.predict(x_test)\n",
        "Accuracy_score = accuracy_score(y_test,y_pred)\n",
        "f11 = f1_score(y_test,y_pred,average=None)\n",
        "re = recall_score(y_test,y_pred,average='weighted')\n",
        "cm = confusion_matrix(y_test,y_pred)\n",
        "pr_sc = precision_score(y_test,y_pred,average='weighted')\n",
        "clrp = classification_report(y_test,y_pred)\n",
        "print(\"****** RBF ***************** WITH C = 1.0\")\n",
        "print(\"accuracy score \",Accuracy_score)\n",
        "print(\"********************\")\n",
        "print(\"f1 score \",f11)\n",
        "print(\"********************\")\n",
        "print(\"recall score \",re)\n",
        "print(\"********************\")\n",
        "print(\"confusion matrix \",cm)\n",
        "print(\"********************\")\n",
        "print(\"precision score \",pr_sc)\n",
        "print(\"********************\")\n",
        "print(\"classification report \",clrp)"
      ],
      "execution_count": 0,
      "outputs": []
    },
    {
      "cell_type": "code",
      "metadata": {
        "id": "jwtSA4WcNyzm",
        "colab_type": "code",
        "colab": {}
      },
      "source": [
        "#linear model\n",
        "model_linear = svm.SVC(kernel='rbf',C=5.0,gamma=0.01)\n",
        "model_linear.fit(x_train, y_train)\n",
        "\n",
        "# predict\n",
        "y_pred = model_linear.predict(x_test)\n",
        "Accuracy_score = accuracy_score(y_test,y_pred)\n",
        "f11 = f1_score(y_test,y_pred,average=None)\n",
        "re = recall_score(y_test,y_pred,average='weighted')\n",
        "cm = confusion_matrix(y_test,y_pred)\n",
        "pr_sc = precision_score(y_test,y_pred,average='weighted')\n",
        "clrp = classification_report(y_test,y_pred)\n",
        "print(\"****** RBF ***************** WITH C = 2.0 and gamma =0.7\")\n",
        "print(\"accuracy score \",Accuracy_score)\n",
        "print(\"********************\")\n",
        "print(\"f1 score \",f11)\n",
        "print(\"********************\")\n",
        "print(\"recall score \",re)\n",
        "print(\"********************\")\n",
        "print(\"confusion matrix \",cm)\n",
        "print(\"********************\")\n",
        "print(\"precision score \",pr_sc)\n",
        "print(\"********************\")\n",
        "print(\"classification report \",clrp)"
      ],
      "execution_count": 0,
      "outputs": []
    },
    {
      "cell_type": "code",
      "metadata": {
        "id": "YkrW8yBkNyzq",
        "colab_type": "code",
        "colab": {}
      },
      "source": [
        "#linear model\n",
        "model_linear = svm.SVC(kernel='rbf',C=1.0,gamma=0.7)\n",
        "model_linear.fit(x_train, y_train)\n",
        "\n",
        "# predict\n",
        "y_pred = model_linear.predict(x_test)\n",
        "Accuracy_score = accuracy_score(y_test,y_pred)\n",
        "f11 = f1_score(y_test,y_pred,average=None)\n",
        "re = recall_score(y_test,y_pred,average='weighted')\n",
        "cm = confusion_matrix(y_test,y_pred)\n",
        "pr_sc = precision_score(y_test,y_pred,average='weighted')\n",
        "clrp = classification_report(y_test,y_pred)\n",
        "print(\"****** RBF ***************** WITH C = 2.0 and gamma =0.7\")\n",
        "print(\"accuracy score \",Accuracy_score)\n",
        "print(\"********************\")\n",
        "print(\"f1 score \",f11)\n",
        "print(\"********************\")\n",
        "print(\"recall score \",re)\n",
        "print(\"********************\")\n",
        "print(\"confusion matrix \",cm)\n",
        "print(\"********************\")\n",
        "print(\"precision score \",pr_sc)\n",
        "print(\"********************\")\n",
        "print(\"classification report \",clrp)"
      ],
      "execution_count": 0,
      "outputs": []
    },
    {
      "cell_type": "code",
      "metadata": {
        "id": "DmQm6OKYNyzu",
        "colab_type": "code",
        "colab": {}
      },
      "source": [
        "#linear model\n",
        "model_linear =LinearSVC(random_state=0, tol=1e-5,max_iter=5000,C=0.1)\n",
        "model_linear.fit(x_train, y_train)\n",
        "\n",
        "# predict\n",
        "y_pred = model_linear.predict(x_test)\n",
        "Accuracy_score = accuracy_score(y_test,y_pred)\n",
        "f11 = f1_score(y_test,y_pred,average=None)\n",
        "re = recall_score(y_test,y_pred,average='weighted')\n",
        "cm = confusion_matrix(y_test,y_pred)\n",
        "pr_sc = precision_score(y_test,y_pred,average='weighted')\n",
        "clrp = classification_report(y_test,y_pred)\n",
        "print(\"****** LinearSVC ***************** WITH C = 0.1\")\n",
        "print(\"accuracy score \",Accuracy_score)\n",
        "print(\"********************\")\n",
        "print(\"f1 score \",f11)\n",
        "print(\"********************\")\n",
        "print(\"recall score \",re)\n",
        "print(\"********************\")\n",
        "print(\"confusion matrix \",cm)\n",
        "print(\"********************\")\n",
        "print(\"precision score \",pr_sc)\n",
        "print(\"********************\")\n",
        "print(\"classification report \",clrp)"
      ],
      "execution_count": 0,
      "outputs": []
    },
    {
      "cell_type": "code",
      "metadata": {
        "id": "7_qoIj95QO60",
        "colab_type": "code",
        "colab": {}
      },
      "source": [
        "#linear model\n",
        "model_linear = svm.SVC(kernel='poly', C = 1.0,degree=3)\n",
        "model_linear.fit(x_train, y_train)\n",
        "\n",
        "# predict\n",
        "y_pred = model_linear.predict(x_test)\n",
        "Accuracy_score = accuracy_score(y_test,y_pred)\n",
        "f11 = f1_score(y_test,y_pred,average=None)\n",
        "re = recall_score(y_test,y_pred,average='weighted')\n",
        "cm = confusion_matrix(y_test,y_pred)\n",
        "pr_sc = precision_score(y_test,y_pred,average='weighted')\n",
        "clrp = classification_report(y_test,y_pred)\n",
        "print(\"****** poly ***************** WITH C = 1.0 ,degree =3\")\n",
        "print(\"accuracy score \",Accuracy_score)\n",
        "print(\"********************\")\n",
        "print(\"f1 score \",f11)\n",
        "print(\"********************\")\n",
        "print(\"recall score \",re)\n",
        "print(\"********************\")\n",
        "print(\"confusion matrix \",cm)\n",
        "print(\"********************\")\n",
        "print(\"precision score \",pr_sc)\n",
        "print(\"********************\")\n",
        "print(\"classification report \",clrp)"
      ],
      "execution_count": 0,
      "outputs": []
    }
  ]
}