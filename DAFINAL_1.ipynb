{
  "nbformat": 4,
  "nbformat_minor": 0,
  "metadata": {
    "colab": {
      "name": "DAFINAL_1.ipynb",
      "provenance": [],
      "collapsed_sections": [],
      "include_colab_link": true
    },
    "kernelspec": {
      "name": "python3",
      "display_name": "Python 3"
    }
  },
  "cells": [
    {
      "cell_type": "markdown",
      "metadata": {
        "id": "view-in-github",
        "colab_type": "text"
      },
      "source": [
        "<a href=\"https://colab.research.google.com/github/nausheen53/SMAI/blob/master/DAFINAL_1.ipynb\" target=\"_parent\"><img src=\"https://colab.research.google.com/assets/colab-badge.svg\" alt=\"Open In Colab\"/></a>"
      ]
    },
    {
      "cell_type": "code",
      "metadata": {
        "id": "dDkkqDZSY3Zf",
        "colab_type": "code",
        "colab": {}
      },
      "source": [
        "import pandas as pd"
      ],
      "execution_count": 1,
      "outputs": []
    },
    {
      "cell_type": "code",
      "metadata": {
        "id": "4zI2OV0xaogH",
        "colab_type": "code",
        "colab": {
          "base_uri": "https://localhost:8080/",
          "height": 122
        },
        "outputId": "7d1b3a7b-ab5d-4450-94a6-ae4f190dafb1"
      },
      "source": [
        "from google.colab import drive\n",
        "drive.mount('/content/drive')"
      ],
      "execution_count": 2,
      "outputs": [
        {
          "output_type": "stream",
          "text": [
            "Go to this URL in a browser: https://accounts.google.com/o/oauth2/auth?client_id=947318989803-6bn6qk8qdgf4n4g3pfee6491hc0brc4i.apps.googleusercontent.com&redirect_uri=urn%3aietf%3awg%3aoauth%3a2.0%3aoob&scope=email%20https%3a%2f%2fwww.googleapis.com%2fauth%2fdocs.test%20https%3a%2f%2fwww.googleapis.com%2fauth%2fdrive%20https%3a%2f%2fwww.googleapis.com%2fauth%2fdrive.photos.readonly%20https%3a%2f%2fwww.googleapis.com%2fauth%2fpeopleapi.readonly&response_type=code\n",
            "\n",
            "Enter your authorization code:\n",
            "··········\n",
            "Mounted at /content/drive\n"
          ],
          "name": "stdout"
        }
      ]
    },
    {
      "cell_type": "code",
      "metadata": {
        "id": "NQgwc_6Yaq56",
        "colab_type": "code",
        "colab": {}
      },
      "source": [
        "data=pd.read_excel(\"/content/drive/My Drive/DA-1/earth.xls\")"
      ],
      "execution_count": 3,
      "outputs": []
    },
    {
      "cell_type": "code",
      "metadata": {
        "id": "h5eBEHzGcRJK",
        "colab_type": "code",
        "colab": {
          "base_uri": "https://localhost:8080/",
          "height": 521
        },
        "outputId": "b46918f8-60d6-411f-c5f7-e71564573d4e"
      },
      "source": [
        "data"
      ],
      "execution_count": 4,
      "outputs": [
        {
          "output_type": "execute_result",
          "data": {
            "text/html": [
              "<div>\n",
              "<style scoped>\n",
              "    .dataframe tbody tr th:only-of-type {\n",
              "        vertical-align: middle;\n",
              "    }\n",
              "\n",
              "    .dataframe tbody tr th {\n",
              "        vertical-align: top;\n",
              "    }\n",
              "\n",
              "    .dataframe thead th {\n",
              "        text-align: right;\n",
              "    }\n",
              "</style>\n",
              "<table border=\"1\" class=\"dataframe\">\n",
              "  <thead>\n",
              "    <tr style=\"text-align: right;\">\n",
              "      <th></th>\n",
              "      <th>Sl. No.</th>\n",
              "      <th>YEAR</th>\n",
              "      <th>MONTH</th>\n",
              "      <th>DATE</th>\n",
              "      <th>ORIGIN TIME</th>\n",
              "      <th>Unnamed: 5</th>\n",
              "      <th>MAGNITUDE</th>\n",
              "      <th>Unnamed: 7</th>\n",
              "      <th>Unnamed: 8</th>\n",
              "      <th>Unnamed: 9</th>\n",
              "      <th>Unnamed: 10</th>\n",
              "      <th>Unnamed: 11</th>\n",
              "      <th>LAT (N)</th>\n",
              "      <th>LONG (E)</th>\n",
              "      <th>DEPTH (km)</th>\n",
              "      <th>INTENSITY</th>\n",
              "      <th>Unnamed: 16</th>\n",
              "      <th>Unnamed: 17</th>\n",
              "      <th>LOCATION</th>\n",
              "      <th>REFERENCE</th>\n",
              "    </tr>\n",
              "  </thead>\n",
              "  <tbody>\n",
              "    <tr>\n",
              "      <th>0</th>\n",
              "      <td>NaN</td>\n",
              "      <td>NaN</td>\n",
              "      <td>NaN</td>\n",
              "      <td>NaN</td>\n",
              "      <td>(UTC)</td>\n",
              "      <td>(IST)</td>\n",
              "      <td>Mw</td>\n",
              "      <td>Mw</td>\n",
              "      <td>Mb</td>\n",
              "      <td>Mb</td>\n",
              "      <td>Ms</td>\n",
              "      <td>ML</td>\n",
              "      <td>NaN</td>\n",
              "      <td>NaN</td>\n",
              "      <td>NaN</td>\n",
              "      <td>MM</td>\n",
              "      <td>MMI</td>\n",
              "      <td>MME</td>\n",
              "      <td>NaN</td>\n",
              "      <td>NaN</td>\n",
              "    </tr>\n",
              "    <tr>\n",
              "      <th>1</th>\n",
              "      <td>1.0</td>\n",
              "      <td>-2474.0</td>\n",
              "      <td>0</td>\n",
              "      <td>0.0</td>\n",
              "      <td>NaN</td>\n",
              "      <td>NaN</td>\n",
              "      <td>7.5</td>\n",
              "      <td>7.5</td>\n",
              "      <td>NaN</td>\n",
              "      <td>6.9692</td>\n",
              "      <td>8.78459</td>\n",
              "      <td>7.42707</td>\n",
              "      <td>71</td>\n",
              "      <td>24</td>\n",
              "      <td>0.0</td>\n",
              "      <td>NaN</td>\n",
              "      <td>NaN</td>\n",
              "      <td>NaN</td>\n",
              "      <td>NaN</td>\n",
              "      <td>Dr STGR</td>\n",
              "    </tr>\n",
              "    <tr>\n",
              "      <th>2</th>\n",
              "      <td>2.0</td>\n",
              "      <td>-325.0</td>\n",
              "      <td>0</td>\n",
              "      <td>0.0</td>\n",
              "      <td>NaN</td>\n",
              "      <td>NaN</td>\n",
              "      <td>7.5</td>\n",
              "      <td>7.5</td>\n",
              "      <td>NaN</td>\n",
              "      <td>6.9692</td>\n",
              "      <td>8.78459</td>\n",
              "      <td>7.42707</td>\n",
              "      <td>71</td>\n",
              "      <td>24</td>\n",
              "      <td>0.0</td>\n",
              "      <td>NaN</td>\n",
              "      <td>NaN</td>\n",
              "      <td>NaN</td>\n",
              "      <td>NaN</td>\n",
              "      <td>Dr STGR</td>\n",
              "    </tr>\n",
              "    <tr>\n",
              "      <th>3</th>\n",
              "      <td>3.0</td>\n",
              "      <td>25.0</td>\n",
              "      <td>0</td>\n",
              "      <td>0.0</td>\n",
              "      <td>NaN</td>\n",
              "      <td>NaN</td>\n",
              "      <td>7.5</td>\n",
              "      <td>7.5</td>\n",
              "      <td>NaN</td>\n",
              "      <td>6.9692</td>\n",
              "      <td>8.78459</td>\n",
              "      <td>7.42707</td>\n",
              "      <td>72.9</td>\n",
              "      <td>33.72</td>\n",
              "      <td>0.0</td>\n",
              "      <td>NaN</td>\n",
              "      <td>NaN</td>\n",
              "      <td>NaN</td>\n",
              "      <td>NaN</td>\n",
              "      <td>Dr STGR</td>\n",
              "    </tr>\n",
              "    <tr>\n",
              "      <th>4</th>\n",
              "      <td>4.0</td>\n",
              "      <td>26.0</td>\n",
              "      <td>5</td>\n",
              "      <td>10.0</td>\n",
              "      <td>08.19.10.0</td>\n",
              "      <td>NaN</td>\n",
              "      <td>6.1397</td>\n",
              "      <td>6.1397</td>\n",
              "      <td>5.73705</td>\n",
              "      <td>5.73705</td>\n",
              "      <td>6.40228</td>\n",
              "      <td>5.99969</td>\n",
              "      <td>17.3</td>\n",
              "      <td>80.1</td>\n",
              "      <td>NaN</td>\n",
              "      <td>NaN</td>\n",
              "      <td>NaN</td>\n",
              "      <td>NaN</td>\n",
              "      <td>NaN</td>\n",
              "      <td>NEIC</td>\n",
              "    </tr>\n",
              "    <tr>\n",
              "      <th>...</th>\n",
              "      <td>...</td>\n",
              "      <td>...</td>\n",
              "      <td>...</td>\n",
              "      <td>...</td>\n",
              "      <td>...</td>\n",
              "      <td>...</td>\n",
              "      <td>...</td>\n",
              "      <td>...</td>\n",
              "      <td>...</td>\n",
              "      <td>...</td>\n",
              "      <td>...</td>\n",
              "      <td>...</td>\n",
              "      <td>...</td>\n",
              "      <td>...</td>\n",
              "      <td>...</td>\n",
              "      <td>...</td>\n",
              "      <td>...</td>\n",
              "      <td>...</td>\n",
              "      <td>...</td>\n",
              "      <td>...</td>\n",
              "    </tr>\n",
              "    <tr>\n",
              "      <th>52985</th>\n",
              "      <td>52970.0</td>\n",
              "      <td>2019.0</td>\n",
              "      <td>7</td>\n",
              "      <td>28.0</td>\n",
              "      <td>19:24:08</td>\n",
              "      <td>00:54:08/2019-07-29/</td>\n",
              "      <td>3.2</td>\n",
              "      <td>3.2</td>\n",
              "      <td>NaN</td>\n",
              "      <td>3.07428</td>\n",
              "      <td>1.25394</td>\n",
              "      <td>2.91501</td>\n",
              "      <td>32.8°N</td>\n",
              "      <td>78.4°E</td>\n",
              "      <td>10.0</td>\n",
              "      <td>NaN</td>\n",
              "      <td>NaN</td>\n",
              "      <td>NaN</td>\n",
              "      <td>Jammu &amp; Kashmir</td>\n",
              "      <td>NaN</td>\n",
              "    </tr>\n",
              "    <tr>\n",
              "      <th>52986</th>\n",
              "      <td>52971.0</td>\n",
              "      <td>2019.0</td>\n",
              "      <td>7</td>\n",
              "      <td>28.0</td>\n",
              "      <td>10:44:10</td>\n",
              "      <td>16:14:10</td>\n",
              "      <td>3.6</td>\n",
              "      <td>3.6</td>\n",
              "      <td>NaN</td>\n",
              "      <td>3.43659</td>\n",
              "      <td>1.95447</td>\n",
              "      <td>3.33473</td>\n",
              "      <td>25.5°N</td>\n",
              "      <td>90.4°E</td>\n",
              "      <td>70.0</td>\n",
              "      <td>NaN</td>\n",
              "      <td>NaN</td>\n",
              "      <td>NaN</td>\n",
              "      <td>Distt. East Garo Hills ,Meghalaya</td>\n",
              "      <td>NaN</td>\n",
              "    </tr>\n",
              "    <tr>\n",
              "      <th>52987</th>\n",
              "      <td>52972.0</td>\n",
              "      <td>2019.0</td>\n",
              "      <td>7</td>\n",
              "      <td>28.0</td>\n",
              "      <td>21:25:06</td>\n",
              "      <td>2019-07-29 02:55:06</td>\n",
              "      <td>4</td>\n",
              "      <td>4</td>\n",
              "      <td>NaN</td>\n",
              "      <td>3.79891</td>\n",
              "      <td>2.65499</td>\n",
              "      <td>3.75446</td>\n",
              "      <td>23.2°N</td>\n",
              "      <td>86.5°E</td>\n",
              "      <td>22.0</td>\n",
              "      <td>NaN</td>\n",
              "      <td>NaN</td>\n",
              "      <td>NaN</td>\n",
              "      <td>Distt. Puruliya, West Bengal</td>\n",
              "      <td>NaN</td>\n",
              "    </tr>\n",
              "    <tr>\n",
              "      <th>52988</th>\n",
              "      <td>52973.0</td>\n",
              "      <td>2019.0</td>\n",
              "      <td>7</td>\n",
              "      <td>29.0</td>\n",
              "      <td>03:33:53</td>\n",
              "      <td>09:03:53</td>\n",
              "      <td>4.3</td>\n",
              "      <td>4.3</td>\n",
              "      <td>NaN</td>\n",
              "      <td>4.07065</td>\n",
              "      <td>3.18039</td>\n",
              "      <td>4.06925</td>\n",
              "      <td>32.8°N</td>\n",
              "      <td>76.4°E</td>\n",
              "      <td>20.0</td>\n",
              "      <td>NaN</td>\n",
              "      <td>NaN</td>\n",
              "      <td>NaN</td>\n",
              "      <td>Distt. Lahaul-Spiti,Himachal Pradesh</td>\n",
              "      <td>NaN</td>\n",
              "    </tr>\n",
              "    <tr>\n",
              "      <th>52989</th>\n",
              "      <td>52974.0</td>\n",
              "      <td>2019.0</td>\n",
              "      <td>7</td>\n",
              "      <td>31.0</td>\n",
              "      <td>14:50:02</td>\n",
              "      <td>20:20:02</td>\n",
              "      <td>3</td>\n",
              "      <td>3</td>\n",
              "      <td>NaN</td>\n",
              "      <td>2.89312</td>\n",
              "      <td>0.903678</td>\n",
              "      <td>2.70514</td>\n",
              "      <td>20.0°N</td>\n",
              "      <td>72.8°E</td>\n",
              "      <td>10.0</td>\n",
              "      <td>NaN</td>\n",
              "      <td>NaN</td>\n",
              "      <td>NaN</td>\n",
              "      <td>Distt. Palghar, Maharashtra</td>\n",
              "      <td>NaN</td>\n",
              "    </tr>\n",
              "  </tbody>\n",
              "</table>\n",
              "<p>52990 rows × 20 columns</p>\n",
              "</div>"
            ],
            "text/plain": [
              "       Sl. No.   YEAR   ...                              LOCATION  REFERENCE\n",
              "0          NaN     NaN  ...                                   NaN        NaN\n",
              "1          1.0 -2474.0  ...                                   NaN    Dr STGR\n",
              "2          2.0  -325.0  ...                                   NaN    Dr STGR\n",
              "3          3.0    25.0  ...                                   NaN    Dr STGR\n",
              "4          4.0    26.0  ...                                   NaN       NEIC\n",
              "...        ...     ...  ...                                   ...        ...\n",
              "52985  52970.0  2019.0  ...                       Jammu & Kashmir        NaN\n",
              "52986  52971.0  2019.0  ...     Distt. East Garo Hills ,Meghalaya        NaN\n",
              "52987  52972.0  2019.0  ...          Distt. Puruliya, West Bengal        NaN\n",
              "52988  52973.0  2019.0  ...  Distt. Lahaul-Spiti,Himachal Pradesh        NaN\n",
              "52989  52974.0  2019.0  ...           Distt. Palghar, Maharashtra        NaN\n",
              "\n",
              "[52990 rows x 20 columns]"
            ]
          },
          "metadata": {
            "tags": []
          },
          "execution_count": 4
        }
      ]
    },
    {
      "cell_type": "code",
      "metadata": {
        "id": "pfY96bMl2Zqn",
        "colab_type": "code",
        "colab": {
          "base_uri": "https://localhost:8080/",
          "height": 374
        },
        "outputId": "48475365-180a-44c3-fb9b-e9dc87f79aaf"
      },
      "source": [
        "data.isnull().sum(axis = 0)"
      ],
      "execution_count": 5,
      "outputs": [
        {
          "output_type": "execute_result",
          "data": {
            "text/plain": [
              "Sl. No.            1\n",
              "YEAR               1\n",
              "MONTH             19\n",
              "DATE              58\n",
              "ORIGIN TIME    31803\n",
              "Unnamed: 5     52563\n",
              "MAGNITUDE      12054\n",
              "Unnamed: 7      2507\n",
              "Unnamed: 8     40706\n",
              "Unnamed: 9      2492\n",
              "Unnamed: 10      169\n",
              "Unnamed: 11      169\n",
              "LAT (N)            1\n",
              "LONG (E)           1\n",
              "DEPTH (km)      2179\n",
              "INTENSITY      52948\n",
              "Unnamed: 16    52989\n",
              "Unnamed: 17    52989\n",
              "LOCATION       43616\n",
              "REFERENCE       1583\n",
              "dtype: int64"
            ]
          },
          "metadata": {
            "tags": []
          },
          "execution_count": 5
        }
      ]
    },
    {
      "cell_type": "code",
      "metadata": {
        "id": "M1zXjyFscT8s",
        "colab_type": "code",
        "colab": {}
      },
      "source": [
        "features = ['YEAR ', 'MONTH ', 'DATE','Unnamed: 7','LAT (N)', 'LONG (E)', 'DEPTH (km)','REFERENCE']"
      ],
      "execution_count": 6,
      "outputs": []
    },
    {
      "cell_type": "code",
      "metadata": {
        "id": "a-iVTbqbe5xM",
        "colab_type": "code",
        "colab": {}
      },
      "source": [
        "data=data.drop([0])"
      ],
      "execution_count": 7,
      "outputs": []
    },
    {
      "cell_type": "code",
      "metadata": {
        "id": "HvSNnsxUe9zX",
        "colab_type": "code",
        "colab": {}
      },
      "source": [
        "data1 = data.reset_index(drop=True)"
      ],
      "execution_count": 8,
      "outputs": []
    },
    {
      "cell_type": "code",
      "metadata": {
        "id": "fBlnx8GOh_Zy",
        "colab_type": "code",
        "colab": {
          "base_uri": "https://localhost:8080/",
          "height": 419
        },
        "outputId": "577cc318-9e6e-468b-a942-2aa472a121ac"
      },
      "source": [
        "final_data=data1[features]\n",
        "final_data"
      ],
      "execution_count": 9,
      "outputs": [
        {
          "output_type": "execute_result",
          "data": {
            "text/html": [
              "<div>\n",
              "<style scoped>\n",
              "    .dataframe tbody tr th:only-of-type {\n",
              "        vertical-align: middle;\n",
              "    }\n",
              "\n",
              "    .dataframe tbody tr th {\n",
              "        vertical-align: top;\n",
              "    }\n",
              "\n",
              "    .dataframe thead th {\n",
              "        text-align: right;\n",
              "    }\n",
              "</style>\n",
              "<table border=\"1\" class=\"dataframe\">\n",
              "  <thead>\n",
              "    <tr style=\"text-align: right;\">\n",
              "      <th></th>\n",
              "      <th>YEAR</th>\n",
              "      <th>MONTH</th>\n",
              "      <th>DATE</th>\n",
              "      <th>Unnamed: 7</th>\n",
              "      <th>LAT (N)</th>\n",
              "      <th>LONG (E)</th>\n",
              "      <th>DEPTH (km)</th>\n",
              "      <th>REFERENCE</th>\n",
              "    </tr>\n",
              "  </thead>\n",
              "  <tbody>\n",
              "    <tr>\n",
              "      <th>0</th>\n",
              "      <td>-2474.0</td>\n",
              "      <td>0</td>\n",
              "      <td>0.0</td>\n",
              "      <td>7.5</td>\n",
              "      <td>71</td>\n",
              "      <td>24</td>\n",
              "      <td>0.0</td>\n",
              "      <td>Dr STGR</td>\n",
              "    </tr>\n",
              "    <tr>\n",
              "      <th>1</th>\n",
              "      <td>-325.0</td>\n",
              "      <td>0</td>\n",
              "      <td>0.0</td>\n",
              "      <td>7.5</td>\n",
              "      <td>71</td>\n",
              "      <td>24</td>\n",
              "      <td>0.0</td>\n",
              "      <td>Dr STGR</td>\n",
              "    </tr>\n",
              "    <tr>\n",
              "      <th>2</th>\n",
              "      <td>25.0</td>\n",
              "      <td>0</td>\n",
              "      <td>0.0</td>\n",
              "      <td>7.5</td>\n",
              "      <td>72.9</td>\n",
              "      <td>33.72</td>\n",
              "      <td>0.0</td>\n",
              "      <td>Dr STGR</td>\n",
              "    </tr>\n",
              "    <tr>\n",
              "      <th>3</th>\n",
              "      <td>26.0</td>\n",
              "      <td>5</td>\n",
              "      <td>10.0</td>\n",
              "      <td>6.1397</td>\n",
              "      <td>17.3</td>\n",
              "      <td>80.1</td>\n",
              "      <td>NaN</td>\n",
              "      <td>NEIC</td>\n",
              "    </tr>\n",
              "    <tr>\n",
              "      <th>4</th>\n",
              "      <td>26.0</td>\n",
              "      <td>5</td>\n",
              "      <td>10.0</td>\n",
              "      <td>6.1397</td>\n",
              "      <td>26</td>\n",
              "      <td>97</td>\n",
              "      <td>80.0</td>\n",
              "      <td>G-R</td>\n",
              "    </tr>\n",
              "    <tr>\n",
              "      <th>...</th>\n",
              "      <td>...</td>\n",
              "      <td>...</td>\n",
              "      <td>...</td>\n",
              "      <td>...</td>\n",
              "      <td>...</td>\n",
              "      <td>...</td>\n",
              "      <td>...</td>\n",
              "      <td>...</td>\n",
              "    </tr>\n",
              "    <tr>\n",
              "      <th>52984</th>\n",
              "      <td>2019.0</td>\n",
              "      <td>7</td>\n",
              "      <td>28.0</td>\n",
              "      <td>3.2</td>\n",
              "      <td>32.8°N</td>\n",
              "      <td>78.4°E</td>\n",
              "      <td>10.0</td>\n",
              "      <td>NaN</td>\n",
              "    </tr>\n",
              "    <tr>\n",
              "      <th>52985</th>\n",
              "      <td>2019.0</td>\n",
              "      <td>7</td>\n",
              "      <td>28.0</td>\n",
              "      <td>3.6</td>\n",
              "      <td>25.5°N</td>\n",
              "      <td>90.4°E</td>\n",
              "      <td>70.0</td>\n",
              "      <td>NaN</td>\n",
              "    </tr>\n",
              "    <tr>\n",
              "      <th>52986</th>\n",
              "      <td>2019.0</td>\n",
              "      <td>7</td>\n",
              "      <td>28.0</td>\n",
              "      <td>4</td>\n",
              "      <td>23.2°N</td>\n",
              "      <td>86.5°E</td>\n",
              "      <td>22.0</td>\n",
              "      <td>NaN</td>\n",
              "    </tr>\n",
              "    <tr>\n",
              "      <th>52987</th>\n",
              "      <td>2019.0</td>\n",
              "      <td>7</td>\n",
              "      <td>29.0</td>\n",
              "      <td>4.3</td>\n",
              "      <td>32.8°N</td>\n",
              "      <td>76.4°E</td>\n",
              "      <td>20.0</td>\n",
              "      <td>NaN</td>\n",
              "    </tr>\n",
              "    <tr>\n",
              "      <th>52988</th>\n",
              "      <td>2019.0</td>\n",
              "      <td>7</td>\n",
              "      <td>31.0</td>\n",
              "      <td>3</td>\n",
              "      <td>20.0°N</td>\n",
              "      <td>72.8°E</td>\n",
              "      <td>10.0</td>\n",
              "      <td>NaN</td>\n",
              "    </tr>\n",
              "  </tbody>\n",
              "</table>\n",
              "<p>52989 rows × 8 columns</p>\n",
              "</div>"
            ],
            "text/plain": [
              "        YEAR  MONTH   DATE Unnamed: 7 LAT (N) LONG (E)  DEPTH (km) REFERENCE\n",
              "0     -2474.0      0   0.0        7.5      71       24         0.0   Dr STGR\n",
              "1      -325.0      0   0.0        7.5      71       24         0.0   Dr STGR\n",
              "2        25.0      0   0.0        7.5    72.9    33.72         0.0   Dr STGR\n",
              "3        26.0      5  10.0     6.1397    17.3     80.1         NaN      NEIC\n",
              "4        26.0      5  10.0     6.1397      26       97        80.0       G-R\n",
              "...       ...    ...   ...        ...     ...      ...         ...       ...\n",
              "52984  2019.0      7  28.0        3.2  32.8°N   78.4°E        10.0       NaN\n",
              "52985  2019.0      7  28.0        3.6  25.5°N   90.4°E        70.0       NaN\n",
              "52986  2019.0      7  28.0          4  23.2°N   86.5°E        22.0       NaN\n",
              "52987  2019.0      7  29.0        4.3  32.8°N   76.4°E        20.0       NaN\n",
              "52988  2019.0      7  31.0          3  20.0°N   72.8°E        10.0       NaN\n",
              "\n",
              "[52989 rows x 8 columns]"
            ]
          },
          "metadata": {
            "tags": []
          },
          "execution_count": 9
        }
      ]
    },
    {
      "cell_type": "code",
      "metadata": {
        "id": "Mx2tkcOQiB-1",
        "colab_type": "code",
        "colab": {}
      },
      "source": [
        "final_data_1 = final_data.rename(columns = {'Unnamed: 7': 'MAGNITUDE'}, inplace = False)"
      ],
      "execution_count": 10,
      "outputs": []
    },
    {
      "cell_type": "code",
      "metadata": {
        "id": "plr7jtdBsuWK",
        "colab_type": "code",
        "colab": {
          "base_uri": "https://localhost:8080/",
          "height": 419
        },
        "outputId": "92e77a01-e111-424e-8f6c-aa35ac511908"
      },
      "source": [
        "final_data_1"
      ],
      "execution_count": 11,
      "outputs": [
        {
          "output_type": "execute_result",
          "data": {
            "text/html": [
              "<div>\n",
              "<style scoped>\n",
              "    .dataframe tbody tr th:only-of-type {\n",
              "        vertical-align: middle;\n",
              "    }\n",
              "\n",
              "    .dataframe tbody tr th {\n",
              "        vertical-align: top;\n",
              "    }\n",
              "\n",
              "    .dataframe thead th {\n",
              "        text-align: right;\n",
              "    }\n",
              "</style>\n",
              "<table border=\"1\" class=\"dataframe\">\n",
              "  <thead>\n",
              "    <tr style=\"text-align: right;\">\n",
              "      <th></th>\n",
              "      <th>YEAR</th>\n",
              "      <th>MONTH</th>\n",
              "      <th>DATE</th>\n",
              "      <th>MAGNITUDE</th>\n",
              "      <th>LAT (N)</th>\n",
              "      <th>LONG (E)</th>\n",
              "      <th>DEPTH (km)</th>\n",
              "      <th>REFERENCE</th>\n",
              "    </tr>\n",
              "  </thead>\n",
              "  <tbody>\n",
              "    <tr>\n",
              "      <th>0</th>\n",
              "      <td>-2474.0</td>\n",
              "      <td>0</td>\n",
              "      <td>0.0</td>\n",
              "      <td>7.5</td>\n",
              "      <td>71</td>\n",
              "      <td>24</td>\n",
              "      <td>0.0</td>\n",
              "      <td>Dr STGR</td>\n",
              "    </tr>\n",
              "    <tr>\n",
              "      <th>1</th>\n",
              "      <td>-325.0</td>\n",
              "      <td>0</td>\n",
              "      <td>0.0</td>\n",
              "      <td>7.5</td>\n",
              "      <td>71</td>\n",
              "      <td>24</td>\n",
              "      <td>0.0</td>\n",
              "      <td>Dr STGR</td>\n",
              "    </tr>\n",
              "    <tr>\n",
              "      <th>2</th>\n",
              "      <td>25.0</td>\n",
              "      <td>0</td>\n",
              "      <td>0.0</td>\n",
              "      <td>7.5</td>\n",
              "      <td>72.9</td>\n",
              "      <td>33.72</td>\n",
              "      <td>0.0</td>\n",
              "      <td>Dr STGR</td>\n",
              "    </tr>\n",
              "    <tr>\n",
              "      <th>3</th>\n",
              "      <td>26.0</td>\n",
              "      <td>5</td>\n",
              "      <td>10.0</td>\n",
              "      <td>6.1397</td>\n",
              "      <td>17.3</td>\n",
              "      <td>80.1</td>\n",
              "      <td>NaN</td>\n",
              "      <td>NEIC</td>\n",
              "    </tr>\n",
              "    <tr>\n",
              "      <th>4</th>\n",
              "      <td>26.0</td>\n",
              "      <td>5</td>\n",
              "      <td>10.0</td>\n",
              "      <td>6.1397</td>\n",
              "      <td>26</td>\n",
              "      <td>97</td>\n",
              "      <td>80.0</td>\n",
              "      <td>G-R</td>\n",
              "    </tr>\n",
              "    <tr>\n",
              "      <th>...</th>\n",
              "      <td>...</td>\n",
              "      <td>...</td>\n",
              "      <td>...</td>\n",
              "      <td>...</td>\n",
              "      <td>...</td>\n",
              "      <td>...</td>\n",
              "      <td>...</td>\n",
              "      <td>...</td>\n",
              "    </tr>\n",
              "    <tr>\n",
              "      <th>52984</th>\n",
              "      <td>2019.0</td>\n",
              "      <td>7</td>\n",
              "      <td>28.0</td>\n",
              "      <td>3.2</td>\n",
              "      <td>32.8°N</td>\n",
              "      <td>78.4°E</td>\n",
              "      <td>10.0</td>\n",
              "      <td>NaN</td>\n",
              "    </tr>\n",
              "    <tr>\n",
              "      <th>52985</th>\n",
              "      <td>2019.0</td>\n",
              "      <td>7</td>\n",
              "      <td>28.0</td>\n",
              "      <td>3.6</td>\n",
              "      <td>25.5°N</td>\n",
              "      <td>90.4°E</td>\n",
              "      <td>70.0</td>\n",
              "      <td>NaN</td>\n",
              "    </tr>\n",
              "    <tr>\n",
              "      <th>52986</th>\n",
              "      <td>2019.0</td>\n",
              "      <td>7</td>\n",
              "      <td>28.0</td>\n",
              "      <td>4</td>\n",
              "      <td>23.2°N</td>\n",
              "      <td>86.5°E</td>\n",
              "      <td>22.0</td>\n",
              "      <td>NaN</td>\n",
              "    </tr>\n",
              "    <tr>\n",
              "      <th>52987</th>\n",
              "      <td>2019.0</td>\n",
              "      <td>7</td>\n",
              "      <td>29.0</td>\n",
              "      <td>4.3</td>\n",
              "      <td>32.8°N</td>\n",
              "      <td>76.4°E</td>\n",
              "      <td>20.0</td>\n",
              "      <td>NaN</td>\n",
              "    </tr>\n",
              "    <tr>\n",
              "      <th>52988</th>\n",
              "      <td>2019.0</td>\n",
              "      <td>7</td>\n",
              "      <td>31.0</td>\n",
              "      <td>3</td>\n",
              "      <td>20.0°N</td>\n",
              "      <td>72.8°E</td>\n",
              "      <td>10.0</td>\n",
              "      <td>NaN</td>\n",
              "    </tr>\n",
              "  </tbody>\n",
              "</table>\n",
              "<p>52989 rows × 8 columns</p>\n",
              "</div>"
            ],
            "text/plain": [
              "        YEAR  MONTH   DATE MAGNITUDE LAT (N) LONG (E)  DEPTH (km) REFERENCE\n",
              "0     -2474.0      0   0.0       7.5      71       24         0.0   Dr STGR\n",
              "1      -325.0      0   0.0       7.5      71       24         0.0   Dr STGR\n",
              "2        25.0      0   0.0       7.5    72.9    33.72         0.0   Dr STGR\n",
              "3        26.0      5  10.0    6.1397    17.3     80.1         NaN      NEIC\n",
              "4        26.0      5  10.0    6.1397      26       97        80.0       G-R\n",
              "...       ...    ...   ...       ...     ...      ...         ...       ...\n",
              "52984  2019.0      7  28.0       3.2  32.8°N   78.4°E        10.0       NaN\n",
              "52985  2019.0      7  28.0       3.6  25.5°N   90.4°E        70.0       NaN\n",
              "52986  2019.0      7  28.0         4  23.2°N   86.5°E        22.0       NaN\n",
              "52987  2019.0      7  29.0       4.3  32.8°N   76.4°E        20.0       NaN\n",
              "52988  2019.0      7  31.0         3  20.0°N   72.8°E        10.0       NaN\n",
              "\n",
              "[52989 rows x 8 columns]"
            ]
          },
          "metadata": {
            "tags": []
          },
          "execution_count": 11
        }
      ]
    },
    {
      "cell_type": "code",
      "metadata": {
        "id": "TIoFKytmiH3C",
        "colab_type": "code",
        "colab": {
          "base_uri": "https://localhost:8080/",
          "height": 170
        },
        "outputId": "84042397-a148-4b75-9860-0eb054114c41"
      },
      "source": [
        "final_data_1.isnull().sum(axis = 0)"
      ],
      "execution_count": 12,
      "outputs": [
        {
          "output_type": "execute_result",
          "data": {
            "text/plain": [
              "YEAR             0\n",
              "MONTH           18\n",
              "DATE            57\n",
              "MAGNITUDE     2507\n",
              "LAT (N)          0\n",
              "LONG (E)         0\n",
              "DEPTH (km)    2178\n",
              "REFERENCE     1582\n",
              "dtype: int64"
            ]
          },
          "metadata": {
            "tags": []
          },
          "execution_count": 12
        }
      ]
    },
    {
      "cell_type": "code",
      "metadata": {
        "id": "HPoODCXCiKYH",
        "colab_type": "code",
        "colab": {}
      },
      "source": [
        "final_data_1['MAGNITUDE'].fillna((final_data_1['MAGNITUDE'].mean()), inplace=True)"
      ],
      "execution_count": 13,
      "outputs": []
    },
    {
      "cell_type": "code",
      "metadata": {
        "id": "AxIN01uMisA6",
        "colab_type": "code",
        "colab": {}
      },
      "source": [
        "final_data_1['DEPTH (km)'].fillna((final_data_1['DEPTH (km)'].mean()), inplace=True)"
      ],
      "execution_count": 14,
      "outputs": []
    },
    {
      "cell_type": "code",
      "metadata": {
        "id": "HF0YXAf2LwcE",
        "colab_type": "code",
        "colab": {}
      },
      "source": [
        "mont = final_data_1['MONTH ']\n",
        "dat = final_data_1['DATE']"
      ],
      "execution_count": 15,
      "outputs": []
    },
    {
      "cell_type": "code",
      "metadata": {
        "id": "wmlqCgYn3KY6",
        "colab_type": "code",
        "colab": {}
      },
      "source": [
        "final_data_1['MONTH ']=final_data_1['MONTH '].fillna(final_data_1['MONTH '].mode()[0])\n",
        "final_data_1['DATE']=final_data_1['DATE'].fillna(final_data_1['DATE'].mode()[0])\n",
        "final_data_1['REFERENCE'] = final_data_1['REFERENCE'].fillna(final_data_1['REFERENCE'].mode()[0])"
      ],
      "execution_count": 16,
      "outputs": []
    },
    {
      "cell_type": "code",
      "metadata": {
        "id": "EnNFjW0V6vf3",
        "colab_type": "code",
        "colab": {
          "base_uri": "https://localhost:8080/",
          "height": 221
        },
        "outputId": "142667fa-8aa2-4adb-a0b6-122541d5b673"
      },
      "source": [
        "df_reference  = final_data_1['REFERENCE']\n",
        "df_reference"
      ],
      "execution_count": 17,
      "outputs": [
        {
          "output_type": "execute_result",
          "data": {
            "text/plain": [
              "0        Dr STGR\n",
              "1        Dr STGR\n",
              "2        Dr STGR\n",
              "3           NEIC\n",
              "4            G-R\n",
              "          ...   \n",
              "52984    Dr STGR\n",
              "52985    Dr STGR\n",
              "52986    Dr STGR\n",
              "52987    Dr STGR\n",
              "52988    Dr STGR\n",
              "Name: REFERENCE, Length: 52989, dtype: object"
            ]
          },
          "metadata": {
            "tags": []
          },
          "execution_count": 17
        }
      ]
    },
    {
      "cell_type": "code",
      "metadata": {
        "id": "7PDUHDhm8Kg3",
        "colab_type": "code",
        "colab": {
          "base_uri": "https://localhost:8080/",
          "height": 71
        },
        "outputId": "7a39ac4f-e6d3-40f0-ff5e-0f0a00c83f64"
      },
      "source": [
        "ref  =  df_reference.tolist()\n",
        "myset = set(ref)\n",
        "print(myset)\n",
        "print(len(myset))\n",
        "attr = myset"
      ],
      "execution_count": 18,
      "outputs": [
        {
          "output_type": "stream",
          "text": [
            "{'G-R/BDA', 'G-R/T-S', 'T-S', 'CM/ISS', 'LEE/T-S', 'RO', 'BDA', 'T-S/G-R', 'LEE', 'ISR', 'MALIK', 'OLD', 'GERI', 'BDA/CM', 'G-R', 'NGRI', 'IMD', 'Dr STGR', 'J & S', 'NEIC / USGS', ' ISC', 'HRVD', 'CM/G-R', 'TAN', 'LEE/CM', 'ISS/T-S', 'CM/LEE', 'G-R/CM', 'PDE/T-S', 'ISC', 'BCI', 'CHAN', 'GSI', 'NEIC', 'PDE', 'USGS', 'SHL', 'ISS'}\n",
            "38\n"
          ],
          "name": "stdout"
        }
      ]
    },
    {
      "cell_type": "code",
      "metadata": {
        "id": "AhRh9pf5DWG9",
        "colab_type": "code",
        "colab": {
          "base_uri": "https://localhost:8080/",
          "height": 102
        },
        "outputId": "386ec2ba-bcea-4d54-e19a-1facce407fc4"
      },
      "source": [
        "!pip install pandas"
      ],
      "execution_count": 19,
      "outputs": [
        {
          "output_type": "stream",
          "text": [
            "Requirement already satisfied: pandas in /usr/local/lib/python3.6/dist-packages (1.0.5)\n",
            "Requirement already satisfied: numpy>=1.13.3 in /usr/local/lib/python3.6/dist-packages (from pandas) (1.18.5)\n",
            "Requirement already satisfied: pytz>=2017.2 in /usr/local/lib/python3.6/dist-packages (from pandas) (2018.9)\n",
            "Requirement already satisfied: python-dateutil>=2.6.1 in /usr/local/lib/python3.6/dist-packages (from pandas) (2.8.1)\n",
            "Requirement already satisfied: six>=1.5 in /usr/local/lib/python3.6/dist-packages (from python-dateutil>=2.6.1->pandas) (1.15.0)\n"
          ],
          "name": "stdout"
        }
      ]
    },
    {
      "cell_type": "code",
      "metadata": {
        "id": "Jbo58yrj7ruZ",
        "colab_type": "code",
        "colab": {}
      },
      "source": [
        "final_data_1 = pd.concat([final_data_1,pd.get_dummies(df_reference)],axis=1)\n",
        "\n",
        "# now drop the original 'country' column (you don't need it anymore)\n",
        "final_data_1.drop(['REFERENCE'],axis=1, inplace=True)"
      ],
      "execution_count": 20,
      "outputs": []
    },
    {
      "cell_type": "code",
      "metadata": {
        "id": "Sp6h1b1TD7cx",
        "colab_type": "code",
        "colab": {
          "base_uri": "https://localhost:8080/",
          "height": 473
        },
        "outputId": "0d284eae-c860-4941-8f06-1e67b2607f62"
      },
      "source": [
        "final_data_1"
      ],
      "execution_count": 21,
      "outputs": [
        {
          "output_type": "execute_result",
          "data": {
            "text/html": [
              "<div>\n",
              "<style scoped>\n",
              "    .dataframe tbody tr th:only-of-type {\n",
              "        vertical-align: middle;\n",
              "    }\n",
              "\n",
              "    .dataframe tbody tr th {\n",
              "        vertical-align: top;\n",
              "    }\n",
              "\n",
              "    .dataframe thead th {\n",
              "        text-align: right;\n",
              "    }\n",
              "</style>\n",
              "<table border=\"1\" class=\"dataframe\">\n",
              "  <thead>\n",
              "    <tr style=\"text-align: right;\">\n",
              "      <th></th>\n",
              "      <th>YEAR</th>\n",
              "      <th>MONTH</th>\n",
              "      <th>DATE</th>\n",
              "      <th>MAGNITUDE</th>\n",
              "      <th>LAT (N)</th>\n",
              "      <th>LONG (E)</th>\n",
              "      <th>DEPTH (km)</th>\n",
              "      <th>ISC</th>\n",
              "      <th>BCI</th>\n",
              "      <th>BDA</th>\n",
              "      <th>BDA/CM</th>\n",
              "      <th>CHAN</th>\n",
              "      <th>CM/G-R</th>\n",
              "      <th>CM/ISS</th>\n",
              "      <th>CM/LEE</th>\n",
              "      <th>Dr STGR</th>\n",
              "      <th>G-R</th>\n",
              "      <th>G-R/BDA</th>\n",
              "      <th>G-R/CM</th>\n",
              "      <th>G-R/T-S</th>\n",
              "      <th>GERI</th>\n",
              "      <th>GSI</th>\n",
              "      <th>HRVD</th>\n",
              "      <th>IMD</th>\n",
              "      <th>ISC</th>\n",
              "      <th>ISR</th>\n",
              "      <th>ISS</th>\n",
              "      <th>ISS/T-S</th>\n",
              "      <th>J &amp; S</th>\n",
              "      <th>LEE</th>\n",
              "      <th>LEE/CM</th>\n",
              "      <th>LEE/T-S</th>\n",
              "      <th>MALIK</th>\n",
              "      <th>NEIC</th>\n",
              "      <th>NEIC / USGS</th>\n",
              "      <th>NGRI</th>\n",
              "      <th>OLD</th>\n",
              "      <th>PDE</th>\n",
              "      <th>PDE/T-S</th>\n",
              "      <th>RO</th>\n",
              "      <th>SHL</th>\n",
              "      <th>T-S</th>\n",
              "      <th>T-S/G-R</th>\n",
              "      <th>TAN</th>\n",
              "      <th>USGS</th>\n",
              "    </tr>\n",
              "  </thead>\n",
              "  <tbody>\n",
              "    <tr>\n",
              "      <th>0</th>\n",
              "      <td>-2474.0</td>\n",
              "      <td>0</td>\n",
              "      <td>0.0</td>\n",
              "      <td>7.5000</td>\n",
              "      <td>71</td>\n",
              "      <td>24</td>\n",
              "      <td>0.000000</td>\n",
              "      <td>0</td>\n",
              "      <td>0</td>\n",
              "      <td>0</td>\n",
              "      <td>0</td>\n",
              "      <td>0</td>\n",
              "      <td>0</td>\n",
              "      <td>0</td>\n",
              "      <td>0</td>\n",
              "      <td>1</td>\n",
              "      <td>0</td>\n",
              "      <td>0</td>\n",
              "      <td>0</td>\n",
              "      <td>0</td>\n",
              "      <td>0</td>\n",
              "      <td>0</td>\n",
              "      <td>0</td>\n",
              "      <td>0</td>\n",
              "      <td>0</td>\n",
              "      <td>0</td>\n",
              "      <td>0</td>\n",
              "      <td>0</td>\n",
              "      <td>0</td>\n",
              "      <td>0</td>\n",
              "      <td>0</td>\n",
              "      <td>0</td>\n",
              "      <td>0</td>\n",
              "      <td>0</td>\n",
              "      <td>0</td>\n",
              "      <td>0</td>\n",
              "      <td>0</td>\n",
              "      <td>0</td>\n",
              "      <td>0</td>\n",
              "      <td>0</td>\n",
              "      <td>0</td>\n",
              "      <td>0</td>\n",
              "      <td>0</td>\n",
              "      <td>0</td>\n",
              "      <td>0</td>\n",
              "    </tr>\n",
              "    <tr>\n",
              "      <th>1</th>\n",
              "      <td>-325.0</td>\n",
              "      <td>0</td>\n",
              "      <td>0.0</td>\n",
              "      <td>7.5000</td>\n",
              "      <td>71</td>\n",
              "      <td>24</td>\n",
              "      <td>0.000000</td>\n",
              "      <td>0</td>\n",
              "      <td>0</td>\n",
              "      <td>0</td>\n",
              "      <td>0</td>\n",
              "      <td>0</td>\n",
              "      <td>0</td>\n",
              "      <td>0</td>\n",
              "      <td>0</td>\n",
              "      <td>1</td>\n",
              "      <td>0</td>\n",
              "      <td>0</td>\n",
              "      <td>0</td>\n",
              "      <td>0</td>\n",
              "      <td>0</td>\n",
              "      <td>0</td>\n",
              "      <td>0</td>\n",
              "      <td>0</td>\n",
              "      <td>0</td>\n",
              "      <td>0</td>\n",
              "      <td>0</td>\n",
              "      <td>0</td>\n",
              "      <td>0</td>\n",
              "      <td>0</td>\n",
              "      <td>0</td>\n",
              "      <td>0</td>\n",
              "      <td>0</td>\n",
              "      <td>0</td>\n",
              "      <td>0</td>\n",
              "      <td>0</td>\n",
              "      <td>0</td>\n",
              "      <td>0</td>\n",
              "      <td>0</td>\n",
              "      <td>0</td>\n",
              "      <td>0</td>\n",
              "      <td>0</td>\n",
              "      <td>0</td>\n",
              "      <td>0</td>\n",
              "      <td>0</td>\n",
              "    </tr>\n",
              "    <tr>\n",
              "      <th>2</th>\n",
              "      <td>25.0</td>\n",
              "      <td>0</td>\n",
              "      <td>0.0</td>\n",
              "      <td>7.5000</td>\n",
              "      <td>72.9</td>\n",
              "      <td>33.72</td>\n",
              "      <td>0.000000</td>\n",
              "      <td>0</td>\n",
              "      <td>0</td>\n",
              "      <td>0</td>\n",
              "      <td>0</td>\n",
              "      <td>0</td>\n",
              "      <td>0</td>\n",
              "      <td>0</td>\n",
              "      <td>0</td>\n",
              "      <td>1</td>\n",
              "      <td>0</td>\n",
              "      <td>0</td>\n",
              "      <td>0</td>\n",
              "      <td>0</td>\n",
              "      <td>0</td>\n",
              "      <td>0</td>\n",
              "      <td>0</td>\n",
              "      <td>0</td>\n",
              "      <td>0</td>\n",
              "      <td>0</td>\n",
              "      <td>0</td>\n",
              "      <td>0</td>\n",
              "      <td>0</td>\n",
              "      <td>0</td>\n",
              "      <td>0</td>\n",
              "      <td>0</td>\n",
              "      <td>0</td>\n",
              "      <td>0</td>\n",
              "      <td>0</td>\n",
              "      <td>0</td>\n",
              "      <td>0</td>\n",
              "      <td>0</td>\n",
              "      <td>0</td>\n",
              "      <td>0</td>\n",
              "      <td>0</td>\n",
              "      <td>0</td>\n",
              "      <td>0</td>\n",
              "      <td>0</td>\n",
              "      <td>0</td>\n",
              "    </tr>\n",
              "    <tr>\n",
              "      <th>3</th>\n",
              "      <td>26.0</td>\n",
              "      <td>5</td>\n",
              "      <td>10.0</td>\n",
              "      <td>6.1397</td>\n",
              "      <td>17.3</td>\n",
              "      <td>80.1</td>\n",
              "      <td>45.569867</td>\n",
              "      <td>0</td>\n",
              "      <td>0</td>\n",
              "      <td>0</td>\n",
              "      <td>0</td>\n",
              "      <td>0</td>\n",
              "      <td>0</td>\n",
              "      <td>0</td>\n",
              "      <td>0</td>\n",
              "      <td>0</td>\n",
              "      <td>0</td>\n",
              "      <td>0</td>\n",
              "      <td>0</td>\n",
              "      <td>0</td>\n",
              "      <td>0</td>\n",
              "      <td>0</td>\n",
              "      <td>0</td>\n",
              "      <td>0</td>\n",
              "      <td>0</td>\n",
              "      <td>0</td>\n",
              "      <td>0</td>\n",
              "      <td>0</td>\n",
              "      <td>0</td>\n",
              "      <td>0</td>\n",
              "      <td>0</td>\n",
              "      <td>0</td>\n",
              "      <td>0</td>\n",
              "      <td>1</td>\n",
              "      <td>0</td>\n",
              "      <td>0</td>\n",
              "      <td>0</td>\n",
              "      <td>0</td>\n",
              "      <td>0</td>\n",
              "      <td>0</td>\n",
              "      <td>0</td>\n",
              "      <td>0</td>\n",
              "      <td>0</td>\n",
              "      <td>0</td>\n",
              "      <td>0</td>\n",
              "    </tr>\n",
              "    <tr>\n",
              "      <th>4</th>\n",
              "      <td>26.0</td>\n",
              "      <td>5</td>\n",
              "      <td>10.0</td>\n",
              "      <td>6.1397</td>\n",
              "      <td>26</td>\n",
              "      <td>97</td>\n",
              "      <td>80.000000</td>\n",
              "      <td>0</td>\n",
              "      <td>0</td>\n",
              "      <td>0</td>\n",
              "      <td>0</td>\n",
              "      <td>0</td>\n",
              "      <td>0</td>\n",
              "      <td>0</td>\n",
              "      <td>0</td>\n",
              "      <td>0</td>\n",
              "      <td>1</td>\n",
              "      <td>0</td>\n",
              "      <td>0</td>\n",
              "      <td>0</td>\n",
              "      <td>0</td>\n",
              "      <td>0</td>\n",
              "      <td>0</td>\n",
              "      <td>0</td>\n",
              "      <td>0</td>\n",
              "      <td>0</td>\n",
              "      <td>0</td>\n",
              "      <td>0</td>\n",
              "      <td>0</td>\n",
              "      <td>0</td>\n",
              "      <td>0</td>\n",
              "      <td>0</td>\n",
              "      <td>0</td>\n",
              "      <td>0</td>\n",
              "      <td>0</td>\n",
              "      <td>0</td>\n",
              "      <td>0</td>\n",
              "      <td>0</td>\n",
              "      <td>0</td>\n",
              "      <td>0</td>\n",
              "      <td>0</td>\n",
              "      <td>0</td>\n",
              "      <td>0</td>\n",
              "      <td>0</td>\n",
              "      <td>0</td>\n",
              "    </tr>\n",
              "    <tr>\n",
              "      <th>...</th>\n",
              "      <td>...</td>\n",
              "      <td>...</td>\n",
              "      <td>...</td>\n",
              "      <td>...</td>\n",
              "      <td>...</td>\n",
              "      <td>...</td>\n",
              "      <td>...</td>\n",
              "      <td>...</td>\n",
              "      <td>...</td>\n",
              "      <td>...</td>\n",
              "      <td>...</td>\n",
              "      <td>...</td>\n",
              "      <td>...</td>\n",
              "      <td>...</td>\n",
              "      <td>...</td>\n",
              "      <td>...</td>\n",
              "      <td>...</td>\n",
              "      <td>...</td>\n",
              "      <td>...</td>\n",
              "      <td>...</td>\n",
              "      <td>...</td>\n",
              "      <td>...</td>\n",
              "      <td>...</td>\n",
              "      <td>...</td>\n",
              "      <td>...</td>\n",
              "      <td>...</td>\n",
              "      <td>...</td>\n",
              "      <td>...</td>\n",
              "      <td>...</td>\n",
              "      <td>...</td>\n",
              "      <td>...</td>\n",
              "      <td>...</td>\n",
              "      <td>...</td>\n",
              "      <td>...</td>\n",
              "      <td>...</td>\n",
              "      <td>...</td>\n",
              "      <td>...</td>\n",
              "      <td>...</td>\n",
              "      <td>...</td>\n",
              "      <td>...</td>\n",
              "      <td>...</td>\n",
              "      <td>...</td>\n",
              "      <td>...</td>\n",
              "      <td>...</td>\n",
              "      <td>...</td>\n",
              "    </tr>\n",
              "    <tr>\n",
              "      <th>52984</th>\n",
              "      <td>2019.0</td>\n",
              "      <td>7</td>\n",
              "      <td>28.0</td>\n",
              "      <td>3.2000</td>\n",
              "      <td>32.8°N</td>\n",
              "      <td>78.4°E</td>\n",
              "      <td>10.000000</td>\n",
              "      <td>0</td>\n",
              "      <td>0</td>\n",
              "      <td>0</td>\n",
              "      <td>0</td>\n",
              "      <td>0</td>\n",
              "      <td>0</td>\n",
              "      <td>0</td>\n",
              "      <td>0</td>\n",
              "      <td>1</td>\n",
              "      <td>0</td>\n",
              "      <td>0</td>\n",
              "      <td>0</td>\n",
              "      <td>0</td>\n",
              "      <td>0</td>\n",
              "      <td>0</td>\n",
              "      <td>0</td>\n",
              "      <td>0</td>\n",
              "      <td>0</td>\n",
              "      <td>0</td>\n",
              "      <td>0</td>\n",
              "      <td>0</td>\n",
              "      <td>0</td>\n",
              "      <td>0</td>\n",
              "      <td>0</td>\n",
              "      <td>0</td>\n",
              "      <td>0</td>\n",
              "      <td>0</td>\n",
              "      <td>0</td>\n",
              "      <td>0</td>\n",
              "      <td>0</td>\n",
              "      <td>0</td>\n",
              "      <td>0</td>\n",
              "      <td>0</td>\n",
              "      <td>0</td>\n",
              "      <td>0</td>\n",
              "      <td>0</td>\n",
              "      <td>0</td>\n",
              "      <td>0</td>\n",
              "    </tr>\n",
              "    <tr>\n",
              "      <th>52985</th>\n",
              "      <td>2019.0</td>\n",
              "      <td>7</td>\n",
              "      <td>28.0</td>\n",
              "      <td>3.6000</td>\n",
              "      <td>25.5°N</td>\n",
              "      <td>90.4°E</td>\n",
              "      <td>70.000000</td>\n",
              "      <td>0</td>\n",
              "      <td>0</td>\n",
              "      <td>0</td>\n",
              "      <td>0</td>\n",
              "      <td>0</td>\n",
              "      <td>0</td>\n",
              "      <td>0</td>\n",
              "      <td>0</td>\n",
              "      <td>1</td>\n",
              "      <td>0</td>\n",
              "      <td>0</td>\n",
              "      <td>0</td>\n",
              "      <td>0</td>\n",
              "      <td>0</td>\n",
              "      <td>0</td>\n",
              "      <td>0</td>\n",
              "      <td>0</td>\n",
              "      <td>0</td>\n",
              "      <td>0</td>\n",
              "      <td>0</td>\n",
              "      <td>0</td>\n",
              "      <td>0</td>\n",
              "      <td>0</td>\n",
              "      <td>0</td>\n",
              "      <td>0</td>\n",
              "      <td>0</td>\n",
              "      <td>0</td>\n",
              "      <td>0</td>\n",
              "      <td>0</td>\n",
              "      <td>0</td>\n",
              "      <td>0</td>\n",
              "      <td>0</td>\n",
              "      <td>0</td>\n",
              "      <td>0</td>\n",
              "      <td>0</td>\n",
              "      <td>0</td>\n",
              "      <td>0</td>\n",
              "      <td>0</td>\n",
              "    </tr>\n",
              "    <tr>\n",
              "      <th>52986</th>\n",
              "      <td>2019.0</td>\n",
              "      <td>7</td>\n",
              "      <td>28.0</td>\n",
              "      <td>4.0000</td>\n",
              "      <td>23.2°N</td>\n",
              "      <td>86.5°E</td>\n",
              "      <td>22.000000</td>\n",
              "      <td>0</td>\n",
              "      <td>0</td>\n",
              "      <td>0</td>\n",
              "      <td>0</td>\n",
              "      <td>0</td>\n",
              "      <td>0</td>\n",
              "      <td>0</td>\n",
              "      <td>0</td>\n",
              "      <td>1</td>\n",
              "      <td>0</td>\n",
              "      <td>0</td>\n",
              "      <td>0</td>\n",
              "      <td>0</td>\n",
              "      <td>0</td>\n",
              "      <td>0</td>\n",
              "      <td>0</td>\n",
              "      <td>0</td>\n",
              "      <td>0</td>\n",
              "      <td>0</td>\n",
              "      <td>0</td>\n",
              "      <td>0</td>\n",
              "      <td>0</td>\n",
              "      <td>0</td>\n",
              "      <td>0</td>\n",
              "      <td>0</td>\n",
              "      <td>0</td>\n",
              "      <td>0</td>\n",
              "      <td>0</td>\n",
              "      <td>0</td>\n",
              "      <td>0</td>\n",
              "      <td>0</td>\n",
              "      <td>0</td>\n",
              "      <td>0</td>\n",
              "      <td>0</td>\n",
              "      <td>0</td>\n",
              "      <td>0</td>\n",
              "      <td>0</td>\n",
              "      <td>0</td>\n",
              "    </tr>\n",
              "    <tr>\n",
              "      <th>52987</th>\n",
              "      <td>2019.0</td>\n",
              "      <td>7</td>\n",
              "      <td>29.0</td>\n",
              "      <td>4.3000</td>\n",
              "      <td>32.8°N</td>\n",
              "      <td>76.4°E</td>\n",
              "      <td>20.000000</td>\n",
              "      <td>0</td>\n",
              "      <td>0</td>\n",
              "      <td>0</td>\n",
              "      <td>0</td>\n",
              "      <td>0</td>\n",
              "      <td>0</td>\n",
              "      <td>0</td>\n",
              "      <td>0</td>\n",
              "      <td>1</td>\n",
              "      <td>0</td>\n",
              "      <td>0</td>\n",
              "      <td>0</td>\n",
              "      <td>0</td>\n",
              "      <td>0</td>\n",
              "      <td>0</td>\n",
              "      <td>0</td>\n",
              "      <td>0</td>\n",
              "      <td>0</td>\n",
              "      <td>0</td>\n",
              "      <td>0</td>\n",
              "      <td>0</td>\n",
              "      <td>0</td>\n",
              "      <td>0</td>\n",
              "      <td>0</td>\n",
              "      <td>0</td>\n",
              "      <td>0</td>\n",
              "      <td>0</td>\n",
              "      <td>0</td>\n",
              "      <td>0</td>\n",
              "      <td>0</td>\n",
              "      <td>0</td>\n",
              "      <td>0</td>\n",
              "      <td>0</td>\n",
              "      <td>0</td>\n",
              "      <td>0</td>\n",
              "      <td>0</td>\n",
              "      <td>0</td>\n",
              "      <td>0</td>\n",
              "    </tr>\n",
              "    <tr>\n",
              "      <th>52988</th>\n",
              "      <td>2019.0</td>\n",
              "      <td>7</td>\n",
              "      <td>31.0</td>\n",
              "      <td>3.0000</td>\n",
              "      <td>20.0°N</td>\n",
              "      <td>72.8°E</td>\n",
              "      <td>10.000000</td>\n",
              "      <td>0</td>\n",
              "      <td>0</td>\n",
              "      <td>0</td>\n",
              "      <td>0</td>\n",
              "      <td>0</td>\n",
              "      <td>0</td>\n",
              "      <td>0</td>\n",
              "      <td>0</td>\n",
              "      <td>1</td>\n",
              "      <td>0</td>\n",
              "      <td>0</td>\n",
              "      <td>0</td>\n",
              "      <td>0</td>\n",
              "      <td>0</td>\n",
              "      <td>0</td>\n",
              "      <td>0</td>\n",
              "      <td>0</td>\n",
              "      <td>0</td>\n",
              "      <td>0</td>\n",
              "      <td>0</td>\n",
              "      <td>0</td>\n",
              "      <td>0</td>\n",
              "      <td>0</td>\n",
              "      <td>0</td>\n",
              "      <td>0</td>\n",
              "      <td>0</td>\n",
              "      <td>0</td>\n",
              "      <td>0</td>\n",
              "      <td>0</td>\n",
              "      <td>0</td>\n",
              "      <td>0</td>\n",
              "      <td>0</td>\n",
              "      <td>0</td>\n",
              "      <td>0</td>\n",
              "      <td>0</td>\n",
              "      <td>0</td>\n",
              "      <td>0</td>\n",
              "      <td>0</td>\n",
              "    </tr>\n",
              "  </tbody>\n",
              "</table>\n",
              "<p>52989 rows × 45 columns</p>\n",
              "</div>"
            ],
            "text/plain": [
              "        YEAR  MONTH   DATE  MAGNITUDE LAT (N)  ... SHL  T-S  T-S/G-R  TAN  USGS\n",
              "0     -2474.0      0   0.0     7.5000      71  ...   0    0        0    0     0\n",
              "1      -325.0      0   0.0     7.5000      71  ...   0    0        0    0     0\n",
              "2        25.0      0   0.0     7.5000    72.9  ...   0    0        0    0     0\n",
              "3        26.0      5  10.0     6.1397    17.3  ...   0    0        0    0     0\n",
              "4        26.0      5  10.0     6.1397      26  ...   0    0        0    0     0\n",
              "...       ...    ...   ...        ...     ...  ...  ..  ...      ...  ...   ...\n",
              "52984  2019.0      7  28.0     3.2000  32.8°N  ...   0    0        0    0     0\n",
              "52985  2019.0      7  28.0     3.6000  25.5°N  ...   0    0        0    0     0\n",
              "52986  2019.0      7  28.0     4.0000  23.2°N  ...   0    0        0    0     0\n",
              "52987  2019.0      7  29.0     4.3000  32.8°N  ...   0    0        0    0     0\n",
              "52988  2019.0      7  31.0     3.0000  20.0°N  ...   0    0        0    0     0\n",
              "\n",
              "[52989 rows x 45 columns]"
            ]
          },
          "metadata": {
            "tags": []
          },
          "execution_count": 21
        }
      ]
    },
    {
      "cell_type": "code",
      "metadata": {
        "id": "tIyvgbiwiu7b",
        "colab_type": "code",
        "colab": {
          "base_uri": "https://localhost:8080/",
          "height": 34
        },
        "outputId": "1928e5d2-4f3d-44b8-da78-caff8c9517fd"
      },
      "source": [
        "latitude = final_data_1['LAT (N)'].tolist()\n",
        "latitude_1=[]\n",
        "for lat in latitude:\n",
        "  if(type(lat)==int):\n",
        "    latitude_1.append(float(lat))\n",
        "  elif(type(lat)==float):\n",
        "    latitude_1.append(lat)\n",
        "  elif(type(lat)==str):\n",
        "    s=''\n",
        "    if(lat[-1]=='S'):\n",
        "      # print(\"S wala\")\n",
        "      for char in lat:\n",
        "        if(char >= '0' and char <= '9'):\n",
        "          s = s+char\n",
        "        elif(char == '.'):\n",
        "          s = s+ char\n",
        "        else:\n",
        "          continue\n",
        "      if(lat[0]>='0' and lat[0]<='9'):\n",
        "        latitude_1.append(-1*float(s))\n",
        "      else:\n",
        "        # print(\"haa bhai\")\n",
        "        latitude_1.append(float(s))\n",
        "    else:\n",
        "      for char in lat:\n",
        "        if(char >= '0' and char <= '9'):\n",
        "          s = s+char\n",
        "        elif(char == '.'):\n",
        "          s = s+ char\n",
        "        else:\n",
        "          continue\n",
        "      # print(s)\n",
        "      if(lat[0]>='0' and lat[0]<='9'):\n",
        "        latitude_1.append(float(s))\n",
        "      else:\n",
        "        # print(\"minus \",-1*s)\n",
        "        latitude_1.append(-1*float(s))\n",
        "  \n",
        "\n",
        "\n",
        "\n",
        "print(len(latitude_1)) "
      ],
      "execution_count": 22,
      "outputs": [
        {
          "output_type": "stream",
          "text": [
            "52989\n"
          ],
          "name": "stdout"
        }
      ]
    },
    {
      "cell_type": "code",
      "metadata": {
        "id": "SwNFcvlKi33j",
        "colab_type": "code",
        "colab": {
          "base_uri": "https://localhost:8080/",
          "height": 34
        },
        "outputId": "6ac39aed-04a9-44ee-adff-69dffaa0e251"
      },
      "source": [
        "longitude = final_data_1['LONG (E)'].tolist()\n",
        "longitude_1=[]\n",
        "for long in longitude:\n",
        "  if(type(long)==int):\n",
        "    longitude_1.append(float(long))\n",
        "  elif(type(long)==float):\n",
        "    longitude_1.append(long)\n",
        "  elif(type(long)==str):\n",
        "    s=''\n",
        "    if(long[-1]=='W'):\n",
        "      # print(\"S wala\")\n",
        "      for char in long:\n",
        "        if(char >= '0' and char <= '9'):\n",
        "          s = s+char\n",
        "        elif(char == '.'):\n",
        "          s = s+ char\n",
        "        else:\n",
        "          continue\n",
        "      if(long[0]>='0' and long[0]<='9'):\n",
        "        longitude_1.append(-1*float(s))\n",
        "      else:\n",
        "        # print(\"haa bhai\")\n",
        "        longitude_1.append(float(s))\n",
        "    else:\n",
        "      for char in long:\n",
        "        if(char >= '0' and char <= '9'):\n",
        "          s = s+char\n",
        "        elif(char == '.'):\n",
        "          s = s+ char\n",
        "        else:\n",
        "          continue\n",
        "      # print(s)\n",
        "      if(long[0]>='0' and long[0]<='9'):\n",
        "        longitude_1.append(float(s))\n",
        "      else:\n",
        "        # print(\"minus \",-1*s)\n",
        "        longitude_1.append(-1*float(s))\n",
        "  \n",
        "\n",
        "\n",
        "\n",
        "print(len(longitude_1)) "
      ],
      "execution_count": 23,
      "outputs": [
        {
          "output_type": "stream",
          "text": [
            "52989\n"
          ],
          "name": "stdout"
        }
      ]
    },
    {
      "cell_type": "code",
      "metadata": {
        "id": "TyUulLh04ucF",
        "colab_type": "code",
        "colab": {}
      },
      "source": [
        "import math\n",
        "date = final_data_1['DATE'].tolist()\n",
        "date_int =[]\n",
        "\n",
        "\n",
        "for dt in date:\n",
        "  date_int.append(int(dt))\n",
        "\n",
        "year = final_data_1['YEAR '].tolist()\n",
        "year_int =[]\n",
        "for yr in year:\n",
        "  year_int.append(int(yr))\n",
        "  \n",
        "\n",
        "month = final_data_1['MONTH '].tolist()\n",
        "# month_int=[]\n",
        "\n",
        "# for mt in month:\n",
        "#   month_int.append(int(mt))"
      ],
      "execution_count": 24,
      "outputs": []
    },
    {
      "cell_type": "code",
      "metadata": {
        "id": "DbY8xK2Gi6_P",
        "colab_type": "code",
        "colab": {
          "base_uri": "https://localhost:8080/",
          "height": 255
        },
        "outputId": "17ff0262-d379-4ec6-dd70-7ca213ffc5d3"
      },
      "source": [
        "final_data_2 = final_data_1.drop(['LAT (N)','LONG (E)','DATE','YEAR ','MONTH '],axis=1)\n",
        "print(final_data_2)"
      ],
      "execution_count": 25,
      "outputs": [
        {
          "output_type": "stream",
          "text": [
            "       MAGNITUDE  DEPTH (km)   ISC  BCI  BDA  ...  SHL  T-S  T-S/G-R  TAN  USGS\n",
            "0         7.5000    0.000000     0    0    0  ...    0    0        0    0     0\n",
            "1         7.5000    0.000000     0    0    0  ...    0    0        0    0     0\n",
            "2         7.5000    0.000000     0    0    0  ...    0    0        0    0     0\n",
            "3         6.1397   45.569867     0    0    0  ...    0    0        0    0     0\n",
            "4         6.1397   80.000000     0    0    0  ...    0    0        0    0     0\n",
            "...          ...         ...   ...  ...  ...  ...  ...  ...      ...  ...   ...\n",
            "52984     3.2000   10.000000     0    0    0  ...    0    0        0    0     0\n",
            "52985     3.6000   70.000000     0    0    0  ...    0    0        0    0     0\n",
            "52986     4.0000   22.000000     0    0    0  ...    0    0        0    0     0\n",
            "52987     4.3000   20.000000     0    0    0  ...    0    0        0    0     0\n",
            "52988     3.0000   10.000000     0    0    0  ...    0    0        0    0     0\n",
            "\n",
            "[52989 rows x 40 columns]\n"
          ],
          "name": "stdout"
        }
      ]
    },
    {
      "cell_type": "code",
      "metadata": {
        "id": "PuPVcy4ii-0W",
        "colab_type": "code",
        "colab": {
          "base_uri": "https://localhost:8080/",
          "height": 493
        },
        "outputId": "5eabe850-6fe0-4b38-9d46-adbfd3df2678"
      },
      "source": [
        "\n",
        "df_latitude = pd.DataFrame (latitude_1,columns=['latitude'])\n",
        "print(df_latitude)\n",
        "df_longitude = pd.DataFrame(longitude_1,columns=['longitude'])\n",
        "print(df_longitude)\n",
        "\n",
        "df_date = pd.DataFrame(date_int,columns=['date'])\n",
        "df_year = pd.DataFrame(year_int,columns=['years'])\n",
        "df_month = pd.DataFrame(month,columns=['month']) "
      ],
      "execution_count": 26,
      "outputs": [
        {
          "output_type": "stream",
          "text": [
            "       latitude\n",
            "0          71.0\n",
            "1          71.0\n",
            "2          72.9\n",
            "3          17.3\n",
            "4          26.0\n",
            "...         ...\n",
            "52984      32.8\n",
            "52985      25.5\n",
            "52986      23.2\n",
            "52987      32.8\n",
            "52988      20.0\n",
            "\n",
            "[52989 rows x 1 columns]\n",
            "       longitude\n",
            "0          24.00\n",
            "1          24.00\n",
            "2          33.72\n",
            "3          80.10\n",
            "4          97.00\n",
            "...          ...\n",
            "52984      78.40\n",
            "52985      90.40\n",
            "52986      86.50\n",
            "52987      76.40\n",
            "52988      72.80\n",
            "\n",
            "[52989 rows x 1 columns]\n"
          ],
          "name": "stdout"
        }
      ]
    },
    {
      "cell_type": "code",
      "metadata": {
        "id": "QAzz995fjEkP",
        "colab_type": "code",
        "colab": {
          "base_uri": "https://localhost:8080/",
          "height": 473
        },
        "outputId": "57d334d0-9a96-4b94-97f1-a150974e9e63"
      },
      "source": [
        "df11 = pd.concat([final_data_2,df_latitude],axis=1)\n",
        "df22 = pd.concat([df11,df_longitude],axis=1)\n",
        "df22"
      ],
      "execution_count": 27,
      "outputs": [
        {
          "output_type": "execute_result",
          "data": {
            "text/html": [
              "<div>\n",
              "<style scoped>\n",
              "    .dataframe tbody tr th:only-of-type {\n",
              "        vertical-align: middle;\n",
              "    }\n",
              "\n",
              "    .dataframe tbody tr th {\n",
              "        vertical-align: top;\n",
              "    }\n",
              "\n",
              "    .dataframe thead th {\n",
              "        text-align: right;\n",
              "    }\n",
              "</style>\n",
              "<table border=\"1\" class=\"dataframe\">\n",
              "  <thead>\n",
              "    <tr style=\"text-align: right;\">\n",
              "      <th></th>\n",
              "      <th>MAGNITUDE</th>\n",
              "      <th>DEPTH (km)</th>\n",
              "      <th>ISC</th>\n",
              "      <th>BCI</th>\n",
              "      <th>BDA</th>\n",
              "      <th>BDA/CM</th>\n",
              "      <th>CHAN</th>\n",
              "      <th>CM/G-R</th>\n",
              "      <th>CM/ISS</th>\n",
              "      <th>CM/LEE</th>\n",
              "      <th>Dr STGR</th>\n",
              "      <th>G-R</th>\n",
              "      <th>G-R/BDA</th>\n",
              "      <th>G-R/CM</th>\n",
              "      <th>G-R/T-S</th>\n",
              "      <th>GERI</th>\n",
              "      <th>GSI</th>\n",
              "      <th>HRVD</th>\n",
              "      <th>IMD</th>\n",
              "      <th>ISC</th>\n",
              "      <th>ISR</th>\n",
              "      <th>ISS</th>\n",
              "      <th>ISS/T-S</th>\n",
              "      <th>J &amp; S</th>\n",
              "      <th>LEE</th>\n",
              "      <th>LEE/CM</th>\n",
              "      <th>LEE/T-S</th>\n",
              "      <th>MALIK</th>\n",
              "      <th>NEIC</th>\n",
              "      <th>NEIC / USGS</th>\n",
              "      <th>NGRI</th>\n",
              "      <th>OLD</th>\n",
              "      <th>PDE</th>\n",
              "      <th>PDE/T-S</th>\n",
              "      <th>RO</th>\n",
              "      <th>SHL</th>\n",
              "      <th>T-S</th>\n",
              "      <th>T-S/G-R</th>\n",
              "      <th>TAN</th>\n",
              "      <th>USGS</th>\n",
              "      <th>latitude</th>\n",
              "      <th>longitude</th>\n",
              "    </tr>\n",
              "  </thead>\n",
              "  <tbody>\n",
              "    <tr>\n",
              "      <th>0</th>\n",
              "      <td>7.5000</td>\n",
              "      <td>0.000000</td>\n",
              "      <td>0</td>\n",
              "      <td>0</td>\n",
              "      <td>0</td>\n",
              "      <td>0</td>\n",
              "      <td>0</td>\n",
              "      <td>0</td>\n",
              "      <td>0</td>\n",
              "      <td>0</td>\n",
              "      <td>1</td>\n",
              "      <td>0</td>\n",
              "      <td>0</td>\n",
              "      <td>0</td>\n",
              "      <td>0</td>\n",
              "      <td>0</td>\n",
              "      <td>0</td>\n",
              "      <td>0</td>\n",
              "      <td>0</td>\n",
              "      <td>0</td>\n",
              "      <td>0</td>\n",
              "      <td>0</td>\n",
              "      <td>0</td>\n",
              "      <td>0</td>\n",
              "      <td>0</td>\n",
              "      <td>0</td>\n",
              "      <td>0</td>\n",
              "      <td>0</td>\n",
              "      <td>0</td>\n",
              "      <td>0</td>\n",
              "      <td>0</td>\n",
              "      <td>0</td>\n",
              "      <td>0</td>\n",
              "      <td>0</td>\n",
              "      <td>0</td>\n",
              "      <td>0</td>\n",
              "      <td>0</td>\n",
              "      <td>0</td>\n",
              "      <td>0</td>\n",
              "      <td>0</td>\n",
              "      <td>71.0</td>\n",
              "      <td>24.00</td>\n",
              "    </tr>\n",
              "    <tr>\n",
              "      <th>1</th>\n",
              "      <td>7.5000</td>\n",
              "      <td>0.000000</td>\n",
              "      <td>0</td>\n",
              "      <td>0</td>\n",
              "      <td>0</td>\n",
              "      <td>0</td>\n",
              "      <td>0</td>\n",
              "      <td>0</td>\n",
              "      <td>0</td>\n",
              "      <td>0</td>\n",
              "      <td>1</td>\n",
              "      <td>0</td>\n",
              "      <td>0</td>\n",
              "      <td>0</td>\n",
              "      <td>0</td>\n",
              "      <td>0</td>\n",
              "      <td>0</td>\n",
              "      <td>0</td>\n",
              "      <td>0</td>\n",
              "      <td>0</td>\n",
              "      <td>0</td>\n",
              "      <td>0</td>\n",
              "      <td>0</td>\n",
              "      <td>0</td>\n",
              "      <td>0</td>\n",
              "      <td>0</td>\n",
              "      <td>0</td>\n",
              "      <td>0</td>\n",
              "      <td>0</td>\n",
              "      <td>0</td>\n",
              "      <td>0</td>\n",
              "      <td>0</td>\n",
              "      <td>0</td>\n",
              "      <td>0</td>\n",
              "      <td>0</td>\n",
              "      <td>0</td>\n",
              "      <td>0</td>\n",
              "      <td>0</td>\n",
              "      <td>0</td>\n",
              "      <td>0</td>\n",
              "      <td>71.0</td>\n",
              "      <td>24.00</td>\n",
              "    </tr>\n",
              "    <tr>\n",
              "      <th>2</th>\n",
              "      <td>7.5000</td>\n",
              "      <td>0.000000</td>\n",
              "      <td>0</td>\n",
              "      <td>0</td>\n",
              "      <td>0</td>\n",
              "      <td>0</td>\n",
              "      <td>0</td>\n",
              "      <td>0</td>\n",
              "      <td>0</td>\n",
              "      <td>0</td>\n",
              "      <td>1</td>\n",
              "      <td>0</td>\n",
              "      <td>0</td>\n",
              "      <td>0</td>\n",
              "      <td>0</td>\n",
              "      <td>0</td>\n",
              "      <td>0</td>\n",
              "      <td>0</td>\n",
              "      <td>0</td>\n",
              "      <td>0</td>\n",
              "      <td>0</td>\n",
              "      <td>0</td>\n",
              "      <td>0</td>\n",
              "      <td>0</td>\n",
              "      <td>0</td>\n",
              "      <td>0</td>\n",
              "      <td>0</td>\n",
              "      <td>0</td>\n",
              "      <td>0</td>\n",
              "      <td>0</td>\n",
              "      <td>0</td>\n",
              "      <td>0</td>\n",
              "      <td>0</td>\n",
              "      <td>0</td>\n",
              "      <td>0</td>\n",
              "      <td>0</td>\n",
              "      <td>0</td>\n",
              "      <td>0</td>\n",
              "      <td>0</td>\n",
              "      <td>0</td>\n",
              "      <td>72.9</td>\n",
              "      <td>33.72</td>\n",
              "    </tr>\n",
              "    <tr>\n",
              "      <th>3</th>\n",
              "      <td>6.1397</td>\n",
              "      <td>45.569867</td>\n",
              "      <td>0</td>\n",
              "      <td>0</td>\n",
              "      <td>0</td>\n",
              "      <td>0</td>\n",
              "      <td>0</td>\n",
              "      <td>0</td>\n",
              "      <td>0</td>\n",
              "      <td>0</td>\n",
              "      <td>0</td>\n",
              "      <td>0</td>\n",
              "      <td>0</td>\n",
              "      <td>0</td>\n",
              "      <td>0</td>\n",
              "      <td>0</td>\n",
              "      <td>0</td>\n",
              "      <td>0</td>\n",
              "      <td>0</td>\n",
              "      <td>0</td>\n",
              "      <td>0</td>\n",
              "      <td>0</td>\n",
              "      <td>0</td>\n",
              "      <td>0</td>\n",
              "      <td>0</td>\n",
              "      <td>0</td>\n",
              "      <td>0</td>\n",
              "      <td>0</td>\n",
              "      <td>1</td>\n",
              "      <td>0</td>\n",
              "      <td>0</td>\n",
              "      <td>0</td>\n",
              "      <td>0</td>\n",
              "      <td>0</td>\n",
              "      <td>0</td>\n",
              "      <td>0</td>\n",
              "      <td>0</td>\n",
              "      <td>0</td>\n",
              "      <td>0</td>\n",
              "      <td>0</td>\n",
              "      <td>17.3</td>\n",
              "      <td>80.10</td>\n",
              "    </tr>\n",
              "    <tr>\n",
              "      <th>4</th>\n",
              "      <td>6.1397</td>\n",
              "      <td>80.000000</td>\n",
              "      <td>0</td>\n",
              "      <td>0</td>\n",
              "      <td>0</td>\n",
              "      <td>0</td>\n",
              "      <td>0</td>\n",
              "      <td>0</td>\n",
              "      <td>0</td>\n",
              "      <td>0</td>\n",
              "      <td>0</td>\n",
              "      <td>1</td>\n",
              "      <td>0</td>\n",
              "      <td>0</td>\n",
              "      <td>0</td>\n",
              "      <td>0</td>\n",
              "      <td>0</td>\n",
              "      <td>0</td>\n",
              "      <td>0</td>\n",
              "      <td>0</td>\n",
              "      <td>0</td>\n",
              "      <td>0</td>\n",
              "      <td>0</td>\n",
              "      <td>0</td>\n",
              "      <td>0</td>\n",
              "      <td>0</td>\n",
              "      <td>0</td>\n",
              "      <td>0</td>\n",
              "      <td>0</td>\n",
              "      <td>0</td>\n",
              "      <td>0</td>\n",
              "      <td>0</td>\n",
              "      <td>0</td>\n",
              "      <td>0</td>\n",
              "      <td>0</td>\n",
              "      <td>0</td>\n",
              "      <td>0</td>\n",
              "      <td>0</td>\n",
              "      <td>0</td>\n",
              "      <td>0</td>\n",
              "      <td>26.0</td>\n",
              "      <td>97.00</td>\n",
              "    </tr>\n",
              "    <tr>\n",
              "      <th>...</th>\n",
              "      <td>...</td>\n",
              "      <td>...</td>\n",
              "      <td>...</td>\n",
              "      <td>...</td>\n",
              "      <td>...</td>\n",
              "      <td>...</td>\n",
              "      <td>...</td>\n",
              "      <td>...</td>\n",
              "      <td>...</td>\n",
              "      <td>...</td>\n",
              "      <td>...</td>\n",
              "      <td>...</td>\n",
              "      <td>...</td>\n",
              "      <td>...</td>\n",
              "      <td>...</td>\n",
              "      <td>...</td>\n",
              "      <td>...</td>\n",
              "      <td>...</td>\n",
              "      <td>...</td>\n",
              "      <td>...</td>\n",
              "      <td>...</td>\n",
              "      <td>...</td>\n",
              "      <td>...</td>\n",
              "      <td>...</td>\n",
              "      <td>...</td>\n",
              "      <td>...</td>\n",
              "      <td>...</td>\n",
              "      <td>...</td>\n",
              "      <td>...</td>\n",
              "      <td>...</td>\n",
              "      <td>...</td>\n",
              "      <td>...</td>\n",
              "      <td>...</td>\n",
              "      <td>...</td>\n",
              "      <td>...</td>\n",
              "      <td>...</td>\n",
              "      <td>...</td>\n",
              "      <td>...</td>\n",
              "      <td>...</td>\n",
              "      <td>...</td>\n",
              "      <td>...</td>\n",
              "      <td>...</td>\n",
              "    </tr>\n",
              "    <tr>\n",
              "      <th>52984</th>\n",
              "      <td>3.2000</td>\n",
              "      <td>10.000000</td>\n",
              "      <td>0</td>\n",
              "      <td>0</td>\n",
              "      <td>0</td>\n",
              "      <td>0</td>\n",
              "      <td>0</td>\n",
              "      <td>0</td>\n",
              "      <td>0</td>\n",
              "      <td>0</td>\n",
              "      <td>1</td>\n",
              "      <td>0</td>\n",
              "      <td>0</td>\n",
              "      <td>0</td>\n",
              "      <td>0</td>\n",
              "      <td>0</td>\n",
              "      <td>0</td>\n",
              "      <td>0</td>\n",
              "      <td>0</td>\n",
              "      <td>0</td>\n",
              "      <td>0</td>\n",
              "      <td>0</td>\n",
              "      <td>0</td>\n",
              "      <td>0</td>\n",
              "      <td>0</td>\n",
              "      <td>0</td>\n",
              "      <td>0</td>\n",
              "      <td>0</td>\n",
              "      <td>0</td>\n",
              "      <td>0</td>\n",
              "      <td>0</td>\n",
              "      <td>0</td>\n",
              "      <td>0</td>\n",
              "      <td>0</td>\n",
              "      <td>0</td>\n",
              "      <td>0</td>\n",
              "      <td>0</td>\n",
              "      <td>0</td>\n",
              "      <td>0</td>\n",
              "      <td>0</td>\n",
              "      <td>32.8</td>\n",
              "      <td>78.40</td>\n",
              "    </tr>\n",
              "    <tr>\n",
              "      <th>52985</th>\n",
              "      <td>3.6000</td>\n",
              "      <td>70.000000</td>\n",
              "      <td>0</td>\n",
              "      <td>0</td>\n",
              "      <td>0</td>\n",
              "      <td>0</td>\n",
              "      <td>0</td>\n",
              "      <td>0</td>\n",
              "      <td>0</td>\n",
              "      <td>0</td>\n",
              "      <td>1</td>\n",
              "      <td>0</td>\n",
              "      <td>0</td>\n",
              "      <td>0</td>\n",
              "      <td>0</td>\n",
              "      <td>0</td>\n",
              "      <td>0</td>\n",
              "      <td>0</td>\n",
              "      <td>0</td>\n",
              "      <td>0</td>\n",
              "      <td>0</td>\n",
              "      <td>0</td>\n",
              "      <td>0</td>\n",
              "      <td>0</td>\n",
              "      <td>0</td>\n",
              "      <td>0</td>\n",
              "      <td>0</td>\n",
              "      <td>0</td>\n",
              "      <td>0</td>\n",
              "      <td>0</td>\n",
              "      <td>0</td>\n",
              "      <td>0</td>\n",
              "      <td>0</td>\n",
              "      <td>0</td>\n",
              "      <td>0</td>\n",
              "      <td>0</td>\n",
              "      <td>0</td>\n",
              "      <td>0</td>\n",
              "      <td>0</td>\n",
              "      <td>0</td>\n",
              "      <td>25.5</td>\n",
              "      <td>90.40</td>\n",
              "    </tr>\n",
              "    <tr>\n",
              "      <th>52986</th>\n",
              "      <td>4.0000</td>\n",
              "      <td>22.000000</td>\n",
              "      <td>0</td>\n",
              "      <td>0</td>\n",
              "      <td>0</td>\n",
              "      <td>0</td>\n",
              "      <td>0</td>\n",
              "      <td>0</td>\n",
              "      <td>0</td>\n",
              "      <td>0</td>\n",
              "      <td>1</td>\n",
              "      <td>0</td>\n",
              "      <td>0</td>\n",
              "      <td>0</td>\n",
              "      <td>0</td>\n",
              "      <td>0</td>\n",
              "      <td>0</td>\n",
              "      <td>0</td>\n",
              "      <td>0</td>\n",
              "      <td>0</td>\n",
              "      <td>0</td>\n",
              "      <td>0</td>\n",
              "      <td>0</td>\n",
              "      <td>0</td>\n",
              "      <td>0</td>\n",
              "      <td>0</td>\n",
              "      <td>0</td>\n",
              "      <td>0</td>\n",
              "      <td>0</td>\n",
              "      <td>0</td>\n",
              "      <td>0</td>\n",
              "      <td>0</td>\n",
              "      <td>0</td>\n",
              "      <td>0</td>\n",
              "      <td>0</td>\n",
              "      <td>0</td>\n",
              "      <td>0</td>\n",
              "      <td>0</td>\n",
              "      <td>0</td>\n",
              "      <td>0</td>\n",
              "      <td>23.2</td>\n",
              "      <td>86.50</td>\n",
              "    </tr>\n",
              "    <tr>\n",
              "      <th>52987</th>\n",
              "      <td>4.3000</td>\n",
              "      <td>20.000000</td>\n",
              "      <td>0</td>\n",
              "      <td>0</td>\n",
              "      <td>0</td>\n",
              "      <td>0</td>\n",
              "      <td>0</td>\n",
              "      <td>0</td>\n",
              "      <td>0</td>\n",
              "      <td>0</td>\n",
              "      <td>1</td>\n",
              "      <td>0</td>\n",
              "      <td>0</td>\n",
              "      <td>0</td>\n",
              "      <td>0</td>\n",
              "      <td>0</td>\n",
              "      <td>0</td>\n",
              "      <td>0</td>\n",
              "      <td>0</td>\n",
              "      <td>0</td>\n",
              "      <td>0</td>\n",
              "      <td>0</td>\n",
              "      <td>0</td>\n",
              "      <td>0</td>\n",
              "      <td>0</td>\n",
              "      <td>0</td>\n",
              "      <td>0</td>\n",
              "      <td>0</td>\n",
              "      <td>0</td>\n",
              "      <td>0</td>\n",
              "      <td>0</td>\n",
              "      <td>0</td>\n",
              "      <td>0</td>\n",
              "      <td>0</td>\n",
              "      <td>0</td>\n",
              "      <td>0</td>\n",
              "      <td>0</td>\n",
              "      <td>0</td>\n",
              "      <td>0</td>\n",
              "      <td>0</td>\n",
              "      <td>32.8</td>\n",
              "      <td>76.40</td>\n",
              "    </tr>\n",
              "    <tr>\n",
              "      <th>52988</th>\n",
              "      <td>3.0000</td>\n",
              "      <td>10.000000</td>\n",
              "      <td>0</td>\n",
              "      <td>0</td>\n",
              "      <td>0</td>\n",
              "      <td>0</td>\n",
              "      <td>0</td>\n",
              "      <td>0</td>\n",
              "      <td>0</td>\n",
              "      <td>0</td>\n",
              "      <td>1</td>\n",
              "      <td>0</td>\n",
              "      <td>0</td>\n",
              "      <td>0</td>\n",
              "      <td>0</td>\n",
              "      <td>0</td>\n",
              "      <td>0</td>\n",
              "      <td>0</td>\n",
              "      <td>0</td>\n",
              "      <td>0</td>\n",
              "      <td>0</td>\n",
              "      <td>0</td>\n",
              "      <td>0</td>\n",
              "      <td>0</td>\n",
              "      <td>0</td>\n",
              "      <td>0</td>\n",
              "      <td>0</td>\n",
              "      <td>0</td>\n",
              "      <td>0</td>\n",
              "      <td>0</td>\n",
              "      <td>0</td>\n",
              "      <td>0</td>\n",
              "      <td>0</td>\n",
              "      <td>0</td>\n",
              "      <td>0</td>\n",
              "      <td>0</td>\n",
              "      <td>0</td>\n",
              "      <td>0</td>\n",
              "      <td>0</td>\n",
              "      <td>0</td>\n",
              "      <td>20.0</td>\n",
              "      <td>72.80</td>\n",
              "    </tr>\n",
              "  </tbody>\n",
              "</table>\n",
              "<p>52989 rows × 42 columns</p>\n",
              "</div>"
            ],
            "text/plain": [
              "       MAGNITUDE  DEPTH (km)   ISC  BCI  ...  TAN  USGS  latitude  longitude\n",
              "0         7.5000    0.000000     0    0  ...    0     0      71.0      24.00\n",
              "1         7.5000    0.000000     0    0  ...    0     0      71.0      24.00\n",
              "2         7.5000    0.000000     0    0  ...    0     0      72.9      33.72\n",
              "3         6.1397   45.569867     0    0  ...    0     0      17.3      80.10\n",
              "4         6.1397   80.000000     0    0  ...    0     0      26.0      97.00\n",
              "...          ...         ...   ...  ...  ...  ...   ...       ...        ...\n",
              "52984     3.2000   10.000000     0    0  ...    0     0      32.8      78.40\n",
              "52985     3.6000   70.000000     0    0  ...    0     0      25.5      90.40\n",
              "52986     4.0000   22.000000     0    0  ...    0     0      23.2      86.50\n",
              "52987     4.3000   20.000000     0    0  ...    0     0      32.8      76.40\n",
              "52988     3.0000   10.000000     0    0  ...    0     0      20.0      72.80\n",
              "\n",
              "[52989 rows x 42 columns]"
            ]
          },
          "metadata": {
            "tags": []
          },
          "execution_count": 27
        }
      ]
    },
    {
      "cell_type": "code",
      "metadata": {
        "id": "unZy8jQKw9yV",
        "colab_type": "code",
        "colab": {}
      },
      "source": [
        ""
      ],
      "execution_count": 27,
      "outputs": []
    },
    {
      "cell_type": "code",
      "metadata": {
        "id": "7hwhqRVTjI5j",
        "colab_type": "code",
        "colab": {}
      },
      "source": [
        "target_label=df22['MAGNITUDE']"
      ],
      "execution_count": 28,
      "outputs": []
    },
    {
      "cell_type": "code",
      "metadata": {
        "id": "ff2pcuAXjMd5",
        "colab_type": "code",
        "colab": {}
      },
      "source": [
        "target_label=pd.to_numeric(target_label)"
      ],
      "execution_count": 29,
      "outputs": []
    },
    {
      "cell_type": "code",
      "metadata": {
        "id": "oAiAVXDnrjpe",
        "colab_type": "code",
        "colab": {
          "base_uri": "https://localhost:8080/",
          "height": 221
        },
        "outputId": "5bb41274-d21d-4c23-9fde-b2a50cec3fd9"
      },
      "source": [
        "print(target_label)"
      ],
      "execution_count": 30,
      "outputs": [
        {
          "output_type": "stream",
          "text": [
            "0        7.5000\n",
            "1        7.5000\n",
            "2        7.5000\n",
            "3        6.1397\n",
            "4        6.1397\n",
            "          ...  \n",
            "52984    3.2000\n",
            "52985    3.6000\n",
            "52986    4.0000\n",
            "52987    4.3000\n",
            "52988    3.0000\n",
            "Name: MAGNITUDE, Length: 52989, dtype: float64\n"
          ],
          "name": "stdout"
        }
      ]
    },
    {
      "cell_type": "code",
      "metadata": {
        "id": "q9hshkR7jPXB",
        "colab_type": "code",
        "colab": {}
      },
      "source": [
        "count=0\n",
        "for i in range(0,len(target_label)):\n",
        "    \n",
        "#     print(target_label.iloc[i])\n",
        "    if(target_label.iloc[i]<=5):\n",
        "        target_label.iloc[i]=0\n",
        "        # print(\"A \",target_label.iloc[i])\n",
        "    else:\n",
        "        target_label.iloc[i]=1\n",
        "        count=count+1\n",
        "        # print(\"T\",target_label.iloc[i])\n",
        "        \n",
        "# print(target_label)"
      ],
      "execution_count": 31,
      "outputs": []
    },
    {
      "cell_type": "code",
      "metadata": {
        "id": "6CfZp5uNjShF",
        "colab_type": "code",
        "colab": {}
      },
      "source": [
        "df22=df22.drop('MAGNITUDE',axis=1)"
      ],
      "execution_count": 32,
      "outputs": []
    },
    {
      "cell_type": "code",
      "metadata": {
        "id": "Ve7xVCiQyypf",
        "colab_type": "code",
        "colab": {}
      },
      "source": [
        "# df22=(df22-df22.mean())/df22.std()"
      ],
      "execution_count": 33,
      "outputs": []
    },
    {
      "cell_type": "markdown",
      "metadata": {
        "id": "8GoMH6OMvfen",
        "colab_type": "text"
      },
      "source": [
        "## **USING LATITUDE,LONGITUDE,DEPTH AS FEATURE**"
      ]
    },
    {
      "cell_type": "code",
      "metadata": {
        "id": "BiTXeu-hjVVr",
        "colab_type": "code",
        "colab": {}
      },
      "source": [
        "from sklearn.model_selection import train_test_split\n",
        "X_train, X_test, y_train, y_test = train_test_split(df22, target_label, test_size=0.2, random_state=42)"
      ],
      "execution_count": 34,
      "outputs": []
    },
    {
      "cell_type": "markdown",
      "metadata": {
        "id": "oi2AJjiev8Hi",
        "colab_type": "text"
      },
      "source": [
        "# **KNN WITH K = 3**"
      ]
    },
    {
      "cell_type": "code",
      "metadata": {
        "id": "Khpf6iRYq4e3",
        "colab_type": "code",
        "colab": {
          "base_uri": "https://localhost:8080/",
          "height": 68
        },
        "outputId": "f173629e-af06-4198-b7e7-553af06ae3f9"
      },
      "source": [
        "from sklearn.neighbors import KNeighborsClassifier\n",
        "\n",
        "model = KNeighborsClassifier(n_neighbors=3)\n",
        "\n",
        "# Train the model using the training sets\n",
        "model.fit(X_train,y_train)"
      ],
      "execution_count": 35,
      "outputs": [
        {
          "output_type": "execute_result",
          "data": {
            "text/plain": [
              "KNeighborsClassifier(algorithm='auto', leaf_size=30, metric='minkowski',\n",
              "                     metric_params=None, n_jobs=None, n_neighbors=3, p=2,\n",
              "                     weights='uniform')"
            ]
          },
          "metadata": {
            "tags": []
          },
          "execution_count": 35
        }
      ]
    },
    {
      "cell_type": "code",
      "metadata": {
        "id": "xP7fPrLsq7aQ",
        "colab_type": "code",
        "colab": {}
      },
      "source": [
        "predicted=model.predict(X_test)"
      ],
      "execution_count": 36,
      "outputs": []
    },
    {
      "cell_type": "code",
      "metadata": {
        "id": "6b15VnP8q-ZN",
        "colab_type": "code",
        "colab": {
          "base_uri": "https://localhost:8080/",
          "height": 391
        },
        "outputId": "265326e3-3cd7-47b7-c225-a6fac7da014f"
      },
      "source": [
        "from sklearn.metrics import accuracy_score,f1_score,recall_score,confusion_matrix,precision_score,classification_report\n",
        "# print(accuracy_score(predicted,y_test))\n",
        "accu_score = accuracy_score(predicted,y_test,normalize=True)\n",
        "print(accu_score) \n",
        "f11 = f1_score(predicted,y_test,average=None)\n",
        "re = recall_score(predicted,y_test,average='weighted')\n",
        "cm = confusion_matrix(predicted,y_test)\n",
        "pr_sc = precision_score(predicted,y_test,average='weighted')\n",
        "clrp = classification_report(predicted,y_test)\n",
        "print(\"**********KNN WITH K = 3 ***********\")\n",
        "print(\"accuracy score \",accu_score)\n",
        "print(\"********************\")\n",
        "print(\"f1 score \",f11)\n",
        "print(\"********************\")\n",
        "print(\"recall score \",re)\n",
        "print(\"********************\")\n",
        "print(\"confusion matrix \",cm)\n",
        "print(\"********************\")\n",
        "print(\"precision score \",pr_sc)\n",
        "print(\"********************\")\n",
        "print(\"classification report \",clrp)"
      ],
      "execution_count": 37,
      "outputs": [
        {
          "output_type": "stream",
          "text": [
            "0.8229854689564069\n",
            "**********KNN WITH K = 3 ***********\n",
            "accuracy score  0.8229854689564069\n",
            "********************\n",
            "f1 score  [0.89890063 0.28939394]\n",
            "********************\n",
            "recall score  0.8229854689564069\n",
            "********************\n",
            "confusion matrix  [[8340 1282]\n",
            " [ 594  382]]\n",
            "********************\n",
            "precision score  0.8686841140145778\n",
            "********************\n",
            "classification report                precision    recall  f1-score   support\n",
            "\n",
            "         0.0       0.93      0.87      0.90      9622\n",
            "         1.0       0.23      0.39      0.29       976\n",
            "\n",
            "    accuracy                           0.82     10598\n",
            "   macro avg       0.58      0.63      0.59     10598\n",
            "weighted avg       0.87      0.82      0.84     10598\n",
            "\n"
          ],
          "name": "stdout"
        }
      ]
    },
    {
      "cell_type": "code",
      "metadata": {
        "id": "3VG-szN5joJG",
        "colab_type": "code",
        "colab": {}
      },
      "source": [
        "from sklearn.metrics import roc_curve, auc\n",
        "from sklearn.metrics import roc_auc_score"
      ],
      "execution_count": 38,
      "outputs": []
    },
    {
      "cell_type": "code",
      "metadata": {
        "id": "TeC7ETP6jtQX",
        "colab_type": "code",
        "colab": {
          "base_uri": "https://localhost:8080/",
          "height": 68
        },
        "outputId": "2509dd8b-fd50-45f7-b94a-82fbadfa8588"
      },
      "source": [
        "y_test=y_test.to_numpy()\n",
        "fpr = dict()\n",
        "tpr = dict()\n",
        "roc_auc = dict()\n",
        "# for i in range(0,2):\n",
        "fpr, tpr,threshlod = roc_curve(y_test, predicted)\n",
        "roc_auc = auc(fpr, tpr)\n",
        "\n",
        "print(\"roc_auc \",roc_auc)\n",
        "print(\"fpr,tpr \",fpr,tpr)\n",
        "print(\"threshold \",threshlod)"
      ],
      "execution_count": 39,
      "outputs": [
        {
          "output_type": "stream",
          "text": [
            "roc_auc  0.5815398660691223\n",
            "fpr,tpr  [0.         0.06648758 1.        ] [0.         0.22956731 1.        ]\n",
            "threshold  [2. 1. 0.]\n"
          ],
          "name": "stdout"
        }
      ]
    },
    {
      "cell_type": "markdown",
      "metadata": {
        "id": "J8nBvljnwL2P",
        "colab_type": "text"
      },
      "source": [
        "# **KNN WITH K = 5**"
      ]
    },
    {
      "cell_type": "code",
      "metadata": {
        "id": "KA1JDMG5CXCd",
        "colab_type": "code",
        "colab": {
          "base_uri": "https://localhost:8080/",
          "height": 442
        },
        "outputId": "004f42f1-89f8-403d-b51e-53deba937890"
      },
      "source": [
        "from sklearn.neighbors import KNeighborsClassifier\n",
        "\n",
        "model = KNeighborsClassifier(n_neighbors=5)\n",
        "\n",
        "# Train the model using the training sets\n",
        "model.fit(X_train,y_train)\n",
        "predicted=model.predict(X_test)\n",
        "from sklearn.metrics import accuracy_score\n",
        "# print(accuracy_score(predicted,y_test))\n",
        "accu_score = accuracy_score(predicted,y_test,normalize=True)\n",
        "print(accu_score) \n",
        "f11 = f1_score(predicted,y_test,average=None)\n",
        "re = recall_score(predicted,y_test,average='weighted')\n",
        "cm = confusion_matrix(predicted,y_test)\n",
        "pr_sc = precision_score(predicted,y_test,average='weighted')\n",
        "clrp = classification_report(predicted,y_test)\n",
        "print(\"**********KNN WITH K = 5***********\")\n",
        "print(\"accuracy score \",accu_score)\n",
        "print(\"********************\")\n",
        "print(\"f1 score \",f11)\n",
        "print(\"********************\")\n",
        "print(\"recall score \",re)\n",
        "print(\"********************\")\n",
        "print(\"confusion matrix \",cm)\n",
        "print(\"********************\")\n",
        "print(\"precision score \",pr_sc)\n",
        "print(\"********************\")\n",
        "print(\"classification report \",clrp)\n",
        "\n",
        "fpr_1 = dict()\n",
        "tpr_1 = dict()\n",
        "roc_auc_1 = dict()\n",
        "# for i in range(0,2):\n",
        "fpr_1, tpr_1,threshlod_1 = roc_curve(y_test, predicted)\n",
        "roc_auc_1 = auc(fpr_1, tpr_1)\n",
        "\n",
        "print(\"roc_auc \",roc_auc_1)\n",
        "print(\"fpr,tpr \",fpr_1,tpr_1)\n",
        "print(\"threshold \",threshlod_1)"
      ],
      "execution_count": 40,
      "outputs": [
        {
          "output_type": "stream",
          "text": [
            "0.8368560105680317\n",
            "**********KNN WITH K = 5***********\n",
            "accuracy score  0.8368560105680317\n",
            "********************\n",
            "f1 score  [0.90835851 0.2576213 ]\n",
            "********************\n",
            "recall score  0.8368560105680317\n",
            "********************\n",
            "confusion matrix  [[8569 1364]\n",
            " [ 365  300]]\n",
            "********************\n",
            "precision score  0.9102734027194243\n",
            "********************\n",
            "classification report                precision    recall  f1-score   support\n",
            "\n",
            "         0.0       0.96      0.86      0.91      9933\n",
            "         1.0       0.18      0.45      0.26       665\n",
            "\n",
            "    accuracy                           0.84     10598\n",
            "   macro avg       0.57      0.66      0.58     10598\n",
            "weighted avg       0.91      0.84      0.87     10598\n",
            "\n",
            "roc_auc  0.5697166507378898\n",
            "fpr,tpr  [0.         0.04085516 1.        ] [0.         0.18028846 1.        ]\n",
            "threshold  [2. 1. 0.]\n"
          ],
          "name": "stdout"
        }
      ]
    },
    {
      "cell_type": "markdown",
      "metadata": {
        "id": "nfA_5Mv_wQa6",
        "colab_type": "text"
      },
      "source": [
        "# **KNN WITH K =7**"
      ]
    },
    {
      "cell_type": "code",
      "metadata": {
        "id": "hlTZ65L8jwKS",
        "colab_type": "code",
        "colab": {
          "base_uri": "https://localhost:8080/",
          "height": 442
        },
        "outputId": "09ab1167-f350-4784-fb70-6bb9c2061db6"
      },
      "source": [
        "from sklearn.neighbors import KNeighborsClassifier\n",
        "\n",
        "model = KNeighborsClassifier(n_neighbors=7)\n",
        "\n",
        "# Train the model using the training sets\n",
        "model.fit(X_train,y_train)\n",
        "predicted=model.predict(X_test)\n",
        "from sklearn.metrics import accuracy_score\n",
        "# print(accuracy_score(predicted,y_test))\n",
        "accu_score = accuracy_score(predicted,y_test,normalize=True)\n",
        "print(accu_score) \n",
        "f11 = f1_score(predicted,y_test,average=None)\n",
        "re = recall_score(predicted,y_test,average='weighted')\n",
        "cm = confusion_matrix(predicted,y_test)\n",
        "pr_sc = precision_score(predicted,y_test,average='weighted')\n",
        "clrp = classification_report(predicted,y_test)\n",
        "print(\"**********KNN WITH K = 7 ***********\")\n",
        "print(\"accuracy score \",accu_score)\n",
        "print(\"********************\")\n",
        "print(\"f1 score \",f11)\n",
        "print(\"********************\")\n",
        "print(\"recall score \",re)\n",
        "print(\"********************\")\n",
        "print(\"confusion matrix \",cm)\n",
        "print(\"********************\")\n",
        "print(\"precision score \",pr_sc)\n",
        "print(\"********************\")\n",
        "print(\"classification report \",clrp)\n",
        "\n",
        "fpr_2 = dict()\n",
        "tpr_2 = dict()\n",
        "roc_auc_2 = dict()\n",
        "# for i in range(0,2):\n",
        "fpr_2, tpr_2,threshlod_2 = roc_curve(y_test, predicted)\n",
        "roc_auc_2 = auc(fpr_2, tpr_2)\n",
        "\n",
        "print(\"ROC_AUC \",roc_auc_2)\n",
        "print(\"FPR,TPR \",fpr_2,tpr_2)\n",
        "print(\"THRESHOLD \",threshlod_2)"
      ],
      "execution_count": 41,
      "outputs": [
        {
          "output_type": "stream",
          "text": [
            "0.8424230986978675\n",
            "**********KNN WITH K = 7 ***********\n",
            "accuracy score  0.8424230986978675\n",
            "********************\n",
            "f1 score  [0.91216998 0.23464711]\n",
            "********************\n",
            "recall score  0.8424230986978675\n",
            "********************\n",
            "confusion matrix  [[8672 1408]\n",
            " [ 262  256]]\n",
            "********************\n",
            "precision score  0.9307496241959718\n",
            "********************\n",
            "classification report                precision    recall  f1-score   support\n",
            "\n",
            "         0.0       0.97      0.86      0.91     10080\n",
            "         1.0       0.15      0.49      0.23       518\n",
            "\n",
            "    accuracy                           0.84     10598\n",
            "   macro avg       0.56      0.68      0.57     10598\n",
            "weighted avg       0.93      0.84      0.88     10598\n",
            "\n",
            "ROC_AUC  0.5622599920786623\n",
            "FPR,TPR  [0.         0.02932617 1.        ] [0.         0.15384615 1.        ]\n",
            "THRESHOLD  [2. 1. 0.]\n"
          ],
          "name": "stdout"
        }
      ]
    },
    {
      "cell_type": "code",
      "metadata": {
        "id": "hjAw0NSnG8t-",
        "colab_type": "code",
        "colab": {}
      },
      "source": [
        ""
      ],
      "execution_count": 41,
      "outputs": []
    },
    {
      "cell_type": "markdown",
      "metadata": {
        "id": "RVr3fli4wae6",
        "colab_type": "text"
      },
      "source": [
        "# **ROC FOR DIFFERENT VALUES OF K**"
      ]
    },
    {
      "cell_type": "markdown",
      "metadata": {
        "id": "VtRWxfEGFA47",
        "colab_type": "text"
      },
      "source": [
        "AUC - ROC curve is a performance measurement for classification problem at various thresholds settings. ROC is a probability curve and AUC represents degree or measure of separability. It tells how much model is capable of distinguishing between classes. Higher the AUC, better the model is at predicting 0s as 0s and 1s as 1s. By analogy, Higher the AUC, better the model is at distinguishing between patients with disease and no disease.\n",
        "\n",
        "**According to the below present ROC curve for k=3, AUC is 0.582 it means there is 58.2% chance that model will be able to distinguish between positive class and negative class**."
      ]
    },
    {
      "cell_type": "code",
      "metadata": {
        "id": "FPiHd2tpjz0G",
        "colab_type": "code",
        "colab": {
          "base_uri": "https://localhost:8080/",
          "height": 295
        },
        "outputId": "9d2ec520-131f-46a5-811f-2bad4eb1aac9"
      },
      "source": [
        "import matplotlib.pyplot as plt\n",
        "\n",
        "plt.figure()\n",
        "lw = 2\n",
        "plt.plot(fpr, tpr, color='darkorange',\n",
        "         lw=lw, label='ROC curve for k=3(area = %0.3f)' % roc_auc)\n",
        "\n",
        "plt.plot(fpr_1, tpr_1, color='darkgreen',\n",
        "         lw=lw, label='ROC curve for k=5(area = %0.3f)' % roc_auc_1)\n",
        "\n",
        "plt.plot(fpr_2, tpr_2, color='magenta',\n",
        "         lw=lw, label='ROC curve  for k=7(area = %0.3f)' % roc_auc_2)\n",
        "plt.plot([0, 1], [0, 1], color='navy', lw=lw, linestyle='--')\n",
        "plt.xlim([0.0, 1.0])\n",
        "plt.ylim([0.0, 1.05])\n",
        "plt.xlabel('False Positive Rate')\n",
        "plt.ylabel('True Positive Rate')\n",
        "plt.title('Receiver operating characteristic example')\n",
        "plt.legend(loc=\"lower right\")\n",
        "plt.show()"
      ],
      "execution_count": 42,
      "outputs": [
        {
          "output_type": "display_data",
          "data": {
            "image/png": "[encoded data removed]",
            "text/plain": [
              "<Figure size 432x288 with 1 Axes>"
            ]
          },
          "metadata": {
            "tags": [],
            "needs_background": "light"
          }
        }
      ]
    },
    {
      "cell_type": "markdown",
      "metadata": {
        "id": "rRMi75qewYXn",
        "colab_type": "text"
      },
      "source": [
        "# **DECISION TREE CLASSIFIER WITH DEPTH =3**"
      ]
    },
    {
      "cell_type": "code",
      "metadata": {
        "id": "FnK7x5owrBI1",
        "colab_type": "code",
        "colab": {}
      },
      "source": [
        "from sklearn.tree import DecisionTreeClassifier\n",
        "from sklearn import tree\n",
        "clf = DecisionTreeClassifier(random_state=42,max_depth=3)"
      ],
      "execution_count": 43,
      "outputs": []
    },
    {
      "cell_type": "code",
      "metadata": {
        "id": "orFtfpcmvrUn",
        "colab_type": "code",
        "colab": {
          "base_uri": "https://localhost:8080/",
          "height": 34
        },
        "outputId": "e0a18c7f-76f8-4927-9ce9-b0d752b0bb65"
      },
      "source": [
        "clf = clf.fit(X_train, y_train)\n",
        "prefict=clf.predict(X_test)\n",
        "accuracy_score(prefict,y_test)\n",
        "# tree.plot_tree(clf) "
      ],
      "execution_count": 44,
      "outputs": [
        {
          "output_type": "execute_result",
          "data": {
            "text/plain": [
              "0.8516701264389508"
            ]
          },
          "metadata": {
            "tags": []
          },
          "execution_count": 44
        }
      ]
    },
    {
      "cell_type": "code",
      "metadata": {
        "id": "bIjhGzkNMMVF",
        "colab_type": "code",
        "colab": {
          "base_uri": "https://localhost:8080/",
          "height": 442
        },
        "outputId": "2ea43caa-2c5b-4597-ccee-997bab31dea1"
      },
      "source": [
        "accu_score = accuracy_score(prefict,y_test)\n",
        "print(accu_score) \n",
        "f11 = f1_score(prefict,y_test,average=None)\n",
        "re = recall_score(prefict,y_test,average='weighted')\n",
        "cm = confusion_matrix(prefict,y_test)\n",
        "pr_sc = precision_score(prefict,y_test,average='weighted')\n",
        "clrp = classification_report(prefict,y_test)\n",
        "print(\"**********DECISION TREE WITH DEPTH = 3 ***********\")\n",
        "print(\"accuracy score \",accu_score)\n",
        "print(\"********************\")\n",
        "print(\"f1 score \",f11)\n",
        "print(\"********************\")\n",
        "print(\"recall score \",re)\n",
        "print(\"********************\")\n",
        "print(\"confusion matrix \",cm)\n",
        "print(\"********************\")\n",
        "print(\"precision score \",pr_sc)\n",
        "print(\"********************\")\n",
        "print(\"classification report \",clrp)\n",
        "\n",
        "fpr = dict()\n",
        "tpr = dict()\n",
        "roc_auc = dict()\n",
        "# for i in range(0,2):\n",
        "fpr, tpr,threshlod = roc_curve(prefict,y_test)\n",
        "roc_auc = auc(fpr, tpr)\n",
        "\n",
        "print(\"ROC_AUC \",roc_auc)\n",
        "print(\"FPR,TPR \",fpr,tpr)\n",
        "print(\"THRESHOLD \",threshlod)"
      ],
      "execution_count": 45,
      "outputs": [
        {
          "output_type": "stream",
          "text": [
            "0.8516701264389508\n",
            "**********DECISION TREE WITH DEPTH = 3 ***********\n",
            "accuracy score  0.8516701264389508\n",
            "********************\n",
            "f1 score  [0.91903585 0.11685393]\n",
            "********************\n",
            "recall score  0.8516701264389508\n",
            "********************\n",
            "confusion matrix  [[8922 1560]\n",
            " [  12  104]]\n",
            "********************\n",
            "precision score  0.98841014834711\n",
            "********************\n",
            "classification report                precision    recall  f1-score   support\n",
            "\n",
            "         0.0       1.00      0.85      0.92     10482\n",
            "         1.0       0.06      0.90      0.12       116\n",
            "\n",
            "    accuracy                           0.85     10598\n",
            "   macro avg       0.53      0.87      0.52     10598\n",
            "weighted avg       0.99      0.85      0.91     10598\n",
            "\n",
            "ROC_AUC  0.8738625821605512\n",
            "FPR,TPR  [0.         0.14882656 1.        ] [0.         0.89655172 1.        ]\n",
            "THRESHOLD  [2. 1. 0.]\n"
          ],
          "name": "stdout"
        }
      ]
    },
    {
      "cell_type": "markdown",
      "metadata": {
        "id": "UpSC7SI0wq5a",
        "colab_type": "text"
      },
      "source": [
        "# **DECISION TREE CLASSIFIER WITH DEPTH = 4**"
      ]
    },
    {
      "cell_type": "code",
      "metadata": {
        "id": "v-Bcxh9DvvRS",
        "colab_type": "code",
        "colab": {
          "base_uri": "https://localhost:8080/",
          "height": 442
        },
        "outputId": "06b1d615-ac0b-4e48-fb12-0cab46814d97"
      },
      "source": [
        "clf = DecisionTreeClassifier(random_state=42,max_depth=4)\n",
        "clf = clf.fit(X_train, y_train)\n",
        "prefict=clf.predict(X_test)\n",
        "accuracy_score(prefict,y_test)\n",
        "# tree.plot_tree(clf) \n",
        "\n",
        "\n",
        "accu_score = accuracy_score(prefict,y_test)\n",
        "print(accu_score) \n",
        "f11 = f1_score(prefict,y_test,average=None)\n",
        "re = recall_score(prefict,y_test,average='weighted')\n",
        "cm = confusion_matrix(prefict,y_test)\n",
        "pr_sc = precision_score(prefict,y_test,average='weighted')\n",
        "clrp = classification_report(prefict,y_test)\n",
        "print(\"**********DECISION TREE WITH DEPTH = 4 ***********\")\n",
        "print(\"accuracy score \",accu_score)\n",
        "print(\"********************\")\n",
        "print(\"f1 score \",f11)\n",
        "print(\"********************\")\n",
        "print(\"recall score \",re)\n",
        "print(\"********************\")\n",
        "print(\"confusion matrix \",cm)\n",
        "print(\"********************\")\n",
        "print(\"precision score \",pr_sc)\n",
        "print(\"********************\")\n",
        "print(\"classification report \",clrp)\n",
        "\n",
        "fpr_1 = dict()\n",
        "tpr_1 = dict()\n",
        "roc_auc_1 = dict()\n",
        "# for i in range(0,2):\n",
        "fpr_1, tpr_1,threshlod_1 = roc_curve(prefict,y_test)\n",
        "roc_auc_1 = auc(fpr_1, tpr_1)\n",
        "\n",
        "print(\"ROC_AUC \",roc_auc_1)\n",
        "print(\"FPR,TPR \",fpr_1,tpr_1)\n",
        "print(\"THRESHOLD \",threshlod_1)"
      ],
      "execution_count": 46,
      "outputs": [
        {
          "output_type": "stream",
          "text": [
            "0.851953198716739\n",
            "**********DECISION TREE WITH DEPTH = 4 ***********\n",
            "accuracy score  0.851953198716739\n",
            "********************\n",
            "f1 score  [0.91911954 0.12687813]\n",
            "********************\n",
            "recall score  0.851953198716739\n",
            "********************\n",
            "confusion matrix  [[8915 1550]\n",
            " [  19  114]]\n",
            "********************\n",
            "precision score  0.9862102085758705\n",
            "********************\n",
            "classification report                precision    recall  f1-score   support\n",
            "\n",
            "         0.0       1.00      0.85      0.92     10465\n",
            "         1.0       0.07      0.86      0.13       133\n",
            "\n",
            "    accuracy                           0.85     10598\n",
            "   macro avg       0.53      0.85      0.52     10598\n",
            "weighted avg       0.99      0.85      0.91     10598\n",
            "\n",
            "ROC_AUC  0.8545150501672242\n",
            "FPR,TPR  [0.         0.14811276 1.        ] [0.         0.85714286 1.        ]\n",
            "THRESHOLD  [2. 1. 0.]\n"
          ],
          "name": "stdout"
        }
      ]
    },
    {
      "cell_type": "markdown",
      "metadata": {
        "id": "szTc45cxw01k",
        "colab_type": "text"
      },
      "source": [
        "# **DECISION TREE CLASSIFIER WITH DEPTH =10**"
      ]
    },
    {
      "cell_type": "code",
      "metadata": {
        "id": "iOsrNWxujU0a",
        "colab_type": "code",
        "colab": {
          "base_uri": "https://localhost:8080/",
          "height": 442
        },
        "outputId": "1948a65e-4168-4700-92a5-6893a0a10fd0"
      },
      "source": [
        "clf = DecisionTreeClassifier(random_state=42,max_depth=10)\n",
        "clf = clf.fit(X_train, y_train)\n",
        "prefict=clf.predict(X_test)\n",
        "accuracy_score(prefict,y_test)\n",
        "# tree.plot_tree(clf) \n",
        "\n",
        "\n",
        "accu_score = accuracy_score(prefict,y_test)\n",
        "print(accu_score) \n",
        "f11 = f1_score(prefict,y_test,average=None)\n",
        "re = recall_score(prefict,y_test,average='weighted')\n",
        "cm = confusion_matrix(prefict,y_test)\n",
        "pr_sc = precision_score(prefict,y_test,average='weighted')\n",
        "clrp = classification_report(prefict,y_test)\n",
        "print(\"**********DECISION TREE WITH DEPTH = 10 ***********\")\n",
        "print(\"accuracy score \",accu_score)\n",
        "print(\"********************\")\n",
        "print(\"f1 score \",f11)\n",
        "print(\"********************\")\n",
        "print(\"recall score \",re)\n",
        "print(\"********************\")\n",
        "print(\"confusion matrix \",cm)\n",
        "print(\"********************\")\n",
        "print(\"precision score \",pr_sc)\n",
        "print(\"********************\")\n",
        "print(\"classification report \",clrp)\n",
        "\n",
        "fpr_2 = dict()\n",
        "tpr_2 = dict()\n",
        "roc_auc_2 = dict()\n",
        "# for i in range(0,2):\n",
        "fpr_2, tpr_2,threshlod_2 = roc_curve(prefict,y_test)\n",
        "roc_auc_2 = auc(fpr_2, tpr_2)\n",
        "\n",
        "print(\"ROC_AUC \",roc_auc_2)\n",
        "print(\"FPR,TPR \",fpr_2,tpr_2)\n",
        "print(\"THRESHOLD \",threshlod_2)"
      ],
      "execution_count": 47,
      "outputs": [
        {
          "output_type": "stream",
          "text": [
            "0.8509152670315154\n",
            "**********DECISION TREE WITH DEPTH = 10 ***********\n",
            "accuracy score  0.8509152670315154\n",
            "********************\n",
            "f1 score  [0.91759675 0.21859545]\n",
            "********************\n",
            "recall score  0.8509152670315154\n",
            "********************\n",
            "confusion matrix  [[8797 1443]\n",
            " [ 137  221]]\n",
            "********************\n",
            "precision score  0.955889770472657\n",
            "********************\n",
            "classification report                precision    recall  f1-score   support\n",
            "\n",
            "         0.0       0.98      0.86      0.92     10240\n",
            "         1.0       0.13      0.62      0.22       358\n",
            "\n",
            "    accuracy                           0.85     10598\n",
            "   macro avg       0.56      0.74      0.57     10598\n",
            "weighted avg       0.96      0.85      0.89     10598\n",
            "\n",
            "ROC_AUC  0.7382002335020951\n",
            "FPR,TPR  [0.         0.14091797 1.        ] [0.         0.61731844 1.        ]\n",
            "THRESHOLD  [2. 1. 0.]\n"
          ],
          "name": "stdout"
        }
      ]
    },
    {
      "cell_type": "markdown",
      "metadata": {
        "id": "2arPtpPYxA27",
        "colab_type": "text"
      },
      "source": [
        "# **ROC CURVE FOR DIFFERENT PRE-PRUNE DEPTH**"
      ]
    },
    {
      "cell_type": "markdown",
      "metadata": {
        "id": "4sHO0FVfF8Fg",
        "colab_type": "text"
      },
      "source": [
        "According to the below present ROC curve for pre-prune depth=2, AUC is 0.874 it means there is 87.4% chance that model will be able to distinguish between positive class and negative class."
      ]
    },
    {
      "cell_type": "code",
      "metadata": {
        "id": "tR5P366AjYLo",
        "colab_type": "code",
        "colab": {
          "base_uri": "https://localhost:8080/",
          "height": 295
        },
        "outputId": "a99f6ff6-d69c-4806-b079-56c5cd5b5c13"
      },
      "source": [
        "import matplotlib.pyplot as plt\n",
        "\n",
        "plt.figure()\n",
        "lw = 2\n",
        "plt.plot(fpr, tpr, color='darkorange',\n",
        "         lw=lw, label='ROC curve for DEPTH=2(area = %0.3f)' % roc_auc)\n",
        "\n",
        "plt.plot(fpr_1, tpr_1, color='darkgreen',\n",
        "         lw=lw, label='ROC curve for DEPTH=4(area = %0.3f)' % roc_auc_1)\n",
        "\n",
        "plt.plot(fpr_2, tpr_2, color='magenta',\n",
        "         lw=lw, label='ROC curve  for DEPTH=10(area = %0.3f)' % roc_auc_2)\n",
        "plt.plot([0, 1], [0, 1], color='navy', lw=lw, linestyle='--')\n",
        "plt.xlim([0.0, 1.0])\n",
        "plt.ylim([0.0, 1.05])\n",
        "plt.xlabel('False Positive Rate')\n",
        "plt.ylabel('True Positive Rate')\n",
        "plt.title('Receiver operating characteristic example')\n",
        "plt.legend(loc=\"lower right\")\n",
        "plt.show()"
      ],
      "execution_count": 48,
      "outputs": [
        {
          "output_type": "display_data",
          "data": {
            "image/png": "[encoded data removed]",
            "text/plain": [
              "<Figure size 432x288 with 1 Axes>"
            ]
          },
          "metadata": {
            "tags": [],
            "needs_background": "light"
          }
        }
      ]
    },
    {
      "cell_type": "markdown",
      "metadata": {
        "id": "Zo9BGWhqkBeS",
        "colab_type": "text"
      },
      "source": [
        "# **SECOND APPROACH: Using Year,month,date,latitude,longitude,depth as features**"
      ]
    },
    {
      "cell_type": "code",
      "metadata": {
        "id": "Bf_IYcnpyfWk",
        "colab_type": "code",
        "colab": {
          "base_uri": "https://localhost:8080/",
          "height": 255
        },
        "outputId": "5ad7cec2-d64d-43a5-b6bf-0f084bf3b17b"
      },
      "source": [
        "df33 = pd.concat([df22,df_year],axis=1)\n",
        "df44 = pd.concat([df33,df_date],axis=1)\n",
        "df55 = pd.concat([df44,df_month],axis=1)\n",
        "print(df55)"
      ],
      "execution_count": 49,
      "outputs": [
        {
          "output_type": "stream",
          "text": [
            "       DEPTH (km)   ISC  BCI  BDA  ...  longitude  years  date  month\n",
            "0        0.000000     0    0    0  ...      24.00  -2474     0      0\n",
            "1        0.000000     0    0    0  ...      24.00   -325     0      0\n",
            "2        0.000000     0    0    0  ...      33.72     25     0      0\n",
            "3       45.569867     0    0    0  ...      80.10     26    10      5\n",
            "4       80.000000     0    0    0  ...      97.00     26    10      5\n",
            "...           ...   ...  ...  ...  ...        ...    ...   ...    ...\n",
            "52984   10.000000     0    0    0  ...      78.40   2019    28      7\n",
            "52985   70.000000     0    0    0  ...      90.40   2019    28      7\n",
            "52986   22.000000     0    0    0  ...      86.50   2019    28      7\n",
            "52987   20.000000     0    0    0  ...      76.40   2019    29      7\n",
            "52988   10.000000     0    0    0  ...      72.80   2019    31      7\n",
            "\n",
            "[52989 rows x 44 columns]\n"
          ],
          "name": "stdout"
        }
      ]
    },
    {
      "cell_type": "code",
      "metadata": {
        "id": "1kFV_OCF61My",
        "colab_type": "code",
        "colab": {}
      },
      "source": [
        "from sklearn.model_selection import train_test_split\n",
        "X_train, X_test, y_train, y_test = train_test_split(df44, target_label, test_size=0.2, random_state=42)"
      ],
      "execution_count": 50,
      "outputs": []
    },
    {
      "cell_type": "markdown",
      "metadata": {
        "id": "Eq2TJIH0xaJn",
        "colab_type": "text"
      },
      "source": [
        "# **KNN CLASSIFIER WITH K = 3,5,7**"
      ]
    },
    {
      "cell_type": "code",
      "metadata": {
        "id": "HFL34MdV668L",
        "colab_type": "code",
        "colab": {
          "base_uri": "https://localhost:8080/",
          "height": 68
        },
        "outputId": "1b5c5080-ccc0-4819-9ef1-308ac151a508"
      },
      "source": [
        "from sklearn.neighbors import KNeighborsClassifier\n",
        "\n",
        "model = KNeighborsClassifier(n_neighbors=3)\n",
        "\n",
        "# Train the model using the training sets\n",
        "model.fit(X_train,y_train)"
      ],
      "execution_count": 51,
      "outputs": [
        {
          "output_type": "execute_result",
          "data": {
            "text/plain": [
              "KNeighborsClassifier(algorithm='auto', leaf_size=30, metric='minkowski',\n",
              "                     metric_params=None, n_jobs=None, n_neighbors=3, p=2,\n",
              "                     weights='uniform')"
            ]
          },
          "metadata": {
            "tags": []
          },
          "execution_count": 51
        }
      ]
    },
    {
      "cell_type": "code",
      "metadata": {
        "id": "GHT6XpwF6-cq",
        "colab_type": "code",
        "colab": {}
      },
      "source": [
        "predicted=model.predict(X_test)"
      ],
      "execution_count": 52,
      "outputs": []
    },
    {
      "cell_type": "code",
      "metadata": {
        "id": "O_hyv_xUUiT9",
        "colab_type": "code",
        "colab": {
          "base_uri": "https://localhost:8080/",
          "height": 391
        },
        "outputId": "2b30aa1c-1bcf-4518-9aea-642b47978228"
      },
      "source": [
        "accu_score = accuracy_score(predicted,y_test,normalize=True)\n",
        "print(accu_score) \n",
        "f11 = f1_score(predicted,y_test,average=None)\n",
        "re = recall_score(predicted,y_test,average='weighted')\n",
        "cm = confusion_matrix(predicted,y_test)\n",
        "pr_sc = precision_score(predicted,y_test,average='weighted')\n",
        "clrp = classification_report(predicted,y_test)\n",
        "print(\"**********KNN WITH K = 3 ***********\")\n",
        "print(\"accuracy score \",accu_score)\n",
        "print(\"********************\")\n",
        "print(\"f1 score \",f11)\n",
        "print(\"********************\")\n",
        "print(\"recall score \",re)\n",
        "print(\"********************\")\n",
        "print(\"confusion matrix \",cm)\n",
        "print(\"********************\")\n",
        "print(\"precision score \",pr_sc)\n",
        "print(\"********************\")\n",
        "print(\"classification report \",clrp)"
      ],
      "execution_count": 53,
      "outputs": [
        {
          "output_type": "stream",
          "text": [
            "0.8455368937535384\n",
            "**********KNN WITH K = 3 ***********\n",
            "accuracy score  0.8455368937535384\n",
            "********************\n",
            "f1 score  [0.91124966 0.40494366]\n",
            "********************\n",
            "recall score  0.8455368937535384\n",
            "********************\n",
            "confusion matrix  [[8404 1107]\n",
            " [ 530  557]]\n",
            "********************\n",
            "precision score  0.8785268601528194\n",
            "********************\n",
            "classification report                precision    recall  f1-score   support\n",
            "\n",
            "         0.0       0.94      0.88      0.91      9511\n",
            "         1.0       0.33      0.51      0.40      1087\n",
            "\n",
            "    accuracy                           0.85     10598\n",
            "   macro avg       0.64      0.70      0.66     10598\n",
            "weighted avg       0.88      0.85      0.86     10598\n",
            "\n"
          ],
          "name": "stdout"
        }
      ]
    },
    {
      "cell_type": "code",
      "metadata": {
        "id": "-psaBwp2Ujvq",
        "colab_type": "code",
        "colab": {
          "base_uri": "https://localhost:8080/",
          "height": 68
        },
        "outputId": "c5829649-4ad9-40e3-ffe9-0ecc2775a416"
      },
      "source": [
        "y_test=y_test.to_numpy()\n",
        "fpr = dict()\n",
        "tpr = dict()\n",
        "roc_auc = dict()\n",
        "# for i in range(0,2):\n",
        "fpr, tpr,threshlod = roc_curve(y_test, predicted)\n",
        "roc_auc = auc(fpr, tpr)\n",
        "\n",
        "print(\"roc_auc \",roc_auc)\n",
        "print(\"fpr,tpr \",fpr,tpr)\n",
        "print(\"threshold \",threshlod)"
      ],
      "execution_count": 54,
      "outputs": [
        {
          "output_type": "stream",
          "text": [
            "roc_auc  0.6377058229365776\n",
            "fpr,tpr  [0.         0.05932393 1.        ] [0.         0.33473558 1.        ]\n",
            "threshold  [2. 1. 0.]\n"
          ],
          "name": "stdout"
        }
      ]
    },
    {
      "cell_type": "code",
      "metadata": {
        "id": "N_g3imzVUwe-",
        "colab_type": "code",
        "colab": {
          "base_uri": "https://localhost:8080/",
          "height": 442
        },
        "outputId": "efa0a5a3-0e3a-4677-e8f2-88993f56a196"
      },
      "source": [
        "from sklearn.neighbors import KNeighborsClassifier\n",
        "\n",
        "model = KNeighborsClassifier(n_neighbors=5)\n",
        "\n",
        "# Train the model using the training sets\n",
        "model.fit(X_train,y_train)\n",
        "predicted=model.predict(X_test)\n",
        "from sklearn.metrics import accuracy_score\n",
        "# print(accuracy_score(predicted,y_test))\n",
        "accu_score = accuracy_score(predicted,y_test,normalize=True)\n",
        "print(accu_score) \n",
        "f11 = f1_score(predicted,y_test,average=None)\n",
        "re = recall_score(predicted,y_test,average='weighted')\n",
        "cm = confusion_matrix(predicted,y_test)\n",
        "pr_sc = precision_score(predicted,y_test,average='weighted')\n",
        "clrp = classification_report(predicted,y_test)\n",
        "print(\"**********KNN WITH K = 5***********\")\n",
        "print(\"accuracy score \",accu_score)\n",
        "print(\"********************\")\n",
        "print(\"f1 score \",f11)\n",
        "print(\"********************\")\n",
        "print(\"recall score \",re)\n",
        "print(\"********************\")\n",
        "print(\"confusion matrix \",cm)\n",
        "print(\"********************\")\n",
        "print(\"precision score \",pr_sc)\n",
        "print(\"********************\")\n",
        "print(\"classification report \",clrp)\n",
        "\n",
        "fpr_1 = dict()\n",
        "tpr_1 = dict()\n",
        "roc_auc_1 = dict()\n",
        "# for i in range(0,2):\n",
        "fpr_1, tpr_1,threshlod_1 = roc_curve(y_test, predicted)\n",
        "roc_auc_1 = auc(fpr_1, tpr_1)\n",
        "\n",
        "print(\"roc_auc \",roc_auc_1)\n",
        "print(\"fpr,tpr \",fpr_1,tpr_1)\n",
        "print(\"threshold \",threshlod_1)"
      ],
      "execution_count": 55,
      "outputs": [
        {
          "output_type": "stream",
          "text": [
            "0.8564823551613512\n",
            "**********KNN WITH K = 5***********\n",
            "accuracy score  0.8564823551613512\n",
            "********************\n",
            "f1 score  [0.91845816 0.40188753]\n",
            "********************\n",
            "recall score  0.8564823551613512\n",
            "********************\n",
            "confusion matrix  [[8566 1153]\n",
            " [ 368  511]]\n",
            "********************\n",
            "precision score  0.9047554626239538\n",
            "********************\n",
            "classification report                precision    recall  f1-score   support\n",
            "\n",
            "         0.0       0.96      0.88      0.92      9719\n",
            "         1.0       0.31      0.58      0.40       879\n",
            "\n",
            "    accuracy                           0.86     10598\n",
            "   macro avg       0.63      0.73      0.66     10598\n",
            "weighted avg       0.90      0.86      0.88     10598\n",
            "\n",
            "roc_auc  0.6329501951275164\n",
            "fpr,tpr  [0.         0.04119096 1.        ] [0.         0.30709135 1.        ]\n",
            "threshold  [2. 1. 0.]\n"
          ],
          "name": "stdout"
        }
      ]
    },
    {
      "cell_type": "code",
      "metadata": {
        "id": "MUA2xqBzVIi8",
        "colab_type": "code",
        "colab": {
          "base_uri": "https://localhost:8080/",
          "height": 442
        },
        "outputId": "eed8c2e5-d31e-4440-b2e2-b417c1e62d20"
      },
      "source": [
        "from sklearn.neighbors import KNeighborsClassifier\n",
        "\n",
        "model = KNeighborsClassifier(n_neighbors=7)\n",
        "\n",
        "# Train the model using the training sets\n",
        "model.fit(X_train,y_train)\n",
        "predicted=model.predict(X_test)\n",
        "from sklearn.metrics import accuracy_score\n",
        "# print(accuracy_score(predicted,y_test))\n",
        "accu_score = accuracy_score(predicted,y_test,normalize=True)\n",
        "print(accu_score) \n",
        "f11 = f1_score(predicted,y_test,average=None)\n",
        "re = recall_score(predicted,y_test,average='weighted')\n",
        "cm = confusion_matrix(predicted,y_test)\n",
        "pr_sc = precision_score(predicted,y_test,average='weighted')\n",
        "clrp = classification_report(predicted,y_test)\n",
        "print(\"**********KNN WITH K = 7 ***********\")\n",
        "print(\"accuracy score \",accu_score)\n",
        "print(\"********************\")\n",
        "print(\"f1 score \",f11)\n",
        "print(\"********************\")\n",
        "print(\"recall score \",re)\n",
        "print(\"********************\")\n",
        "print(\"confusion matrix \",cm)\n",
        "print(\"********************\")\n",
        "print(\"precision score \",pr_sc)\n",
        "print(\"********************\")\n",
        "print(\"classification report \",clrp)\n",
        "\n",
        "fpr_2 = dict()\n",
        "tpr_2 = dict()\n",
        "roc_auc_2 = dict()\n",
        "# for i in range(0,2):\n",
        "fpr_2, tpr_2,threshlod_2 = roc_curve(y_test, predicted)\n",
        "roc_auc_2 = auc(fpr_2, tpr_2)\n",
        "\n",
        "print(\"ROC_AUC \",roc_auc_2)\n",
        "print(\"FPR,TPR \",fpr_2,tpr_2)\n",
        "print(\"THRESHOLD \",threshlod_2)"
      ],
      "execution_count": 56,
      "outputs": [
        {
          "output_type": "stream",
          "text": [
            "0.8633704472541989\n",
            "**********KNN WITH K = 7 ***********\n",
            "accuracy score  0.8633704472541989\n",
            "********************\n",
            "f1 score  [0.92283918 0.40411523]\n",
            "********************\n",
            "recall score  0.8633704472541989\n",
            "********************\n",
            "confusion matrix  [[8659 1173]\n",
            " [ 275  491]]\n",
            "********************\n",
            "precision score  0.9204928898352249\n",
            "********************\n",
            "classification report                precision    recall  f1-score   support\n",
            "\n",
            "         0.0       0.97      0.88      0.92      9832\n",
            "         1.0       0.30      0.64      0.40       766\n",
            "\n",
            "    accuracy                           0.86     10598\n",
            "   macro avg       0.63      0.76      0.66     10598\n",
            "weighted avg       0.92      0.86      0.89     10598\n",
            "\n",
            "ROC_AUC  0.6321454152029412\n",
            "FPR,TPR  [0.         0.03078128 1.        ] [0.         0.29507212 1.        ]\n",
            "THRESHOLD  [2. 1. 0.]\n"
          ],
          "name": "stdout"
        }
      ]
    },
    {
      "cell_type": "code",
      "metadata": {
        "id": "cik72ecP7BPB",
        "colab_type": "code",
        "colab": {}
      },
      "source": [
        "# from sklearn.metrics import accuracy_score\n",
        "# print(accuracy_score(predicted,y_test))"
      ],
      "execution_count": 57,
      "outputs": []
    },
    {
      "cell_type": "code",
      "metadata": {
        "id": "BKp9yu-kkTjQ",
        "colab_type": "code",
        "colab": {}
      },
      "source": [
        "# y_test=y_test.to_numpy()"
      ],
      "execution_count": 58,
      "outputs": []
    },
    {
      "cell_type": "code",
      "metadata": {
        "id": "8_RH_JcxonTt",
        "colab_type": "code",
        "colab": {}
      },
      "source": [
        "# fpr = dict()\n",
        "# tpr = dict()\n",
        "# roc_auc = dict()\n",
        "# # for i in range(0,2):\n",
        "# fpr, tpr,threshlod = roc_curve(y_test, predicted)\n",
        "# roc_auc = auc(fpr, tpr)"
      ],
      "execution_count": 59,
      "outputs": []
    },
    {
      "cell_type": "markdown",
      "metadata": {
        "id": "yfd8rFWkxjXC",
        "colab_type": "text"
      },
      "source": [
        "# **ROC CURVE FOR DIFFERENT VALUES OF K**"
      ]
    },
    {
      "cell_type": "markdown",
      "metadata": {
        "id": "v-DNNnS6GMMP",
        "colab_type": "text"
      },
      "source": [
        "According to the below present ROC curve for k=3, AUC is 0.638 it means there is 63.8% chance that model will be able to distinguish between positive class and negative class."
      ]
    },
    {
      "cell_type": "code",
      "metadata": {
        "id": "PksYko-Uota9",
        "colab_type": "code",
        "colab": {
          "base_uri": "https://localhost:8080/",
          "height": 295
        },
        "outputId": "40246656-d57e-4f5d-fb90-12c039ca17d0"
      },
      "source": [
        "import matplotlib.pyplot as plt\n",
        "\n",
        "plt.figure()\n",
        "lw = 2\n",
        "plt.plot(fpr, tpr, color='darkorange',\n",
        "         lw=lw, label='ROC curve for k=3(area = %0.3f)' % roc_auc)\n",
        "\n",
        "plt.plot(fpr_1, tpr_1, color='darkgreen',\n",
        "         lw=lw, label='ROC curve for k=5(area = %0.3f)' % roc_auc_1)\n",
        "\n",
        "plt.plot(fpr_2, tpr_2, color='magenta',\n",
        "         lw=lw, label='ROC curve  for k=7(area = %0.3f)' % roc_auc_2)\n",
        "plt.plot([0, 1], [0, 1], color='navy', lw=lw, linestyle='--')\n",
        "plt.xlim([0.0, 1.0])\n",
        "plt.ylim([0.0, 1.05])\n",
        "plt.xlabel('False Positive Rate')\n",
        "plt.ylabel('True Positive Rate')\n",
        "plt.title('Receiver operating characteristic example')\n",
        "plt.legend(loc=\"lower right\")\n",
        "plt.show()"
      ],
      "execution_count": 60,
      "outputs": [
        {
          "output_type": "display_data",
          "data": {
            "image/png": "[encoded data removed]",
            "text/plain": [
              "<Figure size 432x288 with 1 Axes>"
            ]
          },
          "metadata": {
            "tags": [],
            "needs_background": "light"
          }
        }
      ]
    },
    {
      "cell_type": "markdown",
      "metadata": {
        "id": "0naZMcwx2VMa",
        "colab_type": "text"
      },
      "source": [
        "# **DECISION TREE WITH PRE-PRUNE DEPTH = 2,4,10**"
      ]
    },
    {
      "cell_type": "code",
      "metadata": {
        "id": "G_yWkQyV7EFH",
        "colab_type": "code",
        "colab": {}
      },
      "source": [
        "from sklearn.tree import DecisionTreeClassifier\n",
        "from sklearn import tree\n",
        "clf = DecisionTreeClassifier(random_state=42,max_depth=2)"
      ],
      "execution_count": 61,
      "outputs": []
    },
    {
      "cell_type": "code",
      "metadata": {
        "id": "nTCF6OpV7HDA",
        "colab_type": "code",
        "colab": {
          "base_uri": "https://localhost:8080/",
          "height": 34
        },
        "outputId": "136610fe-c7ec-49a1-cc09-1dab6dfc5b69"
      },
      "source": [
        "clf = clf.fit(X_train, y_train)\n",
        "prefict=clf.predict(X_test)\n",
        "accuracy_score(prefict,y_test)"
      ],
      "execution_count": 62,
      "outputs": [
        {
          "output_type": "execute_result",
          "data": {
            "text/plain": [
              "0.8632760898282695"
            ]
          },
          "metadata": {
            "tags": []
          },
          "execution_count": 62
        }
      ]
    },
    {
      "cell_type": "code",
      "metadata": {
        "id": "S7PYdsxRo9nm",
        "colab_type": "code",
        "colab": {}
      },
      "source": [
        "# y_test=y_test.to_numpy()"
      ],
      "execution_count": 63,
      "outputs": []
    },
    {
      "cell_type": "code",
      "metadata": {
        "id": "KMcJUPlZovqY",
        "colab_type": "code",
        "colab": {}
      },
      "source": [
        "\n",
        "fpr = dict()\n",
        "tpr = dict()\n",
        "roc_auc = dict()\n",
        "# for i in range(0,2):\n",
        "fpr, tpr,threshlod = roc_curve(y_test, prefict)\n",
        "roc_auc = auc(fpr, tpr)"
      ],
      "execution_count": 64,
      "outputs": []
    },
    {
      "cell_type": "code",
      "metadata": {
        "id": "BPhSskJKov1U",
        "colab_type": "code",
        "colab": {
          "base_uri": "https://localhost:8080/",
          "height": 68
        },
        "outputId": "c8fb732b-fba5-42b8-e188-73734abae984"
      },
      "source": [
        "print(roc_auc)\n",
        "print(fpr,tpr)\n",
        "print(threshlod)"
      ],
      "execution_count": 65,
      "outputs": [
        {
          "output_type": "stream",
          "text": [
            "0.6276881828924936\n",
            "[0.         0.02887844 1.        ] [0.         0.28425481 1.        ]\n",
            "[2. 1. 0.]\n"
          ],
          "name": "stdout"
        }
      ]
    },
    {
      "cell_type": "code",
      "metadata": {
        "id": "2AfGmKT6Vl2x",
        "colab_type": "code",
        "colab": {
          "base_uri": "https://localhost:8080/",
          "height": 442
        },
        "outputId": "914531d4-4a31-4cc0-a7a0-15843e7b9549"
      },
      "source": [
        "clf = DecisionTreeClassifier(random_state=42,max_depth=4)\n",
        "clf = clf.fit(X_train, y_train)\n",
        "prefict=clf.predict(X_test)\n",
        "accuracy_score(prefict,y_test)\n",
        "# tree.plot_tree(clf) \n",
        "\n",
        "\n",
        "accu_score = accuracy_score(prefict,y_test)\n",
        "print(accu_score) \n",
        "f11 = f1_score(prefict,y_test,average=None)\n",
        "re = recall_score(prefict,y_test,average='weighted')\n",
        "cm = confusion_matrix(prefict,y_test)\n",
        "pr_sc = precision_score(prefict,y_test,average='weighted')\n",
        "clrp = classification_report(prefict,y_test)\n",
        "print(\"**********DECISION TREE WITH DEPTH = 4 ***********\")\n",
        "print(\"accuracy score \",accu_score)\n",
        "print(\"********************\")\n",
        "print(\"f1 score \",f11)\n",
        "print(\"********************\")\n",
        "print(\"recall score \",re)\n",
        "print(\"********************\")\n",
        "print(\"confusion matrix \",cm)\n",
        "print(\"********************\")\n",
        "print(\"precision score \",pr_sc)\n",
        "print(\"********************\")\n",
        "print(\"classification report \",clrp)\n",
        "\n",
        "fpr_1 = dict()\n",
        "tpr_1 = dict()\n",
        "roc_auc_1 = dict()\n",
        "# for i in range(0,2):\n",
        "fpr_1, tpr_1,threshlod_1 = roc_curve(prefict,y_test)\n",
        "roc_auc_1 = auc(fpr_1, tpr_1)\n",
        "\n",
        "print(\"ROC_AUC \",roc_auc_1)\n",
        "print(\"FPR,TPR \",fpr_1,tpr_1)\n",
        "print(\"THRESHOLD \",threshlod_1)"
      ],
      "execution_count": 97,
      "outputs": [
        {
          "output_type": "stream",
          "text": [
            "0.8721456878656351\n",
            "**********DECISION TREE WITH DEPTH = 4 ***********\n",
            "accuracy score  0.8721456878656351\n",
            "********************\n",
            "f1 score  [0.92910584 0.34949592]\n",
            "********************\n",
            "recall score  0.8721456878656351\n",
            "********************\n",
            "confusion matrix  [[8879 1300]\n",
            " [  55  364]]\n",
            "********************\n",
            "precision score  0.9631998216682671\n",
            "********************\n",
            "classification report                precision    recall  f1-score   support\n",
            "\n",
            "         0.0       0.99      0.87      0.93     10179\n",
            "         1.0       0.22      0.87      0.35       419\n",
            "\n",
            "    accuracy                           0.87     10598\n",
            "   macro avg       0.61      0.87      0.64     10598\n",
            "weighted avg       0.96      0.87      0.91     10598\n",
            "\n",
            "ROC_AUC  0.8705105813574252\n",
            "FPR,TPR  [0.         0.12771392 1.        ] [0.         0.86873508 1.        ]\n",
            "THRESHOLD  [2. 1. 0.]\n"
          ],
          "name": "stdout"
        }
      ]
    },
    {
      "cell_type": "code",
      "metadata": {
        "id": "xAmWvy2USQuw",
        "colab_type": "code",
        "colab": {}
      },
      "source": [
        "# y_test=y_test.to_numpy()"
      ],
      "execution_count": 67,
      "outputs": []
    },
    {
      "cell_type": "code",
      "metadata": {
        "id": "A_ODqIzUVm78",
        "colab_type": "code",
        "colab": {
          "base_uri": "https://localhost:8080/",
          "height": 442
        },
        "outputId": "9401b6fa-8cde-46bc-863e-31741c84e2e8"
      },
      "source": [
        "clf = DecisionTreeClassifier(random_state=42,max_depth=10)\n",
        "clf = clf.fit(X_train, y_train)\n",
        "prefict=clf.predict(X_test)\n",
        "from sklearn.metrics import accuracy_score,f1_score,recall_score,confusion_matrix,precision_score,classification_report\n",
        "accuracy_score(prefict,y_test)\n",
        "# tree.plot_tree(clf) \n",
        "\n",
        "\n",
        "accu_score = accuracy_score(prefict,y_test)\n",
        "print(accu_score) \n",
        "f11 = f1_score(prefict,y_test,average=None)\n",
        "re = recall_score(prefict,y_test,average='weighted')\n",
        "cm = confusion_matrix(prefict,y_test)\n",
        "pr_sc = precision_score(prefict,y_test,average='weighted')\n",
        "clrp = classification_report(prefict,y_test)\n",
        "print(\"**********DECISION TREE WITH DEPTH = 10 ***********\")\n",
        "print(\"accuracy score \",accu_score)\n",
        "print(\"********************\")\n",
        "print(\"f1 score \",f11)\n",
        "print(\"********************\")\n",
        "print(\"recall score \",re)\n",
        "print(\"********************\")\n",
        "print(\"confusion matrix \",cm)\n",
        "print(\"********************\")\n",
        "print(\"precision score \",pr_sc)\n",
        "print(\"********************\")\n",
        "print(\"classification report \",clrp)\n",
        "from sklearn.metrics import roc_curve, auc\n",
        "from sklearn.metrics import roc_auc_score\n",
        "\n",
        "fpr_2 = dict()\n",
        "tpr_2 = dict()\n",
        "roc_auc_2 = dict()\n",
        "# for i in range(0,2):\n",
        "fpr_2, tpr_2,threshlod_2 = roc_curve(prefict,y_test)\n",
        "roc_auc_2 = auc(fpr_2, tpr_2)\n",
        "\n",
        "print(\"ROC_AUC \",roc_auc_2)\n",
        "print(\"FPR,TPR \",fpr_2,tpr_2)\n",
        "print(\"THRESHOLD \",threshlod_2)"
      ],
      "execution_count": 68,
      "outputs": [
        {
          "output_type": "stream",
          "text": [
            "0.873938478958294\n",
            "**********DECISION TREE WITH DEPTH = 10 ***********\n",
            "accuracy score  0.873938478958294\n",
            "********************\n",
            "f1 score  [0.92928972 0.4196351 ]\n",
            "********************\n",
            "recall score  0.873938478958294\n",
            "********************\n",
            "confusion matrix  [[8779 1181]\n",
            " [ 155  483]]\n",
            "********************\n",
            "precision score  0.9409688775853687\n",
            "********************\n",
            "classification report                precision    recall  f1-score   support\n",
            "\n",
            "         0.0       0.98      0.88      0.93      9960\n",
            "         1.0       0.29      0.76      0.42       638\n",
            "\n",
            "    accuracy                           0.87     10598\n",
            "   macro avg       0.64      0.82      0.67     10598\n",
            "weighted avg       0.94      0.87      0.90     10598\n",
            "\n",
            "ROC_AUC  0.8192394971736476\n",
            "FPR,TPR  [0.        0.1185743 1.       ] [0.         0.75705329 1.        ]\n",
            "THRESHOLD  [2. 1. 0.]\n"
          ],
          "name": "stdout"
        }
      ]
    },
    {
      "cell_type": "markdown",
      "metadata": {
        "id": "wMbQS-iaGZVb",
        "colab_type": "text"
      },
      "source": [
        "**According to the below present ROC curve for pre-prune depth=4, AUC is 0.871 it means there is 87.1% chance that model will be able to distinguish between positive class and negative class.**"
      ]
    },
    {
      "cell_type": "code",
      "metadata": {
        "id": "qcniXeswowBd",
        "colab_type": "code",
        "colab": {
          "base_uri": "https://localhost:8080/",
          "height": 295
        },
        "outputId": "ef9de0ec-6657-49c2-92f3-65366f01313b"
      },
      "source": [
        "import matplotlib.pyplot as plt\n",
        "\n",
        "plt.figure()\n",
        "lw = 2\n",
        "plt.plot(fpr, tpr, color='darkorange',\n",
        "         lw=lw, label='ROC curve for DEPTH=2(area = %0.3f)' % roc_auc)\n",
        "\n",
        "plt.plot(fpr_1, tpr_1, color='darkgreen',\n",
        "         lw=lw, label='ROC curve for DEPTH=4(area = %0.3f)' % roc_auc_1)\n",
        "\n",
        "plt.plot(fpr_2, tpr_2, color='magenta',\n",
        "         lw=lw, label='ROC curve  for DEPTH=10(area = %0.3f)' % roc_auc_2)\n",
        "plt.plot([0, 1], [0, 1], color='navy', lw=lw, linestyle='--')\n",
        "plt.xlim([0.0, 1.0])\n",
        "plt.ylim([0.0, 1.05])\n",
        "plt.xlabel('False Positive Rate')\n",
        "plt.ylabel('True Positive Rate')\n",
        "plt.title('Receiver operating characteristic example')\n",
        "plt.legend(loc=\"lower right\")\n",
        "plt.show()"
      ],
      "execution_count": 98,
      "outputs": [
        {
          "output_type": "display_data",
          "data": {
            "image/png": "[encoded data removed]",
            "text/plain": [
              "<Figure size 432x288 with 1 Axes>"
            ]
          },
          "metadata": {
            "tags": [],
            "needs_background": "light"
          }
        }
      ]
    },
    {
      "cell_type": "markdown",
      "metadata": {
        "id": "m9usSBxP3Jy8",
        "colab_type": "text"
      },
      "source": [
        "# **FEATURE PROCESSING , USING DATE,MONTH,YEAR CREATING A NEW FEATURE TIMESTAMP**"
      ]
    },
    {
      "cell_type": "markdown",
      "metadata": {
        "id": "b0q0voq-GkVl",
        "colab_type": "text"
      },
      "source": [
        "**date month and year has to be in yyyymmdd format for conversion into timestamp.**"
      ]
    },
    {
      "cell_type": "code",
      "metadata": {
        "id": "W9O4FO977KKr",
        "colab_type": "code",
        "colab": {}
      },
      "source": [
        "\n",
        "import math\n",
        "date = dat.tolist()\n",
        "date_str =[]\n",
        "# hel = []\n",
        "for dt in date:\n",
        "  if(math.isnan(dt)):\n",
        "    # print(\"hey\")\n",
        "    date_str.append('00')\n",
        "  else:\n",
        "    date_int = int(dt)\n",
        "    date_s = str(date_int)\n",
        "    if(len(date_s)==1):\n",
        "      date_str.append('0'+date_s)\n",
        "    else:\n",
        "      date_str.append(str(date_int))"
      ],
      "execution_count": 70,
      "outputs": []
    },
    {
      "cell_type": "code",
      "metadata": {
        "id": "-oYGxasbaWEr",
        "colab_type": "code",
        "colab": {
          "base_uri": "https://localhost:8080/",
          "height": 34
        },
        "outputId": "447443e3-723e-4a7e-cb86-3c61199a1718"
      },
      "source": [
        "year = df55['years'].tolist()\n",
        "year_str =[]\n",
        "for yr in year:\n",
        "  year_int = int(yr)\n",
        "  year_str.append(str(year_int))\n",
        "\n",
        "print(len(year_str))"
      ],
      "execution_count": 71,
      "outputs": [
        {
          "output_type": "stream",
          "text": [
            "52989\n"
          ],
          "name": "stdout"
        }
      ]
    },
    {
      "cell_type": "code",
      "metadata": {
        "id": "aZ6nO3OQaaGA",
        "colab_type": "code",
        "colab": {
          "base_uri": "https://localhost:8080/",
          "height": 34
        },
        "outputId": "8e43cc78-3a40-4c34-c9a5-0da411a3078d"
      },
      "source": [
        "month = mont.tolist()\n",
        "month_str=[]\n",
        "heal = []\n",
        "for mt in month:\n",
        "  if(type(mt)==int):\n",
        "    month_s = str(mt)\n",
        "    if(len(month_s)==1):\n",
        "      month_str.append('0'+month_s)\n",
        "    else:\n",
        "      month_str.append(month_s)\n",
        "  else:\n",
        "    heal.append(1)\n",
        "    month_str.append(\"00\")\n",
        "\n",
        "print(len(month_str))"
      ],
      "execution_count": 72,
      "outputs": [
        {
          "output_type": "stream",
          "text": [
            "52989\n"
          ],
          "name": "stdout"
        }
      ]
    },
    {
      "cell_type": "code",
      "metadata": {
        "id": "nJigRsBPaeiv",
        "colab_type": "code",
        "colab": {}
      },
      "source": [
        "final_date=[]\n",
        "for i in range(0,len(date)):\n",
        "  s = year_str[i]+'-'+month_str[i] + '-'+date_str[i]\n",
        "  final_date.append(s)"
      ],
      "execution_count": 73,
      "outputs": []
    },
    {
      "cell_type": "markdown",
      "metadata": {
        "id": "wBI9MYwWG58L",
        "colab_type": "text"
      },
      "source": [
        "## **using numpy dateTime for converting date,month,year to timeStamp**"
      ]
    },
    {
      "cell_type": "code",
      "metadata": {
        "id": "d0TJnMucaf1d",
        "colab_type": "code",
        "colab": {}
      },
      "source": [
        "import numpy as np\n",
        "from datetime import datetime\n",
        "dt = datetime.utcnow()\n",
        "timeStamp_=[]\n",
        "\n",
        "def get_timestamp(date_str):\n",
        "  dt64 = np.datetime64(dt)\n",
        "  date_str = date_str.strip()\n",
        "    # Remove + sign\n",
        "  if date_str[0] == '+':\n",
        "      date_str = date_str[1:]\n",
        "    # Remove missing month/day\n",
        "  date_str = date_str.split('-00', maxsplit=1)[0]\n",
        "  if(date_str == \"1995-06-31\"):\n",
        "      date_str = '1995-06-30'\n",
        "  elif(date_str == \"2015-11-31\"):\n",
        "      date_str = \"2015-11-30\"\n",
        "  ts = (dt64 - np.datetime64(date_str)) / np.timedelta64(1, 's')\n",
        "  return ts\n",
        "\n",
        "\n",
        "for date1 in final_date:\n",
        "  ts1 = get_timestamp(date1)\n",
        "  timeStamp_.append(ts1)"
      ],
      "execution_count": 74,
      "outputs": []
    },
    {
      "cell_type": "code",
      "metadata": {
        "id": "xiLHVCJHarYG",
        "colab_type": "code",
        "colab": {}
      },
      "source": [
        "df66  = df55.drop(['date','month','years'],axis=1)"
      ],
      "execution_count": 75,
      "outputs": []
    },
    {
      "cell_type": "code",
      "metadata": {
        "id": "zBnwdQNaauwt",
        "colab_type": "code",
        "colab": {}
      },
      "source": [
        "df_timestamp =  pd.DataFrame(timeStamp_,columns=['timestamp'])"
      ],
      "execution_count": 76,
      "outputs": []
    },
    {
      "cell_type": "code",
      "metadata": {
        "id": "eO7kcraHa0Q0",
        "colab_type": "code",
        "colab": {
          "base_uri": "https://localhost:8080/",
          "height": 473
        },
        "outputId": "27675c50-84fe-49d7-fdb2-0dc0bf1a9346"
      },
      "source": [
        "final_df = pd.concat([df66,df_timestamp],axis=1)\n",
        "final_df"
      ],
      "execution_count": 77,
      "outputs": [
        {
          "output_type": "execute_result",
          "data": {
            "text/html": [
              "<div>\n",
              "<style scoped>\n",
              "    .dataframe tbody tr th:only-of-type {\n",
              "        vertical-align: middle;\n",
              "    }\n",
              "\n",
              "    .dataframe tbody tr th {\n",
              "        vertical-align: top;\n",
              "    }\n",
              "\n",
              "    .dataframe thead th {\n",
              "        text-align: right;\n",
              "    }\n",
              "</style>\n",
              "<table border=\"1\" class=\"dataframe\">\n",
              "  <thead>\n",
              "    <tr style=\"text-align: right;\">\n",
              "      <th></th>\n",
              "      <th>DEPTH (km)</th>\n",
              "      <th>ISC</th>\n",
              "      <th>BCI</th>\n",
              "      <th>BDA</th>\n",
              "      <th>BDA/CM</th>\n",
              "      <th>CHAN</th>\n",
              "      <th>CM/G-R</th>\n",
              "      <th>CM/ISS</th>\n",
              "      <th>CM/LEE</th>\n",
              "      <th>Dr STGR</th>\n",
              "      <th>G-R</th>\n",
              "      <th>G-R/BDA</th>\n",
              "      <th>G-R/CM</th>\n",
              "      <th>G-R/T-S</th>\n",
              "      <th>GERI</th>\n",
              "      <th>GSI</th>\n",
              "      <th>HRVD</th>\n",
              "      <th>IMD</th>\n",
              "      <th>ISC</th>\n",
              "      <th>ISR</th>\n",
              "      <th>ISS</th>\n",
              "      <th>ISS/T-S</th>\n",
              "      <th>J &amp; S</th>\n",
              "      <th>LEE</th>\n",
              "      <th>LEE/CM</th>\n",
              "      <th>LEE/T-S</th>\n",
              "      <th>MALIK</th>\n",
              "      <th>NEIC</th>\n",
              "      <th>NEIC / USGS</th>\n",
              "      <th>NGRI</th>\n",
              "      <th>OLD</th>\n",
              "      <th>PDE</th>\n",
              "      <th>PDE/T-S</th>\n",
              "      <th>RO</th>\n",
              "      <th>SHL</th>\n",
              "      <th>T-S</th>\n",
              "      <th>T-S/G-R</th>\n",
              "      <th>TAN</th>\n",
              "      <th>USGS</th>\n",
              "      <th>latitude</th>\n",
              "      <th>longitude</th>\n",
              "      <th>timestamp</th>\n",
              "    </tr>\n",
              "  </thead>\n",
              "  <tbody>\n",
              "    <tr>\n",
              "      <th>0</th>\n",
              "      <td>0.000000</td>\n",
              "      <td>0</td>\n",
              "      <td>0</td>\n",
              "      <td>0</td>\n",
              "      <td>0</td>\n",
              "      <td>0</td>\n",
              "      <td>0</td>\n",
              "      <td>0</td>\n",
              "      <td>0</td>\n",
              "      <td>1</td>\n",
              "      <td>0</td>\n",
              "      <td>0</td>\n",
              "      <td>0</td>\n",
              "      <td>0</td>\n",
              "      <td>0</td>\n",
              "      <td>0</td>\n",
              "      <td>0</td>\n",
              "      <td>0</td>\n",
              "      <td>0</td>\n",
              "      <td>0</td>\n",
              "      <td>0</td>\n",
              "      <td>0</td>\n",
              "      <td>0</td>\n",
              "      <td>0</td>\n",
              "      <td>0</td>\n",
              "      <td>0</td>\n",
              "      <td>0</td>\n",
              "      <td>0</td>\n",
              "      <td>0</td>\n",
              "      <td>0</td>\n",
              "      <td>0</td>\n",
              "      <td>0</td>\n",
              "      <td>0</td>\n",
              "      <td>0</td>\n",
              "      <td>0</td>\n",
              "      <td>0</td>\n",
              "      <td>0</td>\n",
              "      <td>0</td>\n",
              "      <td>0</td>\n",
              "      <td>71.0</td>\n",
              "      <td>24.00</td>\n",
              "      <td>1.418385e+11</td>\n",
              "    </tr>\n",
              "    <tr>\n",
              "      <th>1</th>\n",
              "      <td>0.000000</td>\n",
              "      <td>0</td>\n",
              "      <td>0</td>\n",
              "      <td>0</td>\n",
              "      <td>0</td>\n",
              "      <td>0</td>\n",
              "      <td>0</td>\n",
              "      <td>0</td>\n",
              "      <td>0</td>\n",
              "      <td>1</td>\n",
              "      <td>0</td>\n",
              "      <td>0</td>\n",
              "      <td>0</td>\n",
              "      <td>0</td>\n",
              "      <td>0</td>\n",
              "      <td>0</td>\n",
              "      <td>0</td>\n",
              "      <td>0</td>\n",
              "      <td>0</td>\n",
              "      <td>0</td>\n",
              "      <td>0</td>\n",
              "      <td>0</td>\n",
              "      <td>0</td>\n",
              "      <td>0</td>\n",
              "      <td>0</td>\n",
              "      <td>0</td>\n",
              "      <td>0</td>\n",
              "      <td>0</td>\n",
              "      <td>0</td>\n",
              "      <td>0</td>\n",
              "      <td>0</td>\n",
              "      <td>0</td>\n",
              "      <td>0</td>\n",
              "      <td>0</td>\n",
              "      <td>0</td>\n",
              "      <td>0</td>\n",
              "      <td>0</td>\n",
              "      <td>0</td>\n",
              "      <td>0</td>\n",
              "      <td>71.0</td>\n",
              "      <td>24.00</td>\n",
              "      <td>7.402258e+10</td>\n",
              "    </tr>\n",
              "    <tr>\n",
              "      <th>2</th>\n",
              "      <td>0.000000</td>\n",
              "      <td>0</td>\n",
              "      <td>0</td>\n",
              "      <td>0</td>\n",
              "      <td>0</td>\n",
              "      <td>0</td>\n",
              "      <td>0</td>\n",
              "      <td>0</td>\n",
              "      <td>0</td>\n",
              "      <td>1</td>\n",
              "      <td>0</td>\n",
              "      <td>0</td>\n",
              "      <td>0</td>\n",
              "      <td>0</td>\n",
              "      <td>0</td>\n",
              "      <td>0</td>\n",
              "      <td>0</td>\n",
              "      <td>0</td>\n",
              "      <td>0</td>\n",
              "      <td>0</td>\n",
              "      <td>0</td>\n",
              "      <td>0</td>\n",
              "      <td>0</td>\n",
              "      <td>0</td>\n",
              "      <td>0</td>\n",
              "      <td>0</td>\n",
              "      <td>0</td>\n",
              "      <td>0</td>\n",
              "      <td>0</td>\n",
              "      <td>0</td>\n",
              "      <td>0</td>\n",
              "      <td>0</td>\n",
              "      <td>0</td>\n",
              "      <td>0</td>\n",
              "      <td>0</td>\n",
              "      <td>0</td>\n",
              "      <td>0</td>\n",
              "      <td>0</td>\n",
              "      <td>0</td>\n",
              "      <td>72.9</td>\n",
              "      <td>33.72</td>\n",
              "      <td>6.297763e+10</td>\n",
              "    </tr>\n",
              "    <tr>\n",
              "      <th>3</th>\n",
              "      <td>45.569867</td>\n",
              "      <td>0</td>\n",
              "      <td>0</td>\n",
              "      <td>0</td>\n",
              "      <td>0</td>\n",
              "      <td>0</td>\n",
              "      <td>0</td>\n",
              "      <td>0</td>\n",
              "      <td>0</td>\n",
              "      <td>0</td>\n",
              "      <td>0</td>\n",
              "      <td>0</td>\n",
              "      <td>0</td>\n",
              "      <td>0</td>\n",
              "      <td>0</td>\n",
              "      <td>0</td>\n",
              "      <td>0</td>\n",
              "      <td>0</td>\n",
              "      <td>0</td>\n",
              "      <td>0</td>\n",
              "      <td>0</td>\n",
              "      <td>0</td>\n",
              "      <td>0</td>\n",
              "      <td>0</td>\n",
              "      <td>0</td>\n",
              "      <td>0</td>\n",
              "      <td>0</td>\n",
              "      <td>1</td>\n",
              "      <td>0</td>\n",
              "      <td>0</td>\n",
              "      <td>0</td>\n",
              "      <td>0</td>\n",
              "      <td>0</td>\n",
              "      <td>0</td>\n",
              "      <td>0</td>\n",
              "      <td>0</td>\n",
              "      <td>0</td>\n",
              "      <td>0</td>\n",
              "      <td>0</td>\n",
              "      <td>17.3</td>\n",
              "      <td>80.10</td>\n",
              "      <td>6.293495e+10</td>\n",
              "    </tr>\n",
              "    <tr>\n",
              "      <th>4</th>\n",
              "      <td>80.000000</td>\n",
              "      <td>0</td>\n",
              "      <td>0</td>\n",
              "      <td>0</td>\n",
              "      <td>0</td>\n",
              "      <td>0</td>\n",
              "      <td>0</td>\n",
              "      <td>0</td>\n",
              "      <td>0</td>\n",
              "      <td>0</td>\n",
              "      <td>1</td>\n",
              "      <td>0</td>\n",
              "      <td>0</td>\n",
              "      <td>0</td>\n",
              "      <td>0</td>\n",
              "      <td>0</td>\n",
              "      <td>0</td>\n",
              "      <td>0</td>\n",
              "      <td>0</td>\n",
              "      <td>0</td>\n",
              "      <td>0</td>\n",
              "      <td>0</td>\n",
              "      <td>0</td>\n",
              "      <td>0</td>\n",
              "      <td>0</td>\n",
              "      <td>0</td>\n",
              "      <td>0</td>\n",
              "      <td>0</td>\n",
              "      <td>0</td>\n",
              "      <td>0</td>\n",
              "      <td>0</td>\n",
              "      <td>0</td>\n",
              "      <td>0</td>\n",
              "      <td>0</td>\n",
              "      <td>0</td>\n",
              "      <td>0</td>\n",
              "      <td>0</td>\n",
              "      <td>0</td>\n",
              "      <td>0</td>\n",
              "      <td>26.0</td>\n",
              "      <td>97.00</td>\n",
              "      <td>6.293495e+10</td>\n",
              "    </tr>\n",
              "    <tr>\n",
              "      <th>...</th>\n",
              "      <td>...</td>\n",
              "      <td>...</td>\n",
              "      <td>...</td>\n",
              "      <td>...</td>\n",
              "      <td>...</td>\n",
              "      <td>...</td>\n",
              "      <td>...</td>\n",
              "      <td>...</td>\n",
              "      <td>...</td>\n",
              "      <td>...</td>\n",
              "      <td>...</td>\n",
              "      <td>...</td>\n",
              "      <td>...</td>\n",
              "      <td>...</td>\n",
              "      <td>...</td>\n",
              "      <td>...</td>\n",
              "      <td>...</td>\n",
              "      <td>...</td>\n",
              "      <td>...</td>\n",
              "      <td>...</td>\n",
              "      <td>...</td>\n",
              "      <td>...</td>\n",
              "      <td>...</td>\n",
              "      <td>...</td>\n",
              "      <td>...</td>\n",
              "      <td>...</td>\n",
              "      <td>...</td>\n",
              "      <td>...</td>\n",
              "      <td>...</td>\n",
              "      <td>...</td>\n",
              "      <td>...</td>\n",
              "      <td>...</td>\n",
              "      <td>...</td>\n",
              "      <td>...</td>\n",
              "      <td>...</td>\n",
              "      <td>...</td>\n",
              "      <td>...</td>\n",
              "      <td>...</td>\n",
              "      <td>...</td>\n",
              "      <td>...</td>\n",
              "      <td>...</td>\n",
              "      <td>...</td>\n",
              "    </tr>\n",
              "    <tr>\n",
              "      <th>52984</th>\n",
              "      <td>10.000000</td>\n",
              "      <td>0</td>\n",
              "      <td>0</td>\n",
              "      <td>0</td>\n",
              "      <td>0</td>\n",
              "      <td>0</td>\n",
              "      <td>0</td>\n",
              "      <td>0</td>\n",
              "      <td>0</td>\n",
              "      <td>1</td>\n",
              "      <td>0</td>\n",
              "      <td>0</td>\n",
              "      <td>0</td>\n",
              "      <td>0</td>\n",
              "      <td>0</td>\n",
              "      <td>0</td>\n",
              "      <td>0</td>\n",
              "      <td>0</td>\n",
              "      <td>0</td>\n",
              "      <td>0</td>\n",
              "      <td>0</td>\n",
              "      <td>0</td>\n",
              "      <td>0</td>\n",
              "      <td>0</td>\n",
              "      <td>0</td>\n",
              "      <td>0</td>\n",
              "      <td>0</td>\n",
              "      <td>0</td>\n",
              "      <td>0</td>\n",
              "      <td>0</td>\n",
              "      <td>0</td>\n",
              "      <td>0</td>\n",
              "      <td>0</td>\n",
              "      <td>0</td>\n",
              "      <td>0</td>\n",
              "      <td>0</td>\n",
              "      <td>0</td>\n",
              "      <td>0</td>\n",
              "      <td>0</td>\n",
              "      <td>32.8</td>\n",
              "      <td>78.40</td>\n",
              "      <td>3.514804e+07</td>\n",
              "    </tr>\n",
              "    <tr>\n",
              "      <th>52985</th>\n",
              "      <td>70.000000</td>\n",
              "      <td>0</td>\n",
              "      <td>0</td>\n",
              "      <td>0</td>\n",
              "      <td>0</td>\n",
              "      <td>0</td>\n",
              "      <td>0</td>\n",
              "      <td>0</td>\n",
              "      <td>0</td>\n",
              "      <td>1</td>\n",
              "      <td>0</td>\n",
              "      <td>0</td>\n",
              "      <td>0</td>\n",
              "      <td>0</td>\n",
              "      <td>0</td>\n",
              "      <td>0</td>\n",
              "      <td>0</td>\n",
              "      <td>0</td>\n",
              "      <td>0</td>\n",
              "      <td>0</td>\n",
              "      <td>0</td>\n",
              "      <td>0</td>\n",
              "      <td>0</td>\n",
              "      <td>0</td>\n",
              "      <td>0</td>\n",
              "      <td>0</td>\n",
              "      <td>0</td>\n",
              "      <td>0</td>\n",
              "      <td>0</td>\n",
              "      <td>0</td>\n",
              "      <td>0</td>\n",
              "      <td>0</td>\n",
              "      <td>0</td>\n",
              "      <td>0</td>\n",
              "      <td>0</td>\n",
              "      <td>0</td>\n",
              "      <td>0</td>\n",
              "      <td>0</td>\n",
              "      <td>0</td>\n",
              "      <td>25.5</td>\n",
              "      <td>90.40</td>\n",
              "      <td>3.514804e+07</td>\n",
              "    </tr>\n",
              "    <tr>\n",
              "      <th>52986</th>\n",
              "      <td>22.000000</td>\n",
              "      <td>0</td>\n",
              "      <td>0</td>\n",
              "      <td>0</td>\n",
              "      <td>0</td>\n",
              "      <td>0</td>\n",
              "      <td>0</td>\n",
              "      <td>0</td>\n",
              "      <td>0</td>\n",
              "      <td>1</td>\n",
              "      <td>0</td>\n",
              "      <td>0</td>\n",
              "      <td>0</td>\n",
              "      <td>0</td>\n",
              "      <td>0</td>\n",
              "      <td>0</td>\n",
              "      <td>0</td>\n",
              "      <td>0</td>\n",
              "      <td>0</td>\n",
              "      <td>0</td>\n",
              "      <td>0</td>\n",
              "      <td>0</td>\n",
              "      <td>0</td>\n",
              "      <td>0</td>\n",
              "      <td>0</td>\n",
              "      <td>0</td>\n",
              "      <td>0</td>\n",
              "      <td>0</td>\n",
              "      <td>0</td>\n",
              "      <td>0</td>\n",
              "      <td>0</td>\n",
              "      <td>0</td>\n",
              "      <td>0</td>\n",
              "      <td>0</td>\n",
              "      <td>0</td>\n",
              "      <td>0</td>\n",
              "      <td>0</td>\n",
              "      <td>0</td>\n",
              "      <td>0</td>\n",
              "      <td>23.2</td>\n",
              "      <td>86.50</td>\n",
              "      <td>3.514804e+07</td>\n",
              "    </tr>\n",
              "    <tr>\n",
              "      <th>52987</th>\n",
              "      <td>20.000000</td>\n",
              "      <td>0</td>\n",
              "      <td>0</td>\n",
              "      <td>0</td>\n",
              "      <td>0</td>\n",
              "      <td>0</td>\n",
              "      <td>0</td>\n",
              "      <td>0</td>\n",
              "      <td>0</td>\n",
              "      <td>1</td>\n",
              "      <td>0</td>\n",
              "      <td>0</td>\n",
              "      <td>0</td>\n",
              "      <td>0</td>\n",
              "      <td>0</td>\n",
              "      <td>0</td>\n",
              "      <td>0</td>\n",
              "      <td>0</td>\n",
              "      <td>0</td>\n",
              "      <td>0</td>\n",
              "      <td>0</td>\n",
              "      <td>0</td>\n",
              "      <td>0</td>\n",
              "      <td>0</td>\n",
              "      <td>0</td>\n",
              "      <td>0</td>\n",
              "      <td>0</td>\n",
              "      <td>0</td>\n",
              "      <td>0</td>\n",
              "      <td>0</td>\n",
              "      <td>0</td>\n",
              "      <td>0</td>\n",
              "      <td>0</td>\n",
              "      <td>0</td>\n",
              "      <td>0</td>\n",
              "      <td>0</td>\n",
              "      <td>0</td>\n",
              "      <td>0</td>\n",
              "      <td>0</td>\n",
              "      <td>32.8</td>\n",
              "      <td>76.40</td>\n",
              "      <td>3.506164e+07</td>\n",
              "    </tr>\n",
              "    <tr>\n",
              "      <th>52988</th>\n",
              "      <td>10.000000</td>\n",
              "      <td>0</td>\n",
              "      <td>0</td>\n",
              "      <td>0</td>\n",
              "      <td>0</td>\n",
              "      <td>0</td>\n",
              "      <td>0</td>\n",
              "      <td>0</td>\n",
              "      <td>0</td>\n",
              "      <td>1</td>\n",
              "      <td>0</td>\n",
              "      <td>0</td>\n",
              "      <td>0</td>\n",
              "      <td>0</td>\n",
              "      <td>0</td>\n",
              "      <td>0</td>\n",
              "      <td>0</td>\n",
              "      <td>0</td>\n",
              "      <td>0</td>\n",
              "      <td>0</td>\n",
              "      <td>0</td>\n",
              "      <td>0</td>\n",
              "      <td>0</td>\n",
              "      <td>0</td>\n",
              "      <td>0</td>\n",
              "      <td>0</td>\n",
              "      <td>0</td>\n",
              "      <td>0</td>\n",
              "      <td>0</td>\n",
              "      <td>0</td>\n",
              "      <td>0</td>\n",
              "      <td>0</td>\n",
              "      <td>0</td>\n",
              "      <td>0</td>\n",
              "      <td>0</td>\n",
              "      <td>0</td>\n",
              "      <td>0</td>\n",
              "      <td>0</td>\n",
              "      <td>0</td>\n",
              "      <td>20.0</td>\n",
              "      <td>72.80</td>\n",
              "      <td>3.488884e+07</td>\n",
              "    </tr>\n",
              "  </tbody>\n",
              "</table>\n",
              "<p>52989 rows × 42 columns</p>\n",
              "</div>"
            ],
            "text/plain": [
              "       DEPTH (km)   ISC  BCI  BDA  ...  USGS  latitude  longitude     timestamp\n",
              "0        0.000000     0    0    0  ...     0      71.0      24.00  1.418385e+11\n",
              "1        0.000000     0    0    0  ...     0      71.0      24.00  7.402258e+10\n",
              "2        0.000000     0    0    0  ...     0      72.9      33.72  6.297763e+10\n",
              "3       45.569867     0    0    0  ...     0      17.3      80.10  6.293495e+10\n",
              "4       80.000000     0    0    0  ...     0      26.0      97.00  6.293495e+10\n",
              "...           ...   ...  ...  ...  ...   ...       ...        ...           ...\n",
              "52984   10.000000     0    0    0  ...     0      32.8      78.40  3.514804e+07\n",
              "52985   70.000000     0    0    0  ...     0      25.5      90.40  3.514804e+07\n",
              "52986   22.000000     0    0    0  ...     0      23.2      86.50  3.514804e+07\n",
              "52987   20.000000     0    0    0  ...     0      32.8      76.40  3.506164e+07\n",
              "52988   10.000000     0    0    0  ...     0      20.0      72.80  3.488884e+07\n",
              "\n",
              "[52989 rows x 42 columns]"
            ]
          },
          "metadata": {
            "tags": []
          },
          "execution_count": 77
        }
      ]
    },
    {
      "cell_type": "code",
      "metadata": {
        "id": "Y1HFILMsa1NW",
        "colab_type": "code",
        "colab": {}
      },
      "source": [
        "from sklearn.model_selection import train_test_split\n",
        "X_train, X_test, y_train, y_test = train_test_split(final_df, target_label, test_size=0.2, random_state=42)"
      ],
      "execution_count": 78,
      "outputs": []
    },
    {
      "cell_type": "markdown",
      "metadata": {
        "id": "y-b-FjPt35Jo",
        "colab_type": "text"
      },
      "source": [
        "# **KNN WITH K=3,5,7**"
      ]
    },
    {
      "cell_type": "code",
      "metadata": {
        "id": "DQykwsWqcrn5",
        "colab_type": "code",
        "colab": {
          "base_uri": "https://localhost:8080/",
          "height": 68
        },
        "outputId": "2d7b8e5b-b68c-4368-ab10-0560b076954c"
      },
      "source": [
        "from sklearn.neighbors import KNeighborsClassifier\n",
        "\n",
        "model = KNeighborsClassifier(n_neighbors=5)\n",
        "\n",
        "# Train the model using the training sets\n",
        "model.fit(X_train,y_train)\n",
        "\n",
        "#Predict Output\n",
        "# predicted= model.predict([[0,2]]) # 0:Overcast, 2:Mild\n",
        "# print(predicted)"
      ],
      "execution_count": 79,
      "outputs": [
        {
          "output_type": "execute_result",
          "data": {
            "text/plain": [
              "KNeighborsClassifier(algorithm='auto', leaf_size=30, metric='minkowski',\n",
              "                     metric_params=None, n_jobs=None, n_neighbors=5, p=2,\n",
              "                     weights='uniform')"
            ]
          },
          "metadata": {
            "tags": []
          },
          "execution_count": 79
        }
      ]
    },
    {
      "cell_type": "code",
      "metadata": {
        "id": "ANe1qOdNcuKV",
        "colab_type": "code",
        "colab": {}
      },
      "source": [
        "predicted=model.predict(X_test)"
      ],
      "execution_count": 80,
      "outputs": []
    },
    {
      "cell_type": "code",
      "metadata": {
        "id": "UxtprCFScw8t",
        "colab_type": "code",
        "colab": {
          "base_uri": "https://localhost:8080/",
          "height": 391
        },
        "outputId": "466b4562-84c8-4517-b15f-1092379c5936"
      },
      "source": [
        "from sklearn.metrics import accuracy_score\n",
        "print(accuracy_score(predicted,y_test))\n",
        "f11 = f1_score(predicted,y_test,average=None)\n",
        "re = recall_score(predicted,y_test,average='weighted')\n",
        "cm = confusion_matrix(predicted,y_test)\n",
        "pr_sc = precision_score(predicted,y_test,average='weighted')\n",
        "clrp = classification_report(predicted,y_test)\n",
        "print(\"**********KNN WITH K = 5***********\")\n",
        "print(\"accuracy score \",accu_score)\n",
        "print(\"********************\")\n",
        "print(\"f1 score \",f11)\n",
        "print(\"********************\")\n",
        "print(\"recall score \",re)\n",
        "print(\"********************\")\n",
        "print(\"confusion matrix \",cm)\n",
        "print(\"********************\")\n",
        "print(\"precision score \",pr_sc)\n",
        "print(\"********************\")\n",
        "print(\"classification report \",clrp)\n"
      ],
      "execution_count": 81,
      "outputs": [
        {
          "output_type": "stream",
          "text": [
            "0.8480845442536328\n",
            "**********KNN WITH K = 5***********\n",
            "accuracy score  0.873938478958294\n",
            "********************\n",
            "f1 score  [0.91285993 0.40808824]\n",
            "********************\n",
            "recall score  0.8480845442536328\n",
            "********************\n",
            "confusion matrix  [[8433 1109]\n",
            " [ 501  555]]\n",
            "********************\n",
            "precision score  0.8831021110062349\n",
            "********************\n",
            "classification report                precision    recall  f1-score   support\n",
            "\n",
            "         0.0       0.94      0.88      0.91      9542\n",
            "         1.0       0.33      0.53      0.41      1056\n",
            "\n",
            "    accuracy                           0.85     10598\n",
            "   macro avg       0.64      0.70      0.66     10598\n",
            "weighted avg       0.88      0.85      0.86     10598\n",
            "\n"
          ],
          "name": "stdout"
        }
      ]
    },
    {
      "cell_type": "code",
      "metadata": {
        "id": "QTHxpzsjpBBe",
        "colab_type": "code",
        "colab": {}
      },
      "source": [
        "y_test=y_test.to_numpy()"
      ],
      "execution_count": 82,
      "outputs": []
    },
    {
      "cell_type": "code",
      "metadata": {
        "id": "k-xgiItPpBLU",
        "colab_type": "code",
        "colab": {}
      },
      "source": [
        "fpr = dict()\n",
        "tpr = dict()\n",
        "roc_auc = dict()\n",
        "# for i in range(0,2):\n",
        "fpr, tpr,threshlod = roc_curve(y_test, predicted)\n",
        "roc_auc = auc(fpr, tpr)\n"
      ],
      "execution_count": 83,
      "outputs": []
    },
    {
      "cell_type": "code",
      "metadata": {
        "id": "DhdDIVIPpBYa",
        "colab_type": "code",
        "colab": {
          "base_uri": "https://localhost:8080/",
          "height": 68
        },
        "outputId": "bd441cd8-cd5f-4bbf-c7c3-abcbc6dec7f8"
      },
      "source": [
        "print(roc_auc)\n",
        "print(fpr,tpr)\n",
        "print(threshlod)"
      ],
      "execution_count": 84,
      "outputs": [
        {
          "output_type": "stream",
          "text": [
            "0.6387278746060856\n",
            "[0.        0.0560779 1.       ] [0.         0.33353365 1.        ]\n",
            "[2. 1. 0.]\n"
          ],
          "name": "stdout"
        }
      ]
    },
    {
      "cell_type": "code",
      "metadata": {
        "id": "DW62awnxoQyn",
        "colab_type": "code",
        "colab": {
          "base_uri": "https://localhost:8080/",
          "height": 442
        },
        "outputId": "ecb6df94-1080-4335-b306-70dbe2054c5e"
      },
      "source": [
        "from sklearn.neighbors import KNeighborsClassifier\n",
        "\n",
        "model = KNeighborsClassifier(n_neighbors=3)\n",
        "\n",
        "# Train the model using the training sets\n",
        "model.fit(X_train,y_train)\n",
        "predicted=model.predict(X_test)\n",
        "from sklearn.metrics import accuracy_score\n",
        "# print(accuracy_score(predicted,y_test))\n",
        "accu_score = accuracy_score(predicted,y_test,normalize=True)\n",
        "print(accu_score) \n",
        "f11 = f1_score(predicted,y_test,average=None)\n",
        "re = recall_score(predicted,y_test,average='weighted')\n",
        "cm = confusion_matrix(predicted,y_test)\n",
        "pr_sc = precision_score(predicted,y_test,average='weighted')\n",
        "clrp = classification_report(predicted,y_test)\n",
        "print(\"**********KNN WITH K = 3***********\")\n",
        "print(\"accuracy score \",accu_score)\n",
        "print(\"********************\")\n",
        "print(\"f1 score \",f11)\n",
        "print(\"********************\")\n",
        "print(\"recall score \",re)\n",
        "print(\"********************\")\n",
        "print(\"confusion matrix \",cm)\n",
        "print(\"********************\")\n",
        "print(\"precision score \",pr_sc)\n",
        "print(\"********************\")\n",
        "print(\"classification report \",clrp)\n",
        "\n",
        "fpr_1 = dict()\n",
        "tpr_1 = dict()\n",
        "roc_auc_1 = dict()\n",
        "# for i in range(0,2):\n",
        "fpr_1, tpr_1,threshlod_1 = roc_curve(y_test, predicted)\n",
        "roc_auc_1 = auc(fpr_1, tpr_1)\n",
        "\n",
        "print(\"roc_auc \",roc_auc_1)\n",
        "print(\"fpr,tpr \",fpr_1,tpr_1)\n",
        "print(\"threshold \",threshlod_1)"
      ],
      "execution_count": 85,
      "outputs": [
        {
          "output_type": "stream",
          "text": [
            "0.8403472353274203\n",
            "**********KNN WITH K = 3***********\n",
            "accuracy score  0.8403472353274203\n",
            "********************\n",
            "f1 score  [0.90736888 0.4225256 ]\n",
            "********************\n",
            "recall score  0.8403472353274203\n",
            "********************\n",
            "confusion matrix  [[8287 1045]\n",
            " [ 647  619]]\n",
            "********************\n",
            "precision score  0.8612118103354629\n",
            "********************\n",
            "classification report                precision    recall  f1-score   support\n",
            "\n",
            "         0.0       0.93      0.89      0.91      9332\n",
            "         1.0       0.37      0.49      0.42      1266\n",
            "\n",
            "    accuracy                           0.84     10598\n",
            "   macro avg       0.65      0.69      0.66     10598\n",
            "weighted avg       0.86      0.84      0.85     10598\n",
            "\n",
            "roc_auc  0.6497876118243185\n",
            "fpr,tpr  [0.         0.07241997 1.        ] [0.         0.37199519 1.        ]\n",
            "threshold  [2. 1. 0.]\n"
          ],
          "name": "stdout"
        }
      ]
    },
    {
      "cell_type": "code",
      "metadata": {
        "id": "1ngLwUaZoRLK",
        "colab_type": "code",
        "colab": {
          "base_uri": "https://localhost:8080/",
          "height": 442
        },
        "outputId": "11a4729c-9018-4495-c174-ac05db3015cd"
      },
      "source": [
        "from sklearn.neighbors import KNeighborsClassifier\n",
        "\n",
        "model = KNeighborsClassifier(n_neighbors=7)\n",
        "\n",
        "# Train the model using the training sets\n",
        "model.fit(X_train,y_train)\n",
        "predicted=model.predict(X_test)\n",
        "from sklearn.metrics import accuracy_score\n",
        "# print(accuracy_score(predicted,y_test))\n",
        "accu_score = accuracy_score(predicted,y_test,normalize=True)\n",
        "print(accu_score) \n",
        "f11 = f1_score(predicted,y_test,average=None)\n",
        "re = recall_score(predicted,y_test,average='weighted')\n",
        "cm = confusion_matrix(predicted,y_test)\n",
        "pr_sc = precision_score(predicted,y_test,average='weighted')\n",
        "clrp = classification_report(predicted,y_test)\n",
        "print(\"**********KNN WITH K = 7 ***********\")\n",
        "print(\"accuracy score \",accu_score)\n",
        "print(\"********************\")\n",
        "print(\"f1 score \",f11)\n",
        "print(\"********************\")\n",
        "print(\"recall score \",re)\n",
        "print(\"********************\")\n",
        "print(\"confusion matrix \",cm)\n",
        "print(\"********************\")\n",
        "print(\"precision score \",pr_sc)\n",
        "print(\"********************\")\n",
        "print(\"classification report \",clrp)\n",
        "\n",
        "fpr_2 = dict()\n",
        "tpr_2 = dict()\n",
        "roc_auc_2 = dict()\n",
        "# for i in range(0,2):\n",
        "fpr_2, tpr_2,threshlod_2 = roc_curve(y_test, predicted)\n",
        "roc_auc_2 = auc(fpr_2, tpr_2)\n",
        "\n",
        "print(\"ROC_AUC \",roc_auc_2)\n",
        "print(\"FPR,TPR \",fpr_2,tpr_2)\n",
        "print(\"THRESHOLD \",threshlod_2)"
      ],
      "execution_count": 86,
      "outputs": [
        {
          "output_type": "stream",
          "text": [
            "0.8539347046612569\n",
            "**********KNN WITH K = 7 ***********\n",
            "accuracy score  0.8539347046612569\n",
            "********************\n",
            "f1 score  [0.91687252 0.3986014 ]\n",
            "********************\n",
            "recall score  0.8539347046612569\n",
            "********************\n",
            "confusion matrix  [[8537 1151]\n",
            " [ 397  513]]\n",
            "********************\n",
            "precision score  0.8999850340002525\n",
            "********************\n",
            "classification report                precision    recall  f1-score   support\n",
            "\n",
            "         0.0       0.96      0.88      0.92      9688\n",
            "         1.0       0.31      0.56      0.40       910\n",
            "\n",
            "    accuracy                           0.85     10598\n",
            "   macro avg       0.63      0.72      0.66     10598\n",
            "weighted avg       0.90      0.85      0.87     10598\n",
            "\n",
            "ROC_AUC  0.6319281434580082\n",
            "FPR,TPR  [0.         0.04443698 1.        ] [0.         0.30829327 1.        ]\n",
            "THRESHOLD  [2. 1. 0.]\n"
          ],
          "name": "stdout"
        }
      ]
    },
    {
      "cell_type": "markdown",
      "metadata": {
        "id": "BvoV44ldHMGS",
        "colab_type": "text"
      },
      "source": [
        "**According to the below present ROC curve for k = 3, AUC is 0.65 it means there is 65% chance that model will be able to distinguish between positive class and negative class.**"
      ]
    },
    {
      "cell_type": "code",
      "metadata": {
        "id": "IWMaxbl_pBjH",
        "colab_type": "code",
        "colab": {
          "base_uri": "https://localhost:8080/",
          "height": 295
        },
        "outputId": "950ff687-1f3d-43ff-b09d-1b8748d3365b"
      },
      "source": [
        "import matplotlib.pyplot as plt\n",
        "\n",
        "plt.figure()\n",
        "lw = 2\n",
        "plt.plot(fpr, tpr, color='darkorange',\n",
        "         lw=lw, label='ROC curve for k=5(area = %0.3f)' % roc_auc)\n",
        "\n",
        "plt.plot(fpr_1, tpr_1, color='darkgreen',\n",
        "         lw=lw, label='ROC curve for k=3(area = %0.3f)' % roc_auc_1)\n",
        "\n",
        "plt.plot(fpr_2, tpr_2, color='magenta',\n",
        "         lw=lw, label='ROC curve  for k=7(area = %0.3f)' % roc_auc_2)\n",
        "plt.plot([0, 1], [0, 1], color='navy', lw=lw, linestyle='--')\n",
        "plt.xlim([0.0, 1.0])\n",
        "plt.ylim([0.0, 1.05])\n",
        "plt.xlabel('False Positive Rate')\n",
        "plt.ylabel('True Positive Rate')\n",
        "plt.title('Receiver operating characteristic example')\n",
        "plt.legend(loc=\"lower right\")\n",
        "plt.show()"
      ],
      "execution_count": 87,
      "outputs": [
        {
          "output_type": "display_data",
          "data": {
            "image/png": "[encoded data removed]",
            "text/plain": [
              "<Figure size 432x288 with 1 Axes>"
            ]
          },
          "metadata": {
            "tags": [],
            "needs_background": "light"
          }
        }
      ]
    },
    {
      "cell_type": "markdown",
      "metadata": {
        "id": "FZBRzELi4N-r",
        "colab_type": "text"
      },
      "source": [
        "# **DECISION TREE CLASSIFIER WITH PRE-PRUNE DEPTH = 2,4,10**"
      ]
    },
    {
      "cell_type": "code",
      "metadata": {
        "id": "eldyGKNTczR2",
        "colab_type": "code",
        "colab": {}
      },
      "source": [
        "from sklearn.tree import DecisionTreeClassifier\n",
        "from sklearn import tree\n",
        "clf = DecisionTreeClassifier(random_state=42,max_depth=2)"
      ],
      "execution_count": 88,
      "outputs": []
    },
    {
      "cell_type": "code",
      "metadata": {
        "id": "4gYJ9WD6c140",
        "colab_type": "code",
        "colab": {
          "base_uri": "https://localhost:8080/",
          "height": 391
        },
        "outputId": "cc94f561-8067-4ef7-ad61-1fa54853afa0"
      },
      "source": [
        "clf = clf.fit(X_train, y_train)\n",
        "# tree.plot_tree(clf) \n",
        "prefict=clf.predict(X_test)\n",
        "accuracy_score(prefict,y_test)\n",
        "accu_score = accuracy_score(prefict,y_test)\n",
        "print(accu_score) \n",
        "f11 = f1_score(prefict,y_test,average=None)\n",
        "re = recall_score(prefict,y_test,average='weighted')\n",
        "cm = confusion_matrix(prefict,y_test)\n",
        "pr_sc = precision_score(prefict,y_test,average='weighted')\n",
        "clrp = classification_report(prefict,y_test)\n",
        "print(\"**********DECISION TREE WITH DEPTH = 2 ***********\")\n",
        "print(\"accuracy score \",accu_score)\n",
        "print(\"********************\")\n",
        "print(\"f1 score \",f11)\n",
        "print(\"********************\")\n",
        "print(\"recall score \",re)\n",
        "print(\"********************\")\n",
        "print(\"confusion matrix \",cm)\n",
        "print(\"********************\")\n",
        "print(\"precision score \",pr_sc)\n",
        "print(\"********************\")\n",
        "print(\"classification report \",clrp)\n"
      ],
      "execution_count": 89,
      "outputs": [
        {
          "output_type": "stream",
          "text": [
            "0.8628986601245519\n",
            "**********DECISION TREE WITH DEPTH = 2 ***********\n",
            "accuracy score  0.8628986601245519\n",
            "********************\n",
            "f1 score  [0.92264282 0.39784501]\n",
            "********************\n",
            "recall score  0.8628986601245519\n",
            "********************\n",
            "confusion matrix  [[8665 1184]\n",
            " [ 269  480]]\n",
            "********************\n",
            "precision score  0.9217312061645849\n",
            "********************\n",
            "classification report                precision    recall  f1-score   support\n",
            "\n",
            "         0.0       0.97      0.88      0.92      9849\n",
            "         1.0       0.29      0.64      0.40       749\n",
            "\n",
            "    accuracy                           0.86     10598\n",
            "   macro avg       0.63      0.76      0.66     10598\n",
            "weighted avg       0.92      0.86      0.89     10598\n",
            "\n"
          ],
          "name": "stdout"
        }
      ]
    },
    {
      "cell_type": "code",
      "metadata": {
        "id": "awYvSARdc4o7",
        "colab_type": "code",
        "colab": {}
      },
      "source": [
        "# y_test=y_test.to_numpy()"
      ],
      "execution_count": 90,
      "outputs": []
    },
    {
      "cell_type": "code",
      "metadata": {
        "id": "5p4Q-aJNsmQA",
        "colab_type": "code",
        "colab": {}
      },
      "source": [
        "fpr = dict()\n",
        "tpr = dict()\n",
        "roc_auc = dict()\n",
        "# for i in range(0,2):\n",
        "fpr, tpr,threshlod = roc_curve(y_test, prefict)\n",
        "roc_auc = auc(fpr, tpr)\n"
      ],
      "execution_count": 91,
      "outputs": []
    },
    {
      "cell_type": "code",
      "metadata": {
        "id": "ItX8p25asmnT",
        "colab_type": "code",
        "colab": {
          "base_uri": "https://localhost:8080/",
          "height": 68
        },
        "outputId": "97cf34bd-94c2-4a8c-922f-db363ffe4d25"
      },
      "source": [
        "print(roc_auc)\n",
        "print(fpr,tpr)\n",
        "print(threshlod)"
      ],
      "execution_count": 92,
      "outputs": [
        {
          "output_type": "stream",
          "text": [
            "0.6291759225775343\n",
            "[0.         0.03010969 1.        ] [0.         0.28846154 1.        ]\n",
            "[2. 1. 0.]\n"
          ],
          "name": "stdout"
        }
      ]
    },
    {
      "cell_type": "code",
      "metadata": {
        "id": "GHqNg5hEsp-X",
        "colab_type": "code",
        "colab": {
          "base_uri": "https://localhost:8080/",
          "height": 442
        },
        "outputId": "63884ce1-4ca3-4ead-9e33-362d5c0cc9df"
      },
      "source": [
        "clf = DecisionTreeClassifier(random_state=42,max_depth=4)\n",
        "clf = clf.fit(X_train, y_train)\n",
        "prefict=clf.predict(X_test)\n",
        "accuracy_score(prefict,y_test)\n",
        "# tree.plot_tree(clf) \n",
        "\n",
        "\n",
        "accu_score = accuracy_score(prefict,y_test)\n",
        "print(accu_score) \n",
        "f11 = f1_score(prefict,y_test,average=None)\n",
        "re = recall_score(prefict,y_test,average='weighted')\n",
        "cm = confusion_matrix(prefict,y_test)\n",
        "pr_sc = precision_score(prefict,y_test,average='weighted')\n",
        "clrp = classification_report(prefict,y_test)\n",
        "print(\"**********DECISION TREE WITH DEPTH = 4 ***********\")\n",
        "print(\"accuracy score \",accu_score)\n",
        "print(\"********************\")\n",
        "print(\"f1 score \",f11)\n",
        "print(\"********************\")\n",
        "print(\"recall score \",re)\n",
        "print(\"********************\")\n",
        "print(\"confusion matrix \",cm)\n",
        "print(\"********************\")\n",
        "print(\"precision score \",pr_sc)\n",
        "print(\"********************\")\n",
        "print(\"classification report \",clrp)\n",
        "\n",
        "fpr_1 = dict()\n",
        "tpr_1 = dict()\n",
        "roc_auc_1 = dict()\n",
        "# for i in range(0,2):\n",
        "fpr_1, tpr_1,threshlod_1 = roc_curve(prefict,y_test)\n",
        "roc_auc_1 = auc(fpr_1, tpr_1)\n",
        "\n",
        "print(\"ROC_AUC \",roc_auc_1)\n",
        "print(\"FPR,TPR \",fpr_1,tpr_1)\n",
        "print(\"THRESHOLD \",threshlod_1)"
      ],
      "execution_count": 93,
      "outputs": [
        {
          "output_type": "stream",
          "text": [
            "0.8712964710322703\n",
            "**********DECISION TREE WITH DEPTH = 4 ***********\n",
            "accuracy score  0.8712964710322703\n",
            "********************\n",
            "f1 score  [0.92889908 0.32206759]\n",
            "********************\n",
            "recall score  0.8712964710322703\n",
            "********************\n",
            "confusion matrix  [[8910 1340]\n",
            " [  24  324]]\n",
            "********************\n",
            "precision score  0.9709590825459352\n",
            "********************\n",
            "classification report                precision    recall  f1-score   support\n",
            "\n",
            "         0.0       1.00      0.87      0.93     10250\n",
            "         1.0       0.19      0.93      0.32       348\n",
            "\n",
            "    accuracy                           0.87     10598\n",
            "   macro avg       0.60      0.90      0.63     10598\n",
            "weighted avg       0.97      0.87      0.91     10598\n",
            "\n",
            "ROC_AUC  0.9001513877207736\n",
            "FPR,TPR  [0.         0.13073171 1.        ] [0.         0.93103448 1.        ]\n",
            "THRESHOLD  [2. 1. 0.]\n"
          ],
          "name": "stdout"
        }
      ]
    },
    {
      "cell_type": "code",
      "metadata": {
        "id": "oPrpgP8BsukI",
        "colab_type": "code",
        "colab": {
          "base_uri": "https://localhost:8080/",
          "height": 459
        },
        "outputId": "973b4e38-39a0-40f4-fce6-800de69afce4"
      },
      "source": [
        "clf_1 = DecisionTreeClassifier(max_depth=10)\n",
        "clf_1 = clf_1.fit(X_train, y_train)\n",
        "prefict=clf_1.predict(X_test)\n",
        "accuracy_score(prefict,y_test)\n",
        "# tree.plot_tree(clf) \n",
        "\n",
        "\n",
        "accu_score = accuracy_score(prefict,y_test)\n",
        "print(accu_score) \n",
        "f11 = f1_score(prefict,y_test,average=None)\n",
        "re = recall_score(prefict,y_test,average='weighted')\n",
        "cm = confusion_matrix(prefict,y_test)\n",
        "pr_sc = precision_score(prefict,y_test,average='weighted')\n",
        "clrp = classification_report(prefict,y_test)\n",
        "print(\"**********DECISION TREE WITH DEPTH = 10 ***********\")\n",
        "print(\"accuracy score \",accu_score)\n",
        "print(\"********************\")\n",
        "print(\"f1 score \",f11)\n",
        "print(\"********************\")\n",
        "print(\"recall score \",re)\n",
        "print(\"********************\")\n",
        "print(\"confusion matrix \",cm)\n",
        "print(\"********************\")\n",
        "print(\"precision score \",pr_sc)\n",
        "print(\"********************\")\n",
        "print(\"classification report \",clrp)\n",
        "\n",
        "fpr_2 = dict()\n",
        "tpr_2 = dict()\n",
        "roc_auc_2 = dict()\n",
        "# for i in range(0,2):\n",
        "fpr_2, tpr_2,threshlod_2 = roc_curve(prefict,y_test)\n",
        "roc_auc_2 = auc(fpr_2, tpr_2)\n",
        "score = roc_auc_score(prefict,y_test)\n",
        "print(\"score..\",score)\n",
        "\n",
        "print(\"ROC_AUC \",roc_auc_2)\n",
        "print(\"FPR,TPR \",fpr_2,tpr_2)\n",
        "print(\"THRESHOLD \",threshlod_2)"
      ],
      "execution_count": 94,
      "outputs": [
        {
          "output_type": "stream",
          "text": [
            "0.8695036799396112\n",
            "**********DECISION TREE WITH DEPTH = 10 ***********\n",
            "accuracy score  0.8695036799396112\n",
            "********************\n",
            "f1 score  [0.92676728 0.40155777]\n",
            "********************\n",
            "recall score  0.8695036799396112\n",
            "********************\n",
            "confusion matrix  [[8751 1200]\n",
            " [ 183  464]]\n",
            "********************\n",
            "precision score  0.936741054468047\n",
            "********************\n",
            "classification report                precision    recall  f1-score   support\n",
            "\n",
            "         0.0       0.98      0.88      0.93      9951\n",
            "         1.0       0.28      0.72      0.40       647\n",
            "\n",
            "    accuracy                           0.87     10598\n",
            "   macro avg       0.63      0.80      0.66     10598\n",
            "weighted avg       0.94      0.87      0.89     10598\n",
            "\n",
            "score.. 0.7982826048565327\n",
            "ROC_AUC  0.7982826048565327\n",
            "FPR,TPR  [0.        0.1205909 1.       ] [0.         0.71715611 1.        ]\n",
            "THRESHOLD  [2. 1. 0.]\n"
          ],
          "name": "stdout"
        }
      ]
    },
    {
      "cell_type": "code",
      "metadata": {
        "id": "Fvs9IM3S2gkk",
        "colab_type": "code",
        "colab": {
          "base_uri": "https://localhost:8080/",
          "height": 442
        },
        "outputId": "18d363fa-e8fd-4495-b25e-6990fec70f7f"
      },
      "source": [
        "clf = DecisionTreeClassifier(random_state=42,max_depth=3)\n",
        "clf = clf.fit(X_train, y_train)\n",
        "prefict=clf.predict(X_test)\n",
        "accuracy_score(prefict,y_test)\n",
        "# tree.plot_tree(clf) \n",
        "\n",
        "\n",
        "accu_score = accuracy_score(prefict,y_test)\n",
        "print(accu_score) \n",
        "f11 = f1_score(prefict,y_test,average=None)\n",
        "re = recall_score(prefict,y_test,average='weighted')\n",
        "cm = confusion_matrix(prefict,y_test)\n",
        "pr_sc = precision_score(prefict,y_test,average='weighted')\n",
        "clrp = classification_report(prefict,y_test)\n",
        "print(\"**********DECISION TREE WITH DEPTH = 3 ***********\")\n",
        "print(\"accuracy score \",accu_score)\n",
        "print(\"********************\")\n",
        "print(\"f1 score \",f11)\n",
        "print(\"********************\")\n",
        "print(\"recall score \",re)\n",
        "print(\"********************\")\n",
        "print(\"confusion matrix \",cm)\n",
        "print(\"********************\")\n",
        "print(\"precision score \",pr_sc)\n",
        "print(\"********************\")\n",
        "print(\"classification report \",clrp)\n",
        "\n",
        "fpr_3 = dict()\n",
        "tpr_3 = dict()\n",
        "roc_auc_3 = dict()\n",
        "# for i in range(0,2):\n",
        "fpr_3, tpr_3,threshlod_3 = roc_curve(prefict,y_test)\n",
        "roc_auc_3 = auc(fpr_3, tpr_3)\n",
        "\n",
        "print(\"ROC_AUC \",roc_auc_3)\n",
        "print(\"FPR,TPR \",fpr_3,tpr_3)\n",
        "print(\"THRESHOLD \",threshlod_3)"
      ],
      "execution_count": 95,
      "outputs": [
        {
          "output_type": "stream",
          "text": [
            "0.8677108888469522\n",
            "**********DECISION TREE WITH DEPTH = 3 ***********\n",
            "accuracy score  0.8677108888469522\n",
            "********************\n",
            "f1 score  [0.9268954  0.30525273]\n",
            "********************\n",
            "recall score  0.8677108888469522\n",
            "********************\n",
            "confusion matrix  [[8888 1356]\n",
            " [  46  308]]\n",
            "********************\n",
            "precision score  0.9678032666005952\n",
            "********************\n",
            "classification report                precision    recall  f1-score   support\n",
            "\n",
            "         0.0       0.99      0.87      0.93     10244\n",
            "         1.0       0.19      0.87      0.31       354\n",
            "\n",
            "    accuracy                           0.87     10598\n",
            "   macro avg       0.59      0.87      0.62     10598\n",
            "weighted avg       0.97      0.87      0.91     10598\n",
            "\n",
            "ROC_AUC  0.8688431646359892\n",
            "FPR,TPR  [0.         0.13237017 1.        ] [0.        0.8700565 1.       ]\n",
            "THRESHOLD  [2. 1. 0.]\n"
          ],
          "name": "stdout"
        }
      ]
    },
    {
      "cell_type": "markdown",
      "metadata": {
        "id": "W5GraMleIJ7l",
        "colab_type": "text"
      },
      "source": [
        "**According to the below present ROC curve for pre-prune depth=4, AUC is 0.90 it means there is 90% chance that model will be able to distinguish between positive class and negative class.**"
      ]
    },
    {
      "cell_type": "code",
      "metadata": {
        "id": "k_rS1rtzsm3f",
        "colab_type": "code",
        "colab": {
          "base_uri": "https://localhost:8080/",
          "height": 295
        },
        "outputId": "6b64cee8-a54d-47b1-f3de-4c3782a06261"
      },
      "source": [
        "import matplotlib.pyplot as plt\n",
        "\n",
        "plt.figure()\n",
        "lw = 2\n",
        "plt.plot(fpr, tpr, color='darkorange',\n",
        "         lw=lw, label='ROC curve for DEPTH=2(area = %0.3f)' % roc_auc)\n",
        "\n",
        "plt.plot(fpr_1, tpr_1, color='darkgreen',\n",
        "         lw=lw, label='ROC curve for DEPTH=4(area = %0.3f)' % roc_auc_1)\n",
        "\n",
        "plt.plot(fpr_2, tpr_2, color='magenta',\n",
        "         lw=lw, label='ROC curve  for DEPTH=10(area = %0.3f)' % roc_auc_2)\n",
        "\n",
        "plt.plot(fpr_3, tpr_3, color='red',\n",
        "         lw=lw, label='ROC curve for DEPTH=3(area = %0.3f)' % roc_auc_3)\n",
        "plt.plot([0, 1], [0, 1], color='navy', lw=lw, linestyle='--')\n",
        "plt.xlim([0.0, 1.0])\n",
        "plt.ylim([0.0, 1.05])\n",
        "plt.xlabel('False Positive Rate')\n",
        "plt.ylabel('True Positive Rate')\n",
        "plt.title('Receiver operating characteristic example')\n",
        "plt.legend(loc=\"lower right\")\n",
        "plt.show()"
      ],
      "execution_count": 96,
      "outputs": [
        {
          "output_type": "display_data",
          "data": {
            "image/png": "[encoded data removed]",
            "text/plain": [
              "<Figure size 432x288 with 1 Axes>"
            ]
          },
          "metadata": {
            "tags": [],
            "needs_background": "light"
          }
        }
      ]
    },
    {
      "cell_type": "markdown",
      "metadata": {
        "id": "JF_2g8xBAqWj",
        "colab_type": "text"
      },
      "source": [
        "**DATA CLEANING : dropped all the columns having null values more than 60% of the dataset , In case of magnitude and depth,replaced nan values by mean , In case of date and month,replaced nan values by mode  , converted latitude direction from S to N and longitude direction from W to E**"
      ]
    },
    {
      "cell_type": "markdown",
      "metadata": {
        "id": "ZleITenHCs9g",
        "colab_type": "text"
      },
      "source": [
        "**Decision Tree classifers are better because they can distinguish postive and negetive class better than KNN classifiers, as observed in the above ROC curves**"
      ]
    },
    {
      "cell_type": "markdown",
      "metadata": {
        "id": "hdpNb0gyLI7k",
        "colab_type": "text"
      },
      "source": [
        "**Observation : feature does help in improvising the model to a little extent**\n",
        "**New feature - TimeStamp is created using existing features Date,month and year, without using additional feature, maximum AUC was around 87% and after using new feature AUC is 90% and has better accuracy,f1 score, recall and precision**"
      ]
    },
    {
      "cell_type": "code",
      "metadata": {
        "id": "DEaL1g9_OBPI",
        "colab_type": "code",
        "colab": {}
      },
      "source": [
        ""
      ],
      "execution_count": 96,
      "outputs": []
    }
  ]
}