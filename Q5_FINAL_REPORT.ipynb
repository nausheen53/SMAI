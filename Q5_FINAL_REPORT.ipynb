{
  "nbformat": 4,
  "nbformat_minor": 0,
  "metadata": {
    "accelerator": "GPU",
    "colab": {
      "name": "Q5_FINAL_REPORT.ipynb",
      "provenance": [],
      "collapsed_sections": [],
      "include_colab_link": true
    },
    "kernelspec": {
      "display_name": "Python 3",
      "language": "python",
      "name": "python3"
    },
    "language_info": {
      "codemirror_mode": {
        "name": "ipython",
        "version": 3
      },
      "file_extension": ".py",
      "mimetype": "text/x-python",
      "name": "python",
      "nbconvert_exporter": "python",
      "pygments_lexer": "ipython3",
      "version": "3.6.9"
    }
  },
  "cells": [
    {
      "cell_type": "markdown",
      "metadata": {
        "id": "view-in-github",
        "colab_type": "text"
      },
      "source": [
        "<a href=\"https://colab.research.google.com/github/nausheen53/SMAI/blob/master/Q5_FINAL_REPORT.ipynb\" target=\"_parent\"><img src=\"https://colab.research.google.com/assets/colab-badge.svg\" alt=\"Open In Colab\"/></a>"
      ]
    },
    {
      "cell_type": "code",
      "metadata": {
        "colab_type": "code",
        "id": "pFth3TKTYdjy",
        "outputId": "2ac9f6de-b45e-4ead-ce84-b3523fdfaf17",
        "colab": {
          "base_uri": "https://localhost:8080/",
          "height": 122
        }
      },
      "source": [
        "from google.colab import drive\n",
        "drive.mount('/content/drive')\n"
      ],
      "execution_count": 1,
      "outputs": [
        {
          "output_type": "stream",
          "text": [
            "Go to this URL in a browser: https://accounts.google.com/o/oauth2/auth?client_id=947318989803-6bn6qk8qdgf4n4g3pfee6491hc0brc4i.apps.googleusercontent.com&redirect_uri=urn%3aietf%3awg%3aoauth%3a2.0%3aoob&response_type=code&scope=email%20https%3a%2f%2fwww.googleapis.com%2fauth%2fdocs.test%20https%3a%2f%2fwww.googleapis.com%2fauth%2fdrive%20https%3a%2f%2fwww.googleapis.com%2fauth%2fdrive.photos.readonly%20https%3a%2f%2fwww.googleapis.com%2fauth%2fpeopleapi.readonly\n",
            "\n",
            "Enter your authorization code:\n",
            "··········\n",
            "Mounted at /content/drive\n"
          ],
          "name": "stdout"
        }
      ]
    },
    {
      "cell_type": "code",
      "metadata": {
        "colab_type": "code",
        "id": "-MLocwk80B3U",
        "colab": {}
      },
      "source": [
        ""
      ],
      "execution_count": 0,
      "outputs": []
    },
    {
      "cell_type": "code",
      "metadata": {
        "colab_type": "code",
        "id": "0mtMPAJSc4Ew",
        "outputId": "b84a84a1-0952-4605-ce67-4b461a618197",
        "colab": {
          "base_uri": "https://localhost:8080/",
          "height": 119
        }
      },
      "source": [
        "import os\n",
        "import ssl\n",
        "import sklearn\n",
        "import numpy as np\n",
        "import spacy\n",
        "import re\n",
        "import gensim\n",
        "from gensim.models.keyedvectors import KeyedVectors\n",
        "import pandas as pd\n",
        "import matplotlib.pyplot as plt\n",
        "from matplotlib import style\n",
        "style.use(\"ggplot\")\n",
        "from sklearn import svm\n",
        "import textblob\n",
        "from textblob import TextBlob, Word\n",
        "from sklearn.metrics import accuracy_score, f1_score, precision_score, recall_score, classification_report, confusion_matrix\n",
        "import nltk\n",
        "nltk.download(\"stopwords\")\n",
        "nltk.download(\"punkt\")\n",
        "nltk.download(\"wordnet\")\n",
        "from nltk.corpus import wordnet as wn\n",
        "from nltk.stem.wordnet import WordNetLemmatizer"
      ],
      "execution_count": 4,
      "outputs": [
        {
          "output_type": "stream",
          "text": [
            "[nltk_data] Downloading package stopwords to /root/nltk_data...\n",
            "[nltk_data]   Unzipping corpora/stopwords.zip.\n",
            "[nltk_data] Downloading package punkt to /root/nltk_data...\n",
            "[nltk_data]   Unzipping tokenizers/punkt.zip.\n",
            "[nltk_data] Downloading package wordnet to /root/nltk_data...\n",
            "[nltk_data]   Unzipping corpora/wordnet.zip.\n"
          ],
          "name": "stdout"
        }
      ]
    },
    {
      "cell_type": "code",
      "metadata": {
        "colab_type": "code",
        "id": "8p3zWZBkn0As",
        "colab": {}
      },
      "source": [
        "from sklearn.feature_extraction.text import TfidfVectorizer\n",
        "from sklearn.preprocessing import normalize"
      ],
      "execution_count": 0,
      "outputs": []
    },
    {
      "cell_type": "code",
      "metadata": {
        "colab_type": "code",
        "id": "z4vmAQr3c-7B",
        "outputId": "9f1938df-4e04-4de3-ead8-5269f40ae217",
        "colab": {
          "base_uri": "https://localhost:8080/",
          "height": 34
        }
      },
      "source": [
        "\n",
        "df = pd.read_csv('/content/drive/My Drive/Train.csv',header = 0)\n",
        "print(len(df))"
      ],
      "execution_count": 6,
      "outputs": [
        {
          "output_type": "stream",
          "text": [
            "15663\n"
          ],
          "name": "stdout"
        }
      ]
    },
    {
      "cell_type": "code",
      "metadata": {
        "colab_type": "code",
        "id": "110wh3Rlecge",
        "colab": {}
      },
      "source": [
        "train=df.sample(frac=0.8,random_state=200) #random state is a seed value\n",
        "test=df.drop(train.index)"
      ],
      "execution_count": 0,
      "outputs": []
    },
    {
      "cell_type": "code",
      "metadata": {
        "colab_type": "code",
        "id": "YQWbtAKGegQF",
        "outputId": "0120c5f3-3270-4c81-cf38-5e038b903a13",
        "colab": {
          "base_uri": "https://localhost:8080/",
          "height": 34
        }
      },
      "source": [
        "train = np.array(train)\n",
        "test = np.array(test)\n",
        "labels_of_train=[]\n",
        "for row in train:\n",
        "    labels_of_train.append(row[2])\n",
        "text_of_train = []\n",
        "for row in train:\n",
        "    text_of_train.append(row[1])\n",
        "print(len(labels_of_train))    \n",
        "\n",
        "labels_of_test=[]\n",
        "for row in test:\n",
        "    labels_of_test.append(row[2])\n",
        "text_of_test = []\n",
        "for row in test:\n",
        "    text_of_test.append(row[1])"
      ],
      "execution_count": 8,
      "outputs": [
        {
          "output_type": "stream",
          "text": [
            "12530\n"
          ],
          "name": "stdout"
        }
      ]
    },
    {
      "cell_type": "code",
      "metadata": {
        "colab_type": "code",
        "id": "YZwQ6szvelm4",
        "colab": {}
      },
      "source": [
        "import string\n",
        "from collections import Counter\n",
        "final_list_train=[]\n",
        "for sent in text_of_train:\n",
        "    # print(\"1\")\n",
        "    sent = sent.lower()\n",
        "    sent = sent.translate(str.maketrans('', '', string.punctuation))\n",
        "    # print(\"sent1 \",sent)\n",
        "    from nltk.tokenize import word_tokenize\n",
        "    tokens = word_tokenize(sent)\n",
        "    # remove all tokens that are not alphabetic\n",
        "    words = [word for word in tokens if word.isalpha()]\n",
        "    #remove stopwords\n",
        "    from nltk.corpus import stopwords\n",
        "    stop_words = set(stopwords.words('english'))\n",
        "    words = [w for w in words if not w in stop_words]\n",
        "    sent=\" \".join(words)\n",
        "    # print(\"sentttt \",sent)\n",
        "    final_list_train.append(sent)\n",
        "    \n",
        "    "
      ],
      "execution_count": 0,
      "outputs": []
    },
    {
      "cell_type": "code",
      "metadata": {
        "colab_type": "code",
        "id": "bDWHJsQTfVMf",
        "colab": {}
      },
      "source": [
        "import string\n",
        "from collections import Counter\n",
        "final_list_test=[]\n",
        "for sent in text_of_test:\n",
        "    # print(\"1\")\n",
        "    sent = sent.lower()\n",
        "    sent = sent.translate(str.maketrans('', '', string.punctuation))\n",
        "    # print(\"senttttt \",sent)\n",
        "#     tokens= sent.split()\n",
        "    ###################################################\n",
        "    from nltk.tokenize import word_tokenize\n",
        "    tokens = word_tokenize(sent)\n",
        "    # remove all tokens that are not alphabetic\n",
        "    words = [word for word in tokens if word.isalpha()]\n",
        "    #remove stopwords\n",
        "    from nltk.corpus import stopwords\n",
        "    stop_words = set(stopwords.words('english'))\n",
        "    words = [w for w in words if not w in stop_words]\n",
        "    sent=\" \".join(words)\n",
        "    final_list_test.append(sent)"
      ],
      "execution_count": 0,
      "outputs": []
    },
    {
      "cell_type": "code",
      "metadata": {
        "colab_type": "code",
        "id": "Cps3Rezdfj7S",
        "colab": {}
      },
      "source": [
        "# model = KeyedVectors.load_word2vec_format('/content/drive/My Drive/GoogleNews-vectors-negative300.bin', binary=True)"
      ],
      "execution_count": 0,
      "outputs": []
    },
    {
      "cell_type": "code",
      "metadata": {
        "colab_type": "code",
        "id": "X1_fjWutpCja",
        "colab": {}
      },
      "source": [
        "# print(model.vector_size)"
      ],
      "execution_count": 0,
      "outputs": []
    },
    {
      "cell_type": "code",
      "metadata": {
        "colab_type": "code",
        "id": "mEQdrBlCvDJW",
        "outputId": "76e8ec86-d647-4215-dcfa-111efff8f355",
        "colab": {
          "base_uri": "https://localhost:8080/",
          "height": 221
        }
      },
      "source": [
        "from sklearn.feature_extraction.text import TfidfVectorizer\n",
        "from sklearn.preprocessing import normalize\n",
        "text = final_list_train\n",
        "vectorizer = TfidfVectorizer()\n",
        "vectorizer.fit(text)\n",
        "vector = vectorizer.fit_transform(text)\n",
        "vector = vector.todense()\n",
        "vector1 = vectorizer.transform(final_list_test)\n",
        "vector1 = vector1.todense()\n",
        "words = vectorizer.get_feature_names()\n",
        "# print(words)\n",
        "vector_norm_train = normalize(vector)\n",
        "print(vector_norm_train)\n",
        "print(vector_norm_train.shape)\n",
        "\n",
        "clf = svm.SVC(kernel='linear', C = 4.0)\n",
        "print((vector_norm_train).shape)\n",
        "print(len(labels_of_train))\n",
        "clf.fit(vector,labels_of_train)\n",
        "# print(clf.predict(vector1))\n",
        "predicted_label=clf.predict(vector1)   \n",
        "print(predicted_label)\n",
        "accu_score = accuracy_score(labels_of_test, predicted_label,normalize=True)\n",
        "print(accu_score)  "
      ],
      "execution_count": 0,
      "outputs": [
        {
          "output_type": "stream",
          "text": [
            "[[0. 0. 0. ... 0. 0. 0.]\n",
            " [0. 0. 0. ... 0. 0. 0.]\n",
            " [0. 0. 0. ... 0. 0. 0.]\n",
            " ...\n",
            " [0. 0. 0. ... 0. 0. 0.]\n",
            " [0. 0. 0. ... 0. 0. 0.]\n",
            " [0. 0. 0. ... 0. 0. 0.]]\n",
            "(12530, 21283)\n",
            "(12530, 21283)\n",
            "12530\n",
            "['EAP' 'MWS' 'MWS' ... 'EAP' 'HPL' 'MWS']\n",
            "0.7867858282796042\n"
          ],
          "name": "stdout"
        }
      ]
    },
    {
      "cell_type": "code",
      "metadata": {
        "colab_type": "code",
        "id": "ZIfAZYrI4AIL",
        "outputId": "8badddef-14e8-4ea2-8c1a-2c6b7f0c1285",
        "colab": {
          "base_uri": "https://localhost:8080/",
          "height": 408
        }
      },
      "source": [
        "f11 = f1_score(labels_of_test, predicted_label,average=None)\n",
        "re = recall_score(labels_of_test, predicted_label,average='weighted')\n",
        "cm = confusion_matrix(labels_of_test, predicted_label)\n",
        "pr_sc = precision_score(labels_of_test, predicted_label,average='weighted')\n",
        "clrp = classification_report(labels_of_test, predicted_label)\n",
        "print(\"****** LINEAR SVC ***************** WITH c = 4.0\")\n",
        "print(\"accuracy score \",accu_score)\n",
        "print(\"********************\")\n",
        "print(\"f1 score \",f11)\n",
        "print(\"********************\")\n",
        "print(\"recall score \",re)\n",
        "print(\"********************\")\n",
        "print(\"confusion matrix \",cm)\n",
        "print(\"********************\")\n",
        "print(\"precision score \",pr_sc)\n",
        "print(\"********************\")\n",
        "print(\"classification report \",clrp)"
      ],
      "execution_count": 0,
      "outputs": [
        {
          "output_type": "stream",
          "text": [
            "****** LINEAR SVC ***************** WITH c = 4.0\n",
            "accuracy score  0.7867858282796042\n",
            "********************\n",
            "f1 score  [0.79774011 0.76965979 0.78767877]\n",
            "********************\n",
            "recall score  0.7867858282796042\n",
            "********************\n",
            "confusion matrix  [[1059  114  118]\n",
            " [ 168  690   61]\n",
            " [ 137   70  716]]\n",
            "********************\n",
            "precision score  0.7871846886602186\n",
            "********************\n",
            "classification report                precision    recall  f1-score   support\n",
            "\n",
            "         EAP       0.78      0.82      0.80      1291\n",
            "         HPL       0.79      0.75      0.77       919\n",
            "         MWS       0.80      0.78      0.79       923\n",
            "\n",
            "    accuracy                           0.79      3133\n",
            "   macro avg       0.79      0.78      0.79      3133\n",
            "weighted avg       0.79      0.79      0.79      3133\n",
            "\n"
          ],
          "name": "stdout"
        }
      ]
    },
    {
      "cell_type": "code",
      "metadata": {
        "colab_type": "code",
        "id": "xeej7icT0DxI",
        "outputId": "ce166305-2feb-4678-b271-515bddbca7b0",
        "colab": {
          "base_uri": "https://localhost:8080/",
          "height": 476
        }
      },
      "source": [
        "clf = svm.SVC(kernel='linear', C = 1.0)\n",
        "print((vector_norm_train).shape)\n",
        "print(len(labels_of_train))\n",
        "clf.fit(vector,labels_of_train)\n",
        "# print(clf.predict(vector1))\n",
        "predicted_label=clf.predict(vector1)\n",
        "print(predicted_label)\n",
        "accu_score = accuracy_score(labels_of_test, predicted_label,normalize=True)\n",
        "print(accu_score) \n",
        "f11 = f1_score(labels_of_test, predicted_label,average=None)\n",
        "re = recall_score(labels_of_test, predicted_label,average='weighted')\n",
        "cm = confusion_matrix(labels_of_test, predicted_label)\n",
        "pr_sc = precision_score(labels_of_test, predicted_label,average='weighted')\n",
        "clrp = classification_report(labels_of_test, predicted_label)\n",
        "print(\"**********LINEAR SVC WITH C= 1.0 ***********\")\n",
        "print(\"accuracy score \",accu_score)\n",
        "print(\"********************\")\n",
        "print(\"f1 score \",f11)\n",
        "print(\"********************\")\n",
        "print(\"recall score \",re)\n",
        "print(\"********************\")\n",
        "print(\"confusion matrix \",cm)\n",
        "print(\"********************\")\n",
        "print(\"precision score \",pr_sc)\n",
        "print(\"********************\")\n",
        "print(\"classification report \",clrp)"
      ],
      "execution_count": 0,
      "outputs": [
        {
          "output_type": "stream",
          "text": [
            "(12530, 21283)\n",
            "12530\n",
            "['EAP' 'MWS' 'MWS' ... 'EAP' 'HPL' 'MWS']\n",
            "0.8037025215448452\n",
            "**********LINEAR SVC WITH C= 1.0 ***********\n",
            "accuracy score  0.8037025215448452\n",
            "********************\n",
            "f1 score  [0.81286982 0.78502552 0.80822679]\n",
            "********************\n",
            "recall score  0.8037025215448452\n",
            "********************\n",
            "confusion matrix  [[1099  103   89]\n",
            " [ 167  692   60]\n",
            " [ 147   49  727]]\n",
            "********************\n",
            "precision score  0.805493044962952\n",
            "********************\n",
            "classification report                precision    recall  f1-score   support\n",
            "\n",
            "         EAP       0.78      0.85      0.81      1291\n",
            "         HPL       0.82      0.75      0.79       919\n",
            "         MWS       0.83      0.79      0.81       923\n",
            "\n",
            "    accuracy                           0.80      3133\n",
            "   macro avg       0.81      0.80      0.80      3133\n",
            "weighted avg       0.81      0.80      0.80      3133\n",
            "\n"
          ],
          "name": "stdout"
        }
      ]
    },
    {
      "cell_type": "code",
      "metadata": {
        "colab_type": "code",
        "id": "dviIuwA61Z8Q",
        "outputId": "eca408e8-1c8d-4936-ebfc-22f8c211f61d",
        "colab": {
          "base_uri": "https://localhost:8080/",
          "height": 476
        }
      },
      "source": [
        "clf = svm.SVC(kernel='rbf', C = 1.0)\n",
        "print((vector_norm_train).shape)\n",
        "print(len(labels_of_train))\n",
        "clf.fit(vector,labels_of_train)\n",
        "# print(clf.predict(vector1))\n",
        "predicted_label=clf.predict(vector1)\n",
        "print(predicted_label)    \n",
        "accu_score = accuracy_score(labels_of_test, predicted_label,normalize=True)\n",
        "print(accu_score) \n",
        "f11 = f1_score(labels_of_test, predicted_label,average=None)\n",
        "re = recall_score(labels_of_test, predicted_label,average='weighted')\n",
        "cm = confusion_matrix(labels_of_test, predicted_label)\n",
        "pr_sc = precision_score(labels_of_test, predicted_label,average='weighted')\n",
        "clrp = classification_report(labels_of_test, predicted_label)\n",
        "print(\"**********RBF WITH C= 1.0 ***********\")\n",
        "print(\"accuracy score \",accu_score)\n",
        "print(\"********************\")\n",
        "print(\"f1 score \",f11)\n",
        "print(\"********************\")\n",
        "print(\"recall score \",re)\n",
        "print(\"********************\")\n",
        "print(\"confusion matrix \",cm)\n",
        "print(\"********************\")\n",
        "print(\"precision score \",pr_sc)\n",
        "print(\"********************\")\n",
        "print(\"classification report \",clrp)"
      ],
      "execution_count": 0,
      "outputs": [
        {
          "output_type": "stream",
          "text": [
            "(12530, 21283)\n",
            "12530\n",
            "['EAP' 'MWS' 'MWS' ... 'EAP' 'EAP' 'MWS']\n",
            "0.8027449728694542\n",
            "**********RBF WITH C= 1.0 ***********\n",
            "accuracy score  0.8027449728694542\n",
            "********************\n",
            "f1 score  [0.81645796 0.77641565 0.80659841]\n",
            "********************\n",
            "recall score  0.8027449728694542\n",
            "********************\n",
            "confusion matrix  [[1141   79   71]\n",
            " [ 199  665   55]\n",
            " [ 164   50  709]]\n",
            "********************\n",
            "precision score  0.8084332280327363\n",
            "********************\n",
            "classification report                precision    recall  f1-score   support\n",
            "\n",
            "         EAP       0.76      0.88      0.82      1291\n",
            "         HPL       0.84      0.72      0.78       919\n",
            "         MWS       0.85      0.77      0.81       923\n",
            "\n",
            "    accuracy                           0.80      3133\n",
            "   macro avg       0.82      0.79      0.80      3133\n",
            "weighted avg       0.81      0.80      0.80      3133\n",
            "\n"
          ],
          "name": "stdout"
        }
      ]
    },
    {
      "cell_type": "code",
      "metadata": {
        "colab_type": "code",
        "id": "qNNnI0tRVp2Y",
        "outputId": "902217ea-28b5-4ca6-ce07-e80ac3329e9e",
        "colab": {
          "base_uri": "https://localhost:8080/",
          "height": 153
        }
      },
      "source": [
        "from sklearn.feature_extraction.text import TfidfVectorizer\n",
        "from sklearn.preprocessing import normalize\n",
        "text = final_list_train\n",
        "vectorizer = TfidfVectorizer()\n",
        "vectorizer.fit(text)\n",
        "vector = vectorizer.fit_transform(text)\n",
        "vector = vector.todense()\n",
        "vector1 = vectorizer.transform(final_list_test)\n",
        "vector1 = vector1.todense()\n",
        "words = vectorizer.get_feature_names()\n",
        "# print(words)\n",
        "vector_norm_train = normalize(vector)\n",
        "print(vector_norm_train)\n",
        "print(vector_norm_train.shape)"
      ],
      "execution_count": 0,
      "outputs": [
        {
          "output_type": "stream",
          "text": [
            "[[0. 0. 0. ... 0. 0. 0.]\n",
            " [0. 0. 0. ... 0. 0. 0.]\n",
            " [0. 0. 0. ... 0. 0. 0.]\n",
            " ...\n",
            " [0. 0. 0. ... 0. 0. 0.]\n",
            " [0. 0. 0. ... 0. 0. 0.]\n",
            " [0. 0. 0. ... 0. 0. 0.]]\n",
            "(12530, 21283)\n"
          ],
          "name": "stdout"
        }
      ]
    },
    {
      "cell_type": "code",
      "metadata": {
        "colab_type": "code",
        "id": "ve9yYzT708zG",
        "outputId": "b72646ff-a9be-46f2-acc6-a41fc52cbd2e",
        "colab": {
          "base_uri": "https://localhost:8080/",
          "height": 51
        }
      },
      "source": [
        "clf = svm.SVC(kernel='poly', C = 1.0,degree=3)\n",
        "print((vector_norm_train).shape)\n",
        "print(len(labels_of_train))\n",
        "clf.fit(vector,labels_of_train)\n",
        "# print(clf.predict(vector1))\n",
        "predicted_label=clf.predict(vector1) \n",
        "print(predicted_label)   \n",
        "accu_score = accuracy_score(labels_of_test, predicted_label,normalize=True)\n",
        "print(accu_score) \n",
        "f11 = f1_score(labels_of_test, predicted_label,average=None)\n",
        "re = recall_score(labels_of_test, predicted_label,average='weighted')\n",
        "cm = confusion_matrix(labels_of_test, predicted_label)\n",
        "pr_sc = precision_score(labels_of_test, predicted_label,average='weighted')\n",
        "clrp = classification_report(labels_of_test, predicted_label)\n",
        "print(\"**********POLY WITH C= 1.0 ***********\")\n",
        "print(\"accuracy score \",accu_score)\n",
        "print(\"********************\")\n",
        "print(\"f1 score \",f11)\n",
        "print(\"********************\")\n",
        "print(\"recall score \",re)\n",
        "print(\"********************\")\n",
        "print(\"confusion matrix \",cm)\n",
        "print(\"********************\")\n",
        "print(\"precision score \",pr_sc)\n",
        "print(\"********************\")\n",
        "print(\"classification report \",clrp)"
      ],
      "execution_count": 0,
      "outputs": [
        {
          "output_type": "stream",
          "text": [
            "(12530, 21283)\n",
            "12530\n",
            "['EAP' 'EAP' 'EAP' ... 'EAP' 'EAP' 'EAP']\n",
            "0.44398340248962653\n",
            "**********POLY WITH C= 1.0 ***********\n",
            "accuracy score  0.44398340248962653\n",
            "********************\n",
            "f1 score  [0.59473316 0.04250797 0.18375242]\n",
            "********************\n",
            "recall score  0.44398340248962653\n",
            "********************\n",
            "confusion matrix  [[1276    2   13]\n",
            " [ 896   20    3]\n",
            " [ 828    0   95]]\n",
            "********************\n",
            "precision score  0.6940679328895096\n",
            "********************\n",
            "classification report                precision    recall  f1-score   support\n",
            "\n",
            "         EAP       0.43      0.99      0.59      1291\n",
            "         HPL       0.91      0.02      0.04       919\n",
            "         MWS       0.86      0.10      0.18       923\n",
            "\n",
            "    accuracy                           0.44      3133\n",
            "   macro avg       0.73      0.37      0.27      3133\n",
            "weighted avg       0.69      0.44      0.31      3133\n",
            "\n"
          ],
          "name": "stdout"
        }
      ]
    },
    {
      "cell_type": "code",
      "metadata": {
        "colab_type": "code",
        "id": "bilLbMpeVp2g",
        "colab": {},
        "outputId": "f17de275-4509-4d2f-da67-7a707e3aecda"
      },
      "source": [
        "clf = svm.SVC(kernel='rbf', C = 2.0,gamma=0.7)\n",
        "print((vector_norm_train).shape)\n",
        "print(len(labels_of_train))\n",
        "clf.fit(vector,labels_of_train)\n",
        "# print(clf.predict(vector1))\n",
        "predicted_label=clf.predict(vector1)\n",
        "print(predicted_label)    \n",
        "accu_score = accuracy_score(labels_of_test, predicted_label,normalize=True)\n",
        "print(accu_score) \n",
        "f11 = f1_score(labels_of_test, predicted_label,average=None)\n",
        "re = recall_score(labels_of_test, predicted_label,average='weighted')\n",
        "cm = confusion_matrix(labels_of_test, predicted_label)\n",
        "pr_sc = precision_score(labels_of_test, predicted_label,average='weighted')\n",
        "clrp = classification_report(labels_of_test, predicted_label)\n",
        "print(\"**********RBF WITH C= 2.0 ***********\")\n",
        "print(\"accuracy score \",accu_score)\n",
        "print(\"********************\")\n",
        "print(\"f1 score \",f11)\n",
        "print(\"********************\")\n",
        "print(\"recall score \",re)\n",
        "print(\"********************\")\n",
        "print(\"confusion matrix \",cm)\n",
        "print(\"********************\")\n",
        "print(\"precision score \",pr_sc)\n",
        "print(\"********************\")\n",
        "print(\"classification report \",clrp)"
      ],
      "execution_count": 0,
      "outputs": [
        {
          "output_type": "stream",
          "text": [
            "(12530, 21283)\n",
            "12530\n",
            "['EAP' 'MWS' 'MWS' ... 'EAP' 'HPL' 'MWS']\n",
            "0.8129588254069582\n",
            "**********RBF WITH C= 2.0 ***********\n",
            "accuracy score  0.8129588254069582\n",
            "********************\n",
            "f1 score  [0.82305135 0.79500284 0.81535039]\n",
            "********************\n",
            "recall score  0.8129588254069582\n",
            "********************\n",
            "confusion matrix  [[1114   90   87]\n",
            " [ 164  700   55]\n",
            " [ 138   52  733]]\n",
            "********************\n",
            "precision score  0.8148369428712201\n",
            "********************\n",
            "classification report                precision    recall  f1-score   support\n",
            "\n",
            "         EAP       0.79      0.86      0.82      1291\n",
            "         HPL       0.83      0.76      0.80       919\n",
            "         MWS       0.84      0.79      0.82       923\n",
            "\n",
            "    accuracy                           0.81      3133\n",
            "   macro avg       0.82      0.81      0.81      3133\n",
            "weighted avg       0.81      0.81      0.81      3133\n",
            "\n"
          ],
          "name": "stdout"
        }
      ]
    },
    {
      "cell_type": "code",
      "metadata": {
        "id": "DEx0wvaN9SUY",
        "colab_type": "code",
        "colab": {
          "base_uri": "https://localhost:8080/",
          "height": 221
        },
        "outputId": "1626c628-23ae-4315-be5f-f93984dbacb4"
      },
      "source": [
        "from sklearn.svm import LinearSVC\n",
        "from sklearn.feature_extraction.text import TfidfVectorizer\n",
        "from sklearn.preprocessing import normalize\n",
        "text = final_list_train\n",
        "vectorizer = TfidfVectorizer()\n",
        "vectorizer.fit(text)\n",
        "vector = vectorizer.fit_transform(text)\n",
        "vector = vector.todense()\n",
        "vector1 = vectorizer.transform(final_list_test)\n",
        "vector1 = vector1.todense()\n",
        "words = vectorizer.get_feature_names()\n",
        "# print(words)\n",
        "vector_norm_train = normalize(vector)\n",
        "print(vector_norm_train)\n",
        "print(vector_norm_train.shape)\n",
        "\n",
        "clf = LinearSVC(random_state=0, tol=1e-5,max_iter=5000,C=0.1)\n",
        "print((vector_norm_train).shape)\n",
        "print(len(labels_of_train))\n",
        "clf.fit(vector,labels_of_train)\n",
        "# print(clf.predict(vector1))\n",
        "predicted_label=clf.predict(vector1)   \n",
        "print(predicted_label)\n",
        "accu_score = accuracy_score(labels_of_test, predicted_label,normalize=True)\n",
        "print(\"accuracy score with linear svm and c=0.1\",accu_score)  "
      ],
      "execution_count": 11,
      "outputs": [
        {
          "output_type": "stream",
          "text": [
            "[[0. 0. 0. ... 0. 0. 0.]\n",
            " [0. 0. 0. ... 0. 0. 0.]\n",
            " [0. 0. 0. ... 0. 0. 0.]\n",
            " ...\n",
            " [0. 0. 0. ... 0. 0. 0.]\n",
            " [0. 0. 0. ... 0. 0. 0.]\n",
            " [0. 0. 0. ... 0. 0. 0.]]\n",
            "(12530, 21283)\n",
            "(12530, 21283)\n",
            "12530\n",
            "['EAP' 'MWS' 'MWS' ... 'EAP' 'MWS' 'MWS']\n",
            "accuracy score with linear svm and c=0.1 0.8001915097350782\n"
          ],
          "name": "stdout"
        }
      ]
    },
    {
      "cell_type": "code",
      "metadata": {
        "id": "8N_PRxMU_O0k",
        "colab_type": "code",
        "colab": {
          "base_uri": "https://localhost:8080/",
          "height": 221
        },
        "outputId": "86de04eb-5b25-452e-f2e4-807e52080a1a"
      },
      "source": [
        "from sklearn.svm import LinearSVC\n",
        "from sklearn.feature_extraction.text import TfidfVectorizer\n",
        "from sklearn.preprocessing import normalize\n",
        "text = final_list_train\n",
        "vectorizer = TfidfVectorizer()\n",
        "vectorizer.fit(text)\n",
        "vector = vectorizer.fit_transform(text)\n",
        "vector = vector.todense()\n",
        "vector1 = vectorizer.transform(final_list_test)\n",
        "vector1 = vector1.todense()\n",
        "words = vectorizer.get_feature_names()\n",
        "# print(words)\n",
        "vector_norm_train = normalize(vector)\n",
        "print(vector_norm_train)\n",
        "print(vector_norm_train.shape)\n",
        "\n",
        "clf = LinearSVC(random_state=0, tol=1e-5,max_iter=5000,C=50)\n",
        "print((vector_norm_train).shape)\n",
        "print(len(labels_of_train))\n",
        "clf.fit(vector,labels_of_train)\n",
        "# print(clf.predict(vector1))\n",
        "predicted_label=clf.predict(vector1)   \n",
        "print(predicted_label)\n",
        "accu_score = accuracy_score(labels_of_test, predicted_label,normalize=True)\n",
        "print(\"accuracy score with linear svm and c= 50 \",accu_score)  "
      ],
      "execution_count": 13,
      "outputs": [
        {
          "output_type": "stream",
          "text": [
            "[[0. 0. 0. ... 0. 0. 0.]\n",
            " [0. 0. 0. ... 0. 0. 0.]\n",
            " [0. 0. 0. ... 0. 0. 0.]\n",
            " ...\n",
            " [0. 0. 0. ... 0. 0. 0.]\n",
            " [0. 0. 0. ... 0. 0. 0.]\n",
            " [0. 0. 0. ... 0. 0. 0.]]\n",
            "(12530, 21283)\n",
            "(12530, 21283)\n",
            "12530\n",
            "['EAP' 'MWS' 'MWS' ... 'EAP' 'HPL' 'MWS']\n",
            "accuracy score with linear svm and c= 50  0.7583785509096712\n"
          ],
          "name": "stdout"
        }
      ]
    },
    {
      "cell_type": "code",
      "metadata": {
        "colab_type": "code",
        "id": "ybABJ9hMVp2j",
        "colab": {}
      },
      "source": [
        ""
      ],
      "execution_count": 0,
      "outputs": []
    },
    {
      "cell_type": "code",
      "metadata": {
        "colab_type": "code",
        "id": "OLrEkpo5Vp2n",
        "colab": {}
      },
      "source": [
        ""
      ],
      "execution_count": 0,
      "outputs": []
    }
  ]
}