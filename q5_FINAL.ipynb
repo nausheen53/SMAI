{
  "nbformat": 4,
  "nbformat_minor": 0,
  "metadata": {
    "colab": {
      "name": "q5_FINAL.ipynb",
      "provenance": [],
      "collapsed_sections": [],
      "mount_file_id": "1wEEV0Fgvbr05bCQRz0n7houvHqY-vfao",
      "authorship_tag": "ABX9TyO3PZLXqBJk9dcUFpPizX2g",
      "include_colab_link": true
    },
    "kernelspec": {
      "name": "python3",
      "display_name": "Python 3"
    },
    "accelerator": "GPU"
  },
  "cells": [
    {
      "cell_type": "markdown",
      "metadata": {
        "id": "view-in-github",
        "colab_type": "text"
      },
      "source": [
        "<a href=\"https://colab.research.google.com/github/nausheen53/SMAI/blob/master/q5_FINAL.ipynb\" target=\"_parent\"><img src=\"https://colab.research.google.com/assets/colab-badge.svg\" alt=\"Open In Colab\"/></a>"
      ]
    },
    {
      "cell_type": "code",
      "metadata": {
        "id": "pFth3TKTYdjy",
        "colab_type": "code",
        "outputId": "2bd95bfe-f44f-4f1e-a44a-03207220a9db",
        "colab": {
          "base_uri": "https://localhost:8080/",
          "height": 34
        }
      },
      "source": [
        "from google.colab import drive\n",
        "drive.mount('/content/drive')\n"
      ],
      "execution_count": 2,
      "outputs": [
        {
          "output_type": "stream",
          "text": [
            "Drive already mounted at /content/drive; to attempt to forcibly remount, call drive.mount(\"/content/drive\", force_remount=True).\n"
          ],
          "name": "stdout"
        }
      ]
    },
    {
      "cell_type": "code",
      "metadata": {
        "id": "-MLocwk80B3U",
        "colab_type": "code",
        "colab": {}
      },
      "source": [
        ""
      ],
      "execution_count": 0,
      "outputs": []
    },
    {
      "cell_type": "code",
      "metadata": {
        "id": "0mtMPAJSc4Ew",
        "colab_type": "code",
        "outputId": "10b565aa-06a4-41bd-c8ac-683ff933d5e4",
        "colab": {
          "base_uri": "https://localhost:8080/",
          "height": 119
        }
      },
      "source": [
        "import os\n",
        "import ssl\n",
        "import sklearn\n",
        "import numpy as np\n",
        "import spacy\n",
        "import re\n",
        "import gensim\n",
        "from gensim.models.keyedvectors import KeyedVectors\n",
        "import pandas as pd\n",
        "import matplotlib.pyplot as plt\n",
        "from matplotlib import style\n",
        "style.use(\"ggplot\")\n",
        "from sklearn import svm\n",
        "import textblob\n",
        "from textblob import TextBlob, Word\n",
        "from sklearn.metrics import accuracy_score, f1_score, precision_score, recall_score, classification_report, confusion_matrix\n",
        "import nltk\n",
        "nltk.download(\"stopwords\")\n",
        "nltk.download(\"punkt\")\n",
        "nltk.download(\"wordnet\")\n",
        "from nltk.corpus import wordnet as wn\n",
        "from nltk.stem.wordnet import WordNetLemmatizer"
      ],
      "execution_count": 3,
      "outputs": [
        {
          "output_type": "stream",
          "text": [
            "[nltk_data] Downloading package stopwords to /root/nltk_data...\n",
            "[nltk_data]   Package stopwords is already up-to-date!\n",
            "[nltk_data] Downloading package punkt to /root/nltk_data...\n",
            "[nltk_data]   Package punkt is already up-to-date!\n",
            "[nltk_data] Downloading package wordnet to /root/nltk_data...\n",
            "[nltk_data]   Package wordnet is already up-to-date!\n"
          ],
          "name": "stdout"
        }
      ]
    },
    {
      "cell_type": "code",
      "metadata": {
        "id": "8p3zWZBkn0As",
        "colab_type": "code",
        "colab": {}
      },
      "source": [
        "from sklearn.feature_extraction.text import TfidfVectorizer\n",
        "from sklearn.preprocessing import normalize"
      ],
      "execution_count": 0,
      "outputs": []
    },
    {
      "cell_type": "code",
      "metadata": {
        "id": "z4vmAQr3c-7B",
        "colab_type": "code",
        "outputId": "7bde9245-65ca-4bc1-dc16-c72bc93ab358",
        "colab": {
          "base_uri": "https://localhost:8080/",
          "height": 34
        }
      },
      "source": [
        "\n",
        "df = pd.read_csv('/content/drive/My Drive/Train.csv',header = 0)\n",
        "print(len(df))"
      ],
      "execution_count": 5,
      "outputs": [
        {
          "output_type": "stream",
          "text": [
            "15663\n"
          ],
          "name": "stdout"
        }
      ]
    },
    {
      "cell_type": "code",
      "metadata": {
        "id": "110wh3Rlecge",
        "colab_type": "code",
        "colab": {}
      },
      "source": [
        "train=df.sample(frac=0.8,random_state=200) #random state is a seed value\n",
        "test=df.drop(train.index)"
      ],
      "execution_count": 0,
      "outputs": []
    },
    {
      "cell_type": "code",
      "metadata": {
        "id": "YQWbtAKGegQF",
        "colab_type": "code",
        "outputId": "cdc76991-704a-442c-9590-9abebb40d562",
        "colab": {
          "base_uri": "https://localhost:8080/",
          "height": 34
        }
      },
      "source": [
        "train = np.array(train)\n",
        "test = np.array(test)\n",
        "labels_of_train=[]\n",
        "for row in train:\n",
        "    labels_of_train.append(row[2])\n",
        "text_of_train = []\n",
        "for row in train:\n",
        "    text_of_train.append(row[1])\n",
        "print(len(labels_of_train))    \n",
        "\n",
        "labels_of_test=[]\n",
        "for row in test:\n",
        "    labels_of_test.append(row[2])\n",
        "text_of_test = []\n",
        "for row in test:\n",
        "    text_of_test.append(row[1])"
      ],
      "execution_count": 7,
      "outputs": [
        {
          "output_type": "stream",
          "text": [
            "12530\n"
          ],
          "name": "stdout"
        }
      ]
    },
    {
      "cell_type": "code",
      "metadata": {
        "id": "YZwQ6szvelm4",
        "colab_type": "code",
        "colab": {}
      },
      "source": [
        "import string\n",
        "from collections import Counter\n",
        "final_list_train=[]\n",
        "for sent in text_of_train:\n",
        "    # print(\"1\")\n",
        "    sent = sent.lower()\n",
        "    sent = sent.translate(str.maketrans('', '', string.punctuation))\n",
        "    # print(\"sent1 \",sent)\n",
        "    from nltk.tokenize import word_tokenize\n",
        "    tokens = word_tokenize(sent)\n",
        "    # remove all tokens that are not alphabetic\n",
        "    words = [word for word in tokens if word.isalpha()]\n",
        "    #remove stopwords\n",
        "    from nltk.corpus import stopwords\n",
        "    stop_words = set(stopwords.words('english'))\n",
        "    words = [w for w in words if not w in stop_words]\n",
        "    sent=\" \".join(words)\n",
        "    # print(\"sentttt \",sent)\n",
        "    final_list_train.append(sent)\n",
        "    \n",
        "    "
      ],
      "execution_count": 0,
      "outputs": []
    },
    {
      "cell_type": "code",
      "metadata": {
        "id": "bDWHJsQTfVMf",
        "colab_type": "code",
        "colab": {}
      },
      "source": [
        "import string\n",
        "from collections import Counter\n",
        "final_list_test=[]\n",
        "for sent in text_of_test:\n",
        "    # print(\"1\")\n",
        "    sent = sent.lower()\n",
        "    sent = sent.translate(str.maketrans('', '', string.punctuation))\n",
        "    # print(\"senttttt \",sent)\n",
        "#     tokens= sent.split()\n",
        "    ###################################################\n",
        "    from nltk.tokenize import word_tokenize\n",
        "    tokens = word_tokenize(sent)\n",
        "    # remove all tokens that are not alphabetic\n",
        "    words = [word for word in tokens if word.isalpha()]\n",
        "    #remove stopwords\n",
        "    from nltk.corpus import stopwords\n",
        "    stop_words = set(stopwords.words('english'))\n",
        "    words = [w for w in words if not w in stop_words]\n",
        "    sent=\" \".join(words)\n",
        "    final_list_test.append(sent)"
      ],
      "execution_count": 0,
      "outputs": []
    },
    {
      "cell_type": "code",
      "metadata": {
        "id": "Cps3Rezdfj7S",
        "colab_type": "code",
        "outputId": "4027c027-089b-47f7-a8ed-7be514a7ec56",
        "colab": {
          "base_uri": "https://localhost:8080/",
          "height": 360
        }
      },
      "source": [
        "model = KeyedVectors.load_word2vec_format('/content/drive/My Drive/GoogleNews-vectors-negative300.bin', binary=True)"
      ],
      "execution_count": 10,
      "outputs": [
        {
          "output_type": "stream",
          "text": [
            "/usr/local/lib/python3.6/dist-packages/smart_open/smart_open_lib.py:402: UserWarning: This function is deprecated, use smart_open.open instead. See the migration notes for details: https://github.com/RaRe-Technologies/smart_open/blob/master/README.rst#migrating-to-the-new-open-function\n",
            "  'See the migration notes for details: %s' % _MIGRATION_NOTES_URL\n"
          ],
          "name": "stderr"
        },
        {
          "output_type": "error",
          "ename": "KeyboardInterrupt",
          "evalue": "ignored",
          "traceback": [
            "\u001b[0;31m---------------------------------------------------------------------------\u001b[0m",
            "\u001b[0;31mKeyboardInterrupt\u001b[0m                         Traceback (most recent call last)",
            "\u001b[0;32m<ipython-input-10-90a197c15a9d>\u001b[0m in \u001b[0;36m<module>\u001b[0;34m()\u001b[0m\n\u001b[0;32m----> 1\u001b[0;31m \u001b[0mmodel\u001b[0m \u001b[0;34m=\u001b[0m \u001b[0mKeyedVectors\u001b[0m\u001b[0;34m.\u001b[0m\u001b[0mload_word2vec_format\u001b[0m\u001b[0;34m(\u001b[0m\u001b[0;34m'/content/drive/My Drive/GoogleNews-vectors-negative300.bin'\u001b[0m\u001b[0;34m,\u001b[0m \u001b[0mbinary\u001b[0m\u001b[0;34m=\u001b[0m\u001b[0;32mTrue\u001b[0m\u001b[0;34m)\u001b[0m\u001b[0;34m\u001b[0m\u001b[0;34m\u001b[0m\u001b[0m\n\u001b[0m",
            "\u001b[0;32m/usr/local/lib/python3.6/dist-packages/gensim/models/keyedvectors.py\u001b[0m in \u001b[0;36mload_word2vec_format\u001b[0;34m(cls, fname, fvocab, binary, encoding, unicode_errors, limit, datatype)\u001b[0m\n\u001b[1;32m   1436\u001b[0m         return _load_word2vec_format(\n\u001b[1;32m   1437\u001b[0m             \u001b[0mcls\u001b[0m\u001b[0;34m,\u001b[0m \u001b[0mfname\u001b[0m\u001b[0;34m,\u001b[0m \u001b[0mfvocab\u001b[0m\u001b[0;34m=\u001b[0m\u001b[0mfvocab\u001b[0m\u001b[0;34m,\u001b[0m \u001b[0mbinary\u001b[0m\u001b[0;34m=\u001b[0m\u001b[0mbinary\u001b[0m\u001b[0;34m,\u001b[0m \u001b[0mencoding\u001b[0m\u001b[0;34m=\u001b[0m\u001b[0mencoding\u001b[0m\u001b[0;34m,\u001b[0m \u001b[0municode_errors\u001b[0m\u001b[0;34m=\u001b[0m\u001b[0municode_errors\u001b[0m\u001b[0;34m,\u001b[0m\u001b[0;34m\u001b[0m\u001b[0;34m\u001b[0m\u001b[0m\n\u001b[0;32m-> 1438\u001b[0;31m             limit=limit, datatype=datatype)\n\u001b[0m\u001b[1;32m   1439\u001b[0m \u001b[0;34m\u001b[0m\u001b[0m\n\u001b[1;32m   1440\u001b[0m     \u001b[0;32mdef\u001b[0m \u001b[0mget_keras_embedding\u001b[0m\u001b[0;34m(\u001b[0m\u001b[0mself\u001b[0m\u001b[0;34m,\u001b[0m \u001b[0mtrain_embeddings\u001b[0m\u001b[0;34m=\u001b[0m\u001b[0;32mFalse\u001b[0m\u001b[0;34m)\u001b[0m\u001b[0;34m:\u001b[0m\u001b[0;34m\u001b[0m\u001b[0;34m\u001b[0m\u001b[0m\n",
            "\u001b[0;32m/usr/local/lib/python3.6/dist-packages/gensim/models/utils_any2vec.py\u001b[0m in \u001b[0;36m_load_word2vec_format\u001b[0;34m(cls, fname, fvocab, binary, encoding, unicode_errors, limit, datatype)\u001b[0m\n\u001b[1;32m    210\u001b[0m                         \u001b[0mword\u001b[0m\u001b[0;34m.\u001b[0m\u001b[0mappend\u001b[0m\u001b[0;34m(\u001b[0m\u001b[0mch\u001b[0m\u001b[0;34m)\u001b[0m\u001b[0;34m\u001b[0m\u001b[0;34m\u001b[0m\u001b[0m\n\u001b[1;32m    211\u001b[0m                 \u001b[0mword\u001b[0m \u001b[0;34m=\u001b[0m \u001b[0mutils\u001b[0m\u001b[0;34m.\u001b[0m\u001b[0mto_unicode\u001b[0m\u001b[0;34m(\u001b[0m\u001b[0;34mb''\u001b[0m\u001b[0;34m.\u001b[0m\u001b[0mjoin\u001b[0m\u001b[0;34m(\u001b[0m\u001b[0mword\u001b[0m\u001b[0;34m)\u001b[0m\u001b[0;34m,\u001b[0m \u001b[0mencoding\u001b[0m\u001b[0;34m=\u001b[0m\u001b[0mencoding\u001b[0m\u001b[0;34m,\u001b[0m \u001b[0merrors\u001b[0m\u001b[0;34m=\u001b[0m\u001b[0municode_errors\u001b[0m\u001b[0;34m)\u001b[0m\u001b[0;34m\u001b[0m\u001b[0;34m\u001b[0m\u001b[0m\n\u001b[0;32m--> 212\u001b[0;31m                 \u001b[0mweights\u001b[0m \u001b[0;34m=\u001b[0m \u001b[0mfromstring\u001b[0m\u001b[0;34m(\u001b[0m\u001b[0mfin\u001b[0m\u001b[0;34m.\u001b[0m\u001b[0mread\u001b[0m\u001b[0;34m(\u001b[0m\u001b[0mbinary_len\u001b[0m\u001b[0;34m)\u001b[0m\u001b[0;34m,\u001b[0m \u001b[0mdtype\u001b[0m\u001b[0;34m=\u001b[0m\u001b[0mREAL\u001b[0m\u001b[0;34m)\u001b[0m\u001b[0;34m.\u001b[0m\u001b[0mastype\u001b[0m\u001b[0;34m(\u001b[0m\u001b[0mdatatype\u001b[0m\u001b[0;34m)\u001b[0m\u001b[0;34m\u001b[0m\u001b[0;34m\u001b[0m\u001b[0m\n\u001b[0m\u001b[1;32m    213\u001b[0m                 \u001b[0madd_word\u001b[0m\u001b[0;34m(\u001b[0m\u001b[0mword\u001b[0m\u001b[0;34m,\u001b[0m \u001b[0mweights\u001b[0m\u001b[0;34m)\u001b[0m\u001b[0;34m\u001b[0m\u001b[0;34m\u001b[0m\u001b[0m\n\u001b[1;32m    214\u001b[0m         \u001b[0;32melse\u001b[0m\u001b[0;34m:\u001b[0m\u001b[0;34m\u001b[0m\u001b[0;34m\u001b[0m\u001b[0m\n",
            "\u001b[0;31mKeyboardInterrupt\u001b[0m: "
          ]
        }
      ]
    },
    {
      "cell_type": "code",
      "metadata": {
        "id": "X1_fjWutpCja",
        "colab_type": "code",
        "outputId": "fb07cb49-72c3-45a1-a0d4-df00447b7621",
        "colab": {
          "base_uri": "https://localhost:8080/",
          "height": 34
        }
      },
      "source": [
        "print(model.vector_size)"
      ],
      "execution_count": 0,
      "outputs": [
        {
          "output_type": "stream",
          "text": [
            "300\n"
          ],
          "name": "stdout"
        }
      ]
    },
    {
      "cell_type": "code",
      "metadata": {
        "id": "mEQdrBlCvDJW",
        "colab_type": "code",
        "outputId": "76e8ec86-d647-4215-dcfa-111efff8f355",
        "colab": {
          "base_uri": "https://localhost:8080/",
          "height": 221
        }
      },
      "source": [
        "from sklearn.feature_extraction.text import TfidfVectorizer\n",
        "from sklearn.preprocessing import normalize\n",
        "text = final_list_train\n",
        "vectorizer = TfidfVectorizer()\n",
        "vectorizer.fit(text)\n",
        "vector = vectorizer.fit_transform(text)\n",
        "vector = vector.todense()\n",
        "vector1 = vectorizer.transform(final_list_test)\n",
        "vector1 = vector1.todense()\n",
        "words = vectorizer.get_feature_names()\n",
        "# print(words)\n",
        "vector_norm_train = normalize(vector)\n",
        "print(vector_norm_train)\n",
        "print(vector_norm_train.shape)\n",
        "\n",
        "clf = svm.SVC(kernel='linear', C = 4.0)\n",
        "print((vector_norm_train).shape)\n",
        "print(len(labels_of_train))\n",
        "clf.fit(vector,labels_of_train)\n",
        "print(clf.predict(vector1))\n",
        "predicted_label=clf.predict(vector1)    \n",
        "accu_score = accuracy_score(labels_of_test, predicted_label,normalize=True)\n",
        "print(accu_score)  "
      ],
      "execution_count": 10,
      "outputs": [
        {
          "output_type": "stream",
          "text": [
            "[[0. 0. 0. ... 0. 0. 0.]\n",
            " [0. 0. 0. ... 0. 0. 0.]\n",
            " [0. 0. 0. ... 0. 0. 0.]\n",
            " ...\n",
            " [0. 0. 0. ... 0. 0. 0.]\n",
            " [0. 0. 0. ... 0. 0. 0.]\n",
            " [0. 0. 0. ... 0. 0. 0.]]\n",
            "(12530, 21283)\n",
            "(12530, 21283)\n",
            "12530\n",
            "['EAP' 'MWS' 'MWS' ... 'EAP' 'HPL' 'MWS']\n",
            "0.7867858282796042\n"
          ],
          "name": "stdout"
        }
      ]
    },
    {
      "cell_type": "code",
      "metadata": {
        "id": "ZIfAZYrI4AIL",
        "colab_type": "code",
        "outputId": "8badddef-14e8-4ea2-8c1a-2c6b7f0c1285",
        "colab": {
          "base_uri": "https://localhost:8080/",
          "height": 408
        }
      },
      "source": [
        "f11 = f1_score(labels_of_test, predicted_label,average=None)\n",
        "re = recall_score(labels_of_test, predicted_label,average='weighted')\n",
        "cm = confusion_matrix(labels_of_test, predicted_label)\n",
        "pr_sc = precision_score(labels_of_test, predicted_label,average='weighted')\n",
        "clrp = classification_report(labels_of_test, predicted_label)\n",
        "print(\"****** LINEAR SVC ***************** WITH c = 4.0\")\n",
        "print(\"accuracy score \",accu_score)\n",
        "print(\"********************\")\n",
        "print(\"f1 score \",f11)\n",
        "print(\"********************\")\n",
        "print(\"recall score \",re)\n",
        "print(\"********************\")\n",
        "print(\"confusion matrix \",cm)\n",
        "print(\"********************\")\n",
        "print(\"precision score \",pr_sc)\n",
        "print(\"********************\")\n",
        "print(\"classification report \",clrp)"
      ],
      "execution_count": 11,
      "outputs": [
        {
          "output_type": "stream",
          "text": [
            "****** LINEAR SVC ***************** WITH c = 4.0\n",
            "accuracy score  0.7867858282796042\n",
            "********************\n",
            "f1 score  [0.79774011 0.76965979 0.78767877]\n",
            "********************\n",
            "recall score  0.7867858282796042\n",
            "********************\n",
            "confusion matrix  [[1059  114  118]\n",
            " [ 168  690   61]\n",
            " [ 137   70  716]]\n",
            "********************\n",
            "precision score  0.7871846886602186\n",
            "********************\n",
            "classification report                precision    recall  f1-score   support\n",
            "\n",
            "         EAP       0.78      0.82      0.80      1291\n",
            "         HPL       0.79      0.75      0.77       919\n",
            "         MWS       0.80      0.78      0.79       923\n",
            "\n",
            "    accuracy                           0.79      3133\n",
            "   macro avg       0.79      0.78      0.79      3133\n",
            "weighted avg       0.79      0.79      0.79      3133\n",
            "\n"
          ],
          "name": "stdout"
        }
      ]
    },
    {
      "cell_type": "code",
      "metadata": {
        "id": "xeej7icT0DxI",
        "colab_type": "code",
        "colab": {
          "base_uri": "https://localhost:8080/",
          "height": 476
        },
        "outputId": "ff87af43-8ad7-42d8-abb8-d8fcc27b66a5"
      },
      "source": [
        "clf = svm.SVC(kernel='linear', C = 1.0)\n",
        "print((vector_norm_train).shape)\n",
        "print(len(labels_of_train))\n",
        "clf.fit(vector,labels_of_train)\n",
        "print(clf.predict(vector1))\n",
        "predicted_label=clf.predict(vector1)    \n",
        "accu_score = accuracy_score(labels_of_test, predicted_label,normalize=True)\n",
        "print(accu_score) \n",
        "f11 = f1_score(labels_of_test, predicted_label,average=None)\n",
        "re = recall_score(labels_of_test, predicted_label,average='weighted')\n",
        "cm = confusion_matrix(labels_of_test, predicted_label)\n",
        "pr_sc = precision_score(labels_of_test, predicted_label,average='weighted')\n",
        "clrp = classification_report(labels_of_test, predicted_label)\n",
        "print(\"**********LINEAR SVC WITH C= 1.0 ***********\")\n",
        "print(\"accuracy score \",accu_score)\n",
        "print(\"********************\")\n",
        "print(\"f1 score \",f11)\n",
        "print(\"********************\")\n",
        "print(\"recall score \",re)zzzzzzzzzzzzzzzzzzzzzzzzzzzzzzzzzzzzzzzzzzzzzzzzzzzzzzzzzzzzzzzzzzzzzzzzzzzzzzzzzzzzzzzzzzz\n",
        "print(\"********************\")\n",
        "print(\"confusion matrix \",cm)\n",
        "print(\"********************\")\n",
        "print(\"precision score \",pr_sc)\n",
        "print(\"********************\")\n",
        "print(\"classification report \",clrp)"
      ],
      "execution_count": 12,
      "outputs": [
        {
          "output_type": "stream",
          "text": [
            "(12530, 21283)\n",
            "12530\n",
            "['EAP' 'MWS' 'MWS' ... 'EAP' 'HPL' 'MWS']\n",
            "0.8037025215448452\n",
            "**********LINEAR SVC WITH C= 1.0 ***********\n",
            "accuracy score  0.8037025215448452\n",
            "********************\n",
            "f1 score  [0.81286982 0.78502552 0.80822679]\n",
            "********************\n",
            "recall score  0.8037025215448452\n",
            "********************\n",
            "confusion matrix  [[1099  103   89]\n",
            " [ 167  692   60]\n",
            " [ 147   49  727]]\n",
            "********************\n",
            "precision score  0.805493044962952\n",
            "********************\n",
            "classification report                precision    recall  f1-score   support\n",
            "\n",
            "         EAP       0.78      0.85      0.81      1291\n",
            "         HPL       0.82      0.75      0.79       919\n",
            "         MWS       0.83      0.79      0.81       923\n",
            "\n",
            "    accuracy                           0.80      3133\n",
            "   macro avg       0.81      0.80      0.80      3133\n",
            "weighted avg       0.81      0.80      0.80      3133\n",
            "\n"
          ],
          "name": "stdout"
        }
      ]
    },
    {
      "cell_type": "code",
      "metadata": {
        "id": "dviIuwA61Z8Q",
        "colab_type": "code",
        "colab": {
          "base_uri": "https://localhost:8080/",
          "height": 51
        },
        "outputId": "d8433d95-df59-44d7-ebd1-00aac3bdde61"
      },
      "source": [
        "clf = svm.SVC(kernel='rbf', C = 1.0)\n",
        "print((vector_norm_train).shape)\n",
        "print(len(labels_of_train))\n",
        "clf.fit(vector,labels_of_train)\n",
        "# print(clf.predict(vector1))\n",
        "predicted_label=clf.predict(vector1)\n",
        "print(predicted_label)    \n",
        "accu_score = accuracy_score(labels_of_test, predicted_label,normalize=True)\n",
        "print(accu_score) \n",
        "f11 = f1_score(labels_of_test, predicted_label,average=None)\n",
        "re = recall_score(labels_of_test, predicted_label,average='weighted')\n",
        "cm = confusion_matrix(labels_of_test, predicted_label)\n",
        "pr_sc = precision_score(labels_of_test, predicted_label,average='weighted')\n",
        "clrp = classification_report(labels_of_test, predicted_label)\n",
        "print(\"**********RBF WITH C= 1.0 ***********\")\n",
        "print(\"accuracy score \",accu_score)\n",
        "print(\"********************\")\n",
        "print(\"f1 score \",f11)\n",
        "print(\"********************\")\n",
        "print(\"recall score \",re)\n",
        "print(\"********************\")\n",
        "print(\"confusion matrix \",cm)\n",
        "print(\"********************\")\n",
        "print(\"precision score \",pr_sc)\n",
        "print(\"********************\")\n",
        "print(\"classification report \",clrp)"
      ],
      "execution_count": 0,
      "outputs": [
        {
          "output_type": "stream",
          "text": [
            "(12530, 21283)\n",
            "12530\n"
          ],
          "name": "stdout"
        }
      ]
    },
    {
      "cell_type": "code",
      "metadata": {
        "id": "ve9yYzT708zG",
        "colab_type": "code",
        "colab": {}
      },
      "source": [
        "clf = svm.SVC(kernel='poly', C = 1.0)\n",
        "print((vector_norm_train).shape)\n",
        "print(len(labels_of_train))\n",
        "clf.fit(vector,labels_of_train)\n",
        "# print(clf.predict(vector1))\n",
        "predicted_label=clf.predict(vector1) \n",
        "print(predicted_label)   \n",
        "accu_score = accuracy_score(labels_of_test, predicted_label,normalize=True)\n",
        "print(accu_score) \n",
        "f11 = f1_score(labels_of_test, predicted_label,average=None)\n",
        "re = recall_score(labels_of_test, predicted_label,average='weighted')\n",
        "cm = confusion_matrix(labels_of_test, predicted_label)\n",
        "pr_sc = precision_score(labels_of_test, predicted_label,average='weighted')\n",
        "clrp = classification_report(labels_of_test, predicted_label)\n",
        "print(\"**********POLY WITH C= 1.0 ***********\")\n",
        "print(\"accuracy score \",accu_score)\n",
        "print(\"********************\")\n",
        "print(\"f1 score \",f11)\n",
        "print(\"********************\")\n",
        "print(\"recall score \",re)\n",
        "print(\"********************\")\n",
        "print(\"confusion matrix \",cm)\n",
        "print(\"********************\")\n",
        "print(\"precision score \",pr_sc)\n",
        "print(\"********************\")\n",
        "print(\"classification report \",clrp)"
      ],
      "execution_count": 0,
      "outputs": []
    }
  ]
}